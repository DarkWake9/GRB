{
 "cells": [
  {
   "cell_type": "code",
   "execution_count": null,
   "metadata": {},
   "outputs": [],
   "source": [
    "import re\n",
    "import os\n",
    "import numpy as np\n",
    "import urllib3\n",
    "\n",
    "#TO FIND SWIFT/UVOT TIME DATA FROM A GIVEN GCN\n",
    "path = '/home/rohit/Desktop/GRB/data_gathering/GRB200425A/'\n",
    "    "
   ]
  },
  {
   "cell_type": "markdown",
   "metadata": {},
   "source": [
    "151.5\t20.27\t0.16\tWhite\tAB\tSwift/UVOT\tno\t26002\n",
    "\n",
    "c\n",
    "\n",
    "800\t21.03\t0.27\tb\tAB\tSwift/UVOT\tno\t26002\n",
    "\n",
    "638.5\t20.86\t0.27\tu\tAB\tSwift/UVOT\tno\t26002\n",
    "\n",
    "925\t20.3\t0\tw1\tAB\tSwift/UVOT\tno\t26002\n",
    "\n",
    "1456.5\t21.1\t0\tm2\tAB\tSwift/UVOT\tno\t26002\n",
    "\n",
    "1240\t20.9\t0\tw2\tAB\tSwift/UVOT\tno\t26002"
   ]
  },
  {
   "cell_type": "markdown",
   "metadata": {},
   "source": [
    "https://gcn.gsfc.nasa.gov/gcn3/26002.gcn3"
   ]
  },
  {
   "cell_type": "code",
   "execution_count": null,
   "metadata": {},
   "outputs": [],
   "source": [
    "gcn = 12880\n",
    "def getgcndata(gcnno):\n",
    "    target_url = \"https://gcn.gsfc.nasa.gov/gcn3/\"+str(gcnno)+\".gcn3\"\n",
    "    http = urllib3.PoolManager()\n",
    "    response = http.request('GET', target_url)\n",
    "    return response.data.decode('utf-8')\n"
   ]
  },
  {
   "cell_type": "code",
   "execution_count": null,
   "metadata": {},
   "outputs": [],
   "source": [
    "def getgcnnum(data):\n",
    "    c1 = re.compile(r\"NUMBER:\\s*\\d+\")\n",
    "    return c1.findall(data)[0].split()[-1]\n",
    "\n",
    "\n",
    "def getgcntype(data):\n",
    "    c1 = re.compile(r\"SUBJECT:\\s*\\w*\\s*\\w*:\")#:\\s*Swift/UVOT Detection\")\n",
    "    if c1.search(data):\n",
    "        c2 = re.compile(r\"\\w*^\\s*\\w*\\nD\")\n",
    "        sub_final = c1.search(data).span()[-1]\n",
    "        telinfo = data[sub_final:data[sub_final:].index('\\n')+sub_final]\n",
    "        return telinfo\n",
    "\n"
   ]
  },
  {
   "cell_type": "code",
   "execution_count": null,
   "metadata": {},
   "outputs": [],
   "source": [
    "important_telescope_list = ['Swift/UVOT', 'MASTER', 'TAROT', ]"
   ]
  },
  {
   "cell_type": "code",
   "execution_count": null,
   "metadata": {},
   "outputs": [],
   "source": [
    "\n",
    "\n",
    "def swift_check(line):\n",
    "    c1 = re.compile(r\"Filter\", flags=re.IGNORECASE)\n",
    "    c2 = re.compile(r\"T_start\", flags=re.IGNORECASE)\n",
    "    c3 = re.compile(r\"T_stop\", flags=re.IGNORECASE)\n",
    "    c4 = re.compile(r\"Exp\", flags=re.IGNORECASE)\n",
    "    c5 = re.compile(r\"Mag\", flags=re.IGNORECASE)\n",
    "    dd = []\n",
    "\n",
    "    if c1.search(line) and c2.search(line) and c3.search(line) and c4.search(line) and c5.search(line):\n",
    "        return [c1.search(line).span()[0], c5.search(line).span()[-1]]\n",
    "    else:\n",
    "        return None\n",
    "\n",
    "\n",
    "#def swift_content(line):\n",
    "    \n",
    "#    c2 = re.compile(r\"\\d+\\.*\\d*\", flags=re.IGNORECASE)\n",
    "#    return c2.findall(line)\n",
    "\n",
    "\n",
    "\n",
    "\n",
    "def getswiftdata(data):\n",
    "    c1 = re.compile(r\"\\w+\\s+\\d+\\s+\\d+\\s+\\d+\", flags=re.IGNORECASE)\n",
    "    temp = c1.findall(data)\n",
    "    #print(temp)\n",
    "    #return temp\n",
    "    timedata = [temp[i].split()[1:] for i in range(len(temp))]\n",
    "    timedata = [float(timedata[i][0])+float(timedata[i][-1])/2 for i in range(len(timedata))]\n",
    "    timedata.append('ST0')\n",
    "    return timedata"
   ]
  },
  {
   "cell_type": "code",
   "execution_count": null,
   "metadata": {},
   "outputs": [],
   "source": [
    "data = getgcndata(12880)"
   ]
  },
  {
   "cell_type": "code",
   "execution_count": null,
   "metadata": {},
   "outputs": [
    {
     "data": {
      "text/plain": [
       "'  Swift/UVOT Observations'"
      ]
     },
     "metadata": {},
     "output_type": "display_data"
    }
   ],
   "source": [
    "getgcntype(data)"
   ]
  },
  {
   "cell_type": "markdown",
   "metadata": {},
   "source": [
    "IF getgcntype = Swift..."
   ]
  },
  {
   "cell_type": "code",
   "execution_count": null,
   "metadata": {},
   "outputs": [
    {
     "data": {
      "text/plain": [
       "[135.5,\n",
       " 164.5,\n",
       " 6686.0,\n",
       " 1711.0,\n",
       " 8273.0,\n",
       " 1637.0,\n",
       " 6909.5,\n",
       " 287.0,\n",
       " 306.0,\n",
       " 6703.5,\n",
       " 1750.5,\n",
       " 13676.5,\n",
       " 1735.0,\n",
       " 12456.5,\n",
       " 1687.0,\n",
       " 6457.0,\n",
       " 'ST0']"
      ]
     },
     "metadata": {},
     "output_type": "display_data"
    }
   ],
   "source": [
    "getswiftdata(data)"
   ]
  },
  {
   "cell_type": "markdown",
   "metadata": {},
   "source": []
  },
  {
   "cell_type": "code",
   "execution_count": null,
   "metadata": {},
   "outputs": [
    {
     "data": {
      "text/plain": [
       "['1225.5', '20.2', '0', '26002']"
      ]
     },
     "metadata": {},
     "output_type": "display_data"
    }
   ],
   "source": [
    "test = \"1225.5\t20.2\t0\tv\tAB\tSwift/UVOT\tno\t26002\"\n",
    "c2 = re.compile(r\"\\d+\\.*\\d*\", flags=re.IGNORECASE)\n",
    "c2.findall(test)"
   ]
  },
  {
   "cell_type": "markdown",
   "metadata": {},
   "source": [
    "if swift_check(data) != None:\n",
    "    swift_content(data)"
   ]
  },
  {
   "cell_type": "code",
   "execution_count": null,
   "metadata": {},
   "outputs": [],
   "source": [
    "#for  TAROT LIKE\n",
    "\n",
    "\n",
    "gcn = 12883\n",
    "data = getgcndata(gcn)\n",
    "gcnnum = getgcnnum(data)\n",
    "gcntype = getgcntype(data)\n",
    "\n",
    "#if gcntype == TAROT:\n",
    "\n",
    "def tarotdata(data):\n",
    "    c1 ="
   ]
  },
  {
   "cell_type": "code",
   "execution_count": null,
   "metadata": {},
   "outputs": [
    {
     "data": {
      "text/plain": [
       "' TAROT La Silla observatory optical observations'"
      ]
     },
     "metadata": {},
     "output_type": "display_data"
    }
   ],
   "source": [
    "gcntype"
   ]
  },
  {
   "cell_type": "code",
   "execution_count": null,
   "metadata": {},
   "outputs": [
    {
     "name": "stdout",
     "output_type": "stream",
     "text": [
      "<re.Match object; span=(37, 58), match='SUBJECT: GRB 120119A:'>\n",
      "['SUBJECT: GRB 120119A:']\n",
      "Telinfo\n",
      " TAROT La Silla observatory optical observations\n",
      "[]\n"
     ]
    }
   ],
   "source": [
    "c1 = re.compile(r\"SUBJECT:\\s*\\w*\\s*\\w*:\")#:\\s*Swift/UVOT Detection\")\n",
    "print(c1.search(data))\n",
    "print(c1.findall(data))\n",
    "if c1.search(data):\n",
    "    c2 = re.compile(r\"\\w*^\\s*\\w*\\nD\")\n",
    "    sub_final = c1.search(data).span()[-1]\n",
    "    telinfo = data[sub_final:data[sub_final:].index('\\n')+sub_final]\n",
    "    print(\"Telinfo\\n\"+telinfo)\n",
    "    cdat = c2.findall(data[c1.search(data).span()[-1]:])\n",
    "        #c2 = re.compile(r\"Swift/UVOT Detection\")\n",
    "    #c2.sub(cdat)\n",
    "    print(cdat)\n",
    "    #return c1.findall(data)"
   ]
  },
  {
   "cell_type": "code",
   "execution_count": null,
   "metadata": {},
   "outputs": [],
   "source": []
  },
  {
   "cell_type": "code",
   "execution_count": null,
   "metadata": {},
   "outputs": [],
   "source": []
  },
  {
   "cell_type": "code",
   "execution_count": null,
   "metadata": {},
   "outputs": [],
   "source": []
  },
  {
   "cell_type": "code",
   "execution_count": null,
   "metadata": {},
   "outputs": [],
   "source": []
  },
  {
   "cell_type": "code",
   "execution_count": null,
   "metadata": {},
   "outputs": [],
   "source": []
  },
  {
   "cell_type": "code",
   "execution_count": null,
   "metadata": {},
   "outputs": [],
   "source": []
  },
  {
   "cell_type": "code",
   "execution_count": null,
   "metadata": {},
   "outputs": [],
   "source": []
  },
  {
   "cell_type": "code",
   "execution_count": null,
   "metadata": {},
   "outputs": [],
   "source": []
  },
  {
   "cell_type": "code",
   "execution_count": null,
   "metadata": {},
   "outputs": [],
   "source": []
  },
  {
   "cell_type": "code",
   "execution_count": null,
   "metadata": {},
   "outputs": [],
   "source": []
  },
  {
   "cell_type": "code",
   "execution_count": null,
   "metadata": {},
   "outputs": [],
   "source": []
  },
  {
   "cell_type": "code",
   "execution_count": null,
   "metadata": {},
   "outputs": [],
   "source": []
  },
  {
   "cell_type": "code",
   "execution_count": null,
   "metadata": {},
   "outputs": [],
   "source": []
  },
  {
   "cell_type": "code",
   "execution_count": null,
   "metadata": {},
   "outputs": [],
   "source": []
  },
  {
   "cell_type": "code",
   "execution_count": null,
   "metadata": {},
   "outputs": [],
   "source": []
  },
  {
   "cell_type": "code",
   "execution_count": null,
   "metadata": {},
   "outputs": [],
   "source": []
  },
  {
   "cell_type": "code",
   "execution_count": null,
   "metadata": {},
   "outputs": [
    {
     "name": "stdout",
     "output_type": "stream",
     "text": [
      "['ai', 'ai']\n"
     ]
    }
   ],
   "source": [
    "txt = \"The rain in Spain\"\n",
    "x = re.findall(\"ai\", txt)\n",
    "print(x)"
   ]
  },
  {
   "cell_type": "code",
   "execution_count": null,
   "metadata": {},
   "outputs": [
    {
     "name": "stdout",
     "output_type": "stream",
     "text": [
      "<re.Match object; span=(5, 7), match='ai'>\n"
     ]
    }
   ],
   "source": [
    "txt = \"The rain in Spain\"\n",
    "x = re.search(\"ai\", txt)\n",
    "print(x)"
   ]
  },
  {
   "cell_type": "code",
   "execution_count": null,
   "metadata": {},
   "outputs": [
    {
     "name": "stdout",
     "output_type": "stream",
     "text": [
      "The first white-space character is located in position: 3\n"
     ]
    }
   ],
   "source": [
    "txt = \"The rain in Spain\"\n",
    "x = re.search(\"\\s\", txt)\n",
    "\n",
    "print(\"The first white-space character is located in position:\", x.start())"
   ]
  },
  {
   "cell_type": "code",
   "execution_count": null,
   "metadata": {},
   "outputs": [
    {
     "name": "stdout",
     "output_type": "stream",
     "text": [
      "['The', 'rain', 'in', 'Spain']\n"
     ]
    }
   ],
   "source": [
    "\n",
    "txt = \"The rain in Spain\"\n",
    "x = re.split(\"\\s\", txt)\n",
    "print(x)"
   ]
  },
  {
   "cell_type": "code",
   "execution_count": null,
   "metadata": {},
   "outputs": [
    {
     "name": "stdout",
     "output_type": "stream",
     "text": [
      "The9rain9in9Spain\n"
     ]
    }
   ],
   "source": [
    "txt = \"The rain in Spain\"\n",
    "x = re.sub(\"\\s\", \"9\", txt)\n",
    "print(x)"
   ]
  },
  {
   "cell_type": "code",
   "execution_count": null,
   "metadata": {},
   "outputs": [
    {
     "name": "stdout",
     "output_type": "stream",
     "text": [
      "(12, 17)\n"
     ]
    }
   ],
   "source": [
    "txt = \"The rain in Spain\"\n",
    "x = re.search(r\"\\bS\\w+\", txt)\n",
    "print(x.span())"
   ]
  },
  {
   "cell_type": "code",
   "execution_count": null,
   "metadata": {},
   "outputs": [],
   "source": []
  }
 ],
 "metadata": {
  "kernelspec": {
   "display_name": "Python 3.10.6 64-bit",
   "language": "python",
   "name": "python3"
  },
  "language_info": {
   "codemirror_mode": {
    "name": "ipython",
    "version": 3
   },
   "file_extension": ".py",
   "mimetype": "text/x-python",
   "name": "python",
   "nbconvert_exporter": "python",
   "pygments_lexer": "ipython3",
   "version": "3.10.6"
  },
  "orig_nbformat": 4,
  "vscode": {
   "interpreter": {
    "hash": "916dbcbb3f70747c44a77c7bcd40155683ae19c65e1c03b4aa3499c5328201f1"
   }
  }
 },
 "nbformat": 4,
 "nbformat_minor": 2
}
