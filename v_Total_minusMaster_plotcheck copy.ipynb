{
 "cells": [
  {
   "cell_type": "markdown",
   "id": "d237f6a2",
   "metadata": {},
   "source": [
    "VERSION 1.0 ON 28072022 - 22.52\n",
    "\n",
    "VERSION 1.0.01 ON 29072022 - 00.14 - adjusted output .pdf image size\n",
    "\n",
    "VERSION 1.0.2  ON 29072022 - 19.27 - plotted leftover graphs\n",
    "\n",
    "VERSION 1.0.21 ON 30072022 - 19.33 - corrected page order in the final output file\n",
    "\n",
    "VERSION 1.0.22 ON 31072022 - 16.50 - changed log10(fulx_err) tolerance limit to -11 and minor changes to file titles\n",
    "\n",
    "I HAVE BEEN ALLOTTED 80 GRB FILES (NAMES STORED IN THE VARIABLE $folders$)\n",
    "\n",
    "OUT OF THOSE 80 FILES, 22 ARE MASTERSAMPLE FILES SO THEY HAVE BEEN IGNORED AS PER INSTRUCTIONS\n",
    "\n",
    "THE REMAINING 52 FILES ARE WITHOUT DUPLICATE BANDS IN THE SAME TIME AND/OR LIMITING MAGNITUDES\n",
    "\n",
    "ANY POINTS SEEN OVERLAPPING ARE SIMPLY VERY CLOSE TO EACH OTHER"
   ]
  },
  {
   "cell_type": "code",
   "execution_count": 2,
   "id": "f76357a7",
   "metadata": {},
   "outputs": [],
   "source": [
    "import plotly.express as px\n",
    "import pandas as pd\n",
    "import numpy as np\n",
    "import kaleido\n",
    "from PyPDF2 import PdfFileMerger"
   ]
  },
  {
   "cell_type": "code",
   "execution_count": 3,
   "id": "27c52693",
   "metadata": {},
   "outputs": [],
   "source": [
    "#FILE PATHS\n",
    "systempath = \"/media/darkwake/VIB2/\"\n",
    "inputfilepath = systempath + \"GRB/ALL_LCS_FOR_500/\"\n",
    "output_file_path = systempath + \"task2/v_converted_filtered_files/\"\n",
    "output_pdf_path = systempath + \"GRB/task2/v_out_pdfs/\"\n",
    "\n",
    "#THE 80 FILES ALOTTED TO ME\n",
    "folders = \"140423A ,140428A ,140430A ,140506A ,140508A ,140509A ,140512A ,140515A ,140518A ,140606B ,140614A ,140620A ,140623A ,140629A ,140703A ,140710A ,140801A ,140808A ,140903A ,140907A ,141004A ,141028A ,141109A ,141121A ,141220A ,141221A ,141225A ,150101B ,150120B ,150206A ,150301B ,150314A ,150323A ,150403A ,150413A ,150423A ,150514A ,150518A ,150727A ,150818A ,150821A ,150910A ,150915A ,151021A ,151027A ,151027B ,151029A ,151031A ,151111A ,151112A ,151215A ,160117B ,160121A ,160131A ,160203A ,160227A ,160228A ,160314A ,160410A ,160425A ,160509A ,160623A ,160625B ,160629A ,160804A ,160821B ,161014A ,161017A ,161023A ,161108A ,161117A ,161129A ,161219B ,170113A ,170202A ,170214A ,170405A ,170428A ,170519A\"\n",
    "\n",
    "#22 MASTERSAMPLE FILES WITHIN MY ALOTTED FILES\n",
    "masterfolders = \"140423A,140430A,140801A,140907A,141121A,141221A,150323A,150413A,150910A,151027A,151029A,160131A,160227A,160314A,160425A,160804A,161014A,161023A,161219B,170113A,170405A, 170531B\"\n",
    "folders = folders.split(\" ,\")\n",
    "masterfolders = masterfolders.split(\",\")\n",
    "\n",
    "\n",
    "#ADDITIONAL PRECURSOR FILES\n",
    "v_folders = ['121027A', '121201A', '121209A', '121211A', '121229A', '130408A', '130418A', '130427B', '130505A', '130511A', '130514A', '130518A', '130603B', '130610A', '130612A', '130701A', '130907A', '130925A', '131004A', '131011A', '131030A', '131103A', '131105A', '131108A', '131117A', '131231A', '140114A', '140213A', '140226A', '140301A', '140304A', '140311A', '140318A', '140419A']\n",
    "\n",
    "#Biagio's Additional files - are merged in a separate .pdf\n",
    "b_folders = ['970228A', '971214A', '980329A', '980425A', '980613A', '980703A', '990123A', '990712A', '991208A']\n",
    "#REMOVING THE MASTERSAMPLE FILES FROM THE LIST OF FILES TO BE SCANNED\n",
    "for i in masterfolders:\n",
    "    if i in folders:\n",
    "        folders.remove(i)\n",
    "v_folders.extend(folders)\n",
    "filenames = [i + \"_converted_flux\" for i in v_folders]\n",
    "b_filenames = [i + \"_converted_flux\" for i in b_folders]"
   ]
  },
  {
   "cell_type": "markdown",
   "id": "1dc392da",
   "metadata": {},
   "source": [
    "FUNCTION TO REMOVE POINTS WITH 0 ERROR(LIMITING VALUE ERROR) AND CORRUPTED DATA AND (FROM VERSION 1.0.22) POINTS WITH TOO MUCH FLUX_ERROR"
   ]
  },
  {
   "cell_type": "code",
   "execution_count": 4,
   "id": "e946e63e",
   "metadata": {},
   "outputs": [],
   "source": [
    "def zero_error(light):\n",
    "    for i in range(len(light)):\n",
    "        if light.flux_err.values[i] == 0.0 or np.log10(light.flux_err.values[i]) > -11:#Version 1.0.22 changed log10(fulx_err) tolerance limit to -11 \n",
    "            light.flux_err.values[i] = None\n",
    "        if type(light.index.values[i]) == str:\n",
    "            light.flux_err.values[i] = None\n",
    "    light.dropna(inplace=True)       "
   ]
  },
  {
   "cell_type": "markdown",
   "id": "3a006964",
   "metadata": {},
   "source": [
    "IF AN OBSERVATION HAS BEEN DONE IN MULTIPLE BANDS AT THE SAME TIME,\n",
    "\n",
    "THIS METHOD REMOVES ALL THE BANDS EXCEPT R / r / r' BANDS FROM THAT OBSERVATION"
   ]
  },
  {
   "cell_type": "code",
   "execution_count": 5,
   "id": "a1332ea7",
   "metadata": {},
   "outputs": [],
   "source": [
    "def vertical(light):\n",
    "    disc = dict(light.index.value_counts())\n",
    "    disc_time = list(disc.keys())\n",
    "    val_counts = list(disc.values())\n",
    "    for i in range(len(disc_time)):\n",
    "        if val_counts[i] > 1:\n",
    "            for j in range(len(light)):\n",
    "                if light.index.values[j] == disc_time[i]:\n",
    "                    if not(light.band.values[j] in (\"R\",\"r\", \"r'\", \"R'\")):\n",
    "                        light.band.values[j] = None\n",
    "                        #light.index.values[j] = None\n",
    "\n",
    "    light.dropna(inplace=True)"
   ]
  },
  {
   "cell_type": "markdown",
   "id": "d51dfe99",
   "metadata": {},
   "source": [
    "THE FOLLOWING METHOD CLEANS A GIVEN INPUT FILE AND STORES THE CLEANED DATA FILE IN $task2/v$ _ $converted$ _ $filtered$ _ $files$ FOLDER"
   ]
  },
  {
   "cell_type": "code",
   "execution_count": 6,
   "id": "0ed8b88d",
   "metadata": {},
   "outputs": [],
   "source": [
    "def filter(f2):\n",
    "     filename = inputfilepath + f2\n",
    "     filename2 = f2.replace( \"_flux\",\"_filtered_flux\")\n",
    "     try:\n",
    "          light = pd.read_csv(filename+\".txt\", sep=r\"\\t+|\\s+\", engine=\"python\", names= [\"time_sec\",\"flux\",\"flux_err\",\"band\",\"source\"],\n",
    "         header=0, index_col=0)\n",
    "          zero_error(light)\n",
    "          vertical(light)\n",
    "        \n",
    "          light.to_csv(\"task2/v_converted_filtered_files/\"+filename2 + \".txt\")\n",
    "          return light\n",
    "\n",
    "     except:\n",
    "          light = pd.read_csv(filename+\".txt\", sep=r\"\\t+|\\s+\", engine=\"python\", names= [\"time_sec\",\"flux\",\"flux_err\",\"band\",\"source\"],\n",
    "         header=0, index_col=0)\n",
    "          zero_error(light)\n",
    "          vertical(light)\n",
    "        \n",
    "          light.to_csv(\"task2/v_converted_filtered_files/\"+filename2 + \".txt\")\n",
    "          return light\n"
   ]
  },
  {
   "cell_type": "markdown",
   "id": "9029c315",
   "metadata": {},
   "source": [
    "FUNCTION TO PLOT A GIVEN DATABASE AND STORE THE OUTPUT PLOT IN $task2/v$ _ $out$ _ $pdfs$ FOLDER"
   ]
  },
  {
   "cell_type": "code",
   "execution_count": 7,
   "id": "97041a81",
   "metadata": {},
   "outputs": [],
   "source": [
    "def plot(light, f2):\n",
    "    #filename2 = file + \"_not_done\"\n",
    "    filename2 = f2.replace( \"_flux\",\"_filtered_flux\")\n",
    "    filename = f2\n",
    "    if len(light) != 0:\n",
    "        try:\n",
    "            fig = px.scatter(\n",
    "                        data_frame=light,\n",
    "                        x=np.log10(light.index.values),\n",
    "                        y=np.log10(light[1].values),\n",
    "                        error_y= light[2].values / (light[1].values * np.log(10)),\n",
    "                        color=light[3].values,\n",
    "                        hover_data=[4],\n",
    "                        title=filename2\n",
    "                    )\n",
    "\n",
    "            fig.update_layout(\n",
    "                        xaxis_title='log Time (s)',\n",
    "                        yaxis_title='log Flux (erg cm-2 s-1)'\n",
    "                    )\n",
    "            fig.write_image(output_pdf_path + filename2+\".pdf\")\n",
    "\n",
    "            \n",
    "        except:\n",
    "            fig = px.scatter(\n",
    "                data_frame=light,\n",
    "                x=np.log10(light.index),\n",
    "                y=np.log10(light['flux'].values),\n",
    "                error_y= light['flux_err'].values / (light['flux'].values * np.log(10)),\n",
    "                color=light['band'].values,\n",
    "                hover_data=['source'],\n",
    "                title=filename2, width=1200, height=800\n",
    "            )\n",
    "            fig.updatetask3/v_converted_filtered_files"
   ]
  },
  {
   "cell_type": "code",
   "execution_count": 8,
   "id": "1f715e0d",
   "metadata": {},
   "outputs": [
    {
     "ename": "AttributeError",
     "evalue": "'Figure' object has no attribute 'updatetask3'",
     "output_type": "error",
     "traceback": [
      "\u001b[0;31m---------------------------------------------------------------------------\u001b[0m",
      "\u001b[0;31mKeyError\u001b[0m                                  Traceback (most recent call last)",
      "File \u001b[0;32m~/.local/lib/python3.10/site-packages/pandas/core/indexes/base.py:3621\u001b[0m, in \u001b[0;36mIndex.get_loc\u001b[0;34m(self, key, method, tolerance)\u001b[0m\n\u001b[1;32m   3620\u001b[0m \u001b[39mtry\u001b[39;00m:\n\u001b[0;32m-> 3621\u001b[0m     \u001b[39mreturn\u001b[39;00m \u001b[39mself\u001b[39;49m\u001b[39m.\u001b[39;49m_engine\u001b[39m.\u001b[39;49mget_loc(casted_key)\n\u001b[1;32m   3622\u001b[0m \u001b[39mexcept\u001b[39;00m \u001b[39mKeyError\u001b[39;00m \u001b[39mas\u001b[39;00m err:\n",
      "File \u001b[0;32m~/.local/lib/python3.10/site-packages/pandas/_libs/index.pyx:136\u001b[0m, in \u001b[0;36mpandas._libs.index.IndexEngine.get_loc\u001b[0;34m()\u001b[0m\n",
      "File \u001b[0;32m~/.local/lib/python3.10/site-packages/pandas/_libs/index.pyx:163\u001b[0m, in \u001b[0;36mpandas._libs.index.IndexEngine.get_loc\u001b[0;34m()\u001b[0m\n",
      "File \u001b[0;32mpandas/_libs/hashtable_class_helper.pxi:5198\u001b[0m, in \u001b[0;36mpandas._libs.hashtable.PyObjectHashTable.get_item\u001b[0;34m()\u001b[0m\n",
      "File \u001b[0;32mpandas/_libs/hashtable_class_helper.pxi:5206\u001b[0m, in \u001b[0;36mpandas._libs.hashtable.PyObjectHashTable.get_item\u001b[0;34m()\u001b[0m\n",
      "\u001b[0;31mKeyError\u001b[0m: 1",
      "\nThe above exception was the direct cause of the following exception:\n",
      "\u001b[0;31mKeyError\u001b[0m                                  Traceback (most recent call last)",
      "\u001b[1;32m/media/darkwake/VIB2/GRB/v_Total_minusMaster_plotcheck copy.ipynb Cell 12\u001b[0m in \u001b[0;36mplot\u001b[0;34m(light, f2)\u001b[0m\n\u001b[1;32m      <a href='vscode-notebook-cell:/media/darkwake/VIB2/GRB/v_Total_minusMaster_plotcheck%20copy.ipynb#ch0000011?line=5'>6</a>\u001b[0m \u001b[39mtry\u001b[39;00m:\n\u001b[1;32m      <a href='vscode-notebook-cell:/media/darkwake/VIB2/GRB/v_Total_minusMaster_plotcheck%20copy.ipynb#ch0000011?line=6'>7</a>\u001b[0m     fig \u001b[39m=\u001b[39m px\u001b[39m.\u001b[39mscatter(\n\u001b[1;32m      <a href='vscode-notebook-cell:/media/darkwake/VIB2/GRB/v_Total_minusMaster_plotcheck%20copy.ipynb#ch0000011?line=7'>8</a>\u001b[0m                 data_frame\u001b[39m=\u001b[39mlight,\n\u001b[1;32m      <a href='vscode-notebook-cell:/media/darkwake/VIB2/GRB/v_Total_minusMaster_plotcheck%20copy.ipynb#ch0000011?line=8'>9</a>\u001b[0m                 x\u001b[39m=\u001b[39mnp\u001b[39m.\u001b[39mlog10(light\u001b[39m.\u001b[39mindex\u001b[39m.\u001b[39mvalues),\n\u001b[0;32m---> <a href='vscode-notebook-cell:/media/darkwake/VIB2/GRB/v_Total_minusMaster_plotcheck%20copy.ipynb#ch0000011?line=9'>10</a>\u001b[0m                 y\u001b[39m=\u001b[39mnp\u001b[39m.\u001b[39mlog10(light[\u001b[39m1\u001b[39;49m]\u001b[39m.\u001b[39mvalues),\n\u001b[1;32m     <a href='vscode-notebook-cell:/media/darkwake/VIB2/GRB/v_Total_minusMaster_plotcheck%20copy.ipynb#ch0000011?line=10'>11</a>\u001b[0m                 error_y\u001b[39m=\u001b[39m light[\u001b[39m2\u001b[39m]\u001b[39m.\u001b[39mvalues \u001b[39m/\u001b[39m (light[\u001b[39m1\u001b[39m]\u001b[39m.\u001b[39mvalues \u001b[39m*\u001b[39m np\u001b[39m.\u001b[39mlog(\u001b[39m10\u001b[39m)),\n\u001b[1;32m     <a href='vscode-notebook-cell:/media/darkwake/VIB2/GRB/v_Total_minusMaster_plotcheck%20copy.ipynb#ch0000011?line=11'>12</a>\u001b[0m                 color\u001b[39m=\u001b[39mlight[\u001b[39m3\u001b[39m]\u001b[39m.\u001b[39mvalues,\n\u001b[1;32m     <a href='vscode-notebook-cell:/media/darkwake/VIB2/GRB/v_Total_minusMaster_plotcheck%20copy.ipynb#ch0000011?line=12'>13</a>\u001b[0m                 hover_data\u001b[39m=\u001b[39m[\u001b[39m4\u001b[39m],\n\u001b[1;32m     <a href='vscode-notebook-cell:/media/darkwake/VIB2/GRB/v_Total_minusMaster_plotcheck%20copy.ipynb#ch0000011?line=13'>14</a>\u001b[0m                 title\u001b[39m=\u001b[39mfilename2\n\u001b[1;32m     <a href='vscode-notebook-cell:/media/darkwake/VIB2/GRB/v_Total_minusMaster_plotcheck%20copy.ipynb#ch0000011?line=14'>15</a>\u001b[0m             )\n\u001b[1;32m     <a href='vscode-notebook-cell:/media/darkwake/VIB2/GRB/v_Total_minusMaster_plotcheck%20copy.ipynb#ch0000011?line=16'>17</a>\u001b[0m     fig\u001b[39m.\u001b[39mupdate_layout(\n\u001b[1;32m     <a href='vscode-notebook-cell:/media/darkwake/VIB2/GRB/v_Total_minusMaster_plotcheck%20copy.ipynb#ch0000011?line=17'>18</a>\u001b[0m                 xaxis_title\u001b[39m=\u001b[39m\u001b[39m'\u001b[39m\u001b[39mlog Time (s)\u001b[39m\u001b[39m'\u001b[39m,\n\u001b[1;32m     <a href='vscode-notebook-cell:/media/darkwake/VIB2/GRB/v_Total_minusMaster_plotcheck%20copy.ipynb#ch0000011?line=18'>19</a>\u001b[0m                 yaxis_title\u001b[39m=\u001b[39m\u001b[39m'\u001b[39m\u001b[39mlog Flux (erg cm-2 s-1)\u001b[39m\u001b[39m'\u001b[39m\n\u001b[1;32m     <a href='vscode-notebook-cell:/media/darkwake/VIB2/GRB/v_Total_minusMaster_plotcheck%20copy.ipynb#ch0000011?line=19'>20</a>\u001b[0m             )\n",
      "File \u001b[0;32m~/.local/lib/python3.10/site-packages/pandas/core/frame.py:3505\u001b[0m, in \u001b[0;36mDataFrame.__getitem__\u001b[0;34m(self, key)\u001b[0m\n\u001b[1;32m   3504\u001b[0m     \u001b[39mreturn\u001b[39;00m \u001b[39mself\u001b[39m\u001b[39m.\u001b[39m_getitem_multilevel(key)\n\u001b[0;32m-> 3505\u001b[0m indexer \u001b[39m=\u001b[39m \u001b[39mself\u001b[39;49m\u001b[39m.\u001b[39;49mcolumns\u001b[39m.\u001b[39;49mget_loc(key)\n\u001b[1;32m   3506\u001b[0m \u001b[39mif\u001b[39;00m is_integer(indexer):\n",
      "File \u001b[0;32m~/.local/lib/python3.10/site-packages/pandas/core/indexes/base.py:3623\u001b[0m, in \u001b[0;36mIndex.get_loc\u001b[0;34m(self, key, method, tolerance)\u001b[0m\n\u001b[1;32m   3622\u001b[0m \u001b[39mexcept\u001b[39;00m \u001b[39mKeyError\u001b[39;00m \u001b[39mas\u001b[39;00m err:\n\u001b[0;32m-> 3623\u001b[0m     \u001b[39mraise\u001b[39;00m \u001b[39mKeyError\u001b[39;00m(key) \u001b[39mfrom\u001b[39;00m \u001b[39merr\u001b[39;00m\n\u001b[1;32m   3624\u001b[0m \u001b[39mexcept\u001b[39;00m \u001b[39mTypeError\u001b[39;00m:\n\u001b[1;32m   3625\u001b[0m     \u001b[39m# If we have a listlike key, _check_indexing_error will raise\u001b[39;00m\n\u001b[1;32m   3626\u001b[0m     \u001b[39m#  InvalidIndexError. Otherwise we fall through and re-raise\u001b[39;00m\n\u001b[1;32m   3627\u001b[0m     \u001b[39m#  the TypeError.\u001b[39;00m\n",
      "\u001b[0;31mKeyError\u001b[0m: 1",
      "\nDuring handling of the above exception, another exception occurred:\n",
      "\u001b[0;31mAttributeError\u001b[0m                            Traceback (most recent call last)",
      "\u001b[1;32m/media/darkwake/VIB2/GRB/v_Total_minusMaster_plotcheck copy.ipynb Cell 12\u001b[0m in \u001b[0;36m<cell line: 2>\u001b[0;34m()\u001b[0m\n\u001b[1;32m      <a href='vscode-notebook-cell:/media/darkwake/VIB2/GRB/v_Total_minusMaster_plotcheck%20copy.ipynb#ch0000011?line=0'>1</a>\u001b[0m file \u001b[39m=\u001b[39m filenames[\u001b[39m2\u001b[39m]\n\u001b[0;32m----> <a href='vscode-notebook-cell:/media/darkwake/VIB2/GRB/v_Total_minusMaster_plotcheck%20copy.ipynb#ch0000011?line=1'>2</a>\u001b[0m plot(\u001b[39mfilter\u001b[39;49m(file), file)\n",
      "\u001b[1;32m/media/darkwake/VIB2/GRB/v_Total_minusMaster_plotcheck copy.ipynb Cell 12\u001b[0m in \u001b[0;36mplot\u001b[0;34m(light, f2)\u001b[0m\n\u001b[1;32m     <a href='vscode-notebook-cell:/media/darkwake/VIB2/GRB/v_Total_minusMaster_plotcheck%20copy.ipynb#ch0000011?line=23'>24</a>\u001b[0m \u001b[39mexcept\u001b[39;00m:\n\u001b[1;32m     <a href='vscode-notebook-cell:/media/darkwake/VIB2/GRB/v_Total_minusMaster_plotcheck%20copy.ipynb#ch0000011?line=24'>25</a>\u001b[0m     fig \u001b[39m=\u001b[39m px\u001b[39m.\u001b[39mscatter(\n\u001b[1;32m     <a href='vscode-notebook-cell:/media/darkwake/VIB2/GRB/v_Total_minusMaster_plotcheck%20copy.ipynb#ch0000011?line=25'>26</a>\u001b[0m         data_frame\u001b[39m=\u001b[39mlight,\n\u001b[1;32m     <a href='vscode-notebook-cell:/media/darkwake/VIB2/GRB/v_Total_minusMaster_plotcheck%20copy.ipynb#ch0000011?line=26'>27</a>\u001b[0m         x\u001b[39m=\u001b[39mnp\u001b[39m.\u001b[39mlog10(light\u001b[39m.\u001b[39mindex),\n\u001b[0;32m   (...)\u001b[0m\n\u001b[1;32m     <a href='vscode-notebook-cell:/media/darkwake/VIB2/GRB/v_Total_minusMaster_plotcheck%20copy.ipynb#ch0000011?line=31'>32</a>\u001b[0m         title\u001b[39m=\u001b[39mfilename2, width\u001b[39m=\u001b[39m\u001b[39m1200\u001b[39m, height\u001b[39m=\u001b[39m\u001b[39m800\u001b[39m\n\u001b[1;32m     <a href='vscode-notebook-cell:/media/darkwake/VIB2/GRB/v_Total_minusMaster_plotcheck%20copy.ipynb#ch0000011?line=32'>33</a>\u001b[0m     )\n\u001b[0;32m---> <a href='vscode-notebook-cell:/media/darkwake/VIB2/GRB/v_Total_minusMaster_plotcheck%20copy.ipynb#ch0000011?line=33'>34</a>\u001b[0m     fig\u001b[39m.\u001b[39;49mupdatetask3\u001b[39m/\u001b[39mv_converted_filtered_files\n",
      "\u001b[0;31mAttributeError\u001b[0m: 'Figure' object has no attribute 'updatetask3'"
     ]
    }
   ],
   "source": [
    "file = filenames[2]\n",
    "plot(filter(file), file)"
   ]
  },
  {
   "cell_type": "code",
   "execution_count": 17,
   "id": "3879a982",
   "metadata": {},
   "outputs": [
    {
     "data": {
      "text/html": [
       "<div>\n",
       "<style scoped>\n",
       "    .dataframe tbody tr th:only-of-type {\n",
       "        vertical-align: middle;\n",
       "    }\n",
       "\n",
       "    .dataframe tbody tr th {\n",
       "        vertical-align: top;\n",
       "    }\n",
       "\n",
       "    .dataframe thead th {\n",
       "        text-align: right;\n",
       "    }\n",
       "</style>\n",
       "<table border=\"1\" class=\"dataframe\">\n",
       "  <thead>\n",
       "    <tr style=\"text-align: right;\">\n",
       "      <th></th>\n",
       "      <th>flux</th>\n",
       "      <th>flux_err</th>\n",
       "      <th>band</th>\n",
       "      <th>source</th>\n",
       "    </tr>\n",
       "    <tr>\n",
       "      <th>time_sec</th>\n",
       "      <th></th>\n",
       "      <th></th>\n",
       "      <th></th>\n",
       "      <th></th>\n",
       "    </tr>\n",
       "  </thead>\n",
       "  <tbody>\n",
       "    <tr>\n",
       "      <th>9720.0</th>\n",
       "      <td>1.440026e-14</td>\n",
       "      <td>2.727879e-17</td>\n",
       "      <td>r</td>\n",
       "      <td>14048</td>\n",
       "    </tr>\n",
       "    <tr>\n",
       "      <th>9540.0</th>\n",
       "      <td>4.348044e-15</td>\n",
       "      <td>1.201437e-15</td>\n",
       "      <td>r'</td>\n",
       "      <td>14049</td>\n",
       "    </tr>\n",
       "    <tr>\n",
       "      <th>4896.0</th>\n",
       "      <td>4.366407e-15</td>\n",
       "      <td>8.079542e-16</td>\n",
       "      <td>I</td>\n",
       "      <td>14056</td>\n",
       "    </tr>\n",
       "    <tr>\n",
       "      <th>13392.0</th>\n",
       "      <td>3.298329e-14</td>\n",
       "      <td>6.205965e-17</td>\n",
       "      <td>r'</td>\n",
       "      <td>14050</td>\n",
       "    </tr>\n",
       "    <tr>\n",
       "      <th>20803.0</th>\n",
       "      <td>1.365271e-13</td>\n",
       "      <td>1.850492e-15</td>\n",
       "      <td>v_swift</td>\n",
       "      <td>14086</td>\n",
       "    </tr>\n",
       "    <tr>\n",
       "      <th>15083.5</th>\n",
       "      <td>8.889499e-14</td>\n",
       "      <td>2.763591e-15</td>\n",
       "      <td>b_swift</td>\n",
       "      <td>14086</td>\n",
       "    </tr>\n",
       "    <tr>\n",
       "      <th>15502.5</th>\n",
       "      <td>2.481220e-14</td>\n",
       "      <td>1.189791e-15</td>\n",
       "      <td>u_swift</td>\n",
       "      <td>14086</td>\n",
       "    </tr>\n",
       "    <tr>\n",
       "      <th>18101.5</th>\n",
       "      <td>2.261144e-14</td>\n",
       "      <td>1.574753e-15</td>\n",
       "      <td>uvw1_swift</td>\n",
       "      <td>14086</td>\n",
       "    </tr>\n",
       "    <tr>\n",
       "      <th>21265.0</th>\n",
       "      <td>9.235545e-15</td>\n",
       "      <td>7.748315e-16</td>\n",
       "      <td>uvm2_swift</td>\n",
       "      <td>14086</td>\n",
       "    </tr>\n",
       "    <tr>\n",
       "      <th>20243.5</th>\n",
       "      <td>1.639471e-14</td>\n",
       "      <td>1.472390e-15</td>\n",
       "      <td>uvw2_swift</td>\n",
       "      <td>14086</td>\n",
       "    </tr>\n",
       "  </tbody>\n",
       "</table>\n",
       "</div>"
      ],
      "text/plain": [
       "                  flux      flux_err        band  source\n",
       "time_sec                                                \n",
       "9720.0    1.440026e-14  2.727879e-17           r   14048\n",
       "9540.0    4.348044e-15  1.201437e-15          r'   14049\n",
       "4896.0    4.366407e-15  8.079542e-16           I   14056\n",
       "13392.0   3.298329e-14  6.205965e-17          r'   14050\n",
       "20803.0   1.365271e-13  1.850492e-15     v_swift   14086\n",
       "15083.5   8.889499e-14  2.763591e-15     b_swift   14086\n",
       "15502.5   2.481220e-14  1.189791e-15     u_swift   14086\n",
       "18101.5   2.261144e-14  1.574753e-15  uvw1_swift   14086\n",
       "21265.0   9.235545e-15  7.748315e-16  uvm2_swift   14086\n",
       "20243.5   1.639471e-14  1.472390e-15  uvw2_swift   14086"
      ]
     },
     "execution_count": 17,
     "metadata": {},
     "output_type": "execute_result"
    }
   ],
   "source": [
    "filter(file)"
   ]
  },
  {
   "cell_type": "code",
   "execution_count": null,
   "id": "b7ad81aa",
   "metadata": {},
   "outputs": [],
   "source": []
  },
  {
   "cell_type": "code",
   "execution_count": 1,
   "id": "96ec1366",
   "metadata": {},
   "outputs": [
    {
     "ename": "NameError",
     "evalue": "name 'plot' is not defined",
     "output_type": "error",
     "traceback": [
      "\u001b[0;31m---------------------------------------------------------------------------\u001b[0m",
      "\u001b[0;31mNameError\u001b[0m                                 Traceback (most recent call last)",
      "\u001b[1;32m/media/darkwake/VIB2/GRB/v_Total_minusMaster_plotcheck copy.ipynb Cell 15\u001b[0m in \u001b[0;36m<cell line: 1>\u001b[0;34m()\u001b[0m\n\u001b[0;32m----> <a href='vscode-notebook-cell:/media/darkwake/VIB2/GRB/v_Total_minusMaster_plotcheck%20copy.ipynb#ch0000025?line=0'>1</a>\u001b[0m plot(\u001b[39mfilter\u001b[39m(file), file)\n",
      "\u001b[0;31mNameError\u001b[0m: name 'plot' is not defined"
     ]
    }
   ],
   "source": [
    "plot(filter(file), file)"
   ]
  },
  {
   "cell_type": "code",
   "execution_count": null,
   "metadata": {},
   "outputs": [],
   "source": []
  }
 ],
 "metadata": {
  "kernelspec": {
   "display_name": "Python 3.10.4 64-bit",
   "language": "python",
   "name": "python3"
  },
  "language_info": {
   "codemirror_mode": {
    "name": "ipython",
    "version": 3
   },
   "file_extension": ".py",
   "mimetype": "text/x-python",
   "name": "python",
   "nbconvert_exporter": "python",
   "pygments_lexer": "ipython3",
   "version": "3.10.4"
  },
  "vscode": {
   "interpreter": {
    "hash": "916dbcbb3f70747c44a77c7bcd40155683ae19c65e1c03b4aa3499c5328201f1"
   }
  }
 },
 "nbformat": 4,
 "nbformat_minor": 5
}
