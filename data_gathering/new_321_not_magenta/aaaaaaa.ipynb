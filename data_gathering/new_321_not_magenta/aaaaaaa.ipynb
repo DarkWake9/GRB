{
 "cells": [
  {
   "cell_type": "code",
   "execution_count": 1,
   "metadata": {},
   "outputs": [],
   "source": [
    "import numpy as np\n",
    "import pandas as pd\n",
    "from bs4 import BeautifulSoup\n",
    "import timeit\n",
    "import urllib.request  \n",
    "import glob\n",
    "import os\n",
    "import shutil\n",
    "import urllib.request\n",
    "import requests\n",
    "import urllib\n",
    "from urllib.request import urlopen\n",
    "import urllib3\n",
    "import multiprocessing as mul\n",
    "from multiprocessing import Process"
   ]
  },
  {
   "cell_type": "code",
   "execution_count": 6,
   "metadata": {},
   "outputs": [
    {
     "data": {
      "text/plain": [
       "array([ 138. ,  290.5,  326.5,  831.5, 4550.5, 4345.5, 4141.5, 4063.5,\n",
       "       5306. ])"
      ]
     },
     "execution_count": 6,
     "metadata": {},
     "output_type": "execute_result"
    }
   ],
   "source": [
    "np.array([89,\n",
    "195,\n",
    "89,\n",
    "195,\n",
    "4354,\n",
    "4149,\n",
    "3945,\n",
    "3740,\n",
    "4765]) + 0.5*np.array([98,191,475,\n",
    "1273,393,\n",
    "393,393,\n",
    "647,1082])"
   ]
  },
  {
   "cell_type": "code",
   "execution_count": 60,
   "metadata": {},
   "outputs": [],
   "source": [
    "path = \"/media/darkwake/VIB2/GRB/data_gathering/new_321_not_magenta\"\n",
    "dir_list = os.listdir(path)\n",
    "for file in dir_list:\n",
    "    if not file.endswith('.txt'):\n",
    "        dir_list.remove(file)\n",
    "    if file.endswith('.ipynb'):\n",
    "        dir_list.remove(file)"
   ]
  },
  {
   "cell_type": "code",
   "execution_count": 62,
   "metadata": {},
   "outputs": [],
   "source": [
    "path = \"/media/darkwake/VIB2/GRB/data_gathering/new_321_not_magenta/\"\n",
    "df = pd.read_csv(dir_list[5], sep='\\t')\n",
    "#df.drop(['System'], axis=1, inplace=True)\n",
    "#df.drop(['Unnamed: 0'], axis=1, inplace=True)"
   ]
  },
  {
   "cell_type": "code",
   "execution_count": 63,
   "metadata": {},
   "outputs": [
    {
     "data": {
      "text/plain": [
       "15"
      ]
     },
     "execution_count": 63,
     "metadata": {},
     "output_type": "execute_result"
    }
   ],
   "source": [
    "dir_list.index('051006.txt')"
   ]
  },
  {
   "cell_type": "code",
   "execution_count": 64,
   "metadata": {},
   "outputs": [
    {
     "data": {
      "text/plain": [
       "['aa.ipynb',\n",
       " '000911.txt',\n",
       " '050126.txt',\n",
       " '050215B.txt',\n",
       " '050319A_Zaninoni_mag.txt',\n",
       " '050401A_Zaninoni_mag.txt',\n",
       " '050408A_Zaninoni_mag.txt',\n",
       " '050416A_Zaninoni_mag.txt',\n",
       " '050502.txt',\n",
       " '050502B_arXiv1011.0113_uniform.txt',\n",
       " '050525A_Zaninoni_mag.txt',\n",
       " '050803.txt',\n",
       " '050814.txt',\n",
       " '050915A.txt',\n",
       " '050922B.txt',\n",
       " '051006.txt',\n",
       " '060111A.txt',\n",
       " '060115.txt',\n",
       " '060204B.txt',\n",
       " '060223.txt',\n",
       " '060319.txt',\n",
       " '060505A_gcn_arXiv_mag_regatheredGowri_CHECKTHESOURCECOLUMN.txt',\n",
       " '060522.txt',\n",
       " '060604.txt',\n",
       " '060707.txt',\n",
       " '060719.txt',\n",
       " '060805A.txt',\n",
       " '060814A.txt',\n",
       " '060906A_Zaninoni_mag.txt',\n",
       " '060908A_Zaninoni_mag.txt',\n",
       " '060912A_Zaninoni_mag.txt',\n",
       " '060926_gcn.txt',\n",
       " '061222A.txt',\n",
       " '061222B.txt',\n",
       " '070224.txt',\n",
       " '070419B.txt',\n",
       " '070506.txt',\n",
       " '071020.txt',\n",
       " '071021.txt',\n",
       " '071117.txt',\n",
       " '071122_reverse_found_mags.txt',\n",
       " '071227.txt',\n",
       " '080129_grond.txt',\n",
       " '080205.txt',\n",
       " '080210_tarot.txt',\n",
       " '080319B_Zaninoni_mag.txt',\n",
       " '080325.txt',\n",
       " '080411.txt',\n",
       " '080413B_Zaninoni_mag.txt',\n",
       " '080430_Oates_obsframe_timefixed_reverse_found_mags.txt',\n",
       " '080514B.txt',\n",
       " '080520.txt',\n",
       " '080604.txt',\n",
       " '080707.txt',\n",
       " '080721A_Zaninoni_mag.txt',\n",
       " '080804_reverse_found_mags.txt',\n",
       " '080805.txt',\n",
       " '080825B.txt',\n",
       " '080905.txt',\n",
       " '080905B.txt',\n",
       " '080906.txt',\n",
       " '080916A_Oates_obsframe_timefixed_reverse_found_mags.txt',\n",
       " '080916C.txt',\n",
       " '081028.txt',\n",
       " '081118.txt',\n",
       " '081121.txt',\n",
       " '081210.txt',\n",
       " '081221.txt',\n",
       " '081222.txt',\n",
       " '081230.txt',\n",
       " '090113.txt',\n",
       " '090205.txt',\n",
       " '090328.txt',\n",
       " '090407.txt',\n",
       " '090418.txt',\n",
       " '090424A_Zaninoni_mag.txt',\n",
       " '090429B.txt',\n",
       " '090516.txt',\n",
       " '090519.txt',\n",
       " '090715B.txt',\n",
       " '090809.txt',\n",
       " '090812_reverse_found_mags.txt',\n",
       " '090814.txt',\n",
       " '090926A_Zaninoni_mag.txt',\n",
       " '090926B.txt',\n",
       " '091003.txt',\n",
       " '091109.txt',\n",
       " '091208B.txt',\n",
       " '100117A_arXiv1012.4009_uniform.txt',\n",
       " '100302A.txt',\n",
       " '100316A.txt',\n",
       " '100414A.txt',\n",
       " '100424A.txt',\n",
       " '100425A.txt',\n",
       " '100518A.txt',\n",
       " '100615A.txt',\n",
       " '100724A.txt',\n",
       " '100728A.txt',\n",
       " '100728B_reverse_found_mags.txt',\n",
       " '100816A.txt',\n",
       " '100902A.txt',\n",
       " '110106B.txt',\n",
       " '110128A.txt',\n",
       " '110213B.txt',\n",
       " '110808A.txt',\n",
       " '110818A.txt',\n",
       " '110918A_reverse_found_mags.txt',\n",
       " '111005A.txt',\n",
       " '111008A.txt',\n",
       " '111117A.txt',\n",
       " 'Telescopes_automation.ipynb']"
      ]
     },
     "execution_count": 64,
     "metadata": {},
     "output_type": "execute_result"
    }
   ],
   "source": [
    "dir_list"
   ]
  },
  {
   "cell_type": "code",
   "execution_count": 56,
   "metadata": {},
   "outputs": [],
   "source": [
    "gcnpath = 'gcn3/gcnname.gcn3'\n",
    "    \n",
    "def sys_col(dir_list):\n",
    "    for file in dir_list:\n",
    "        df = pd.read_csv(file,sep='\\t')\n",
    "        if not('System' in df):\n",
    "            if 'Source' in df:\n",
    "                sysval = []\n",
    "                for i in range(len(df)):\n",
    "                    ifile = open(gcnpath.replace('gcnname', str(df['Source'][i])))\n",
    "                    temp = ifile.read()\n",
    "\n",
    "                    if '2MASS' in temp and not('USNO' in temp):\n",
    "                        sysval.append('Johnson')\n",
    "                    elif 'USNO' in temp and not('2MASS' in temp):\n",
    "                        sysval.append('Vega')\n",
    "                    elif 'SDSS' in temp or 'Skymapper' in temp or 'Sloan Digital Sky Survey' in temp:\n",
    "                        sysval.append('AB')\n",
    "                    elif 'Keck' in temp:\n",
    "                        sysval.append('Johnson')\n",
    "                    elif 'Swift/UVOT' in temp or ('UVOT' in temp and 'BAT' in temp):\n",
    "                        sysval.append('Swift')\n",
    "                    else: sysval.append('?')\n",
    "                df.insert(loc=4,column='System',value=sysval)\n",
    "        #df.drop(['index'],axis=1,inplace=True)\n",
    "        return df\n",
    "        "
   ]
  },
  {
   "cell_type": "code",
   "execution_count": 57,
   "metadata": {},
   "outputs": [
    {
     "ename": "FileNotFoundError",
     "evalue": "[Errno 2] No such file or directory: '0'",
     "output_type": "error",
     "traceback": [
      "\u001b[0;31m---------------------------------------------------------------------------\u001b[0m",
      "\u001b[0;31mFileNotFoundError\u001b[0m                         Traceback (most recent call last)",
      "\u001b[0;32m/tmp/ipykernel_64146/90464111.py\u001b[0m in \u001b[0;36m<module>\u001b[0;34m\u001b[0m\n\u001b[0;32m----> 1\u001b[0;31m \u001b[0msys_col\u001b[0m\u001b[0;34m(\u001b[0m\u001b[0mdir_list\u001b[0m\u001b[0;34m[\u001b[0m\u001b[0;36m5\u001b[0m\u001b[0;34m]\u001b[0m\u001b[0;34m)\u001b[0m\u001b[0;34m\u001b[0m\u001b[0;34m\u001b[0m\u001b[0m\n\u001b[0m",
      "\u001b[0;32m/tmp/ipykernel_64146/1483572136.py\u001b[0m in \u001b[0;36msys_col\u001b[0;34m(dir_list)\u001b[0m\n\u001b[1;32m      3\u001b[0m \u001b[0;32mdef\u001b[0m \u001b[0msys_col\u001b[0m\u001b[0;34m(\u001b[0m\u001b[0mdir_list\u001b[0m\u001b[0;34m)\u001b[0m\u001b[0;34m:\u001b[0m\u001b[0;34m\u001b[0m\u001b[0;34m\u001b[0m\u001b[0m\n\u001b[1;32m      4\u001b[0m     \u001b[0;32mfor\u001b[0m \u001b[0mfile\u001b[0m \u001b[0;32min\u001b[0m \u001b[0mdir_list\u001b[0m\u001b[0;34m:\u001b[0m\u001b[0;34m\u001b[0m\u001b[0;34m\u001b[0m\u001b[0m\n\u001b[0;32m----> 5\u001b[0;31m         \u001b[0mdf\u001b[0m \u001b[0;34m=\u001b[0m \u001b[0mpd\u001b[0m\u001b[0;34m.\u001b[0m\u001b[0mread_csv\u001b[0m\u001b[0;34m(\u001b[0m\u001b[0mfile\u001b[0m\u001b[0;34m,\u001b[0m\u001b[0msep\u001b[0m\u001b[0;34m=\u001b[0m\u001b[0;34m'\\t'\u001b[0m\u001b[0;34m)\u001b[0m\u001b[0;34m\u001b[0m\u001b[0;34m\u001b[0m\u001b[0m\n\u001b[0m\u001b[1;32m      6\u001b[0m         \u001b[0;32mif\u001b[0m \u001b[0;32mnot\u001b[0m\u001b[0;34m(\u001b[0m\u001b[0;34m'System'\u001b[0m \u001b[0;32min\u001b[0m \u001b[0mdf\u001b[0m\u001b[0;34m)\u001b[0m\u001b[0;34m:\u001b[0m\u001b[0;34m\u001b[0m\u001b[0;34m\u001b[0m\u001b[0m\n\u001b[1;32m      7\u001b[0m             \u001b[0;32mif\u001b[0m \u001b[0;34m'Source'\u001b[0m \u001b[0;32min\u001b[0m \u001b[0mdf\u001b[0m\u001b[0;34m:\u001b[0m\u001b[0;34m\u001b[0m\u001b[0;34m\u001b[0m\u001b[0m\n",
      "\u001b[0;32m~/.local/lib/python3.10/site-packages/pandas/util/_decorators.py\u001b[0m in \u001b[0;36mwrapper\u001b[0;34m(*args, **kwargs)\u001b[0m\n\u001b[1;32m    309\u001b[0m                     \u001b[0mstacklevel\u001b[0m\u001b[0;34m=\u001b[0m\u001b[0mstacklevel\u001b[0m\u001b[0;34m,\u001b[0m\u001b[0;34m\u001b[0m\u001b[0;34m\u001b[0m\u001b[0m\n\u001b[1;32m    310\u001b[0m                 )\n\u001b[0;32m--> 311\u001b[0;31m             \u001b[0;32mreturn\u001b[0m \u001b[0mfunc\u001b[0m\u001b[0;34m(\u001b[0m\u001b[0;34m*\u001b[0m\u001b[0margs\u001b[0m\u001b[0;34m,\u001b[0m \u001b[0;34m**\u001b[0m\u001b[0mkwargs\u001b[0m\u001b[0;34m)\u001b[0m\u001b[0;34m\u001b[0m\u001b[0;34m\u001b[0m\u001b[0m\n\u001b[0m\u001b[1;32m    312\u001b[0m \u001b[0;34m\u001b[0m\u001b[0m\n\u001b[1;32m    313\u001b[0m         \u001b[0;32mreturn\u001b[0m \u001b[0mwrapper\u001b[0m\u001b[0;34m\u001b[0m\u001b[0;34m\u001b[0m\u001b[0m\n",
      "\u001b[0;32m~/.local/lib/python3.10/site-packages/pandas/io/parsers/readers.py\u001b[0m in \u001b[0;36mread_csv\u001b[0;34m(filepath_or_buffer, sep, delimiter, header, names, index_col, usecols, squeeze, prefix, mangle_dupe_cols, dtype, engine, converters, true_values, false_values, skipinitialspace, skiprows, skipfooter, nrows, na_values, keep_default_na, na_filter, verbose, skip_blank_lines, parse_dates, infer_datetime_format, keep_date_col, date_parser, dayfirst, cache_dates, iterator, chunksize, compression, thousands, decimal, lineterminator, quotechar, quoting, doublequote, escapechar, comment, encoding, encoding_errors, dialect, error_bad_lines, warn_bad_lines, on_bad_lines, delim_whitespace, low_memory, memory_map, float_precision, storage_options)\u001b[0m\n\u001b[1;32m    676\u001b[0m     \u001b[0mkwds\u001b[0m\u001b[0;34m.\u001b[0m\u001b[0mupdate\u001b[0m\u001b[0;34m(\u001b[0m\u001b[0mkwds_defaults\u001b[0m\u001b[0;34m)\u001b[0m\u001b[0;34m\u001b[0m\u001b[0;34m\u001b[0m\u001b[0m\n\u001b[1;32m    677\u001b[0m \u001b[0;34m\u001b[0m\u001b[0m\n\u001b[0;32m--> 678\u001b[0;31m     \u001b[0;32mreturn\u001b[0m \u001b[0m_read\u001b[0m\u001b[0;34m(\u001b[0m\u001b[0mfilepath_or_buffer\u001b[0m\u001b[0;34m,\u001b[0m \u001b[0mkwds\u001b[0m\u001b[0;34m)\u001b[0m\u001b[0;34m\u001b[0m\u001b[0;34m\u001b[0m\u001b[0m\n\u001b[0m\u001b[1;32m    679\u001b[0m \u001b[0;34m\u001b[0m\u001b[0m\n\u001b[1;32m    680\u001b[0m \u001b[0;34m\u001b[0m\u001b[0m\n",
      "\u001b[0;32m~/.local/lib/python3.10/site-packages/pandas/io/parsers/readers.py\u001b[0m in \u001b[0;36m_read\u001b[0;34m(filepath_or_buffer, kwds)\u001b[0m\n\u001b[1;32m    573\u001b[0m \u001b[0;34m\u001b[0m\u001b[0m\n\u001b[1;32m    574\u001b[0m     \u001b[0;31m# Create the parser.\u001b[0m\u001b[0;34m\u001b[0m\u001b[0;34m\u001b[0m\u001b[0m\n\u001b[0;32m--> 575\u001b[0;31m     \u001b[0mparser\u001b[0m \u001b[0;34m=\u001b[0m \u001b[0mTextFileReader\u001b[0m\u001b[0;34m(\u001b[0m\u001b[0mfilepath_or_buffer\u001b[0m\u001b[0;34m,\u001b[0m \u001b[0;34m**\u001b[0m\u001b[0mkwds\u001b[0m\u001b[0;34m)\u001b[0m\u001b[0;34m\u001b[0m\u001b[0;34m\u001b[0m\u001b[0m\n\u001b[0m\u001b[1;32m    576\u001b[0m \u001b[0;34m\u001b[0m\u001b[0m\n\u001b[1;32m    577\u001b[0m     \u001b[0;32mif\u001b[0m \u001b[0mchunksize\u001b[0m \u001b[0;32mor\u001b[0m \u001b[0miterator\u001b[0m\u001b[0;34m:\u001b[0m\u001b[0;34m\u001b[0m\u001b[0;34m\u001b[0m\u001b[0m\n",
      "\u001b[0;32m~/.local/lib/python3.10/site-packages/pandas/io/parsers/readers.py\u001b[0m in \u001b[0;36m__init__\u001b[0;34m(self, f, engine, **kwds)\u001b[0m\n\u001b[1;32m    930\u001b[0m \u001b[0;34m\u001b[0m\u001b[0m\n\u001b[1;32m    931\u001b[0m         \u001b[0mself\u001b[0m\u001b[0;34m.\u001b[0m\u001b[0mhandles\u001b[0m\u001b[0;34m:\u001b[0m \u001b[0mIOHandles\u001b[0m \u001b[0;34m|\u001b[0m \u001b[0;32mNone\u001b[0m \u001b[0;34m=\u001b[0m \u001b[0;32mNone\u001b[0m\u001b[0;34m\u001b[0m\u001b[0;34m\u001b[0m\u001b[0m\n\u001b[0;32m--> 932\u001b[0;31m         \u001b[0mself\u001b[0m\u001b[0;34m.\u001b[0m\u001b[0m_engine\u001b[0m \u001b[0;34m=\u001b[0m \u001b[0mself\u001b[0m\u001b[0;34m.\u001b[0m\u001b[0m_make_engine\u001b[0m\u001b[0;34m(\u001b[0m\u001b[0mf\u001b[0m\u001b[0;34m,\u001b[0m \u001b[0mself\u001b[0m\u001b[0;34m.\u001b[0m\u001b[0mengine\u001b[0m\u001b[0;34m)\u001b[0m\u001b[0;34m\u001b[0m\u001b[0;34m\u001b[0m\u001b[0m\n\u001b[0m\u001b[1;32m    933\u001b[0m \u001b[0;34m\u001b[0m\u001b[0m\n\u001b[1;32m    934\u001b[0m     \u001b[0;32mdef\u001b[0m \u001b[0mclose\u001b[0m\u001b[0;34m(\u001b[0m\u001b[0mself\u001b[0m\u001b[0;34m)\u001b[0m\u001b[0;34m:\u001b[0m\u001b[0;34m\u001b[0m\u001b[0;34m\u001b[0m\u001b[0m\n",
      "\u001b[0;32m~/.local/lib/python3.10/site-packages/pandas/io/parsers/readers.py\u001b[0m in \u001b[0;36m_make_engine\u001b[0;34m(self, f, engine)\u001b[0m\n\u001b[1;32m   1214\u001b[0m             \u001b[0;31m# \"Union[str, PathLike[str], ReadCsvBuffer[bytes], ReadCsvBuffer[str]]\"\u001b[0m\u001b[0;34m\u001b[0m\u001b[0;34m\u001b[0m\u001b[0m\n\u001b[1;32m   1215\u001b[0m             \u001b[0;31m# , \"str\", \"bool\", \"Any\", \"Any\", \"Any\", \"Any\", \"Any\"\u001b[0m\u001b[0;34m\u001b[0m\u001b[0;34m\u001b[0m\u001b[0m\n\u001b[0;32m-> 1216\u001b[0;31m             self.handles = get_handle(  # type: ignore[call-overload]\n\u001b[0m\u001b[1;32m   1217\u001b[0m                 \u001b[0mf\u001b[0m\u001b[0;34m,\u001b[0m\u001b[0;34m\u001b[0m\u001b[0;34m\u001b[0m\u001b[0m\n\u001b[1;32m   1218\u001b[0m                 \u001b[0mmode\u001b[0m\u001b[0;34m,\u001b[0m\u001b[0;34m\u001b[0m\u001b[0;34m\u001b[0m\u001b[0m\n",
      "\u001b[0;32m~/.local/lib/python3.10/site-packages/pandas/io/common.py\u001b[0m in \u001b[0;36mget_handle\u001b[0;34m(path_or_buf, mode, encoding, compression, memory_map, is_text, errors, storage_options)\u001b[0m\n\u001b[1;32m    784\u001b[0m         \u001b[0;32mif\u001b[0m \u001b[0mioargs\u001b[0m\u001b[0;34m.\u001b[0m\u001b[0mencoding\u001b[0m \u001b[0;32mand\u001b[0m \u001b[0;34m\"b\"\u001b[0m \u001b[0;32mnot\u001b[0m \u001b[0;32min\u001b[0m \u001b[0mioargs\u001b[0m\u001b[0;34m.\u001b[0m\u001b[0mmode\u001b[0m\u001b[0;34m:\u001b[0m\u001b[0;34m\u001b[0m\u001b[0;34m\u001b[0m\u001b[0m\n\u001b[1;32m    785\u001b[0m             \u001b[0;31m# Encoding\u001b[0m\u001b[0;34m\u001b[0m\u001b[0;34m\u001b[0m\u001b[0m\n\u001b[0;32m--> 786\u001b[0;31m             handle = open(\n\u001b[0m\u001b[1;32m    787\u001b[0m                 \u001b[0mhandle\u001b[0m\u001b[0;34m,\u001b[0m\u001b[0;34m\u001b[0m\u001b[0;34m\u001b[0m\u001b[0m\n\u001b[1;32m    788\u001b[0m                 \u001b[0mioargs\u001b[0m\u001b[0;34m.\u001b[0m\u001b[0mmode\u001b[0m\u001b[0;34m,\u001b[0m\u001b[0;34m\u001b[0m\u001b[0;34m\u001b[0m\u001b[0m\n",
      "\u001b[0;31mFileNotFoundError\u001b[0m: [Errno 2] No such file or directory: '0'"
     ]
    }
   ],
   "source": [
    "sys_col(dir_list[5], dir_list[83])"
   ]
  },
  {
   "cell_type": "code",
   "execution_count": 35,
   "metadata": {},
   "outputs": [],
   "source": [
    "#FOR GCN7246\n",
    "d1 = pd.read_csv('deleteme..txt', sep='\\s+')\n",
    "d1d = d1['t1'].values + (d1['t3'].values/2)\n",
    "d1d = list(d1d)\n",
    "d1d\n",
    "d1.drop(['t1','t2',\"t3\"], axis=1, inplace=True)\n",
    "d1.insert(0,'Time(s)' ,d1d)\n",
    "d1.insert(3, 'Source', [7246]*7)\n",
    "d1.insert(2, 'MagErr', [0]*7)"
   ]
  },
  {
   "cell_type": "code",
   "execution_count": 36,
   "metadata": {},
   "outputs": [
    {
     "data": {
      "text/html": [
       "<div>\n",
       "<style scoped>\n",
       "    .dataframe tbody tr th:only-of-type {\n",
       "        vertical-align: middle;\n",
       "    }\n",
       "\n",
       "    .dataframe tbody tr th {\n",
       "        vertical-align: top;\n",
       "    }\n",
       "\n",
       "    .dataframe thead th {\n",
       "        text-align: right;\n",
       "    }\n",
       "</style>\n",
       "<table border=\"1\" class=\"dataframe\">\n",
       "  <thead>\n",
       "    <tr style=\"text-align: right;\">\n",
       "      <th></th>\n",
       "      <th>Time(s)</th>\n",
       "      <th>Mag</th>\n",
       "      <th>MagErr</th>\n",
       "      <th>Filter</th>\n",
       "      <th>Source</th>\n",
       "    </tr>\n",
       "  </thead>\n",
       "  <tbody>\n",
       "    <tr>\n",
       "      <th>0</th>\n",
       "      <td>4199.5</td>\n",
       "      <td>21.3</td>\n",
       "      <td>0</td>\n",
       "      <td>v</td>\n",
       "      <td>7246</td>\n",
       "    </tr>\n",
       "    <tr>\n",
       "      <th>1</th>\n",
       "      <td>5216.0</td>\n",
       "      <td>22.2</td>\n",
       "      <td>0</td>\n",
       "      <td>b</td>\n",
       "      <td>7246</td>\n",
       "    </tr>\n",
       "    <tr>\n",
       "      <th>2</th>\n",
       "      <td>4568.0</td>\n",
       "      <td>21.5</td>\n",
       "      <td>0</td>\n",
       "      <td>u</td>\n",
       "      <td>7246</td>\n",
       "    </tr>\n",
       "    <tr>\n",
       "      <th>3</th>\n",
       "      <td>4315.0</td>\n",
       "      <td>21.3</td>\n",
       "      <td>0</td>\n",
       "      <td>uvw1</td>\n",
       "      <td>7246</td>\n",
       "    </tr>\n",
       "    <tr>\n",
       "      <th>4</th>\n",
       "      <td>4158.5</td>\n",
       "      <td>21.2</td>\n",
       "      <td>0</td>\n",
       "      <td>uvm2</td>\n",
       "      <td>7246</td>\n",
       "    </tr>\n",
       "    <tr>\n",
       "      <th>5</th>\n",
       "      <td>5505.0</td>\n",
       "      <td>21.7</td>\n",
       "      <td>0</td>\n",
       "      <td>uvw2</td>\n",
       "      <td>7246</td>\n",
       "    </tr>\n",
       "    <tr>\n",
       "      <th>6</th>\n",
       "      <td>4635.0</td>\n",
       "      <td>23.1</td>\n",
       "      <td>0</td>\n",
       "      <td>white</td>\n",
       "      <td>7246</td>\n",
       "    </tr>\n",
       "  </tbody>\n",
       "</table>\n",
       "</div>"
      ],
      "text/plain": [
       "   Time(s)   Mag  MagErr Filter  Source\n",
       "0   4199.5  21.3       0      v    7246\n",
       "1   5216.0  22.2       0      b    7246\n",
       "2   4568.0  21.5       0      u    7246\n",
       "3   4315.0  21.3       0   uvw1    7246\n",
       "4   4158.5  21.2       0   uvm2    7246\n",
       "5   5505.0  21.7       0   uvw2    7246\n",
       "6   4635.0  23.1       0  white    7246"
      ]
     },
     "execution_count": 36,
     "metadata": {},
     "output_type": "execute_result"
    }
   ],
   "source": [
    "d1"
   ]
  },
  {
   "cell_type": "code",
   "execution_count": null,
   "metadata": {},
   "outputs": [],
   "source": []
  },
  {
   "cell_type": "code",
   "execution_count": null,
   "metadata": {},
   "outputs": [],
   "source": [
    "#df = pd.read_csv(dir_list[6],sep='\\s+')\n",
    "file_url = \"/media/darkwake/VIB2/GRB/data_gathering/new_321_not_magenta/gcn3/gcnname.txt\"\n",
    "def sys_cola(dir_list):\n",
    "    completed = []\n",
    "    for file in dir_list:\n",
    "        df=pd.read_csv(file,sep='\\s+')\n",
    "        sysval = []\n",
    "        if 'Source' in df:\n",
    "            if 'System' in df:\n",
    "                df.drop(['System'],axis=1,inplace=True)\n",
    "            for i in range(len(df)):\n",
    "                try:\n",
    "                    furl = file_url.replace('gcname',str(df['Source'][i]))\n",
    "                    ifile = open(furl, 'r')\n",
    "                    temp = str(ifile.read())\n",
    "                    if '2MASS' in temp and not('USNO' in temp):\n",
    "                        sysval.append('Johnson')\n",
    "                    elif 'USNO' in temp and not('2MASS' in temp):\n",
    "                        sysval.append('Vega')\n",
    "                    elif 'SDSS' in temp or 'Skymapper' in temp or 'Sloan Digital Sky Survey' in temp:\n",
    "                        sysval.append('AB')\n",
    "                    elif 'Keck' in temp:\n",
    "                        sysval.append('Johnson')\n",
    "                    elif 'Swift/UVOT' in temp or ('UVOT' in temp and 'BAT' in temp):\n",
    "                        sysval.append('Swift')\n",
    "                    else: sysval.append('?')\n",
    "                    df.insert(loc=4,column='System',value=sysval)\n",
    "                except:\n",
    "                    continue\n",
    "            df.insert(loc=4,column='System',value=sysval)\n",
    "            df.drop(['index'],axis=1,inplace=True)\n",
    "            df.to_csv(file,sep='\\t')\n",
    "        completed.append(file.replace('/media/darkwake/VIB2/GRB/data_gathering/new_321_not_magenta/',''))\n",
    "    return completed\n",
    "sys_cola(['050814.txt'])"
   ]
  }
 ],
 "metadata": {
  "kernelspec": {
   "display_name": "Python 3.10.4 64-bit",
   "language": "python",
   "name": "python3"
  },
  "language_info": {
   "codemirror_mode": {
    "name": "ipython",
    "version": 3
   },
   "file_extension": ".py",
   "mimetype": "text/x-python",
   "name": "python",
   "nbconvert_exporter": "python",
   "pygments_lexer": "ipython3",
   "version": "3.10.4"
  },
  "orig_nbformat": 4,
  "vscode": {
   "interpreter": {
    "hash": "916dbcbb3f70747c44a77c7bcd40155683ae19c65e1c03b4aa3499c5328201f1"
   }
  }
 },
 "nbformat": 4,
 "nbformat_minor": 2
}
