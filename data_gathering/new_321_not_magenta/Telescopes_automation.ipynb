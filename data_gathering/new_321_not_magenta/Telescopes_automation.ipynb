{
 "cells": [
  {
   "cell_type": "code",
   "execution_count": 1,
   "id": "7cc14127",
   "metadata": {},
   "outputs": [],
   "source": [
    "import numpy as np\n",
    "import pandas as pd\n",
    "import requests\n",
    "from bs4 import BeautifulSoup\n",
    "import timeit\n",
    "import urllib.request  \n",
    "import glob\n",
    "import os\n",
    "import shutil"
   ]
  },
  {
   "cell_type": "code",
   "execution_count": 2,
   "id": "69e5d79a",
   "metadata": {
    "scrolled": true
   },
   "outputs": [
    {
     "data": {
      "text/html": [
       "<div>\n",
       "<style scoped>\n",
       "    .dataframe tbody tr th:only-of-type {\n",
       "        vertical-align: middle;\n",
       "    }\n",
       "\n",
       "    .dataframe tbody tr th {\n",
       "        vertical-align: top;\n",
       "    }\n",
       "\n",
       "    .dataframe thead th {\n",
       "        text-align: right;\n",
       "    }\n",
       "</style>\n",
       "<table border=\"1\" class=\"dataframe\">\n",
       "  <thead>\n",
       "    <tr style=\"text-align: right;\">\n",
       "      <th></th>\n",
       "      <th>GRB</th>\n",
       "      <th>GCN</th>\n",
       "      <th>Telescope</th>\n",
       "    </tr>\n",
       "  </thead>\n",
       "  <tbody>\n",
       "    <tr>\n",
       "      <th>0</th>\n",
       "      <td>000131</td>\n",
       "      <td>1133</td>\n",
       "      <td>HST-WFPC</td>\n",
       "    </tr>\n",
       "    <tr>\n",
       "      <th>1</th>\n",
       "      <td>000131</td>\n",
       "      <td>537</td>\n",
       "      <td>2.34m,1.02m-vainu-bappu</td>\n",
       "    </tr>\n",
       "    <tr>\n",
       "      <th>2</th>\n",
       "      <td>000131</td>\n",
       "      <td>26700</td>\n",
       "      <td>Swift/UVOT</td>\n",
       "    </tr>\n",
       "    <tr>\n",
       "      <th>3</th>\n",
       "      <td>000131</td>\n",
       "      <td>534</td>\n",
       "      <td>8.2m-ANTU</td>\n",
       "    </tr>\n",
       "    <tr>\n",
       "      <th>4</th>\n",
       "      <td>000301</td>\n",
       "      <td>597</td>\n",
       "      <td>Guillermo-Haro-2.1m</td>\n",
       "    </tr>\n",
       "    <tr>\n",
       "      <th>...</th>\n",
       "      <td>...</td>\n",
       "      <td>...</td>\n",
       "      <td>...</td>\n",
       "    </tr>\n",
       "    <tr>\n",
       "      <th>4846</th>\n",
       "      <td>991216</td>\n",
       "      <td>468</td>\n",
       "      <td>CTIO/Schmidt,CTIO/yale-1m</td>\n",
       "    </tr>\n",
       "    <tr>\n",
       "      <th>4847</th>\n",
       "      <td>991216</td>\n",
       "      <td>466</td>\n",
       "      <td>1.8m-perkins</td>\n",
       "    </tr>\n",
       "    <tr>\n",
       "      <th>4848</th>\n",
       "      <td>991216</td>\n",
       "      <td>465</td>\n",
       "      <td>BAO-60/90cm-Schmidt</td>\n",
       "    </tr>\n",
       "    <tr>\n",
       "      <th>4849</th>\n",
       "      <td>991216</td>\n",
       "      <td>487</td>\n",
       "      <td>lowell/1.8m-perkins</td>\n",
       "    </tr>\n",
       "    <tr>\n",
       "      <th>4850</th>\n",
       "      <td>991216</td>\n",
       "      <td>518</td>\n",
       "      <td>USNOFS-1.0m,usno-ircam-1.55m</td>\n",
       "    </tr>\n",
       "  </tbody>\n",
       "</table>\n",
       "<p>4851 rows × 3 columns</p>\n",
       "</div>"
      ],
      "text/plain": [
       "         GRB    GCN                     Telescope\n",
       "0     000131   1133                      HST-WFPC\n",
       "1     000131    537       2.34m,1.02m-vainu-bappu\n",
       "2     000131  26700                    Swift/UVOT\n",
       "3     000131    534                     8.2m-ANTU\n",
       "4     000301    597           Guillermo-Haro-2.1m\n",
       "...      ...    ...                           ...\n",
       "4846  991216    468     CTIO/Schmidt,CTIO/yale-1m\n",
       "4847  991216    466                  1.8m-perkins\n",
       "4848  991216    465           BAO-60/90cm-Schmidt\n",
       "4849  991216    487           lowell/1.8m-perkins\n",
       "4850  991216    518  USNOFS-1.0m,usno-ircam-1.55m\n",
       "\n",
       "[4851 rows x 3 columns]"
      ]
     },
     "execution_count": 2,
     "metadata": {},
     "output_type": "execute_result"
    }
   ],
   "source": [
    "df_telescope = pd.read_csv(\"code/Telescope_info_GCNs.txt\", sep=\"\\t\")\n",
    "df_telescope['GRB'] = df_telescope['GRB'].astype('string')\n",
    "df_telescope['GCN'] = df_telescope['GCN'].astype('string')\n",
    "df_telescope"
   ]
  },
  {
   "cell_type": "code",
   "execution_count": 3,
   "id": "6ad8e301",
   "metadata": {},
   "outputs": [],
   "source": [
    "f1 = open('telescopes1.md', 'r')\n",
    "filename = f1.read()\n",
    "f1.close()\n",
    "f1 = open('telescopes2.md', 'r')\n",
    "filename2 = f1.read()\n",
    "f1.close()\n",
    "filename2 = filename2.replace('\\n', ' ')\n",
    "filename2 = filename2.split(' ')\n",
    "filename = filename.replace('\\n', ' ')\n",
    "filename = filename.split(' ')"
   ]
  },
  {
   "cell_type": "markdown",
   "id": "f1d523c7",
   "metadata": {},
   "source": [
    "path = '/media/darkwake/VIB2/GRB/data_gathering/new_321_not_magenta'\n",
    "d1ir_list = os.listdir(path)\n",
    "filename = []\n",
    "dir2_list = []\n",
    "for i in d1ir_list:\n",
    "    if i.endswith('.txt') and i[0].isdigit():\n",
    "        filename.append(i)\n",
    "for i in d1ir_list:\n",
    "    if '_' in i and i[0].isdigit():\n",
    "        dir2_list.append(i)\n",
    "        filename.remove(i)\n",
    "#dir_list\n"
   ]
  },
  {
   "cell_type": "markdown",
   "id": "a6928d28",
   "metadata": {},
   "source": [
    "filename"
   ]
  },
  {
   "cell_type": "markdown",
   "id": "1678457e",
   "metadata": {},
   "source": [
    "df = pd.read_csv('111129A.txt',sep='\\s+')\n",
    "if (\"Telescope\" not in df):\n",
    "        df.insert(loc=4, column='Telescope', value='none')\n"
   ]
  },
  {
   "cell_type": "markdown",
   "id": "27b7ce71",
   "metadata": {},
   "source": [
    "grb='111129A.txt'.split('.')[0]"
   ]
  },
  {
   "cell_type": "markdown",
   "id": "2aa7d224",
   "metadata": {},
   "source": [
    "grb"
   ]
  },
  {
   "cell_type": "markdown",
   "id": "3d2e103e",
   "metadata": {},
   "source": [
    "import os\n",
    "#path2 = '\\\\Users\\\\gowrigovindaraj\\\\Downloads\\\\new_321_not_magenta 2\\\\Modified\\\\'"
   ]
  },
  {
   "cell_type": "markdown",
   "id": "51cc31d3",
   "metadata": {},
   "source": [
    "filename"
   ]
  },
  {
   "cell_type": "code",
   "execution_count": 4,
   "id": "5f18101f",
   "metadata": {
    "scrolled": true
   },
   "outputs": [
    {
     "name": "stdout",
     "output_type": "stream",
     "text": [
      "050502.txt added telescope\n",
      "050803.txt added telescope\n",
      "050814.txt added telescope\n",
      "050915A.txt added telescope\n",
      "050922B.txt added telescope\n",
      "051006.txt added telescope\n",
      "060111A.txt added telescope\n",
      "060115.txt added telescope\n",
      "060204B.txt added telescope\n",
      "060223.txt added telescope\n",
      "060319.txt added telescope\n",
      "060522.txt added telescope\n",
      "060604.txt added telescope\n",
      "060707.txt added telescope\n",
      "060719.txt added telescope\n",
      "060805A.txt added telescope\n",
      "060814A.txt added telescope\n",
      "061222A.txt added telescope\n",
      "061222B.txt added telescope\n",
      "070224.txt added telescope\n",
      "070419B.txt added telescope\n",
      "070506.txt added telescope\n",
      "071020.txt added telescope\n",
      "071021.txt added telescope\n",
      "071117.txt added telescope\n",
      "071227.txt added telescope\n"
     ]
    }
   ],
   "source": [
    "no_source = []\n",
    "no_file = []\n",
    "for file in filename:\n",
    "    grb=file.split('.')[0]\n",
    "    if grb[0]=='0':\n",
    "        grb = grb.replace('A','',1)\n",
    "    \n",
    "    if not(file in os.listdir()):\n",
    "        no_file.append(file)\n",
    "        print(file + ' not found')\n",
    "        continue\n",
    "\n",
    "    df=pd.read_csv(file,sep='\\s+')\n",
    "    if (\"Telescope\" not in df):\n",
    "        df.insert(loc=4, column='Telescope', value='none')\n",
    "    if 'Source' in df:\n",
    "        try:\n",
    "            df['Source'] = df['Source'].astype('string')\n",
    "            df['Telescope'] = df['Telescope'].astype('string')\n",
    "            df_grb=pd.DataFrame()\n",
    "            for j in range(len(df_telescope)):\n",
    "                if df_telescope['GRB'][j]==grb:\n",
    "                    df_grb=df_telescope[df_telescope.GRB.isin([grb])]\n",
    "            index=np.array(df_grb.index)\n",
    "            for i in range(len(df)):\n",
    "                for j in index:\n",
    "                    if df['Source'][i]==df_grb['GCN'][j]:\n",
    "                        df['Telescope'][i]=df_grb['Telescope'][j]\n",
    "            print(file + ' added telescope')\n",
    "            df.to_csv('modified/tel'+file, sep='\\t',index=False)\n",
    "        except TypeError:\n",
    "            no_source.append(file)\n",
    "            print(file + ' has error in source')\n",
    "        except FileNotFoundError:\n",
    "            no_file.append(file)\n",
    "            print(file + ' not found')\n",
    "    else:\n",
    "        no_source.append(file)\n",
    "    "
   ]
  },
  {
   "cell_type": "code",
   "execution_count": 5,
   "id": "c1943509",
   "metadata": {},
   "outputs": [
    {
     "data": {
      "text/plain": [
       "[]"
      ]
     },
     "execution_count": 5,
     "metadata": {},
     "output_type": "execute_result"
    }
   ],
   "source": [
    "no_file"
   ]
  },
  {
   "cell_type": "code",
   "execution_count": 6,
   "id": "e0c8d115",
   "metadata": {},
   "outputs": [
    {
     "data": {
      "text/plain": [
       "[]"
      ]
     },
     "execution_count": 6,
     "metadata": {},
     "output_type": "execute_result"
    }
   ],
   "source": [
    "no_source"
   ]
  },
  {
   "cell_type": "code",
   "execution_count": 7,
   "id": "27940ed0",
   "metadata": {},
   "outputs": [
    {
     "name": "stdout",
     "output_type": "stream",
     "text": [
      "050319A_Zaninoni_mag.txt added telescope\n",
      "050401A_Zaninoni_mag.txt added telescope\n",
      "050408A_Zaninoni_mag.txt added telescope\n",
      "050416A_Zaninoni_mag.txt added telescope\n",
      "050525A_Zaninoni_mag.txt added telescope\n",
      "060505A_gcn_arXiv_mag_regatheredGowri_CHECKTHESOURCECOLUMN.txt has error in source\n",
      "060906A_Zaninoni_mag.txt added telescope\n",
      "060908A_Zaninoni_mag.txt added telescope\n",
      "060912A_Zaninoni_mag.txt added telescope\n",
      "080129_grond.txt added telescope\n",
      "060926_gcn.txt added telescope\n"
     ]
    }
   ],
   "source": [
    "no_source2 = []\n",
    "for file in filename2:\n",
    "    grb=file.split('_')[0]\n",
    "    if grb[0]=='0':\n",
    "        grb = grb.replace('A','',1)\n",
    "    df=pd.read_csv(file,sep='\\s+')\n",
    "    if (\"Telescope\" not in df):\n",
    "        df.insert(loc=4, column='Telescope', value='none')\n",
    "    if 'Source' in df:\n",
    "        try:\n",
    "            df['Source'] = df['Source'].astype('string')\n",
    "            df['Telescope'] = df['Telescope'].astype('string')\n",
    "            df_grb=pd.DataFrame()\n",
    "            for j in range(len(df_telescope)):\n",
    "                if df_telescope['GRB'][j]==grb:\n",
    "                    df_grb=df_telescope[df_telescope.GRB.isin([grb])]\n",
    "            index=np.array(df_grb.index)\n",
    "            for i in range(len(df)):\n",
    "                for j in index:\n",
    "                    if df['Source'][i]==df_grb['GCN'][j]:\n",
    "                        df['Telescope'][i]=df_grb['Telescope'][j]\n",
    "            print(file + ' added telescope')\n",
    "            df.to_csv('modified/tel'+file, sep='\\t',index=False)\n",
    "        except TypeError:\n",
    "            no_source.append(file)\n",
    "            print(file + ' has error in source')    \n",
    "        except IndexError:\n",
    "            no_source.append(file)\n",
    "            print(file + ' is erroneous')    \n",
    "    else:\n",
    "        no_source2.append(file)"
   ]
  },
  {
   "cell_type": "code",
   "execution_count": 8,
   "id": "75b17cbb",
   "metadata": {},
   "outputs": [
    {
     "data": {
      "text/plain": [
       "[]"
      ]
     },
     "execution_count": 8,
     "metadata": {},
     "output_type": "execute_result"
    }
   ],
   "source": [
    "no_source2"
   ]
  },
  {
   "cell_type": "code",
   "execution_count": 50,
   "id": "c4c10b76",
   "metadata": {},
   "outputs": [
    {
     "name": "stdout",
     "output_type": "stream",
     "text": [
      "/media/darkwake/VIB2/GRB/data_gathering/new_321_not_magenta/modified\n"
     ]
    }
   ],
   "source": [
    "cd '/media/darkwake/VIB2/GRB/data_gathering/new_321_not_magenta/modified/'"
   ]
  },
  {
   "cell_type": "code",
   "execution_count": 96,
   "id": "c147d7fd",
   "metadata": {},
   "outputs": [
    {
     "name": "stdout",
     "output_type": "stream",
     "text": [
      "/media/darkwake/VIB2/GRB/data_gathering/new_321_not_magenta/modified\n"
     ]
    }
   ],
   "source": [
    "print(os.getcwd())\n",
    "nonetel = []\n",
    "files = os.listdir()\n",
    "for file in files:\n",
    "    ttel = []\n",
    "    df = pd.read_csv(file, sep='\\s+')\n",
    "    for i in range(len(df)):\n",
    "        if df['Telescope'][i] in ['none' ,'None' , None,'**WARNING**']:\n",
    "            ttel.append(file + ' '+str(df['Source'][i]))\n",
    "    if len(ttel) > 0:\n",
    "        nonetel.append(set(ttel))"
   ]
  },
  {
   "cell_type": "code",
   "execution_count": 97,
   "id": "5994be51",
   "metadata": {},
   "outputs": [
    {
     "data": {
      "text/plain": [
       "'tel071227.txt'"
      ]
     },
     "execution_count": 97,
     "metadata": {},
     "output_type": "execute_result"
    }
   ],
   "source": [
    "file"
   ]
  },
  {
   "cell_type": "code",
   "execution_count": 98,
   "id": "d15a20c3",
   "metadata": {},
   "outputs": [
    {
     "data": {
      "text/plain": [
       "0"
      ]
     },
     "execution_count": 98,
     "metadata": {},
     "output_type": "execute_result"
    }
   ],
   "source": [
    "len(nonetel)"
   ]
  },
  {
   "cell_type": "code",
   "execution_count": 99,
   "id": "063997a6",
   "metadata": {},
   "outputs": [
    {
     "name": "stdout",
     "output_type": "stream",
     "text": [
      "[]\n"
     ]
    }
   ],
   "source": [
    "print(nonetel)"
   ]
  },
  {
   "cell_type": "code",
   "execution_count": null,
   "id": "70b2db31",
   "metadata": {},
   "outputs": [],
   "source": []
  }
 ],
 "metadata": {
  "kernelspec": {
   "display_name": "Python 3.8.9 64-bit",
   "language": "python",
   "name": "python3"
  },
  "language_info": {
   "codemirror_mode": {
    "name": "ipython",
    "version": 3
   },
   "file_extension": ".py",
   "mimetype": "text/x-python",
   "name": "python",
   "nbconvert_exporter": "python",
   "pygments_lexer": "ipython3",
   "version": "3.10.4"
  },
  "vscode": {
   "interpreter": {
    "hash": "31f2aee4e71d21fbe5cf8b01ff0e069b9275f58929596ceb00d14d90e3e16cd6"
   }
  }
 },
 "nbformat": 4,
 "nbformat_minor": 5
}
