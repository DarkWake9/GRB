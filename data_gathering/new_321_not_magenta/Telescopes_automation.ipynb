{
 "cells": [
  {
   "cell_type": "code",
   "execution_count": 1,
   "id": "7cc14127",
   "metadata": {},
   "outputs": [],
   "source": [
    "import numpy as np\n",
    "import pandas as pd\n",
    "import requests\n",
    "from bs4 import BeautifulSoup\n",
    "import timeit\n",
    "import urllib.request  \n",
    "import glob\n",
    "import os\n",
    "import shutil"
   ]
  },
  {
   "cell_type": "code",
   "execution_count": 2,
   "id": "69e5d79a",
   "metadata": {
    "scrolled": true
   },
   "outputs": [
    {
     "data": {
      "text/html": [
       "<div>\n",
       "<style scoped>\n",
       "    .dataframe tbody tr th:only-of-type {\n",
       "        vertical-align: middle;\n",
       "    }\n",
       "\n",
       "    .dataframe tbody tr th {\n",
       "        vertical-align: top;\n",
       "    }\n",
       "\n",
       "    .dataframe thead th {\n",
       "        text-align: right;\n",
       "    }\n",
       "</style>\n",
       "<table border=\"1\" class=\"dataframe\">\n",
       "  <thead>\n",
       "    <tr style=\"text-align: right;\">\n",
       "      <th></th>\n",
       "      <th>GRB</th>\n",
       "      <th>GCN</th>\n",
       "      <th>Telescope</th>\n",
       "    </tr>\n",
       "  </thead>\n",
       "  <tbody>\n",
       "    <tr>\n",
       "      <th>0</th>\n",
       "      <td>000131</td>\n",
       "      <td>1133</td>\n",
       "      <td>HST-WFPC</td>\n",
       "    </tr>\n",
       "    <tr>\n",
       "      <th>1</th>\n",
       "      <td>000131</td>\n",
       "      <td>537</td>\n",
       "      <td>2.34m,1.02m-vainu-bappu</td>\n",
       "    </tr>\n",
       "    <tr>\n",
       "      <th>2</th>\n",
       "      <td>000131</td>\n",
       "      <td>26700</td>\n",
       "      <td>Swift/UVOT</td>\n",
       "    </tr>\n",
       "    <tr>\n",
       "      <th>3</th>\n",
       "      <td>000131</td>\n",
       "      <td>534</td>\n",
       "      <td>8.2m-ANTU</td>\n",
       "    </tr>\n",
       "    <tr>\n",
       "      <th>4</th>\n",
       "      <td>000301</td>\n",
       "      <td>597</td>\n",
       "      <td>Guillermo-Haro-2.1m</td>\n",
       "    </tr>\n",
       "    <tr>\n",
       "      <th>...</th>\n",
       "      <td>...</td>\n",
       "      <td>...</td>\n",
       "      <td>...</td>\n",
       "    </tr>\n",
       "    <tr>\n",
       "      <th>4846</th>\n",
       "      <td>991216</td>\n",
       "      <td>468</td>\n",
       "      <td>CTIO/Schmidt,CTIO/yale-1m</td>\n",
       "    </tr>\n",
       "    <tr>\n",
       "      <th>4847</th>\n",
       "      <td>991216</td>\n",
       "      <td>466</td>\n",
       "      <td>1.8m-perkins</td>\n",
       "    </tr>\n",
       "    <tr>\n",
       "      <th>4848</th>\n",
       "      <td>991216</td>\n",
       "      <td>465</td>\n",
       "      <td>BAO-60/90cm-Schmidt</td>\n",
       "    </tr>\n",
       "    <tr>\n",
       "      <th>4849</th>\n",
       "      <td>991216</td>\n",
       "      <td>487</td>\n",
       "      <td>lowell/1.8m-perkins</td>\n",
       "    </tr>\n",
       "    <tr>\n",
       "      <th>4850</th>\n",
       "      <td>991216</td>\n",
       "      <td>518</td>\n",
       "      <td>USNOFS-1.0m,usno-ircam-1.55m</td>\n",
       "    </tr>\n",
       "  </tbody>\n",
       "</table>\n",
       "<p>4851 rows × 3 columns</p>\n",
       "</div>"
      ],
      "text/plain": [
       "         GRB    GCN                     Telescope\n",
       "0     000131   1133                      HST-WFPC\n",
       "1     000131    537       2.34m,1.02m-vainu-bappu\n",
       "2     000131  26700                    Swift/UVOT\n",
       "3     000131    534                     8.2m-ANTU\n",
       "4     000301    597           Guillermo-Haro-2.1m\n",
       "...      ...    ...                           ...\n",
       "4846  991216    468     CTIO/Schmidt,CTIO/yale-1m\n",
       "4847  991216    466                  1.8m-perkins\n",
       "4848  991216    465           BAO-60/90cm-Schmidt\n",
       "4849  991216    487           lowell/1.8m-perkins\n",
       "4850  991216    518  USNOFS-1.0m,usno-ircam-1.55m\n",
       "\n",
       "[4851 rows x 3 columns]"
      ]
     },
     "execution_count": 2,
     "metadata": {},
     "output_type": "execute_result"
    }
   ],
   "source": [
    "df_telescope = pd.read_csv(\"code/Telescope_info_GCNs.txt\", sep=\"\\t\")\n",
    "df_telescope['GRB'] = df_telescope['GRB'].astype('string')\n",
    "df_telescope['GCN'] = df_telescope['GCN'].astype('string')\n",
    "df_telescope"
   ]
  },
  {
   "cell_type": "code",
   "execution_count": 3,
   "id": "877038ec",
   "metadata": {},
   "outputs": [
    {
     "data": {
      "text/plain": [
       "'/media/darkwake/VIB2/GRB/data_gathering/new_321_not_magenta'"
      ]
     },
     "execution_count": 3,
     "metadata": {},
     "output_type": "execute_result"
    }
   ],
   "source": [
    "os.getcwd()"
   ]
  },
  {
   "cell_type": "code",
   "execution_count": 4,
   "id": "f1d523c7",
   "metadata": {},
   "outputs": [],
   "source": [
    "path = '/media/darkwake/VIB2/GRB/data_gathering/new_321_not_magenta'\n",
    "d1ir_list = os.listdir(path)\n",
    "filename = []\n",
    "dir2_list = []\n",
    "for i in d1ir_list:\n",
    "    if i.endswith('.txt') and i[0].isdigit():\n",
    "        filename.append(i)\n",
    "for i in d1ir_list:\n",
    "    if '_' in i and i[0].isdigit():\n",
    "        dir2_list.append(i)\n",
    "        filename.remove(i)\n",
    "#dir_list\n"
   ]
  },
  {
   "cell_type": "code",
   "execution_count": 5,
   "id": "a6928d28",
   "metadata": {},
   "outputs": [
    {
     "data": {
      "text/plain": [
       "['000911.txt',\n",
       " '050126.txt',\n",
       " '050215B.txt',\n",
       " '050502.txt',\n",
       " '050803.txt',\n",
       " '050814.txt',\n",
       " '050915A.txt',\n",
       " '050922B.txt',\n",
       " '051006.txt',\n",
       " '060111A.txt',\n",
       " '060115.txt',\n",
       " '060204B.txt',\n",
       " '060223.txt',\n",
       " '060319.txt',\n",
       " '060522.txt',\n",
       " '060604.txt',\n",
       " '060707.txt',\n",
       " '060719.txt',\n",
       " '060805A.txt',\n",
       " '060814A.txt',\n",
       " '061222A.txt',\n",
       " '061222B.txt',\n",
       " '070224.txt',\n",
       " '070419B.txt',\n",
       " '070506.txt',\n",
       " '071020.txt',\n",
       " '071021.txt',\n",
       " '071117.txt',\n",
       " '071227.txt',\n",
       " '080205.txt',\n",
       " '080325.txt',\n",
       " '080411.txt',\n",
       " '080514B.txt',\n",
       " '080520.txt',\n",
       " '080604.txt',\n",
       " '080707.txt',\n",
       " '080805.txt',\n",
       " '080825B.txt',\n",
       " '080905.txt',\n",
       " '080905B.txt',\n",
       " '080906.txt',\n",
       " '080916C.txt',\n",
       " '081028.txt',\n",
       " '081118.txt',\n",
       " '081121.txt',\n",
       " '081210.txt',\n",
       " '081221.txt',\n",
       " '081222.txt',\n",
       " '081230.txt',\n",
       " '090113.txt',\n",
       " '090205.txt',\n",
       " '090407.txt',\n",
       " '090418.txt',\n",
       " '090429B.txt',\n",
       " '090516.txt',\n",
       " '090519.txt',\n",
       " '090809.txt',\n",
       " '090814.txt',\n",
       " '090926B.txt',\n",
       " '091003.txt',\n",
       " '091109.txt',\n",
       " '091208B.txt',\n",
       " '100316A.txt',\n",
       " '100414A.txt',\n",
       " '100424A.txt',\n",
       " '100425A.txt',\n",
       " '100518A.txt',\n",
       " '100615A.txt',\n",
       " '100724A.txt',\n",
       " '100728A.txt',\n",
       " '100816A.txt',\n",
       " '100902A.txt',\n",
       " '110106B.txt',\n",
       " '110128A.txt',\n",
       " '110213B.txt',\n",
       " '110808A.txt',\n",
       " '110818A.txt',\n",
       " '111005A.txt',\n",
       " '111008A.txt',\n",
       " '111117A.txt',\n",
       " '100302A.txt',\n",
       " '090328.txt',\n",
       " '090715B.txt']"
      ]
     },
     "execution_count": 5,
     "metadata": {},
     "output_type": "execute_result"
    }
   ],
   "source": [
    "filename"
   ]
  },
  {
   "cell_type": "code",
   "execution_count": 6,
   "id": "51c5ce0e",
   "metadata": {},
   "outputs": [
    {
     "data": {
      "text/plain": [
       "['050319A_Zaninoni_mag.txt',\n",
       " '050401A_Zaninoni_mag.txt',\n",
       " '050408A_Zaninoni_mag.txt',\n",
       " '050416A_Zaninoni_mag.txt',\n",
       " '050502B_arXiv1011.0113_uniform.txt',\n",
       " '050525A_Zaninoni_mag.txt',\n",
       " '060505A_gcn_arXiv_mag_regatheredGowri_CHECKTHESOURCECOLUMN.txt',\n",
       " '060906A_Zaninoni_mag.txt',\n",
       " '060908A_Zaninoni_mag.txt',\n",
       " '060912A_Zaninoni_mag.txt',\n",
       " '071122_reverse_found_mags.txt',\n",
       " '080129_grond.txt',\n",
       " '080210_tarot.txt',\n",
       " '080319B_Zaninoni_mag.txt',\n",
       " '080413B_Zaninoni_mag.txt',\n",
       " '080430_Oates_obsframe_timefixed_reverse_found_mags.txt',\n",
       " '080721A_Zaninoni_mag.txt',\n",
       " '080804_reverse_found_mags.txt',\n",
       " '080916A_Oates_obsframe_timefixed_reverse_found_mags.txt',\n",
       " '090424A_Zaninoni_mag.txt',\n",
       " '090812_reverse_found_mags.txt',\n",
       " '090926A_Zaninoni_mag.txt',\n",
       " '100117A_arXiv1012.4009_uniform.txt',\n",
       " '100728B_reverse_found_mags.txt',\n",
       " '110918A_reverse_found_mags.txt',\n",
       " '060926_gcn.txt']"
      ]
     },
     "execution_count": 6,
     "metadata": {},
     "output_type": "execute_result"
    }
   ],
   "source": [
    "dir2_list"
   ]
  },
  {
   "cell_type": "markdown",
   "id": "1678457e",
   "metadata": {},
   "source": [
    "df = pd.read_csv('111129A.txt',sep='\\s+')\n",
    "if (\"Telescope\" not in df):\n",
    "        df.insert(loc=4, column='Telescope', value='none')\n"
   ]
  },
  {
   "cell_type": "markdown",
   "id": "27b7ce71",
   "metadata": {},
   "source": [
    "grb='111129A.txt'.split('.')[0]"
   ]
  },
  {
   "cell_type": "markdown",
   "id": "2aa7d224",
   "metadata": {},
   "source": [
    "grb"
   ]
  },
  {
   "cell_type": "code",
   "execution_count": null,
   "id": "b699d87d",
   "metadata": {},
   "outputs": [],
   "source": []
  },
  {
   "cell_type": "code",
   "execution_count": null,
   "id": "bf190caa",
   "metadata": {},
   "outputs": [],
   "source": []
  },
  {
   "cell_type": "markdown",
   "id": "3d2e103e",
   "metadata": {},
   "source": [
    "import os\n",
    "#path2 = '\\\\Users\\\\gowrigovindaraj\\\\Downloads\\\\new_321_not_magenta 2\\\\Modified\\\\'"
   ]
  },
  {
   "cell_type": "code",
   "execution_count": 8,
   "id": "5f18101f",
   "metadata": {
    "scrolled": true
   },
   "outputs": [
    {
     "name": "stdout",
     "output_type": "stream",
     "text": [
      "000911.txt added telescope\n",
      "050126.txt added telescope\n",
      "050215B.txt added telescope\n",
      "050502.txt added telescope\n",
      "050803.txt added telescope\n",
      "050814.txt added telescope\n",
      "050915A.txt added telescope\n",
      "050922B.txt added telescope\n",
      "051006.txt added telescope\n",
      "060111A.txt added telescope\n",
      "060115.txt added telescope\n",
      "060204B.txt added telescope\n",
      "060223.txt added telescope\n",
      "060319.txt added telescope\n",
      "060522.txt added telescope\n",
      "060604.txt added telescope\n",
      "060707.txt added telescope\n",
      "060719.txt added telescope\n",
      "060805A.txt added telescope\n",
      "060814A.txt added telescope\n",
      "061222A.txt added telescope\n",
      "061222B.txt added telescope\n",
      "070224.txt added telescope\n",
      "070419B.txt added telescope\n",
      "070506.txt added telescope\n",
      "071021.txt added telescope\n",
      "071117.txt added telescope\n",
      "080205.txt added telescope\n",
      "080325.txt added telescope\n",
      "080411.txt added telescope\n",
      "080520.txt added telescope\n",
      "080604.txt added telescope\n",
      "080805.txt added telescope\n",
      "080825B.txt added telescope\n",
      "080905.txt added telescope\n",
      "080905B.txt added telescope\n",
      "080906.txt added telescope\n",
      "080916C.txt added telescope\n",
      "081028.txt added telescope\n",
      "081118.txt added telescope\n",
      "081121.txt added telescope\n",
      "081210.txt added telescope\n",
      "081221.txt added telescope\n",
      "081222.txt added telescope\n",
      "081230.txt added telescope\n",
      "090113.txt added telescope\n",
      "090407.txt added telescope\n",
      "090418.txt added telescope\n",
      "090429B.txt added telescope\n",
      "090516.txt added telescope\n",
      "090519.txt added telescope\n",
      "090809.txt added telescope\n",
      "090814.txt has error in source\n",
      "090926B.txt added telescope\n",
      "091003.txt added telescope\n",
      "091109.txt added telescope\n",
      "091208B.txt added telescope\n",
      "100316A.txt added telescope\n",
      "100414A.txt added telescope\n",
      "100424A.txt added telescope\n",
      "100425A.txt added telescope\n",
      "100518A.txt added telescope\n",
      "100615A.txt added telescope\n",
      "100724A.txt added telescope\n",
      "100728A.txt added telescope\n",
      "100816A.txt added telescope\n",
      "100902A.txt added telescope\n",
      "110106B.txt added telescope\n",
      "110128A.txt added telescope\n",
      "110213B.txt added telescope\n",
      "110808A.txt added telescope\n",
      "110818A.txt added telescope\n",
      "111005A.txt added telescope\n",
      "111008A.txt added telescope\n",
      "111117A.txt added telescope\n",
      "100302A.txt added telescope\n",
      "090328.txt added telescope\n",
      "090715B.txt added telescope\n"
     ]
    }
   ],
   "source": [
    "no_source = []\n",
    "for file in filename:\n",
    "    grb=file.split('.')[0]\n",
    "    if grb[0]=='0':\n",
    "        grb = grb.replace('A','',1)\n",
    "    df=pd.read_csv(file,sep='\\s+')\n",
    "    if (\"Telescope\" not in df):\n",
    "        df.insert(loc=4, column='Telescope', value='none')\n",
    "    if 'Source' in df:\n",
    "        try:\n",
    "            df['Source'] = df['Source'].astype('string')\n",
    "            df['Telescope'] = df['Telescope'].astype('string')\n",
    "            df_grb=pd.DataFrame()\n",
    "            for j in range(len(df_telescope)):\n",
    "                if df_telescope['GRB'][j]==grb:\n",
    "                    df_grb=df_telescope[df_telescope.GRB.isin([grb])]\n",
    "            index=np.array(df_grb.index)\n",
    "            for i in range(len(df)):\n",
    "                for j in index:\n",
    "                    if df['Source'][i]==df_grb['GCN'][j]:\n",
    "                        df['Telescope'][i]=df_grb['Telescope'][j]\n",
    "            print(file + ' added telescope')\n",
    "            df.to_csv('modified/new'+file, sep='\\t',index=False)\n",
    "        except TypeError:\n",
    "            no_source.append(file)\n",
    "            print(file + ' has error in source')    \n",
    "    else:\n",
    "        no_source.append(file)\n",
    "    "
   ]
  },
  {
   "cell_type": "code",
   "execution_count": 23,
   "id": "e0c8d115",
   "metadata": {},
   "outputs": [
    {
     "data": {
      "text/plain": [
       "['071020.txt',\n",
       " '071227.txt',\n",
       " '080514B.txt',\n",
       " '080707.txt',\n",
       " '090205.txt',\n",
       " '090814.txt']"
      ]
     },
     "execution_count": 23,
     "metadata": {},
     "output_type": "execute_result"
    }
   ],
   "source": [
    "no_source"
   ]
  },
  {
   "cell_type": "code",
   "execution_count": 15,
   "id": "27940ed0",
   "metadata": {},
   "outputs": [
    {
     "name": "stdout",
     "output_type": "stream",
     "text": [
      "050319A_Zaninoni_mag.txt added telescope\n",
      "050401A_Zaninoni_mag.txt added telescope\n",
      "050408A_Zaninoni_mag.txt added telescope\n",
      "050416A_Zaninoni_mag.txt added telescope\n",
      "050525A_Zaninoni_mag.txt added telescope\n",
      "060906A_Zaninoni_mag.txt added telescope\n",
      "060908A_Zaninoni_mag.txt added telescope\n",
      "060912A_Zaninoni_mag.txt added telescope\n"
     ]
    },
    {
     "ename": "IndexError",
     "evalue": "index 4 is out of bounds for axis 0 with size 3",
     "output_type": "error",
     "traceback": [
      "\u001b[0;31m---------------------------------------------------------------------------\u001b[0m",
      "\u001b[0;31mIndexError\u001b[0m                                Traceback (most recent call last)",
      "\u001b[0;32m/tmp/ipykernel_5169/4189675042.py\u001b[0m in \u001b[0;36m<module>\u001b[0;34m\u001b[0m\n\u001b[1;32m      6\u001b[0m     \u001b[0mdf\u001b[0m\u001b[0;34m=\u001b[0m\u001b[0mpd\u001b[0m\u001b[0;34m.\u001b[0m\u001b[0mread_csv\u001b[0m\u001b[0;34m(\u001b[0m\u001b[0mfile\u001b[0m\u001b[0;34m,\u001b[0m\u001b[0msep\u001b[0m\u001b[0;34m=\u001b[0m\u001b[0;34m'\\s+'\u001b[0m\u001b[0;34m)\u001b[0m\u001b[0;34m\u001b[0m\u001b[0;34m\u001b[0m\u001b[0m\n\u001b[1;32m      7\u001b[0m     \u001b[0;32mif\u001b[0m \u001b[0;34m(\u001b[0m\u001b[0;34m\"Telescope\"\u001b[0m \u001b[0;32mnot\u001b[0m \u001b[0;32min\u001b[0m \u001b[0mdf\u001b[0m\u001b[0;34m)\u001b[0m\u001b[0;34m:\u001b[0m\u001b[0;34m\u001b[0m\u001b[0;34m\u001b[0m\u001b[0m\n\u001b[0;32m----> 8\u001b[0;31m         \u001b[0mdf\u001b[0m\u001b[0;34m.\u001b[0m\u001b[0minsert\u001b[0m\u001b[0;34m(\u001b[0m\u001b[0mloc\u001b[0m\u001b[0;34m=\u001b[0m\u001b[0;36m4\u001b[0m\u001b[0;34m,\u001b[0m \u001b[0mcolumn\u001b[0m\u001b[0;34m=\u001b[0m\u001b[0;34m'Telescope'\u001b[0m\u001b[0;34m,\u001b[0m \u001b[0mvalue\u001b[0m\u001b[0;34m=\u001b[0m\u001b[0;34m'none'\u001b[0m\u001b[0;34m)\u001b[0m\u001b[0;34m\u001b[0m\u001b[0;34m\u001b[0m\u001b[0m\n\u001b[0m\u001b[1;32m      9\u001b[0m     \u001b[0;32mif\u001b[0m \u001b[0;34m'Source'\u001b[0m \u001b[0;32min\u001b[0m \u001b[0mdf\u001b[0m\u001b[0;34m:\u001b[0m\u001b[0;34m\u001b[0m\u001b[0;34m\u001b[0m\u001b[0m\n\u001b[1;32m     10\u001b[0m         \u001b[0;32mtry\u001b[0m\u001b[0;34m:\u001b[0m\u001b[0;34m\u001b[0m\u001b[0;34m\u001b[0m\u001b[0m\n",
      "\u001b[0;32m~/.local/lib/python3.10/site-packages/pandas/core/frame.py\u001b[0m in \u001b[0;36minsert\u001b[0;34m(self, loc, column, value, allow_duplicates)\u001b[0m\n\u001b[1;32m   4446\u001b[0m \u001b[0;34m\u001b[0m\u001b[0m\n\u001b[1;32m   4447\u001b[0m         \u001b[0mvalue\u001b[0m \u001b[0;34m=\u001b[0m \u001b[0mself\u001b[0m\u001b[0;34m.\u001b[0m\u001b[0m_sanitize_column\u001b[0m\u001b[0;34m(\u001b[0m\u001b[0mvalue\u001b[0m\u001b[0;34m)\u001b[0m\u001b[0;34m\u001b[0m\u001b[0;34m\u001b[0m\u001b[0m\n\u001b[0;32m-> 4448\u001b[0;31m         \u001b[0mself\u001b[0m\u001b[0;34m.\u001b[0m\u001b[0m_mgr\u001b[0m\u001b[0;34m.\u001b[0m\u001b[0minsert\u001b[0m\u001b[0;34m(\u001b[0m\u001b[0mloc\u001b[0m\u001b[0;34m,\u001b[0m \u001b[0mcolumn\u001b[0m\u001b[0;34m,\u001b[0m \u001b[0mvalue\u001b[0m\u001b[0;34m)\u001b[0m\u001b[0;34m\u001b[0m\u001b[0;34m\u001b[0m\u001b[0m\n\u001b[0m\u001b[1;32m   4449\u001b[0m \u001b[0;34m\u001b[0m\u001b[0m\n\u001b[1;32m   4450\u001b[0m     \u001b[0;32mdef\u001b[0m \u001b[0massign\u001b[0m\u001b[0;34m(\u001b[0m\u001b[0mself\u001b[0m\u001b[0;34m,\u001b[0m \u001b[0;34m**\u001b[0m\u001b[0mkwargs\u001b[0m\u001b[0;34m)\u001b[0m \u001b[0;34m->\u001b[0m \u001b[0mDataFrame\u001b[0m\u001b[0;34m:\u001b[0m\u001b[0;34m\u001b[0m\u001b[0;34m\u001b[0m\u001b[0m\n",
      "\u001b[0;32m~/.local/lib/python3.10/site-packages/pandas/core/internals/managers.py\u001b[0m in \u001b[0;36minsert\u001b[0;34m(self, loc, item, value)\u001b[0m\n\u001b[1;32m   1238\u001b[0m         \"\"\"\n\u001b[1;32m   1239\u001b[0m         \u001b[0;31m# insert to the axis; this could possibly raise a TypeError\u001b[0m\u001b[0;34m\u001b[0m\u001b[0;34m\u001b[0m\u001b[0m\n\u001b[0;32m-> 1240\u001b[0;31m         \u001b[0mnew_axis\u001b[0m \u001b[0;34m=\u001b[0m \u001b[0mself\u001b[0m\u001b[0;34m.\u001b[0m\u001b[0mitems\u001b[0m\u001b[0;34m.\u001b[0m\u001b[0minsert\u001b[0m\u001b[0;34m(\u001b[0m\u001b[0mloc\u001b[0m\u001b[0;34m,\u001b[0m \u001b[0mitem\u001b[0m\u001b[0;34m)\u001b[0m\u001b[0;34m\u001b[0m\u001b[0;34m\u001b[0m\u001b[0m\n\u001b[0m\u001b[1;32m   1241\u001b[0m \u001b[0;34m\u001b[0m\u001b[0m\n\u001b[1;32m   1242\u001b[0m         \u001b[0;32mif\u001b[0m \u001b[0mvalue\u001b[0m\u001b[0;34m.\u001b[0m\u001b[0mndim\u001b[0m \u001b[0;34m==\u001b[0m \u001b[0;36m2\u001b[0m\u001b[0;34m:\u001b[0m\u001b[0;34m\u001b[0m\u001b[0;34m\u001b[0m\u001b[0m\n",
      "\u001b[0;32m~/.local/lib/python3.10/site-packages/pandas/core/indexes/base.py\u001b[0m in \u001b[0;36minsert\u001b[0;34m(self, loc, item)\u001b[0m\n\u001b[1;32m   6614\u001b[0m             \u001b[0;31m# special-casing dt64/td64 https://github.com/numpy/numpy/issues/12550\u001b[0m\u001b[0;34m\u001b[0m\u001b[0;34m\u001b[0m\u001b[0m\n\u001b[1;32m   6615\u001b[0m             \u001b[0mcasted\u001b[0m \u001b[0;34m=\u001b[0m \u001b[0marr\u001b[0m\u001b[0;34m.\u001b[0m\u001b[0mdtype\u001b[0m\u001b[0;34m.\u001b[0m\u001b[0mtype\u001b[0m\u001b[0;34m(\u001b[0m\u001b[0mitem\u001b[0m\u001b[0;34m)\u001b[0m\u001b[0;34m\u001b[0m\u001b[0;34m\u001b[0m\u001b[0m\n\u001b[0;32m-> 6616\u001b[0;31m             \u001b[0mnew_values\u001b[0m \u001b[0;34m=\u001b[0m \u001b[0mnp\u001b[0m\u001b[0;34m.\u001b[0m\u001b[0minsert\u001b[0m\u001b[0;34m(\u001b[0m\u001b[0marr\u001b[0m\u001b[0;34m,\u001b[0m \u001b[0mloc\u001b[0m\u001b[0;34m,\u001b[0m \u001b[0mcasted\u001b[0m\u001b[0;34m)\u001b[0m\u001b[0;34m\u001b[0m\u001b[0;34m\u001b[0m\u001b[0m\n\u001b[0m\u001b[1;32m   6617\u001b[0m \u001b[0;34m\u001b[0m\u001b[0m\n\u001b[1;32m   6618\u001b[0m         \u001b[0;32melse\u001b[0m\u001b[0;34m:\u001b[0m\u001b[0;34m\u001b[0m\u001b[0;34m\u001b[0m\u001b[0m\n",
      "\u001b[0;32m~/.local/lib/python3.10/site-packages/numpy/core/overrides.py\u001b[0m in \u001b[0;36minsert\u001b[0;34m(*args, **kwargs)\u001b[0m\n",
      "\u001b[0;32m~/.local/lib/python3.10/site-packages/numpy/lib/function_base.py\u001b[0m in \u001b[0;36minsert\u001b[0;34m(arr, obj, values, axis)\u001b[0m\n\u001b[1;32m   5330\u001b[0m         \u001b[0mindex\u001b[0m \u001b[0;34m=\u001b[0m \u001b[0mindices\u001b[0m\u001b[0;34m.\u001b[0m\u001b[0mitem\u001b[0m\u001b[0;34m(\u001b[0m\u001b[0;34m)\u001b[0m\u001b[0;34m\u001b[0m\u001b[0;34m\u001b[0m\u001b[0m\n\u001b[1;32m   5331\u001b[0m         \u001b[0;32mif\u001b[0m \u001b[0mindex\u001b[0m \u001b[0;34m<\u001b[0m \u001b[0;34m-\u001b[0m\u001b[0mN\u001b[0m \u001b[0;32mor\u001b[0m \u001b[0mindex\u001b[0m \u001b[0;34m>\u001b[0m \u001b[0mN\u001b[0m\u001b[0;34m:\u001b[0m\u001b[0;34m\u001b[0m\u001b[0;34m\u001b[0m\u001b[0m\n\u001b[0;32m-> 5332\u001b[0;31m             raise IndexError(f\"index {obj} is out of bounds for axis {axis} \"\n\u001b[0m\u001b[1;32m   5333\u001b[0m                              f\"with size {N}\")\n\u001b[1;32m   5334\u001b[0m         \u001b[0;32mif\u001b[0m \u001b[0;34m(\u001b[0m\u001b[0mindex\u001b[0m \u001b[0;34m<\u001b[0m \u001b[0;36m0\u001b[0m\u001b[0;34m)\u001b[0m\u001b[0;34m:\u001b[0m\u001b[0;34m\u001b[0m\u001b[0;34m\u001b[0m\u001b[0m\n",
      "\u001b[0;31mIndexError\u001b[0m: index 4 is out of bounds for axis 0 with size 3"
     ]
    }
   ],
   "source": [
    "no_source2 = []\n",
    "for file in dir2_list:\n",
    "    grb=file.split('_')[0]\n",
    "    if grb[0]=='0':\n",
    "        grb = grb.replace('A','',1)\n",
    "    df=pd.read_csv(file,sep='\\s+')\n",
    "    if (\"Telescope\" not in df):\n",
    "        df.insert(loc=4, column='Telescope', value='none')\n",
    "    if 'Source' in df:\n",
    "        try:\n",
    "            df['Source'] = df['Source'].astype('string')\n",
    "            df['Telescope'] = df['Telescope'].astype('string')\n",
    "            df_grb=pd.DataFrame()\n",
    "            for j in range(len(df_telescope)):\n",
    "                if df_telescope['GRB'][j]==grb:\n",
    "                    df_grb=df_telescope[df_telescope.GRB.isin([grb])]\n",
    "            index=np.array(df_grb.index)\n",
    "            for i in range(len(df)):\n",
    "                for j in index:\n",
    "                    if df['Source'][i]==df_grb['GCN'][j]:\n",
    "                        df['Telescope'][i]=df_grb['Telescope'][j]\n",
    "            print(file + ' added telescope')\n",
    "            df.to_csv('modified/new'+file, sep='\\t',index=False)\n",
    "        except TypeError:\n",
    "            no_source.append(file)\n",
    "            print(file + ' has error in source')    \n",
    "        except IndexError:\n",
    "            no_source.append(file)\n",
    "            print(file + ' is erroneous')    \n",
    "    else:\n",
    "        no_source2.append(file)"
   ]
  },
  {
   "cell_type": "code",
   "execution_count": 12,
   "id": "6f6952b2",
   "metadata": {},
   "outputs": [
    {
     "data": {
      "text/plain": [
       "'080129_grond.txt'"
      ]
     },
     "execution_count": 12,
     "metadata": {},
     "output_type": "execute_result"
    }
   ],
   "source": [
    "file"
   ]
  },
  {
   "cell_type": "code",
   "execution_count": null,
   "id": "fc89502d",
   "metadata": {},
   "outputs": [],
   "source": []
  }
 ],
 "metadata": {
  "kernelspec": {
   "display_name": "Python 3.8.9 64-bit",
   "language": "python",
   "name": "python3"
  },
  "language_info": {
   "codemirror_mode": {
    "name": "ipython",
    "version": 3
   },
   "file_extension": ".py",
   "mimetype": "text/x-python",
   "name": "python",
   "nbconvert_exporter": "python",
   "pygments_lexer": "ipython3",
   "version": "3.10.4"
  },
  "vscode": {
   "interpreter": {
    "hash": "31f2aee4e71d21fbe5cf8b01ff0e069b9275f58929596ceb00d14d90e3e16cd6"
   }
  }
 },
 "nbformat": 4,
 "nbformat_minor": 5
}
