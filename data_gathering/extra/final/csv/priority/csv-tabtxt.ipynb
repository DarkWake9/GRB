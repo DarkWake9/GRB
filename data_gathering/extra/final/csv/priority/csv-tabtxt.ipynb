{
 "cells": [
  {
   "cell_type": "code",
   "execution_count": 1,
   "metadata": {},
   "outputs": [],
   "source": [
    "import pandas as pd"
   ]
  },
  {
   "cell_type": "code",
   "execution_count": 32,
   "metadata": {},
   "outputs": [],
   "source": [
    "d = pd.read_csv(inputPath+fn)"
   ]
  },
  {
   "cell_type": "code",
   "execution_count": 6,
   "metadata": {},
   "outputs": [
    {
     "name": "stdout",
     "output_type": "stream",
     "text": [
      "Converting CSV to tab-delimited file...\n",
      "Conversion complete.\n"
     ]
    }
   ],
   "source": [
    "import csv\n",
    "import sys\n",
    "import os\n",
    "\n",
    "# Convert comma-delimited CSV files to pipe-delimited files\n",
    "# Usage: Drag-and-drop CSV file over script to convert it.\n",
    "fn = \"050318A_mag_reg-bh_new_format_vib.csv\"\n",
    "#inputPath = sys.argv[1]\n",
    "#inputPath = \"138-143/\"\n",
    "inputPath=\"\"\n",
    "#outputPath = os.path.dirname(inputPath) + \"/\"+\"completed/\"+fn.replace(\".csv\",\".txt\")\n",
    "outputPath = os.path.dirname(inputPath) +\"completed/\"+fn.replace(\".csv\",\".txt\")\n",
    "# https://stackoverflow.com/a/52410395/3357935\n",
    "print(\"Converting CSV to tab-delimited file...\")\n",
    "with open(inputPath+fn) as inputFile:\n",
    "\t# newline='' prevents extra newlines when using Python 3 on Windows\n",
    "\t# https://stackoverflow.com/a/3348664/3357935\n",
    "\twith open(outputPath, 'w', newline='') as outputFile:\n",
    "\t\treader = csv.DictReader(inputFile, delimiter=',')\n",
    "\t\twriter = csv.DictWriter(outputFile, reader.fieldnames, delimiter='\\t')\n",
    "\t\twriter.writeheader()\n",
    "\t\twriter.writerows(reader)\n",
    "print(\"Conversion complete.\")"
   ]
  },
  {
   "cell_type": "code",
   "execution_count": null,
   "metadata": {},
   "outputs": [],
   "source": []
  },
  {
   "cell_type": "code",
   "execution_count": null,
   "metadata": {},
   "outputs": [],
   "source": []
  }
 ],
 "metadata": {
  "kernelspec": {
   "display_name": "Python 3.10.4 64-bit",
   "language": "python",
   "name": "python3"
  },
  "language_info": {
   "codemirror_mode": {
    "name": "ipython",
    "version": 3
   },
   "file_extension": ".py",
   "mimetype": "text/x-python",
   "name": "python",
   "nbconvert_exporter": "python",
   "pygments_lexer": "ipython3",
   "version": "3.10.4"
  },
  "orig_nbformat": 4,
  "vscode": {
   "interpreter": {
    "hash": "916dbcbb3f70747c44a77c7bcd40155683ae19c65e1c03b4aa3499c5328201f1"
   }
  }
 },
 "nbformat": 4,
 "nbformat_minor": 2
}
