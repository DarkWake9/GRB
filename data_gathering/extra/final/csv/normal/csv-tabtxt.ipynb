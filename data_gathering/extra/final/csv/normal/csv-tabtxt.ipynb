{
 "cells": [
  {
   "cell_type": "code",
   "execution_count": 2,
   "metadata": {},
   "outputs": [],
   "source": [
    "import pandas as pd"
   ]
  },
  {
   "cell_type": "code",
   "execution_count": 20,
   "metadata": {},
   "outputs": [],
   "source": [
    "import csv\n",
    "import sys\n",
    "import os\n",
    "# Convert comma-delimited CSV files to pipe-delimited files\n",
    "# Usage: Drag-and-drop CSV file over script to convert it.\n",
    "fn = \"050318A_mag_reg-bh_new_format_vib.csv\"\n",
    "fn = [\"010921A_mag_new_format_vib.csv\",\"020405A_mag_new_format_vib.csv\",\"061006A_mag_reg-bh_new_format_vib.csv\",\"061110B_mag_reg-bh_new_format_vib.csv\",\"061201A_mag_reg-bh_new_format_vib.csv\",\"070223A_mag_reg-bh_new_format_vib.csv\",\"070306A_mag_reg-bh_new_format_vib.csv\",\"070419B_mag_reg-bh_new_format_vib.csv\",\"070611A_mag_reg-bh_new_format_vib.csv\",\"070714B_mag_reg-bh_new_format_vib.csv\",\"070721B_mag_reg-bh_new_format_vib.csv\",\"070724_mag_reg-bh_new_format_vib.csv\"]\n",
    "fl = fn[0]\n",
    "#inputPath = sys.argv[1]\n",
    "#inputPath = \"138-143/\"\n",
    "inputPath=\"\"\n",
    "#outputPath = os.path.dirname(inputPath) + \"/\"+\"completed/\"+fn.replace(\"\",\".txt\")\n",
    "outputPath = os.path.dirname(inputPath) +\"completed/\"+fl.replace(\".csv\",\".txt\")\n",
    "# https://stackoverflow.com/a/52410395/3357935\n",
    "#def conv(inputPath,outputPath):\n",
    "def conv(inputPath, outputPath):\n",
    "\tprint(\"Converting CSV to tab-delimited file...\")\n",
    "\twith open(inputPath+fl) as inputFile:\n",
    "\t# newline='' prevents extra newlines when using Python 3 on Windows\n",
    "\t# https://stackoverflow.com/a/3348664/3357935\n",
    "\t\twith open(outputPath, 'w', newline='') as outputFile:\n",
    "\t\t\treader = csv.DictReader(inputFile, delimiter=',')\n",
    "\t\t\twriter = csv.DictWriter(outputFile, reader.fieldnames, delimiter='\\t')\n",
    "\t\t\twriter.writeheader()\n",
    "\t\t\twriter.writerows(reader)\n",
    "\tprint(\"Conversion complete.\")"
   ]
  },
  {
   "cell_type": "code",
   "execution_count": 21,
   "metadata": {},
   "outputs": [
    {
     "name": "stdout",
     "output_type": "stream",
     "text": [
      "Converting CSV to tab-delimited file...\n",
      "Conversion complete.\n",
      "Converting CSV to tab-delimited file...\n",
      "Conversion complete.\n",
      "Converting CSV to tab-delimited file...\n",
      "Conversion complete.\n",
      "Converting CSV to tab-delimited file...\n",
      "Conversion complete.\n",
      "Converting CSV to tab-delimited file...\n",
      "Conversion complete.\n",
      "Converting CSV to tab-delimited file...\n",
      "Conversion complete.\n",
      "Converting CSV to tab-delimited file...\n",
      "Conversion complete.\n",
      "Converting CSV to tab-delimited file...\n",
      "Conversion complete.\n",
      "Converting CSV to tab-delimited file...\n",
      "Conversion complete.\n",
      "Converting CSV to tab-delimited file...\n",
      "Conversion complete.\n",
      "Converting CSV to tab-delimited file...\n",
      "Conversion complete.\n",
      "Converting CSV to tab-delimited file...\n",
      "Conversion complete.\n"
     ]
    }
   ],
   "source": [
    "for fl in fn:\n",
    "    outputPath = os.path.dirname(inputPath) +\"completed/\"+fl.replace(\".csv\",\".txt\")\n",
    "    conv(inputPath,outputPath)\n"
   ]
  },
  {
   "cell_type": "code",
   "execution_count": 23,
   "metadata": {},
   "outputs": [],
   "source": [
    "doubtful_fn = [\"020903A_mag_new_format_vib.csv\",\"061110A_mag_reg-bh_new_format_vib.csv\",\"070521A_mag_reg-bh_new_format_vib.csv\",\"070529A_mag_reg-bh_new_format_vib.csv\",\"070802A_mag_reg-bh_new_format_vib.csv\"]"
   ]
  },
  {
   "cell_type": "code",
   "execution_count": 24,
   "metadata": {},
   "outputs": [
    {
     "name": "stdout",
     "output_type": "stream",
     "text": [
      "Converting CSV to tab-delimited file...\n",
      "Conversion complete.\n",
      "Converting CSV to tab-delimited file...\n",
      "Conversion complete.\n",
      "Converting CSV to tab-delimited file...\n",
      "Conversion complete.\n",
      "Converting CSV to tab-delimited file...\n",
      "Conversion complete.\n",
      "Converting CSV to tab-delimited file...\n",
      "Conversion complete.\n"
     ]
    }
   ],
   "source": [
    "for fl in doubtful_fn:\n",
    "    outputPath = os.path.dirname(inputPath) +\"completed/\"+fl.replace(\".csv\",\".txt\")\n",
    "    conv(inputPath,outputPath)"
   ]
  },
  {
   "cell_type": "code",
   "execution_count": null,
   "metadata": {},
   "outputs": [],
   "source": []
  }
 ],
 "metadata": {
  "kernelspec": {
   "display_name": "Python 3.10.4 64-bit",
   "language": "python",
   "name": "python3"
  },
  "language_info": {
   "codemirror_mode": {
    "name": "ipython",
    "version": 3
   },
   "file_extension": ".py",
   "mimetype": "text/x-python",
   "name": "python",
   "nbconvert_exporter": "python",
   "pygments_lexer": "ipython3",
   "version": "3.10.4"
  },
  "orig_nbformat": 4,
  "vscode": {
   "interpreter": {
    "hash": "916dbcbb3f70747c44a77c7bcd40155683ae19c65e1c03b4aa3499c5328201f1"
   }
  }
 },
 "nbformat": 4,
 "nbformat_minor": 2
}
