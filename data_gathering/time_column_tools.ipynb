{
 "cells": [
  {
   "cell_type": "code",
   "execution_count": 1,
   "id": "61c47440",
   "metadata": {},
   "outputs": [],
   "source": [
    "import astropy\n",
    "from astropy import units as u\n",
    "from astropy.time import Time"
   ]
  },
  {
   "cell_type": "code",
   "execution_count": 55,
   "id": "70fdce1e",
   "metadata": {},
   "outputs": [
    {
     "data": {
      "text/plain": [
       "12888.0"
      ]
     },
     "execution_count": 55,
     "metadata": {},
     "output_type": "execute_result"
    }
   ],
   "source": [
    "u.h.to(u.s,3.58) #converts hours to seconds"
   ]
  },
  {
   "cell_type": "code",
   "execution_count": null,
   "id": "de796bd9",
   "metadata": {},
   "outputs": [],
   "source": [
    "3:34:48"
   ]
  },
  {
   "cell_type": "code",
   "execution_count": 3,
   "id": "1a1fa1bb",
   "metadata": {
    "scrolled": true
   },
   "outputs": [
    {
     "data": {
      "text/plain": [
       "786.0"
      ]
     },
     "execution_count": 3,
     "metadata": {},
     "output_type": "execute_result"
    }
   ],
   "source": [
    "u.min.to(u.s, 13.1) #converts minutes to seconds"
   ]
  },
  {
   "cell_type": "code",
   "execution_count": 24,
   "id": "05d941d7",
   "metadata": {},
   "outputs": [
    {
     "data": {
      "text/plain": [
       "92190.0"
      ]
     },
     "execution_count": 24,
     "metadata": {},
     "output_type": "execute_result"
    }
   ],
   "source": [
    "91440.0+750.0"
   ]
  },
  {
   "cell_type": "code",
   "execution_count": 61,
   "id": "3f672e3e",
   "metadata": {},
   "outputs": [
    {
     "data": {
      "text/plain": [
       "32918400.0"
      ]
     },
     "execution_count": 61,
     "metadata": {},
     "output_type": "execute_result"
    }
   ],
   "source": [
    "x = 365 + 31+8\n",
    "u.day.to(u.s, x-23) #converts days to seconds"
   ]
  },
  {
   "cell_type": "code",
   "execution_count": 64,
   "id": "19d3f9f4",
   "metadata": {},
   "outputs": [
    {
     "data": {
      "text/plain": [
       "20299.968"
      ]
     },
     "execution_count": 64,
     "metadata": {},
     "output_type": "execute_result"
    }
   ],
   "source": [
    "17419.968+5760/2"
   ]
  },
  {
   "cell_type": "code",
   "execution_count": 5,
   "id": "46cb3ada",
   "metadata": {},
   "outputs": [],
   "source": [
    "def midt(tstart,tstop):\n",
    "    frac = (tstop - tstart)/2\n",
    "    midt = tstart + frac\n",
    "    return midt"
   ]
  },
  {
   "cell_type": "code",
   "execution_count": 54,
   "id": "4288d025",
   "metadata": {},
   "outputs": [
    {
     "data": {
      "text/plain": [
       "13065.0"
      ]
     },
     "execution_count": 54,
     "metadata": {},
     "output_type": "execute_result"
    }
   ],
   "source": [
    "midt(7484,18646)"
   ]
  },
  {
   "cell_type": "code",
   "execution_count": 28,
   "id": "1f9822ba",
   "metadata": {},
   "outputs": [
    {
     "data": {
      "text/plain": [
       "169344.0"
      ]
     },
     "execution_count": 28,
     "metadata": {},
     "output_type": "execute_result"
    }
   ],
   "source": [
    "1.96*86400"
   ]
  },
  {
   "cell_type": "code",
   "execution_count": 2,
   "id": "ab01651b",
   "metadata": {},
   "outputs": [
    {
     "data": {
      "text/plain": [
       "10800"
      ]
     },
     "execution_count": 2,
     "metadata": {},
     "output_type": "execute_result"
    }
   ],
   "source": [
    "3*3600"
   ]
  },
  {
   "cell_type": "code",
   "execution_count": 4,
   "id": "a3ac4e68",
   "metadata": {},
   "outputs": [
    {
     "data": {
      "text/plain": [
       "11580"
      ]
     },
     "execution_count": 4,
     "metadata": {},
     "output_type": "execute_result"
    }
   ],
   "source": [
    "13*60 + 10800"
   ]
  },
  {
   "cell_type": "code",
   "execution_count": 46,
   "id": "1355f00e",
   "metadata": {},
   "outputs": [
    {
     "data": {
      "text/plain": [
       "7377.5"
      ]
     },
     "execution_count": 46,
     "metadata": {},
     "output_type": "execute_result"
    }
   ],
   "source": [
    "7279 + (197/2)"
   ]
  },
  {
   "cell_type": "code",
   "execution_count": 7,
   "id": "9477c119",
   "metadata": {},
   "outputs": [
    {
     "name": "stdout",
     "output_type": "stream",
     "text": [
      "Start time: 03:22:34.280000\n",
      "End time: 23:59:59.990000\n",
      "Time difference is 74245.71 seconds\n",
      "Time difference is 74245710.0 milliseconds\n"
     ]
    }
   ],
   "source": [
    "from datetime import datetime\n",
    "\n",
    "# start time\n",
    "start_time = \"03:22:34.28\"\n",
    "end_time = \"23:59:59.99\"\n",
    "\n",
    "# convert time string to datetime\n",
    "t1 = datetime.strptime(start_time, \"%H:%M:%S.%f\")\n",
    "print('Start time:', t1.time())\n",
    "\n",
    "t2 = datetime.strptime(end_time, \"%H:%M:%S.%f\")\n",
    "print('End time:', t2.time())\n",
    "\n",
    "# get difference\n",
    "delta = t2 - t1\n",
    "\n",
    "# time difference in seconds\n",
    "print(f\"Time difference is {delta.total_seconds()} seconds\")\n",
    "\n",
    "# time difference in milliseconds\n",
    "ms = delta.total_seconds() * 1000\n",
    "print(f\"Time difference is {ms} milliseconds\")"
   ]
  },
  {
   "cell_type": "code",
   "execution_count": 57,
   "id": "798b0c0d",
   "metadata": {},
   "outputs": [
    {
     "data": {
      "text/plain": [
       "693596"
      ]
     },
     "execution_count": 57,
     "metadata": {},
     "output_type": "execute_result"
    }
   ],
   "source": [
    "t1.toordinal()"
   ]
  },
  {
   "cell_type": "code",
   "execution_count": 40,
   "id": "9c9c9a86",
   "metadata": {},
   "outputs": [
    {
     "data": {
      "text/plain": [
       "datetime.datetime(1900, 1, 1, 1, 12, 15)"
      ]
     },
     "execution_count": 40,
     "metadata": {},
     "output_type": "execute_result"
    }
   ],
   "source": [
    "t1"
   ]
  },
  {
   "cell_type": "code",
   "execution_count": 36,
   "id": "aea1d01a",
   "metadata": {},
   "outputs": [
    {
     "data": {
      "text/plain": [
       "89.0"
      ]
     },
     "execution_count": 36,
     "metadata": {},
     "output_type": "execute_result"
    }
   ],
   "source": [
    "84 + (10/2)"
   ]
  },
  {
   "cell_type": "code",
   "execution_count": null,
   "id": "d042b441",
   "metadata": {},
   "outputs": [],
   "source": [
    "84s"
   ]
  }
 ],
 "metadata": {
  "kernelspec": {
   "display_name": "Python 3.10.4 64-bit",
   "language": "python",
   "name": "python3"
  },
  "language_info": {
   "codemirror_mode": {
    "name": "ipython",
    "version": 3
   },
   "file_extension": ".py",
   "mimetype": "text/x-python",
   "name": "python",
   "nbconvert_exporter": "python",
   "pygments_lexer": "ipython3",
   "version": "3.10.4"
  },
  "vscode": {
   "interpreter": {
    "hash": "916dbcbb3f70747c44a77c7bcd40155683ae19c65e1c03b4aa3499c5328201f1"
   }
  }
 },
 "nbformat": 4,
 "nbformat_minor": 5
}
