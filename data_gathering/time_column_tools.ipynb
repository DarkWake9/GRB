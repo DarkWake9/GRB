{
 "cells": [
  {
   "cell_type": "code",
   "execution_count": 1,
   "id": "61c47440",
   "metadata": {},
   "outputs": [],
   "source": [
    "import astropy\n",
    "from astropy import units as u\n",
    "from astropy.time import Time"
   ]
  },
  {
   "cell_type": "code",
   "execution_count": 35,
   "id": "70fdce1e",
   "metadata": {},
   "outputs": [
    {
     "data": {
      "text/plain": [
       "10800.0"
      ]
     },
     "execution_count": 35,
     "metadata": {},
     "output_type": "execute_result"
    }
   ],
   "source": [
    "u.h.to(u.s,3) #converts hours to seconds"
   ]
  },
  {
   "cell_type": "code",
   "execution_count": 44,
   "id": "1a1fa1bb",
   "metadata": {
    "scrolled": true
   },
   "outputs": [
    {
     "data": {
      "text/plain": [
       "786.0"
      ]
     },
     "execution_count": 44,
     "metadata": {},
     "output_type": "execute_result"
    }
   ],
   "source": [
    "u.min.to(u.s, 13.1) #converts minutes to seconds"
   ]
  },
  {
   "cell_type": "code",
   "execution_count": 24,
   "id": "05d941d7",
   "metadata": {},
   "outputs": [
    {
     "data": {
      "text/plain": [
       "92190.0"
      ]
     },
     "execution_count": 24,
     "metadata": {},
     "output_type": "execute_result"
    }
   ],
   "source": [
    "91440.0+750.0"
   ]
  },
  {
   "cell_type": "code",
   "execution_count": 37,
   "id": "3f672e3e",
   "metadata": {},
   "outputs": [
    {
     "data": {
      "text/plain": [
       "45274.464"
      ]
     },
     "execution_count": 37,
     "metadata": {},
     "output_type": "execute_result"
    }
   ],
   "source": [
    "u.day.to(u.s, 0.52401) #converts days to seconds"
   ]
  },
  {
   "cell_type": "code",
   "execution_count": 2,
   "id": "46cb3ada",
   "metadata": {},
   "outputs": [],
   "source": [
    "def midt(tstart,tstop):\n",
    "    frac = (tstop - tstart)/2\n",
    "    midt = tstart + frac\n",
    "    return midt"
   ]
  },
  {
   "cell_type": "code",
   "execution_count": 28,
   "id": "4288d025",
   "metadata": {},
   "outputs": [
    {
     "data": {
      "text/plain": [
       "3999.0"
      ]
     },
     "execution_count": 28,
     "metadata": {},
     "output_type": "execute_result"
    }
   ],
   "source": [
    "midt(3308,4690)"
   ]
  },
  {
   "cell_type": "code",
   "execution_count": 29,
   "id": "35b5172d",
   "metadata": {},
   "outputs": [
    {
     "data": {
      "text/plain": [
       "10077.5"
      ]
     },
     "execution_count": 29,
     "metadata": {},
     "output_type": "execute_result"
    }
   ],
   "source": [
    "midt(3465,16690)"
   ]
  },
  {
   "cell_type": "code",
   "execution_count": 30,
   "id": "28f88715",
   "metadata": {},
   "outputs": [
    {
     "data": {
      "text/plain": [
       "13750.5"
      ]
     },
     "execution_count": 30,
     "metadata": {},
     "output_type": "execute_result"
    }
   ],
   "source": [
    "midt(4285,23216)"
   ]
  },
  {
   "cell_type": "code",
   "execution_count": 33,
   "id": "214208d0",
   "metadata": {},
   "outputs": [
    {
     "data": {
      "text/plain": [
       "10236.0"
      ]
     },
     "execution_count": 33,
     "metadata": {},
     "output_type": "execute_result"
    }
   ],
   "source": [
    "midt(4696,15776)"
   ]
  },
  {
   "cell_type": "code",
   "execution_count": 34,
   "id": "f0c3f1f1",
   "metadata": {},
   "outputs": [
    {
     "data": {
      "text/plain": [
       "10557.5"
      ]
     },
     "execution_count": 34,
     "metadata": {},
     "output_type": "execute_result"
    }
   ],
   "source": [
    "midt(3670,17445)"
   ]
  },
  {
   "cell_type": "code",
   "execution_count": 37,
   "id": "9477c119",
   "metadata": {},
   "outputs": [
    {
     "name": "stdout",
     "output_type": "stream",
     "text": [
      "Start time: 07:43:11\n",
      "End time: 07:43:21\n",
      "Time difference is 10.0 seconds\n",
      "Time difference is 10000.0 milliseconds\n"
     ]
    }
   ],
   "source": [
    "from datetime import datetime\n",
    "\n",
    "# start time\n",
    "start_time = \"07:43:11\"\n",
    "end_time = \"07:43:21\"\n",
    "\n",
    "# convert time string to datetime\n",
    "t1 = datetime.strptime(start_time, \"%H:%M:%S\")\n",
    "print('Start time:', t1.time())\n",
    "\n",
    "t2 = datetime.strptime(end_time, \"%H:%M:%S\")\n",
    "print('End time:', t2.time())\n",
    "\n",
    "# get difference\n",
    "delta = t2 - t1\n",
    "\n",
    "# time difference in seconds\n",
    "print(f\"Time difference is {delta.total_seconds()} seconds\")\n",
    "\n",
    "# time difference in milliseconds\n",
    "ms = delta.total_seconds() * 1000\n",
    "print(f\"Time difference is {ms} milliseconds\")"
   ]
  },
  {
   "cell_type": "code",
   "execution_count": 36,
   "id": "aea1d01a",
   "metadata": {},
   "outputs": [
    {
     "data": {
      "text/plain": [
       "89.0"
      ]
     },
     "execution_count": 36,
     "metadata": {},
     "output_type": "execute_result"
    }
   ],
   "source": [
    "84 + (10/2)"
   ]
  },
  {
   "cell_type": "code",
   "execution_count": null,
   "id": "d042b441",
   "metadata": {},
   "outputs": [],
   "source": [
    "84s"
   ]
  }
 ],
 "metadata": {
  "kernelspec": {
   "display_name": "Python 3",
   "language": "python",
   "name": "python3"
  },
  "language_info": {
   "codemirror_mode": {
    "name": "ipython",
    "version": 3
   },
   "file_extension": ".py",
   "mimetype": "text/x-python",
   "name": "python",
   "nbconvert_exporter": "python",
   "pygments_lexer": "ipython3",
   "version": "3.8.8"
  }
 },
 "nbformat": 4,
 "nbformat_minor": 5
}
