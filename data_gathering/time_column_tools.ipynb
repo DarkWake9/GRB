{
 "cells": [
  {
   "cell_type": "code",
   "execution_count": 1,
   "id": "61c47440",
   "metadata": {},
   "outputs": [],
   "source": [
    "import astropy\n",
    "from astropy import units as u\n",
    "from astropy.time import Time"
   ]
  },
  {
   "cell_type": "code",
   "execution_count": 72,
   "id": "70fdce1e",
   "metadata": {},
   "outputs": [
    {
     "data": {
      "text/plain": [
       "66268.8"
      ]
     },
     "execution_count": 72,
     "metadata": {},
     "output_type": "execute_result"
    }
   ],
   "source": [
    "u.h.to(u.s,18.408) #converts hours to seconds"
   ]
  },
  {
   "cell_type": "code",
   "execution_count": 11,
   "id": "1a1fa1bb",
   "metadata": {
    "scrolled": true
   },
   "outputs": [
    {
     "data": {
      "text/plain": [
       "498.00000000000006"
      ]
     },
     "execution_count": 11,
     "metadata": {},
     "output_type": "execute_result"
    }
   ],
   "source": [
    "u.min.to(u.s, 8.3) #converts minutes to seconds"
   ]
  },
  {
   "cell_type": "code",
   "execution_count": 36,
   "id": "05d941d7",
   "metadata": {},
   "outputs": [
    {
     "data": {
      "text/plain": [
       "49852.799999999996"
      ]
     },
     "execution_count": 36,
     "metadata": {},
     "output_type": "execute_result"
    }
   ],
   "source": [
    "u.day.to(u.s,16.49-15)-9227"
   ]
  },
  {
   "cell_type": "code",
   "execution_count": 81,
   "metadata": {},
   "outputs": [],
   "source": [
    "mags = [0.6225,\n",
    "0.6311,\n",
    "0.6397,\n",
    "0.6418,\n",
    "0.6437,\n",
    "0.6455,\n",
    "0.6473,\n",
    "0.6492,\n",
    "0.651,\n",
    "0.6528,\n",
    "0.6547,\n",
    "0.6565,\n",
    "0.6583,\n",
    "0.6601,\n",
    "0.662,\n",
    "0.6639,\n",
    "0.6657,\n",
    "0.6675,\n",
    "0.6693,\n",
    "0.6712,\n",
    "0.673,\n",
    "0.6749,\n",
    "0.6767,\n",
    "0.6785,\n",
    "0.6804,\n",
    "0.6822,\n",
    "0.684,\n",
    "0.6859,3.24\n",
    "4.24\n",
    "5.25\n",
    "6.25\n",
    "7.24\n",
    "8.24\n",
    "9.25\n",
    "10.24\n",
    "11.24\n",
    "12.24\n",
    "14.55\n",
    "14.91\n",
    "15.28\n",
    "16.22\n",
    "17.64\n",
    "25.68\n",
    "27.9\n",
    "40.93\n",
    "43.12\n",
    "45.33\n",
    "20.27\n",
    "30.57\n",
    "32.77\n",
    "48.21\n",
    "50.41\n",
    "52.62\n",
    "22.89\n",
    "35.47\n",
    "37.67\n",
    "1.97\n",
    "2.45\n",
    "2.94\n",
    "3.41\n",
    "3.9\n",
    "4.81\n",
    "5.64\n",
    "6.48\n",
    "7.65\n",
    "9.19\n",
    "20.16\n",
    "23.18\n",
    "26.18\n",
    "29.2\n",
    "32.93\n",
    "38.19\n",
    "59.16\n",
    "69.57\n",
    "81.29\n",
    "94\n",
    "108.24\n",
    "123.06\n",
    "143.61\n",
    "165.14\n",
    "186.06\n",
    "208.34\n",
    "240.71\n",
    "278.12\n",
    "1.97\n",
    "2.45\n",
    "2.95\n",
    "3.37\n",
    "3.99\n",
    "4.81\n",
    "5.64\n",
    "6.48\n",
    "7.65\n",
    "9.17\n",
    "20.16\n",
    "23.18\n",
    "26.19\n",
    "29.22\n",
    "32.96\n",
    "38.97\n",
    "58.72\n",
    "69.64\n",
    "81.33\n",
    "94.02\n",
    "108.3\n",
    "123.96\n",
    "143.15\n",
    "163.97\n",
    "186.98\n",
    "209.23\n",
    "242.54\n",
    "280.31\n",
    "\n",
    "0.7014,\n",
    "0.7032,\n",
    "0.7051,\n",
    "0.7069,\n",
    "0.7087,\n",
    "0.7105,\n",
    "0.7124,\n",
    "1.7407,\n",
    "1.7851,\n",
    "1.7931,\n",
    "2.7341,\n",
    "2.7557,\n",
    "2.9086,\n",
    "2.9176,\n",
    "3.7266,\n",
    "3.8531,\n",
    "3.8613,\n",
    "9.8622,\n",
    "27.5763,\n",
    "30.7511,\n",
    "36.904,\n",
    "56.5242,\n",
    "64.5516,\n",
    "]"
   ]
  },
  {
   "cell_type": "code",
   "execution_count": null,
   "id": "bc05d56a",
   "metadata": {},
   "outputs": [],
   "source": [
    "a=[]\n",
    "for i in mags:\n",
    "    a.append(u.h.to(u.s,i))\n",
    "    print(u.h.to(u.s,i))"
   ]
  },
  {
   "cell_type": "code",
   "execution_count": null,
   "id": "f9654576",
   "metadata": {},
   "outputs": [],
   "source": [
    "6:14:24"
   ]
  },
  {
   "cell_type": "code",
   "execution_count": 2,
   "id": "54b6ff8d",
   "metadata": {},
   "outputs": [
    {
     "name": "stdout",
     "output_type": "stream",
     "text": [
      "214272.0\n",
      "215136.00000000003\n",
      "217728.0\n",
      "218591.99999999997\n",
      "236736.00000000003\n",
      "298080.0\n",
      "304992.0\n",
      "320544.0\n",
      "562464.0\n",
      "683424.0\n",
      "764640.0\n",
      "854496.0\n",
      "1200960.0\n",
      "1283040.0\n",
      "1384992.0\n",
      "1556064.0000000002\n",
      "1769472.0\n",
      "1772064.0000000002\n",
      "1849824.0\n",
      "2033856.0\n",
      "2298240.0\n",
      "2299104.0\n",
      "3068928.0000000005\n",
      "3928608.0\n",
      "3931200.0\n"
     ]
    }
   ],
   "source": [
    "mags=[2.48,\n",
    "2.49,\n",
    "2.52,\n",
    "2.53,\n",
    "2.74,\n",
    "3.45,\n",
    "3.53,\n",
    "3.71,\n",
    "6.51,\n",
    "7.91,\n",
    "8.85,\n",
    "9.89,\n",
    "13.9,\n",
    "14.85,\n",
    "16.03,\n",
    "18.01,\n",
    "20.48,\n",
    "20.51,\n",
    "21.41,\n",
    "23.54,\n",
    "26.6,\n",
    "26.61,\n",
    "35.52,\n",
    "45.47,\n",
    "45.5,\n",
    "]\n",
    "a=[]\n",
    "for i in mags:\n",
    "    print(u.day.to(u.s, i))\n"
   ]
  },
  {
   "cell_type": "code",
   "execution_count": 111,
   "id": "3f672e3e",
   "metadata": {},
   "outputs": [
    {
     "data": {
      "text/plain": [
       "119512.80999999987"
      ]
     },
     "execution_count": 111,
     "metadata": {},
     "output_type": "execute_result"
    }
   ],
   "source": [
    "x = 16.49 -15\n",
    "u.day.to(u.s, x) - 9223.19#converts days to seconds"
   ]
  },
  {
   "cell_type": "code",
   "execution_count": 110,
   "id": "9318a6ea",
   "metadata": {},
   "outputs": [
    {
     "data": {
      "text/plain": [
       "873.6"
      ]
     },
     "execution_count": 110,
     "metadata": {},
     "output_type": "execute_result"
    }
   ],
   "source": [
    "14.56*60"
   ]
  },
  {
   "cell_type": "code",
   "execution_count": 113,
   "id": "b690fbbd",
   "metadata": {},
   "outputs": [
    {
     "data": {
      "text/plain": [
       "188280.0"
      ]
     },
     "execution_count": 113,
     "metadata": {},
     "output_type": "execute_result"
    }
   ],
   "source": [
    "52.3*3600"
   ]
  },
  {
   "cell_type": "code",
   "execution_count": 114,
   "id": "2a458a89",
   "metadata": {},
   "outputs": [
    {
     "data": {
      "text/plain": [
       "106185.6"
      ]
     },
     "execution_count": 114,
     "metadata": {},
     "output_type": "execute_result"
    }
   ],
   "source": [
    "1.229*86400"
   ]
  },
  {
   "cell_type": "code",
   "execution_count": 106,
   "id": "44a4093f",
   "metadata": {},
   "outputs": [
    {
     "data": {
      "text/plain": [
       "2113768.81"
      ]
     },
     "execution_count": 106,
     "metadata": {},
     "output_type": "execute_result"
    }
   ],
   "source": [
    "2110168.81+3600"
   ]
  },
  {
   "cell_type": "code",
   "execution_count": 78,
   "id": "62e2d483",
   "metadata": {},
   "outputs": [
    {
     "data": {
      "text/plain": [
       "108380.16999999998"
      ]
     },
     "execution_count": 78,
     "metadata": {},
     "output_type": "execute_result"
    }
   ],
   "source": [
    "66268.8 + 86400 - 44288.63\n"
   ]
  },
  {
   "cell_type": "code",
   "execution_count": 44,
   "id": "19d3f9f4",
   "metadata": {},
   "outputs": [
    {
     "data": {
      "text/plain": [
       "40683.370000000046"
      ]
     },
     "execution_count": 44,
     "metadata": {},
     "output_type": "execute_result"
    }
   ],
   "source": [
    "40383.370000000046+300"
   ]
  },
  {
   "cell_type": "code",
   "execution_count": 5,
   "id": "46cb3ada",
   "metadata": {},
   "outputs": [],
   "source": [
    "def midt(tstart,tstop):\n",
    "    frac = (tstop - tstart)/2\n",
    "    midt = tstart + frac\n",
    "    return midt"
   ]
  },
  {
   "cell_type": "code",
   "execution_count": 54,
   "id": "4288d025",
   "metadata": {},
   "outputs": [
    {
     "data": {
      "text/plain": [
       "13065.0"
      ]
     },
     "execution_count": 54,
     "metadata": {},
     "output_type": "execute_result"
    }
   ],
   "source": [
    "midt(7484,18646)"
   ]
  },
  {
   "cell_type": "code",
   "execution_count": 28,
   "id": "1f9822ba",
   "metadata": {},
   "outputs": [
    {
     "data": {
      "text/plain": [
       "169344.0"
      ]
     },
     "execution_count": 28,
     "metadata": {},
     "output_type": "execute_result"
    }
   ],
   "source": [
    "1.96*86400"
   ]
  },
  {
   "cell_type": "code",
   "execution_count": 5,
   "id": "55d7ca4c",
   "metadata": {},
   "outputs": [
    {
     "data": {
      "text/plain": [
       "494.27"
      ]
     },
     "execution_count": 5,
     "metadata": {},
     "output_type": "execute_result"
    }
   ],
   "source": [
    "(415.43+573.11)/2.0"
   ]
  },
  {
   "cell_type": "code",
   "execution_count": 2,
   "id": "ab01651b",
   "metadata": {},
   "outputs": [
    {
     "data": {
      "text/plain": [
       "10800"
      ]
     },
     "execution_count": 2,
     "metadata": {},
     "output_type": "execute_result"
    }
   ],
   "source": [
    "3*3600"
   ]
  },
  {
   "cell_type": "code",
   "execution_count": 4,
   "id": "a3ac4e68",
   "metadata": {},
   "outputs": [
    {
     "data": {
      "text/plain": [
       "11580"
      ]
     },
     "execution_count": 4,
     "metadata": {},
     "output_type": "execute_result"
    }
   ],
   "source": [
    "13*60 + 10800"
   ]
  },
  {
   "cell_type": "code",
   "execution_count": 46,
   "id": "1355f00e",
   "metadata": {},
   "outputs": [
    {
     "data": {
      "text/plain": [
       "7377.5"
      ]
     },
     "execution_count": 46,
     "metadata": {},
     "output_type": "execute_result"
    }
   ],
   "source": [
    "7279 + (197/2)"
   ]
  },
  {
   "cell_type": "code",
   "execution_count": 32,
   "id": "9477c119",
   "metadata": {},
   "outputs": [
    {
     "name": "stdout",
     "output_type": "stream",
     "text": [
      "Start time: 19:18:43\n",
      "End time: 19:51:22\n",
      "Time difference is 1959.0 seconds\n",
      "Time difference is 1959000.0 milliseconds\n"
     ]
    }
   ],
   "source": [
    "from datetime import datetime\n",
    "\n",
    "# start time\n",
    "start_time = \"19:18:43.00\"\n",
    "end_time = \"19:51:22.00\"\n",
    "\n",
    "# convert time string to datetime\n",
    "t1 = datetime.strptime(start_time, \"%H:%M:%S.%f\")\n",
    "print('Start time:', t1.time())\n",
    "\n",
    "t2 = datetime.strptime(end_time, \"%H:%M:%S.%f\")\n",
    "print('End time:', t2.time())\n",
    "\n",
    "# get difference    \n",
    "delta = t2 - t121.16,\n",
    "21.62,\n",
    "21.94,\n",
    "22.14,\n",
    "22.34,\n",
    "22.53,\n",
    "22.86,\n",
    "23.32,\n",
    "23.78,\n",
    "24.21,\n",
    "24.64,\n",
    "25.07,\n",
    "25.5,\n",
    "25.93,\n",
    "26.36,\n",
    "26.8,\n",
    "27.25,\n",
    "27.66,\n",
    "28.08,\n",
    "107.89,\n",
    "109.58,\n",
    "111.42,\n",
    "113.25,\n",
    "114.64,\n",
    "370.07,\n",
    "21.16,\n",
    "21.62,\n",
    "21.94,\n",
    "22.14,\n",
    "22.34,\n",
    "22.53,\n",
    "22.86,\n",
    "23.32,\n",
    "23.78,\n",
    "24.21,\n",
    "24.64,\n",
    "25.07,\n",
    "25.5,\n",
    "25.93,\n",
    "26.36,\n",
    "26.8,\n",
    "27.25,\n",
    "27.66,\n",
    "28.08,\n",
    "107.89,\n",
    "109.58,\n",
    "111.42,\n",
    "113.25,\n",
    "114.64,\n",
    "370.07,\n",
    "21.16,\n",
    "21.62,\n",
    "21.94,\n",
    "22.14,\n",
    "22.34,\n",
    "22.53,\n",
    "22.86,\n",
    "23.32,\n",
    "23.78,\n",
    "24.21,\n",
    "24.64,\n",
    "25.07,\n",
    "25.5,\n",
    "25.93,\n",
    "26.36,\n",
    "26.8,\n",
    "27.25,\n",
    "27.66,\n",
    "28.08,\n",
    "107.89,\n",
    "109.58,\n",
    "111.42,\n",
    "113.25,\n",
    "114.64,\n",
    "370.07,\n",
    "21.16,\n",
    "21.62,\n",
    "21.94,\n",
    "22.14,\n",
    "22.34,\n",
    "22.53,\n",
    "22.86,\n",
    "23.32,\n",
    "23.78,\n",
    "24.21,\n",
    "24.64,\n",
    "25.07,\n",
    "25.5,\n",
    "25.93,\n",
    "26.36,\n",
    "26.8,\n",
    "27.25,\n",
    "27.66,\n",
    "28.08,\n",
    "107.89,\n",
    "109.58,\n",
    "111.42,\n",
    "113.25,\n",
    "114.64,\n",
    "370.07,\n",
    "21.19,\n",
    "21.64,\n",
    "22.26,\n",
    "22.89,\n",
    "23.35,\n",
    "23.8,\n",
    "24.23,\n",
    "24.66,\n",
    "25.09,\n",
    "25.52,\n",
    "25.96,\n",
    "26.39,\n",
    "26.82,\n",
    "27.25,\n",
    "27.68,\n",
    "28.11,\n",
    "28.52,\n",
    "28.92,\n",
    "29.33,\n",
    "29.74,\n",
    "30.14,\n",
    "107.92,\n",
    "109.61,\n",
    "111.44,\n",
    "113.28,\n",
    "21.19,\n",
    "21.64,\n",
    "22.26,\n",
    "22.89,\n",
    "23.35,\n",
    "23.8,\n",
    "24.23,\n",
    "24.66,\n",
    "25.09,\n",
    "25.52,\n",
    "25.96,\n",
    "26.39,\n",
    "26.82,\n",
    "27.25,\n",
    "27.68,\n",
    "28.11,\n",
    "28.52,\n",
    "28.92,\n",
    "29.33,\n",
    "29.74,\n",
    "30.14,\n",
    "30.54,\n",
    "30.94,\n",
    "107.92,\n",
    "109.61,\n",
    "21.19,\n",
    "21.64,\n",
    "22.26,\n",
    "22.89,\n",
    "23.35,\n",
    "23.8,\n",
    "24.23,\n",
    "24.66,\n",
    "25.09,\n",
    "25.52,\n",
    "25.96,\n",
    "26.39,\n",
    "26.82,\n",
    "27.25,\n",
    "27.68,\n",
    "28.11,\n",
    "28.52,\n",
    "28.92,\n",
    "29.33,\n",
    "29.74,\n",
    "30.14,\n",
    "30.54,\n",
    "30.94,\n",
    "107.92,\n",
    "109.61\n",
    "ms = delta.total_seconds() * 1000\n",
    "print(f\"Time difference is {ms} milliseconds\")"
   ]
  },
  {
   "cell_type": "code",
   "execution_count": 19,
   "id": "d87acf8e",
   "metadata": {},
   "outputs": [
    {
     "data": {
      "text/plain": [
       "1153340.8050000002"
      ]
     },
     "execution_count": 19,
     "metadata": {},
     "output_type": "execute_result"
    }
   ],
   "source": [
    "(28-15)*86400 + 29180.81 + (1919.99/2)"
   ]
  },
  {
   "cell_type": "markdown",
   "id": "4fc57c29",
   "metadata": {},
   "source": [
    "times = [\"13:13:04.0\",\n",
    "\"13:20:05.0\",\n",
    "\"13:27:05.0\",\n",
    "\"15:07:22.0\",\n",
    "\"16:09:02.0\",\n",
    "\"16:27:48.0\",\n",
    "\"19:57:08.0\",\n",
    "\"14:38:52.0\",\n",
    "\"14:52:56.0\",\n",
    "\"16:03:40.0\",\n",
    "\"16:14:57.0\",\n",
    "\"16:33:28.0\",\n",
    "\"12:51:20.0\",\n",
    "\"12:58:21.0\",\n",
    "\"13:05:23.0\",\n",
    "\"14:32:51.0\",\n",
    "\"15:16:15.0\",\n",
    "\"15:49:32.0\",\n",
    "\"15:54:56.0\",\n",
    "\"16:19:59.0\",\n",
    "\"16:39:30.0\",\n",
    "\"16:46:28.0\",\n",
    "\"20:02:54.0\",\n",
    "\"20:09:25.0\"\n",
    "]\n",
    "\n",
    "for i in times:\n",
    "    fn(\"12:18:08.63\",i)"
   ]
  },
  {
   "cell_type": "code",
   "execution_count": 66,
   "id": "15bea0c0",
   "metadata": {},
   "outputs": [
    {
     "data": {
      "text/plain": [
       "1072736.37"
      ]
     },
     "execution_count": 66,
     "metadata": {},
     "output_type": "execute_result"
    }
   ],
   "source": [
    "86400*12 + 35936.37"
   ]
  },
  {
   "cell_type": "code",
   "execution_count": 34,
   "id": "3e60efee",
   "metadata": {},
   "outputs": [
    {
     "data": {
      "text/plain": [
       "60733.369999999995"
      ]
     },
     "execution_count": 34,
     "metadata": {},
     "output_type": "execute_result"
    }
   ],
   "source": [
    "86400-25666.63\n"
   ]
  },
  {
   "cell_type": "code",
   "execution_count": 57,
   "id": "798b0c0d",
   "metadata": {},
   "outputs": [
    {
     "data": {
      "text/plain": [
       "693596"
      ]
     },
     "execution_count": 57,
     "metadata": {},
     "output_type": "execute_result"
    }
   ],
   "source": [
    "t1.toordinal()"
   ]
  },
  {
   "cell_type": "code",
   "execution_count": 40,
   "id": "9c9c9a86",
   "metadata": {},
   "outputs": [
    {
     "data": {
      "text/plain": [
       "datetime.datetime(1900, 1, 1, 1, 12, 15)"
      ]
     },
     "execution_count": 40,
     "metadata": {},
     "output_type": "execute_result"
    }
   ],
   "source": [
    "t1"
   ]
  },
  {
   "cell_type": "code",
   "execution_count": 36,
   "id": "aea1d01a",
   "metadata": {},
   "outputs": [
    {
     "data": {
      "text/plain": [
       "89.0"
      ]
     },
     "execution_count": 36,
     "metadata": {},
     "output_type": "execute_result"
    }
   ],
   "source": [
    "84 + (10/2)"
   ]
  },
  {
   "cell_type": "code",
   "execution_count": null,
   "id": "d042b441",
   "metadata": {},
   "outputs": [],
   "source": [
    "84s"
   ]
  },
  {
   "cell_type": "code",
   "execution_count": 10,
   "id": "8fe39650",
   "metadata": {},
   "outputs": [],
   "source": [
    "import pandas as pd"
   ]
  },
  {
   "cell_type": "code",
   "execution_count": 18,
   "id": "9f14815f",
   "metadata": {},
   "outputs": [],
   "source": [
    "d = pd.read_csv('delete.txt', sep='\\s+',names=['time', 'g', 'r','i'])"
   ]
  },
  {
   "cell_type": "code",
   "execution_count": 19,
   "id": "dedf0893",
   "metadata": {},
   "outputs": [
    {
     "data": {
      "text/html": [
       "<div>\n",
       "<style scoped>\n",
       "    .dataframe tbody tr th:only-of-type {\n",
       "        vertical-align: middle;\n",
       "    }\n",
       "\n",
       "    .dataframe tbody tr th {\n",
       "        vertical-align: top;\n",
       "    }\n",
       "\n",
       "    .dataframe thead th {\n",
       "        text-align: right;\n",
       "    }\n",
       "</style>\n",
       "<table border=\"1\" class=\"dataframe\">\n",
       "  <thead>\n",
       "    <tr style=\"text-align: right;\">\n",
       "      <th></th>\n",
       "      <th>time</th>\n",
       "      <th>g</th>\n",
       "      <th>r</th>\n",
       "      <th>i</th>\n",
       "    </tr>\n",
       "  </thead>\n",
       "  <tbody>\n",
       "    <tr>\n",
       "      <th>0</th>\n",
       "      <td>73.2</td>\n",
       "      <td>17.80</td>\n",
       "      <td>17.79</td>\n",
       "      <td>17.67</td>\n",
       "    </tr>\n",
       "    <tr>\n",
       "      <th>1</th>\n",
       "      <td>103.2</td>\n",
       "      <td>17.80</td>\n",
       "      <td>18.16</td>\n",
       "      <td>17.86</td>\n",
       "    </tr>\n",
       "    <tr>\n",
       "      <th>2</th>\n",
       "      <td>157.6</td>\n",
       "      <td>17.91</td>\n",
       "      <td>16.81</td>\n",
       "      <td>16.96</td>\n",
       "    </tr>\n",
       "    <tr>\n",
       "      <th>3</th>\n",
       "      <td>202.6</td>\n",
       "      <td>17.76</td>\n",
       "      <td>16.63</td>\n",
       "      <td>16.75</td>\n",
       "    </tr>\n",
       "    <tr>\n",
       "      <th>4</th>\n",
       "      <td>247.6</td>\n",
       "      <td>17.94</td>\n",
       "      <td>16.86</td>\n",
       "      <td>16.85</td>\n",
       "    </tr>\n",
       "    <tr>\n",
       "      <th>5</th>\n",
       "      <td>292.6</td>\n",
       "      <td>17.89</td>\n",
       "      <td>17.29</td>\n",
       "      <td>16.87</td>\n",
       "    </tr>\n",
       "    <tr>\n",
       "      <th>6</th>\n",
       "      <td>337.6</td>\n",
       "      <td>17.76</td>\n",
       "      <td>17.02</td>\n",
       "      <td>17.01</td>\n",
       "    </tr>\n",
       "    <tr>\n",
       "      <th>7</th>\n",
       "      <td>382.6</td>\n",
       "      <td>18.21</td>\n",
       "      <td>17.31</td>\n",
       "      <td>17.05</td>\n",
       "    </tr>\n",
       "    <tr>\n",
       "      <th>8</th>\n",
       "      <td>427.6</td>\n",
       "      <td>18.07</td>\n",
       "      <td>17.49</td>\n",
       "      <td>17.16</td>\n",
       "    </tr>\n",
       "    <tr>\n",
       "      <th>9</th>\n",
       "      <td>472.6</td>\n",
       "      <td>18.08</td>\n",
       "      <td>17.56</td>\n",
       "      <td>17.29</td>\n",
       "    </tr>\n",
       "    <tr>\n",
       "      <th>10</th>\n",
       "      <td>517.6</td>\n",
       "      <td>18.31</td>\n",
       "      <td>17.60</td>\n",
       "      <td>17.48</td>\n",
       "    </tr>\n",
       "    <tr>\n",
       "      <th>11</th>\n",
       "      <td>562.6</td>\n",
       "      <td>18.14</td>\n",
       "      <td>17.90</td>\n",
       "      <td>17.66</td>\n",
       "    </tr>\n",
       "    <tr>\n",
       "      <th>12</th>\n",
       "      <td>607.6</td>\n",
       "      <td>18.61</td>\n",
       "      <td>18.00</td>\n",
       "      <td>17.49</td>\n",
       "    </tr>\n",
       "    <tr>\n",
       "      <th>13</th>\n",
       "      <td>652.6</td>\n",
       "      <td>18.20</td>\n",
       "      <td>18.13</td>\n",
       "      <td>17.85</td>\n",
       "    </tr>\n",
       "    <tr>\n",
       "      <th>14</th>\n",
       "      <td>697.6</td>\n",
       "      <td>18.20</td>\n",
       "      <td>18.37</td>\n",
       "      <td>18.00</td>\n",
       "    </tr>\n",
       "    <tr>\n",
       "      <th>15</th>\n",
       "      <td>742.6</td>\n",
       "      <td>18.20</td>\n",
       "      <td>18.53</td>\n",
       "      <td>18.02</td>\n",
       "    </tr>\n",
       "    <tr>\n",
       "      <th>16</th>\n",
       "      <td>787.6</td>\n",
       "      <td>18.20</td>\n",
       "      <td>18.45</td>\n",
       "      <td>18.06</td>\n",
       "    </tr>\n",
       "    <tr>\n",
       "      <th>17</th>\n",
       "      <td>832.6</td>\n",
       "      <td>18.20</td>\n",
       "      <td>18.41</td>\n",
       "      <td>18.34</td>\n",
       "    </tr>\n",
       "    <tr>\n",
       "      <th>18</th>\n",
       "      <td>877.6</td>\n",
       "      <td>18.20</td>\n",
       "      <td>18.71</td>\n",
       "      <td>17.90</td>\n",
       "    </tr>\n",
       "    <tr>\n",
       "      <th>19</th>\n",
       "      <td>922.6</td>\n",
       "      <td>18.20</td>\n",
       "      <td>18.85</td>\n",
       "      <td>18.21</td>\n",
       "    </tr>\n",
       "    <tr>\n",
       "      <th>20</th>\n",
       "      <td>967.6</td>\n",
       "      <td>18.20</td>\n",
       "      <td>18.20</td>\n",
       "      <td>18.26</td>\n",
       "    </tr>\n",
       "    <tr>\n",
       "      <th>21</th>\n",
       "      <td>1012.6</td>\n",
       "      <td>18.20</td>\n",
       "      <td>18.20</td>\n",
       "      <td>17.80</td>\n",
       "    </tr>\n",
       "    <tr>\n",
       "      <th>22</th>\n",
       "      <td>1057.6</td>\n",
       "      <td>18.20</td>\n",
       "      <td>18.20</td>\n",
       "      <td>17.80</td>\n",
       "    </tr>\n",
       "    <tr>\n",
       "      <th>23</th>\n",
       "      <td>1102.6</td>\n",
       "      <td>18.20</td>\n",
       "      <td>18.20</td>\n",
       "      <td>17.80</td>\n",
       "    </tr>\n",
       "    <tr>\n",
       "      <th>24</th>\n",
       "      <td>1147.6</td>\n",
       "      <td>18.20</td>\n",
       "      <td>18.20</td>\n",
       "      <td>17.80</td>\n",
       "    </tr>\n",
       "    <tr>\n",
       "      <th>25</th>\n",
       "      <td>1192.6</td>\n",
       "      <td>18.20</td>\n",
       "      <td>18.30</td>\n",
       "      <td>17.80</td>\n",
       "    </tr>\n",
       "  </tbody>\n",
       "</table>\n",
       "</div>"
      ],
      "text/plain": [
       "      time      g      r      i\n",
       "0     73.2  17.80  17.79  17.67\n",
       "1    103.2  17.80  18.16  17.86\n",
       "2    157.6  17.91  16.81  16.96\n",
       "3    202.6  17.76  16.63  16.75\n",
       "4    247.6  17.94  16.86  16.85\n",
       "5    292.6  17.89  17.29  16.87\n",
       "6    337.6  17.76  17.02  17.01\n",
       "7    382.6  18.21  17.31  17.05\n",
       "8    427.6  18.07  17.49  17.16\n",
       "9    472.6  18.08  17.56  17.29\n",
       "10   517.6  18.31  17.60  17.48\n",
       "11   562.6  18.14  17.90  17.66\n",
       "12   607.6  18.61  18.00  17.49\n",
       "13   652.6  18.20  18.13  17.85\n",
       "14   697.6  18.20  18.37  18.00\n",
       "15   742.6  18.20  18.53  18.02\n",
       "16   787.6  18.20  18.45  18.06\n",
       "17   832.6  18.20  18.41  18.34\n",
       "18   877.6  18.20  18.71  17.90\n",
       "19   922.6  18.20  18.85  18.21\n",
       "20   967.6  18.20  18.20  18.26\n",
       "21  1012.6  18.20  18.20  17.80\n",
       "22  1057.6  18.20  18.20  17.80\n",
       "23  1102.6  18.20  18.20  17.80\n",
       "24  1147.6  18.20  18.20  17.80\n",
       "25  1192.6  18.20  18.30  17.80"
      ]
     },
     "execution_count": 19,
     "metadata": {},
     "output_type": "execute_result"
    }
   ],
   "source": [
    "d"
   ]
  },
  {
   "cell_type": "code",
   "execution_count": 23,
   "id": "55b96c14",
   "metadata": {},
   "outputs": [],
   "source": [
    "d1 = [d['time'],d['g']]"
   ]
  },
  {
   "cell_type": "code",
   "execution_count": 27,
   "id": "f9dde17d",
   "metadata": {},
   "outputs": [],
   "source": [
    "d1 = d.loc[:,['time','g']]\n",
    "d1 = d1.drop()"
   ]
  },
  {
   "cell_type": "code",
   "execution_count": 29,
   "id": "227dc10e",
   "metadata": {},
   "outputs": [],
   "source": [
    "d1.to_csv('dd.txt', sep='\\t')"
   ]
  },
  {
   "cell_type": "markdown",
   "id": "2698cd61",
   "metadata": {},
   "source": [
    "import numpy as np\n",
    "a = np.array([3.24,\n",
    "4.24,\n",
    "5.25,\n",
    "6.25,\n",
    "7.24,\n",
    "8.24,\n",
    "9.25,\n",
    "10.24,\n",
    "11.24,\n",
    "12.24,\n",
    "14.55,\n",
    "14.91,\n",
    "15.28,\n",
    "16.22,\n",
    "17.64,\n",
    "25.68,\n",
    "27.9,\n",
    "40.93,\n",
    "43.12,\n",
    "45.33,\n",
    "20.27,\n",
    "30.57,\n",
    "32.77,\n",
    "48.21,\n",
    "50.41,\n",
    "52.62,\n",
    "22.89,\n",
    "35.47,\n",
    "37.67,\n",
    "1.97,\n",
    "2.45,\n",
    "2.94,\n",
    "3.41,\n",
    "3.9,\n",
    "4.81,\n",
    "5.64,\n",
    "6.48,\n",
    "7.65,\n",
    "9.19,\n",
    "20.16,\n",
    "23.18,\n",
    "26.18,\n",
    "29.2,\n",
    "32.93,\n",
    "38.19,\n",
    "59.16,\n",
    "69.57,\n",
    "81.29,\n",
    "94,\n",
    "108.24,\n",
    "123.06,\n",
    "143.61,\n",
    "165.14,\n",
    "186.06,\n",
    "208.34,\n",
    "240.71,\n",
    "278.12,\n",
    "1.97,\n",
    "2.45,\n",
    "2.95,\n",
    "3.37,\n",
    "3.99,\n",
    "4.81,\n",
    "5.64,\n",
    "6.48,\n",
    "7.65,\n",
    "9.17,\n",
    "20.16,\n",
    "23.18,\n",
    "26.19,\n",
    "29.22,\n",
    "32.96,\n",
    "38.97,\n",
    "58.72,\n",
    "69.64,\n",
    "81.33,\n",
    "94.02,\n",
    "108.3,\n",
    "123.96,\n",
    "143.15,\n",
    "163.97,\n",
    "186.98,\n",
    "209.23,\n",
    "242.54,\n",
    "280.31,\n",
    "])\n",
    "b = np.array([60.2,60.2,\n",
    "60.2,\n",
    "59.4,\n",
    "60.2,\n",
    "60.2,\n",
    "59.4,\n",
    "60.2,\n",
    "60.2,\n",
    "58.9,\n",
    "10,\n",
    "10,\n",
    "10,\n",
    "20,\n",
    "120,\n",
    "120,\n",
    "120,\n",
    "120,\n",
    "120,\n",
    "120,\n",
    "120,\n",
    "120,\n",
    "120,\n",
    "120,\n",
    "120,\n",
    "120,\n",
    "120,\n",
    "120,\n",
    "120,\n",
    "20,\n",
    "20,\n",
    "20,\n",
    "20,\n",
    "20,\n",
    "40,\n",
    "40,\n",
    "40,\n",
    "80,\n",
    "80,\n",
    "160,\n",
    "160,\n",
    "160,\n",
    "160,\n",
    "240,\n",
    "320,\n",
    "560,\n",
    "560,\n",
    "560,\n",
    "640,\n",
    "800,\n",
    "720,\n",
    "880,\n",
    "1040,\n",
    "1040,\n",
    "1040,\n",
    "2080,\n",
    "1520,\n",
    "20,\n",
    "20,\n",
    "20,\n",
    "10,\n",
    "40,\n",
    "40,\n",
    "40,\n",
    "40,\n",
    "80,\n",
    "80,\n",
    "160,\n",
    "160,\n",
    "160,\n",
    "160,\n",
    "240,\n",
    "240,\n",
    "560,\n",
    "560,\n",
    "560,\n",
    "640,\n",
    "800,\n",
    "800,\n",
    "800,\n",
    "880,\n",
    "800,\n",
    "800,\n",
    "1360,\n",
    "1040])"
   ]
  },
  {
   "cell_type": "code",
   "execution_count": 10,
   "id": "c7aa0a93",
   "metadata": {},
   "outputs": [
    {
     "name": "stdout",
     "output_type": "stream",
     "text": [
      "224.5\n",
      "284.5\n",
      "345.1\n",
      "404.7\n",
      "464.50000000000006\n",
      "524.5\n",
      "584.7\n",
      "644.5\n",
      "704.5\n",
      "763.85\n",
      "878.0\n",
      "899.6\n",
      "921.8\n",
      "983.1999999999999\n",
      "1118.4\n",
      "1600.8\n",
      "1734.0\n",
      "2515.8\n",
      "2647.2\n",
      "2779.7999999999997\n",
      "1276.2\n",
      "1894.2\n",
      "2026.2000000000003\n",
      "2952.6\n",
      "3084.6\n",
      "3217.2\n",
      "1433.4\n",
      "2188.2\n",
      "2320.2000000000003\n",
      "128.2\n",
      "157.0\n",
      "186.4\n",
      "214.60000000000002\n",
      "244.0\n",
      "308.59999999999997\n",
      "358.4\n",
      "408.8\n",
      "499.0\n",
      "591.4\n",
      "1289.6\n",
      "1470.8\n",
      "1650.8\n",
      "1832.0\n",
      "2095.8\n",
      "2451.3999999999996\n",
      "3829.6\n",
      "4454.2\n",
      "5157.400000000001\n",
      "5960.0\n",
      "6894.4\n",
      "7743.6\n",
      "9056.6\n",
      "10428.4\n",
      "11683.6\n",
      "13020.4\n",
      "15482.6\n",
      "17447.2\n",
      "128.2\n",
      "157.0\n",
      "187.0\n",
      "207.20000000000002\n",
      "259.4\n",
      "308.59999999999997\n",
      "358.4\n",
      "408.8\n",
      "499.0\n",
      "590.2\n",
      "1289.6\n",
      "1470.8\n",
      "1651.4\n",
      "1833.1999999999998\n",
      "2097.6000000000004\n",
      "2458.2\n",
      "3803.2\n",
      "4458.4\n",
      "5159.8\n",
      "5961.2\n",
      "6898.0\n",
      "7837.599999999999\n",
      "8989.0\n",
      "10278.2\n",
      "11618.8\n",
      "12953.8\n",
      "15232.4\n",
      "17338.6\n"
     ]
    }
   ],
   "source": [
    "for i in range(len(a)):\n",
    "    print(a[i]*60 + (b[i]/2.0))"
   ]
  },
  {
   "cell_type": "code",
   "execution_count": 18,
   "id": "a39c27aa",
   "metadata": {},
   "outputs": [
    {
     "data": {
      "text/plain": [
       "array([5.35687350e+06, 5.35690250e+06, 5.29632556e+08, 1.45324829e+08,\n",
       "       6.74784463e+08, 1.38931229e+08, 5.12007384e+08, 2.35872140e+07,\n",
       "       2.35872330e+07, 4.94208984e+08, 1.49558420e+08, 1.11637516e+09,\n",
       "       1.47398429e+08, 1.03801004e+09, 1.43251229e+08, 5.47430521e+08])"
      ]
     },
     "execution_count": 18,
     "metadata": {},
     "output_type": "execute_result"
    }
   ],
   "source": [
    "a = np.array([62,\n",
    "62,\n",
    "6130,\n",
    "1682,\n",
    "7810,\n",
    "1608,\n",
    "5926,\n",
    "273,\n",
    "273,\n",
    "5720,\n",
    "1731,\n",
    "12921,\n",
    "1706,\n",
    "12014,\n",
    "1658,\n",
    "6336\n",
    "])\n",
    "b = np.array([147,\n",
    "205,\n",
    "1112,\n",
    "58,\n",
    "926,\n",
    "58,\n",
    "1967,\n",
    "28,\n",
    "66,\n",
    "1967,\n",
    "39,\n",
    "1511,\n",
    "58,\n",
    "885,\n",
    "58,\n",
    "242\n",
    "])\n",
    "a*86400 + b/2"
   ]
  },
  {
   "cell_type": "code",
   "execution_count": 28,
   "id": "dff6b920",
   "metadata": {},
   "outputs": [
    {
     "name": "stdout",
     "output_type": "stream",
     "text": [
      "212.5\n",
      "4832.5\n",
      "635.0\n",
      "503.0\n",
      "955.0\n",
      "920.0\n",
      "1245.5\n"
     ]
    }
   ],
   "source": [
    "a = np.array([139,\n",
    "4734,\n",
    "606,\n",
    "351,\n",
    "729,\n",
    "704,\n",
    "656])\n",
    "b = np.array([147,\n",
    "197,\n",
    "58,\n",
    "304,\n",
    "452,\n",
    "432,\n",
    "1179\n",
    "])\n",
    "\n",
    "for i in range(len(a)):\n",
    "    print(a[i] + b[i]/2.0)"
   ]
  },
  {
   "cell_type": "code",
   "execution_count": 36,
   "id": "292cf715",
   "metadata": {},
   "outputs": [
    {
     "name": "stdout",
     "output_type": "stream",
     "text": [
      "6170.688\n",
      "6535.296\n",
      "6839.423999999999\n",
      "7143.552000000001\n",
      "7446.816\n",
      "7811.424\n",
      "8115.552\n",
      "8570.88\n",
      "9239.616\n",
      "9877.248\n",
      "10515.744\n",
      "11152.512\n"
     ]
    }
   ],
   "source": [
    "a = np.array([0.07142,\n",
    "0.07564,\n",
    "0.07916,\n",
    "0.08268,\n",
    "0.08619,\n",
    "0.09041,\n",
    "0.09393,\n",
    "0.0992,\n",
    "0.10694,\n",
    "0.11432,\n",
    "0.12171,\n",
    "0.12908]\n",
    ")\n",
    "for i in range(len(a)):\n",
    "    print(a[i]*86400)"
   ]
  },
  {
   "cell_type": "code",
   "execution_count": 47,
   "id": "5525daec",
   "metadata": {},
   "outputs": [],
   "source": [
    "a = np.array([96\t,\n",
    "115\t,\n",
    "120\t,\n",
    "126\t,\n",
    "131\t,\n",
    "155\t,\n",
    "173\t,\n",
    "179\t,\n",
    "184\t,\n",
    "190\t,\n",
    "261\t,\n",
    "304\t,\n",
    "362\t,\n",
    "376\t,\n",
    "752\t,\n",
    "2035\t\n",
    "])\n",
    "b = np.array([30\t,\n",
    "5\t,\n",
    "5\t,\n",
    "5\t,\n",
    "5\t,\n",
    "30\t,\n",
    "5\t,\n",
    "5\t,\n",
    "5\t,\n",
    "5\t,\n",
    "5\t,\n",
    "30\t,\n",
    "30\t,\n",
    "30\t,\n",
    "460\t,\n",
    "300\t\n",
    "])/2"
   ]
  },
  {
   "cell_type": "code",
   "execution_count": 48,
   "id": "2dd2e8e7",
   "metadata": {},
   "outputs": [
    {
     "name": "stdout",
     "output_type": "stream",
     "text": [
      "111.0\n",
      "117.5\n",
      "122.5\n",
      "128.5\n",
      "133.5\n",
      "170.0\n",
      "175.5\n",
      "181.5\n",
      "186.5\n",
      "192.5\n",
      "263.5\n",
      "319.0\n",
      "377.0\n",
      "391.0\n",
      "982.0\n",
      "2185.0\n"
     ]
    }
   ],
   "source": [
    "for i in range(len(a)):\n",
    "    print(a[i] + b[i])"
   ]
  },
  {
   "cell_type": "code",
   "execution_count": 53,
   "id": "bcfd09b0",
   "metadata": {},
   "outputs": [
    {
     "data": {
      "text/plain": [
       "array([ 150.5,  630. ,  555. ,  412. , 4211.5, 4006.5,  605. ])"
      ]
     },
     "execution_count": 53,
     "metadata": {},
     "output_type": "execute_result"
    }
   ],
   "source": [
    "a = np.array([77\t,\n",
    "620\t,\n",
    "545\t,\n",
    "289\t,\n",
    "4113\t,\n",
    "3908\t,\n",
    "595\n",
    "])\n",
    "b = np.array([147\t,\n",
    "20\t,\n",
    "20\t,\n",
    "246\t,\n",
    "197\t,\n",
    "197\t,\n",
    "20\t,\n",
    "])\n",
    "\n",
    "a + (b/2.0)"
   ]
  },
  {
   "cell_type": "code",
   "execution_count": 52,
   "id": "592fdde1",
   "metadata": {},
   "outputs": [
    {
     "name": "stdout",
     "output_type": "stream",
     "text": [
      "457.92\n",
      "682.5600000000001\n",
      "984.96\n",
      "1382.4\n",
      "1952.6399999999999\n",
      "3058.56\n",
      "4872.96\n",
      "6808.32\n",
      "56712.96\n",
      "66381.12\n",
      "1607860.8\n",
      "2128282.56\n",
      "16364082.24\n",
      "65914.56\n",
      "756898.56\n",
      "1606296.96\n",
      "1776314.8800000001\n",
      "16362639.36\n",
      "587.52\n",
      "881.2800000000001\n",
      "1226.88\n",
      "1745.28\n",
      "2436.48\n",
      "3006.72\n",
      "3689.28\n",
      "4095.3599999999997\n",
      "4449.599999999999\n",
      "4950.719999999999\n",
      "5650.56\n",
      "6212.160000000001\n",
      "6903.36\n",
      "55581.119999999995\n",
      "55702.08\n",
      "55883.520000000004\n",
      "65447.99999999999\n",
      "1609416.0\n",
      "2130053.7600000002\n",
      "16365533.76\n",
      "66856.32\n",
      "16367019.84\n",
      "518.4\n",
      "50664.96000000001\n",
      "285.12\n",
      "319.68\n",
      "354.24\n",
      "777.5999999999999\n",
      "1097.28\n",
      "1563.8400000000001\n",
      "2194.56\n",
      "2825.28\n",
      "3447.3599999999997\n",
      "4008.9599999999996\n",
      "4320.0\n",
      "4769.28\n",
      "5408.64\n",
      "6030.72\n",
      "6661.4400000000005\n",
      "7473.599999999999\n",
      "51693.12\n",
      "54440.64\n",
      "61076.159999999996\n"
     ]
    }
   ],
   "source": [
    "for i in a:\n",
    "    print(i)"
   ]
  },
  {
   "cell_type": "code",
   "execution_count": 58,
   "id": "ddd38e34",
   "metadata": {},
   "outputs": [
    {
     "data": {
      "text/plain": [
       "array([2587750.9776, 2594161.9872, 2602428.3936, 2600461.2384,\n",
       "       2606051.5344])"
      ]
     },
     "execution_count": 58,
     "metadata": {},
     "output_type": "execute_result"
    }
   ],
   "source": [
    "a = np.array([29.879537+30.022106,\n",
    "30.007951+30.042095,\n",
    "30.077613+30.163785,\n",
    "30.096195+30.099667,\n",
    "30.120174+30.205093\n",
    "])\n",
    "a*86400/2"
   ]
  },
  {
   "cell_type": "code",
   "execution_count": null,
   "id": "0f9b5468",
   "metadata": {},
   "outputs": [],
   "source": []
  }
 ],
 "metadata": {
  "kernelspec": {
   "display_name": "Python 3.10.4 64-bit",
   "language": "python",
   "name": "python3"
  },
  "language_info": {
   "codemirror_mode": {
    "name": "ipython",
    "version": 3
   },
   "file_extension": ".py",
   "mimetype": "text/x-python",
   "name": "python",
   "nbconvert_exporter": "python",
   "pygments_lexer": "ipython3",
   "version": "3.10.6"
  },
  "vscode": {
   "interpreter": {
    "hash": "916dbcbb3f70747c44a77c7bcd40155683ae19c65e1c03b4aa3499c5328201f1"
   }
  }
 },
 "nbformat": 4,
 "nbformat_minor": 5
}
