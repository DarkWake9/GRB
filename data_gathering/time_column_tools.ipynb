{
 "cells": [
  {
   "cell_type": "code",
   "execution_count": 1,
   "id": "61c47440",
   "metadata": {},
   "outputs": [],
   "source": [
    "import astropy\n",
    "from astropy import units as u\n",
    "from astropy.time import Time"
   ]
  },
  {
   "cell_type": "code",
   "execution_count": 72,
   "id": "70fdce1e",
   "metadata": {},
   "outputs": [
    {
     "data": {
      "text/plain": [
       "66268.8"
      ]
     },
     "execution_count": 72,
     "metadata": {},
     "output_type": "execute_result"
    }
   ],
   "source": [
    "u.h.to(u.s,18.408) #converts hours to seconds"
   ]
  },
  {
   "cell_type": "code",
   "execution_count": 11,
   "id": "1a1fa1bb",
   "metadata": {
    "scrolled": true
   },
   "outputs": [
    {
     "data": {
      "text/plain": [
       "498.00000000000006"
      ]
     },
     "execution_count": 11,
     "metadata": {},
     "output_type": "execute_result"
    }
   ],
   "source": [
    "u.min.to(u.s, 8.3) #converts minutes to seconds"
   ]
  },
  {
   "cell_type": "code",
   "execution_count": 36,
   "id": "05d941d7",
   "metadata": {},
   "outputs": [
    {
     "data": {
      "text/plain": [
       "49852.799999999996"
      ]
     },
     "execution_count": 36,
     "metadata": {},
     "output_type": "execute_result"
    }
   ],
   "source": [
    "u.day.to(u.s,16.49-15)-9227"
   ]
  },
  {
   "cell_type": "code",
   "execution_count": 81,
   "metadata": {},
   "outputs": [],
   "source": [
    "mags = [0.6225,\n",
    "0.6311,\n",
    "0.6397,\n",
    "0.6418,\n",
    "0.6437,\n",
    "0.6455,\n",
    "0.6473,\n",
    "0.6492,\n",
    "0.651,\n",
    "0.6528,\n",
    "0.6547,\n",
    "0.6565,\n",
    "0.6583,\n",
    "0.6601,\n",
    "0.662,\n",
    "0.6639,\n",
    "0.6657,\n",
    "0.6675,\n",
    "0.6693,\n",
    "0.6712,\n",
    "0.673,\n",
    "0.6749,\n",
    "0.6767,\n",
    "0.6785,\n",
    "0.6804,\n",
    "0.6822,\n",
    "0.684,\n",
    "0.6859,\n",
    "0.6877,\n",
    "0.6895,\n",
    "0.6913,\n",
    "0.6931,\n",
    "0.7014,\n",
    "0.7032,\n",
    "0.7051,\n",
    "0.7069,\n",
    "0.7087,\n",
    "0.7105,\n",
    "0.7124,\n",
    "1.7407,\n",
    "1.7851,\n",
    "1.7931,\n",
    "2.7341,\n",
    "2.7557,\n",
    "2.9086,\n",
    "2.9176,\n",
    "3.7266,\n",
    "3.8531,\n",
    "3.8613,\n",
    "9.8622,\n",
    "27.5763,\n",
    "30.7511,\n",
    "36.904,\n",
    "56.5242,\n",
    "64.5516,\n",
    "]"
   ]
  },
  {
   "cell_type": "code",
   "execution_count": null,
   "id": "bc05d56a",
   "metadata": {},
   "outputs": [],
   "source": [
    "a=[]\n",
    "for i in mags:\n",
    "    a.append(u.h.to(u.s,i))\n",
    "    print(u.h.to(u.s,i))"
   ]
  },
  {
   "cell_type": "code",
   "execution_count": 2,
   "id": "54b6ff8d",
   "metadata": {},
   "outputs": [
    {
     "name": "stdout",
     "output_type": "stream",
     "text": [
      "214272.0\n",
      "215136.00000000003\n",
      "217728.0\n",
      "218591.99999999997\n",
      "236736.00000000003\n",
      "298080.0\n",
      "304992.0\n",
      "320544.0\n",
      "562464.0\n",
      "683424.0\n",
      "764640.0\n",
      "854496.0\n",
      "1200960.0\n",
      "1283040.0\n",
      "1384992.0\n",
      "1556064.0000000002\n",
      "1769472.0\n",
      "1772064.0000000002\n",
      "1849824.0\n",
      "2033856.0\n",
      "2298240.0\n",
      "2299104.0\n",
      "3068928.0000000005\n",
      "3928608.0\n",
      "3931200.0\n"
     ]
    }
   ],
   "source": [
    "mags=[2.48,\n",
    "2.49,\n",
    "2.52,\n",
    "2.53,\n",
    "2.74,\n",
    "3.45,\n",
    "3.53,\n",
    "3.71,\n",
    "6.51,\n",
    "7.91,\n",
    "8.85,\n",
    "9.89,\n",
    "13.9,\n",
    "14.85,\n",
    "16.03,\n",
    "18.01,\n",
    "20.48,\n",
    "20.51,\n",
    "21.41,\n",
    "23.54,\n",
    "26.6,\n",
    "26.61,\n",
    "35.52,\n",
    "45.47,\n",
    "45.5,\n",
    "]\n",
    "a=[]\n",
    "for i in mags:\n",
    "    print(u.day.to(u.s, i))\n"
   ]
  },
  {
   "cell_type": "code",
   "execution_count": 111,
   "id": "3f672e3e",
   "metadata": {},
   "outputs": [
    {
     "data": {
      "text/plain": [
       "119512.80999999987"
      ]
     },
     "execution_count": 111,
     "metadata": {},
     "output_type": "execute_result"
    }
   ],
   "source": [
    "x = 16.49 -15\n",
    "u.day.to(u.s, x) - 9223.19#converts days to seconds"
   ]
  },
  {
   "cell_type": "code",
   "execution_count": 110,
   "id": "9318a6ea",
   "metadata": {},
   "outputs": [
    {
     "data": {
      "text/plain": [
       "873.6"
      ]
     },
     "execution_count": 110,
     "metadata": {},
     "output_type": "execute_result"
    }
   ],
   "source": [
    "14.56*60"
   ]
  },
  {
   "cell_type": "code",
   "execution_count": 113,
   "id": "b690fbbd",
   "metadata": {},
   "outputs": [
    {
     "data": {
      "text/plain": [
       "188280.0"
      ]
     },
     "execution_count": 113,
     "metadata": {},
     "output_type": "execute_result"
    }
   ],
   "source": [
    "52.3*3600"
   ]
  },
  {
   "cell_type": "code",
   "execution_count": 114,
   "id": "2a458a89",
   "metadata": {},
   "outputs": [
    {
     "data": {
      "text/plain": [
       "106185.6"
      ]
     },
     "execution_count": 114,
     "metadata": {},
     "output_type": "execute_result"
    }
   ],
   "source": [
    "1.229*86400"
   ]
  },
  {
   "cell_type": "code",
   "execution_count": 106,
   "id": "44a4093f",
   "metadata": {},
   "outputs": [
    {
     "data": {
      "text/plain": [
       "2113768.81"
      ]
     },
     "execution_count": 106,
     "metadata": {},
     "output_type": "execute_result"
    }
   ],
   "source": [
    "2110168.81+3600"
   ]
  },
  {
   "cell_type": "code",
   "execution_count": 78,
   "id": "62e2d483",
   "metadata": {},
   "outputs": [
    {
     "data": {
      "text/plain": [
       "108380.16999999998"
      ]
     },
     "execution_count": 78,
     "metadata": {},
     "output_type": "execute_result"
    }
   ],
   "source": [
    "66268.8 + 86400 - 44288.63\n"
   ]
  },
  {
   "cell_type": "code",
   "execution_count": 44,
   "id": "19d3f9f4",
   "metadata": {},
   "outputs": [
    {
     "data": {
      "text/plain": [
       "40683.370000000046"
      ]
     },
     "execution_count": 44,
     "metadata": {},
     "output_type": "execute_result"
    }
   ],
   "source": [
    "40383.370000000046+300"
   ]
  },
  {
   "cell_type": "code",
   "execution_count": 5,
   "id": "46cb3ada",
   "metadata": {},
   "outputs": [],
   "source": [
    "def midt(tstart,tstop):\n",
    "    frac = (tstop - tstart)/2\n",
    "    midt = tstart + frac\n",
    "    return midt"
   ]
  },
  {
   "cell_type": "code",
   "execution_count": 54,
   "id": "4288d025",
   "metadata": {},
   "outputs": [
    {
     "data": {
      "text/plain": [
       "13065.0"
      ]
     },
     "execution_count": 54,
     "metadata": {},
     "output_type": "execute_result"
    }
   ],
   "source": [
    "midt(7484,18646)"
   ]
  },
  {
   "cell_type": "code",
   "execution_count": 28,
   "id": "1f9822ba",
   "metadata": {},
   "outputs": [
    {
     "data": {
      "text/plain": [
       "169344.0"
      ]
     },
     "execution_count": 28,
     "metadata": {},
     "output_type": "execute_result"
    }
   ],
   "source": [
    "1.96*86400"
   ]
  },
  {
   "cell_type": "code",
   "execution_count": 5,
   "id": "55d7ca4c",
   "metadata": {},
   "outputs": [
    {
     "data": {
      "text/plain": [
       "494.27"
      ]
     },
     "execution_count": 5,
     "metadata": {},
     "output_type": "execute_result"
    }
   ],
   "source": [
    "(415.43+573.11)/2.0"
   ]
  },
  {
   "cell_type": "code",
   "execution_count": 2,
   "id": "ab01651b",
   "metadata": {},
   "outputs": [
    {
     "data": {
      "text/plain": [
       "10800"
      ]
     },
     "execution_count": 2,
     "metadata": {},
     "output_type": "execute_result"
    }
   ],
   "source": [
    "3*3600"
   ]
  },
  {
   "cell_type": "code",
   "execution_count": 4,
   "id": "a3ac4e68",
   "metadata": {},
   "outputs": [
    {
     "data": {
      "text/plain": [
       "11580"
      ]
     },
     "execution_count": 4,
     "metadata": {},
     "output_type": "execute_result"
    }
   ],
   "source": [
    "13*60 + 10800"
   ]
  },
  {
   "cell_type": "code",
   "execution_count": 46,
   "id": "1355f00e",
   "metadata": {},
   "outputs": [
    {
     "data": {
      "text/plain": [
       "7377.5"
      ]
     },
     "execution_count": 46,
     "metadata": {},
     "output_type": "execute_result"
    }
   ],
   "source": [
    "7279 + (197/2)"
   ]
  },
  {
   "cell_type": "code",
   "execution_count": 18,
   "id": "9477c119",
   "metadata": {},
   "outputs": [
    {
     "name": "stdout",
     "output_type": "stream",
     "text": [
      "Start time: 02:33:43.190000\n",
      "End time: 10:40:04\n",
      "Time difference is 29180.81 seconds\n",
      "Time difference is 29180810.0 milliseconds\n"
     ]
    }
   ],
   "source": [
    "from datetime import datetime\n",
    "\n",
    "# start time\n",
    "start_time = \"02:33:43.19\"\n",
    "end_time = \"10:40:4.0\"\n",
    "\n",
    "# convert time string to datetime\n",
    "t1 = datetime.strptime(start_time, \"%H:%M:%S.%f\")\n",
    "print('Start time:', t1.time())\n",
    "\n",
    "t2 = datetime.strptime(end_time, \"%H:%M:%S.%f\")\n",
    "print('End time:', t2.time())\n",
    "\n",
    "# get difference\n",
    "delta = t2 - t1\n",
    "\n",
    "# time difference in seconds\n",
    "print(f\"Time difference is {delta.total_seconds()} seconds\")\n",
    "\n",
    "# time difference in milliseconds\n",
    "ms = delta.total_seconds() * 1000\n",
    "print(f\"Time difference is {ms} milliseconds\")"
   ]
  },
  {
   "cell_type": "code",
   "execution_count": 19,
   "id": "d87acf8e",
   "metadata": {},
   "outputs": [
    {
     "data": {
      "text/plain": [
       "1153340.8050000002"
      ]
     },
     "execution_count": 19,
     "metadata": {},
     "output_type": "execute_result"
    }
   ],
   "source": [
    "(28-15)*86400 + 29180.81 + (1919.99/2)"
   ]
  },
  {
   "cell_type": "code",
   "execution_count": 95,
   "metadata": {},
   "outputs": [
    {
     "name": "stdout",
     "output_type": "stream",
     "text": [
      "3295.37\n",
      "3716.37\n",
      "4136.37\n",
      "10153.37\n",
      "13853.37\n",
      "14979.37\n",
      "27539.37\n",
      "8443.37\n",
      "9287.37\n",
      "13531.37\n",
      "14208.37\n",
      "15319.37\n",
      "1991.37\n",
      "2412.37\n",
      "2834.37\n",
      "8082.37\n",
      "10686.37\n",
      "12683.37\n",
      "13007.37\n",
      "14510.37\n",
      "15681.37\n",
      "16099.37\n",
      "27885.37\n",
      "28276.37\n"
     ]
    }
   ],
   "source": [
    "times = [\"13:13:04.0\",\n",
    "\"13:20:05.0\",\n",
    "\"13:27:05.0\",\n",
    "\"15:07:22.0\",\n",
    "\"16:09:02.0\",\n",
    "\"16:27:48.0\",\n",
    "\"19:57:08.0\",\n",
    "\"14:38:52.0\",\n",
    "\"14:52:56.0\",\n",
    "\"16:03:40.0\",\n",
    "\"16:14:57.0\",\n",
    "\"16:33:28.0\",\n",
    "\"12:51:20.0\",\n",
    "\"12:58:21.0\",\n",
    "\"13:05:23.0\",\n",
    "\"14:32:51.0\",\n",
    "\"15:16:15.0\",\n",
    "\"15:49:32.0\",\n",
    "\"15:54:56.0\",\n",
    "\"16:19:59.0\",\n",
    "\"16:39:30.0\",\n",
    "\"16:46:28.0\",\n",
    "\"20:02:54.0\",\n",
    "\"20:09:25.0\"\n",
    "]\n",
    "\n",
    "for i in times:\n",
    "    fn(\"12:18:08.63\",i)"
   ]
  },
  {
   "cell_type": "code",
   "execution_count": 66,
   "id": "15bea0c0",
   "metadata": {},
   "outputs": [
    {
     "data": {
      "text/plain": [
       "1072736.37"
      ]
     },
     "execution_count": 66,
     "metadata": {},
     "output_type": "execute_result"
    }
   ],
   "source": [
    "86400*12 + 35936.37"
   ]
  },
  {
   "cell_type": "code",
   "execution_count": 34,
   "id": "3e60efee",
   "metadata": {},
   "outputs": [
    {
     "data": {
      "text/plain": [
       "60733.369999999995"
      ]
     },
     "execution_count": 34,
     "metadata": {},
     "output_type": "execute_result"
    }
   ],
   "source": [
    "86400-25666.63\n"
   ]
  },
  {
   "cell_type": "code",
   "execution_count": 57,
   "id": "798b0c0d",
   "metadata": {},
   "outputs": [
    {
     "data": {
      "text/plain": [
       "693596"
      ]
     },
     "execution_count": 57,
     "metadata": {},
     "output_type": "execute_result"
    }
   ],
   "source": [
    "t1.toordinal()"
   ]
  },
  {
   "cell_type": "code",
   "execution_count": 40,
   "id": "9c9c9a86",
   "metadata": {},
   "outputs": [
    {
     "data": {
      "text/plain": [
       "datetime.datetime(1900, 1, 1, 1, 12, 15)"
      ]
     },
     "execution_count": 40,
     "metadata": {},
     "output_type": "execute_result"
    }
   ],
   "source": [
    "t1"
   ]
  },
  {
   "cell_type": "code",
   "execution_count": 36,
   "id": "aea1d01a",
   "metadata": {},
   "outputs": [
    {
     "data": {
      "text/plain": [
       "89.0"
      ]
     },
     "execution_count": 36,
     "metadata": {},
     "output_type": "execute_result"
    }
   ],
   "source": [
    "84 + (10/2)"
   ]
  },
  {
   "cell_type": "code",
   "execution_count": null,
   "id": "d042b441",
   "metadata": {},
   "outputs": [],
   "source": [
    "84s"
   ]
  },
  {
   "cell_type": "code",
   "execution_count": 7,
   "id": "a5c29713",
   "metadata": {},
   "outputs": [
    {
     "data": {
      "text/plain": [
       "[1.1200000000000001e-07,\n",
       " 4.181333333333334e-08,\n",
       " 3.24857820656576e-08,\n",
       " 2.4408382753952065e-08,\n",
       " 2.746432554548314e-08,\n",
       " 2.607897153351699e-08,\n",
       " 2.4372837370242214e-08]"
      ]
     },
     "execution_count": 7,
     "metadata": {},
     "output_type": "execute_result"
    }
   ],
   "source": [
    "import numpy as np\n",
    "\n",
    "H = [350,750,1178,1603,1870,2310,2720]\n",
    "H2 = np.square(H)\n",
    "h = [7,12,23,32,49,71,92]\n",
    "h = np.multiply(h, 0.0001)\n",
    "g = 9.8\n",
    "x = [2.0 * g * h[i] / float(H2[i]) for i in range(len(H))]\n",
    "x"
   ]
  },
  {
   "cell_type": "code",
   "execution_count": null,
   "id": "cec68c5c",
   "metadata": {},
   "outputs": [],
   "source": []
  }
 ],
 "metadata": {
  "kernelspec": {
   "display_name": "Python 3.10.4 64-bit",
   "language": "python",
   "name": "python3"
  },
  "language_info": {
   "codemirror_mode": {
    "name": "ipython",
    "version": 3
   },
   "file_extension": ".py",
   "mimetype": "text/x-python",
   "name": "python",
   "nbconvert_exporter": "python",
   "pygments_lexer": "ipython3",
   "version": "3.10.4"
  },
  "vscode": {
   "interpreter": {
    "hash": "916dbcbb3f70747c44a77c7bcd40155683ae19c65e1c03b4aa3499c5328201f1"
   }
  }
 },
 "nbformat": 4,
 "nbformat_minor": 5
}
