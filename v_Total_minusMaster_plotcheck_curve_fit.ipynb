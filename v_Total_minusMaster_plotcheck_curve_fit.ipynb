{
 "cells": [
  {
   "cell_type": "markdown",
   "id": "d237f6a2",
   "metadata": {},
   "source": [
    "VERSION 0.1 ON 30072022 - 23.52\n",
    "\n",
    "\n",
    "\n",
    "I HAVE BEEN ALLOTTED 80 GRB FILES (NAMES STORED IN THE VARIABLE $folders$)\n",
    "\n",
    "OUT OF THOSE 80 FILES, 22 ARE MASTERSAMPLE FILES SO THEY HAVE BEEN IGNORED AS PER INSTRUCTIONS\n",
    "\n",
    "THE REMAINING 52 FILES ARE WITHOUT DUPLICATE BANDS IN THE SAME TIME AND/OR LIMITING MAGNITUDES\n",
    "\n",
    "ANY POINTS SEEN OVERLAPPING ARE SIMPLY VERY CLOSE TO EACH OTHER"
   ]
  },
  {
   "cell_type": "code",
   "execution_count": 1,
   "id": "f76357a7",
   "metadata": {},
   "outputs": [],
   "source": [
    "import plotly.express as px\n",
    "import plotly.graph_objects as go\n",
    "import pandas as pd\n",
    "import numpy as np\n",
    "import kaleido\n",
    "from PyPDF2 import PdfFileMerger\n",
    "import scipy\n",
    "import matplotlib.pyplot as plt\n",
    "#from sklearn.linear_model import LinearRegression"
   ]
  },
  {
   "cell_type": "code",
   "execution_count": 2,
   "id": "27c52693",
   "metadata": {},
   "outputs": [],
   "source": [
    "#FILE PATHS\n",
    "#systempath = \"/media/darkwake/VIB2/\"\n",
    "systempath = ''\n",
    "inputfilepath = systempath + \"task3/v_converted_filtered_files/with_outliers/\"\n",
    "output_file_path = systempath + \"task3/v_converted_filtered_files/\"\n",
    "output_pdf_path = systempath + \"task3/v_out_pdfs/\"\n",
    "#THE 80 FILES ALOTTED TO ME\n",
    "folders = \"140423A ,140428A ,140430A ,140506A ,140508A ,140509A ,140512A ,140515A ,140518A ,140606B ,140614A ,140620A ,140623A ,140629A ,140703A ,140710A ,140801A ,140808A ,140903A ,140907A ,141004A ,141028A ,141109A ,141121A ,141220A ,141221A ,141225A ,150101B ,150120B ,150206A ,150301B ,150314A ,150323A ,150403A ,150413A ,150423A ,150514A ,150518A ,150727A ,150818A ,150821A ,150910A ,150915A ,151021A ,151027A ,151027B ,151029A ,151031A ,151111A ,151112A ,151215A ,160117B ,160121A ,160131A ,160203A ,160227A ,160228A ,160314A ,160410A ,160425A ,160509A ,160623A ,160625B ,160629A ,160804A ,160821B ,161014A ,161017A ,161023A ,161108A ,161117A ,161129A ,161219B ,170113A ,170202A ,170214A ,170405A ,170428A ,170519A\"\n",
    "\n",
    "#22 MASTERSAMPLE FILES WITHIN MY ALOTTED FILES\n",
    "masterfolders = \"140423A,140430A,140801A,140907A,141121A,141221A,150323A,150413A,150910A,151027A,151029A,160131A,160227A,160314A,160425A,160804A,161014A,161023A,161219B,170113A,170405A, 170531B\"\n",
    "folders = folders.split(\" ,\")\n",
    "masterfolders = masterfolders.split(\",\")\n",
    "\n",
    "\n",
    "#ADDITIONAL PRECURSOR FILES\n",
    "v_folders = ['121027A', '121201A', '121209A', '121211A', '121229A', '130408A', '130418A', '130427B', '130505A', '130511A', '130514A', '130518A', '130603B', '130610A', '130612A', '130701A', '130907A', '130925A', '131004A', '131011A', '131030A', '131103A', '131105A', '131108A', '131117A', '131231A', '140114A', '140213A', '140226A', '140301A', '140304A', '140311A', '140318A', '140419A']\n",
    "\n",
    "#Biagio's Additional files - are merged in a separate .pdf\n",
    "b_folders = ['970228A', '971214A', '980329A', '980425A', '980613A', '980703A', '990123A', '990712A', '991208A']\n",
    "#REMOVING THE MASTERSAMPLE FILES FROM THE LIST OF FILES TO BE SCANNED\n",
    "for i in masterfolders:\n",
    "    if i in folders:\n",
    "        folders.remove(i)\n",
    "v_folders.extend(folders)\n",
    "\n",
    "filenames = [i + \"_converted_filtered_flux\" for i in v_folders]\n",
    "b_filenames = [i + \"_converted_filtered_flux\" for i in b_folders]"
   ]
  },
  {
   "cell_type": "code",
   "execution_count": 3,
   "id": "85b55d5c",
   "metadata": {},
   "outputs": [],
   "source": [
    "#FUNCTION TO CONCATANATE N DATA FRAMES INTO A SINGLE DATAFRAME AND RETURN IT\n",
    "def concat(*args):\n",
    "    return pd.concat([x for x in args if not x.empty])"
   ]
  },
  {
   "cell_type": "code",
   "execution_count": 4,
   "id": "b9691e53",
   "metadata": {},
   "outputs": [],
   "source": [
    "#QUADRATIC EXPRESSION\n",
    "def poly(x, a, b, c):\n",
    "    return a * (x**2) + b * x + c"
   ]
  },
  {
   "cell_type": "markdown",
   "id": "ff920dc2",
   "metadata": {},
   "source": [
    "curvesl = LinearRegression()\n",
    "#curvesl.fit(np.log10(light2.index.values).reshape(-1, 1), np.log10(light2.flux.values))\n",
    "t2 = np.array([np.log10(light2.index.values),np.square(np.log10(light2.index.values))]).T\n",
    "curvesl.fit(t2, np.log10(light2.flux.values))\n",
    "m = curvesl.coef_\n",
    "c = curvesl.intercept_\n",
    "flux_pred = []\n",
    "for i in light2.index.values:\n",
    "    flux_pred.append(poly(np.log10(i), m[1], m[0], c))"
   ]
  },
  {
   "cell_type": "code",
   "execution_count": null,
   "id": "0fcc5d1a",
   "metadata": {},
   "outputs": [],
   "source": [
    "1 in range(-1, 3)"
   ]
  },
  {
   "cell_type": "code",
   "execution_count": null,
   "id": "9c88ee4d",
   "metadata": {},
   "outputs": [],
   "source": [
    "filenames[30]"
   ]
  },
  {
   "cell_type": "code",
   "execution_count": 9,
   "id": "3b8f7f00",
   "metadata": {},
   "outputs": [
    {
     "data": {
      "text/plain": [
       "'140114A_converted_filtered_flux'"
      ]
     },
     "execution_count": 9,
     "metadata": {},
     "output_type": "execute_result"
    }
   ],
   "source": [
    "filenames[26]"
   ]
  },
  {
   "cell_type": "code",
   "execution_count": 10,
   "id": "a6dc8384",
   "metadata": {},
   "outputs": [],
   "source": [
    "light = pd.read_csv(inputfilepath + filenames[26]+\".txt\", engine=\"python\", names= [\"time_sec\",\"flux\",\"flux_err\",\"band\",\"source\"],\n",
    "         header=0, index_col=0)"
   ]
  },
  {
   "cell_type": "code",
   "execution_count": 11,
   "id": "f60f39d7",
   "metadata": {},
   "outputs": [
    {
     "data": {
      "text/plain": [
       "array([-14.86212306])"
      ]
     },
     "execution_count": 11,
     "metadata": {},
     "output_type": "execute_result"
    }
   ],
   "source": [
    "np.log10(light.flux_err.values)"
   ]
  },
  {
   "cell_type": "code",
   "execution_count": 12,
   "id": "8d876c6a",
   "metadata": {},
   "outputs": [
    {
     "data": {
      "text/plain": [
       "array([-14.86212306])"
      ]
     },
     "execution_count": 12,
     "metadata": {},
     "output_type": "execute_result"
    }
   ],
   "source": [
    "np.log10(light.flux_err.values)"
   ]
  },
  {
   "cell_type": "code",
   "execution_count": 18,
   "id": "84390e42",
   "metadata": {},
   "outputs": [],
   "source": [
    "def fit(light):\n",
    "    if len(light) in range(1, 7):\n",
    "        return 0\n",
    "    if len(light) == 0:\n",
    "        return 1\n",
    "        \n",
    "    light2 = light.sort_index()\n",
    "    curves=scipy.optimize.curve_fit(poly, np.log10(light2.index.values), np.log10(light2.flux.values) )[0]\n",
    "    flux_pred = []\n",
    "    for i in light2.index.values:\n",
    "        flux_pred.append(poly(np.log10(i), curves[0], curves[1], curves[2]))\n",
    "\n",
    "    return flux_pred"
   ]
  },
  {
   "cell_type": "code",
   "execution_count": 14,
   "id": "ba34c919",
   "metadata": {},
   "outputs": [],
   "source": [
    "def poly2(x, a, b):\n",
    "    return 2 * a * x + b"
   ]
  },
  {
   "cell_type": "code",
   "execution_count": 63,
   "id": "c0ccc961",
   "metadata": {},
   "outputs": [],
   "source": [
    "def rem_outliers(light,flux_pred):\n",
    "    \n",
    "    if isinstance(light, int) or isinstance(light, float):\n",
    "        return 1\n",
    "    \n",
    "    if len(light) in range(1, 7):\n",
    "        return 0\n",
    "    if len(light) == 0:\n",
    "        return 1\n",
    "    \n",
    "    light2 = light.sort_index()\n",
    "    for i in range(len(light2.index.values)):\n",
    "        if abs(np.log10(flux_pred[i]) - np.log10(light.flux.values[i])) > 0.3:\n",
    "            light2.flux.values[i] = None\n",
    "\n",
    "    light2.dropna(inplace=True)  \n",
    "    \n",
    "    return light2"
   ]
  },
  {
   "cell_type": "markdown",
   "id": "d99576c9",
   "metadata": {},
   "source": [
    "with_outliers = \"with_outliers/\"\n",
    "def plot(light, flux_pred, filename):\n",
    "    filename2 = filename.replace(\"_flux\", \"_curve_fitted_flux_with_outliers\")\n",
    "    \n",
    "    if len(light) == 0:\n",
    "        fig = px.scatter(title=filename + ' NULL AFTER FILTERING')\n",
    "        fig.write_image(output_pdf_path + with_outliers+ filename2+\".pdf\")\n",
    "        return 1\n",
    "\n",
    "    if flux_pred == 0:\n",
    "        fig = px.scatter(\n",
    "                data_frame=light,\n",
    "                x=np.log10(light.index),\n",
    "                y=np.log10(light.flux.values),\n",
    "                error_y= light.flux_err.values / (light.flux.values * np.log(10)),\n",
    "                color=light['band'].values,\n",
    "                hover_data=['source'],\n",
    "                title=filename + \" MORE DATA NEEDED\"\n",
    "            )\n",
    "        fig.update_layout(\n",
    "                xaxis_title='log Time (s)',\n",
    "                yaxis_title='log Flux (erg cm-2 s-1)'\n",
    "            )\n",
    "        fig.write_image(output_pdf_path + with_outliers+ filename2+\".pdf\")\n",
    "        return 0\n",
    "\n",
    "    \n",
    "\n",
    "    light2 = light.sort_index()\n",
    "    fig = px.scatter(\n",
    "                data_frame=light2,\n",
    "                x=np.log10(light2.index),\n",
    "                y=np.log10(light2['flux'].values),\n",
    "                error_y= light2['flux_err'].values / (light2['flux'].values * np.log(10)),\n",
    "                color=light2['band'].values,\n",
    "                hover_data=['source'],\n",
    "                title=filename,width=1200, height=750\n",
    "            )\n",
    "    fig.add_trace(go.Scatter(x=np.log10(light2.index.values), y=flux_pred,mode=\"lines\", line = go.scatter.Line(color='gray'), showlegend=False))\n",
    "    fig.update_layout(\n",
    "                xaxis_title='log Time (s)',\n",
    "                yaxis_title='log Flux (erg cm-2 s-1)'\n",
    "            )\n",
    "    \n",
    "    #fig.show()\n",
    "    fig.write_image(output_pdf_path + with_outliers+ filename2+\".pdf\")"
   ]
  },
  {
   "cell_type": "markdown",
   "id": "f24732a1",
   "metadata": {},
   "source": [
    "flux_pred = fit(light)\n",
    "plot(light, fit(light), filenames[16])"
   ]
  },
  {
   "cell_type": "code",
   "execution_count": 64,
   "id": "520aef2d",
   "metadata": {},
   "outputs": [],
   "source": [
    "no_outliers = \"no_outliers/\"\n",
    "def plot(light, flux_pred, filename):\n",
    "    filename2 = filename.replace(\"_flux\", \"_curve_fitted_flux_no_outliers\")\n",
    "    \n",
    "    if isinstance(light, int) or isinstance(light, float):\n",
    "        fig = px.scatter(title=filename + ' NULL AFTER FILTERING')\n",
    "        fig.write_image(output_pdf_path + no_outliers+ filename2+\".pdf\")\n",
    "        return 1\n",
    "\n",
    "    if flux_pred == 0:\n",
    "        fig = px.scatter(\n",
    "                data_frame=light,\n",
    "                x=np.log10(light.index),\n",
    "                y=np.log10(light.flux.values),\n",
    "                error_y= light.flux_err.values / (light.flux.values * np.log(10)),\n",
    "                color=light['band'].values,\n",
    "                hover_data=['source'],\n",
    "                title=filename + \" MORE DATA NEEDED\"\n",
    "            )\n",
    "        fig.update_layout(\n",
    "                xaxis_title='log Time (s)',\n",
    "                yaxis_title='log Flux (erg cm-2 s-1)'\n",
    "            )\n",
    "        fig.write_image(output_pdf_path + no_outliers + filename2+\".pdf\")\n",
    "        return 0\n",
    "\n",
    "    \n",
    "\n",
    "    light2 = light.sort_index()\n",
    "    fig = px.scatter(\n",
    "                data_frame=light2,\n",
    "                x=np.log10(light2.index),\n",
    "                y=np.log10(light2['flux'].values),\n",
    "                error_y= light2['flux_err'].values / (light2['flux'].values * np.log(10)),\n",
    "                color=light2['band'].values,\n",
    "                hover_data=['source'],\n",
    "                title=filename,width=1200, height=750\n",
    "            )\n",
    "    fig.add_trace(go.Scatter(x=np.log10(light2.index.values), y=flux_pred,mode=\"lines\", line = go.scatter.Line(color='gray'), showlegend=False))\n",
    "    fig.update_layout(\n",
    "                xaxis_title='log Time (s)',\n",
    "                yaxis_title='log Flux (erg cm-2 s-1)'\n",
    "            )\n",
    "    \n",
    "    #fig.show()\n",
    "    fig.write_image(output_pdf_path + no_outliers+ filename2+\".pdf\")"
   ]
  },
  {
   "cell_type": "markdown",
   "id": "de10bf1a",
   "metadata": {},
   "source": [
    "file = filenames[1]\n",
    "light = pd.read_csv(inputfilepath + file+\".txt\", engine=\"python\", names= [\"time_sec\",\"flux\",\"flux_err\",\"band\",\"source\"],\n",
    "         header=0, index_col=0)\n",
    "light"
   ]
  },
  {
   "cell_type": "markdown",
   "id": "b22cd812",
   "metadata": {},
   "source": [
    "plot(light, fit(light), file)"
   ]
  },
  {
   "cell_type": "markdown",
   "id": "3a3f139e",
   "metadata": {},
   "source": [
    "light.to_csv(\"task3/v_converted_filtered_files/\"+file + \"no_outliers.txt\")"
   ]
  },
  {
   "cell_type": "code",
   "execution_count": 65,
   "id": "135519c5",
   "metadata": {},
   "outputs": [
    {
     "name": "stderr",
     "output_type": "stream",
     "text": [
      "/tmp/ipykernel_21485/917039953.py:13: RuntimeWarning:\n",
      "\n",
      "invalid value encountered in log10\n",
      "\n",
      "/tmp/ipykernel_21485/917039953.py:13: RuntimeWarning:\n",
      "\n",
      "invalid value encountered in log10\n",
      "\n",
      "/tmp/ipykernel_21485/917039953.py:13: RuntimeWarning:\n",
      "\n",
      "invalid value encountered in log10\n",
      "\n",
      "/tmp/ipykernel_21485/917039953.py:13: RuntimeWarning:\n",
      "\n",
      "invalid value encountered in log10\n",
      "\n",
      "/tmp/ipykernel_21485/917039953.py:13: RuntimeWarning:\n",
      "\n",
      "invalid value encountered in log10\n",
      "\n",
      "/tmp/ipykernel_21485/917039953.py:13: RuntimeWarning:\n",
      "\n",
      "invalid value encountered in log10\n",
      "\n",
      "/tmp/ipykernel_21485/917039953.py:13: RuntimeWarning:\n",
      "\n",
      "invalid value encountered in log10\n",
      "\n",
      "/tmp/ipykernel_21485/917039953.py:13: RuntimeWarning:\n",
      "\n",
      "invalid value encountered in log10\n",
      "\n",
      "/tmp/ipykernel_21485/917039953.py:13: RuntimeWarning:\n",
      "\n",
      "invalid value encountered in log10\n",
      "\n",
      "/tmp/ipykernel_21485/917039953.py:13: RuntimeWarning:\n",
      "\n",
      "invalid value encountered in log10\n",
      "\n",
      "/tmp/ipykernel_21485/917039953.py:13: RuntimeWarning:\n",
      "\n",
      "invalid value encountered in log10\n",
      "\n",
      "/tmp/ipykernel_21485/917039953.py:13: RuntimeWarning:\n",
      "\n",
      "invalid value encountered in log10\n",
      "\n",
      "/tmp/ipykernel_21485/917039953.py:13: RuntimeWarning:\n",
      "\n",
      "invalid value encountered in log10\n",
      "\n",
      "/tmp/ipykernel_21485/917039953.py:13: RuntimeWarning:\n",
      "\n",
      "invalid value encountered in log10\n",
      "\n",
      "/tmp/ipykernel_21485/917039953.py:13: RuntimeWarning:\n",
      "\n",
      "invalid value encountered in log10\n",
      "\n",
      "/tmp/ipykernel_21485/917039953.py:13: RuntimeWarning:\n",
      "\n",
      "invalid value encountered in log10\n",
      "\n",
      "/tmp/ipykernel_21485/917039953.py:13: RuntimeWarning:\n",
      "\n",
      "invalid value encountered in log10\n",
      "\n",
      "/tmp/ipykernel_21485/917039953.py:13: RuntimeWarning:\n",
      "\n",
      "invalid value encountered in log10\n",
      "\n",
      "/tmp/ipykernel_21485/917039953.py:13: RuntimeWarning:\n",
      "\n",
      "invalid value encountered in log10\n",
      "\n",
      "/tmp/ipykernel_21485/917039953.py:13: RuntimeWarning:\n",
      "\n",
      "invalid value encountered in log10\n",
      "\n",
      "/tmp/ipykernel_21485/917039953.py:13: RuntimeWarning:\n",
      "\n",
      "invalid value encountered in log10\n",
      "\n",
      "/tmp/ipykernel_21485/917039953.py:13: RuntimeWarning:\n",
      "\n",
      "invalid value encountered in log10\n",
      "\n",
      "/tmp/ipykernel_21485/917039953.py:13: RuntimeWarning:\n",
      "\n",
      "invalid value encountered in log10\n",
      "\n",
      "/tmp/ipykernel_21485/917039953.py:13: RuntimeWarning:\n",
      "\n",
      "invalid value encountered in log10\n",
      "\n",
      "/tmp/ipykernel_21485/917039953.py:13: RuntimeWarning:\n",
      "\n",
      "invalid value encountered in log10\n",
      "\n",
      "/tmp/ipykernel_21485/917039953.py:13: RuntimeWarning:\n",
      "\n",
      "invalid value encountered in log10\n",
      "\n",
      "/tmp/ipykernel_21485/917039953.py:13: RuntimeWarning:\n",
      "\n",
      "invalid value encountered in log10\n",
      "\n",
      "/tmp/ipykernel_21485/917039953.py:13: RuntimeWarning:\n",
      "\n",
      "invalid value encountered in log10\n",
      "\n",
      "/tmp/ipykernel_21485/917039953.py:13: RuntimeWarning:\n",
      "\n",
      "invalid value encountered in log10\n",
      "\n",
      "/tmp/ipykernel_21485/917039953.py:13: RuntimeWarning:\n",
      "\n",
      "invalid value encountered in log10\n",
      "\n",
      "/tmp/ipykernel_21485/917039953.py:13: RuntimeWarning:\n",
      "\n",
      "invalid value encountered in log10\n",
      "\n",
      "/tmp/ipykernel_21485/917039953.py:13: RuntimeWarning:\n",
      "\n",
      "invalid value encountered in log10\n",
      "\n",
      "/tmp/ipykernel_21485/917039953.py:13: RuntimeWarning:\n",
      "\n",
      "invalid value encountered in log10\n",
      "\n",
      "/tmp/ipykernel_21485/917039953.py:13: RuntimeWarning:\n",
      "\n",
      "invalid value encountered in log10\n",
      "\n",
      "/tmp/ipykernel_21485/917039953.py:13: RuntimeWarning:\n",
      "\n",
      "invalid value encountered in log10\n",
      "\n",
      "/tmp/ipykernel_21485/917039953.py:13: RuntimeWarning:\n",
      "\n",
      "invalid value encountered in log10\n",
      "\n",
      "/tmp/ipykernel_21485/917039953.py:13: RuntimeWarning:\n",
      "\n",
      "invalid value encountered in log10\n",
      "\n",
      "/tmp/ipykernel_21485/917039953.py:13: RuntimeWarning:\n",
      "\n",
      "invalid value encountered in log10\n",
      "\n",
      "/tmp/ipykernel_21485/917039953.py:13: RuntimeWarning:\n",
      "\n",
      "invalid value encountered in log10\n",
      "\n",
      "/tmp/ipykernel_21485/917039953.py:13: RuntimeWarning:\n",
      "\n",
      "invalid value encountered in log10\n",
      "\n",
      "/tmp/ipykernel_21485/917039953.py:13: RuntimeWarning:\n",
      "\n",
      "invalid value encountered in log10\n",
      "\n",
      "/tmp/ipykernel_21485/917039953.py:13: RuntimeWarning:\n",
      "\n",
      "invalid value encountered in log10\n",
      "\n",
      "/tmp/ipykernel_21485/917039953.py:13: RuntimeWarning:\n",
      "\n",
      "invalid value encountered in log10\n",
      "\n",
      "/tmp/ipykernel_21485/917039953.py:13: RuntimeWarning:\n",
      "\n",
      "invalid value encountered in log10\n",
      "\n",
      "/tmp/ipykernel_21485/917039953.py:13: RuntimeWarning:\n",
      "\n",
      "invalid value encountered in log10\n",
      "\n",
      "/tmp/ipykernel_21485/917039953.py:13: RuntimeWarning:\n",
      "\n",
      "invalid value encountered in log10\n",
      "\n",
      "/tmp/ipykernel_21485/917039953.py:13: RuntimeWarning:\n",
      "\n",
      "invalid value encountered in log10\n",
      "\n",
      "/tmp/ipykernel_21485/917039953.py:13: RuntimeWarning:\n",
      "\n",
      "invalid value encountered in log10\n",
      "\n",
      "/tmp/ipykernel_21485/917039953.py:13: RuntimeWarning:\n",
      "\n",
      "invalid value encountered in log10\n",
      "\n",
      "/tmp/ipykernel_21485/917039953.py:13: RuntimeWarning:\n",
      "\n",
      "invalid value encountered in log10\n",
      "\n",
      "/tmp/ipykernel_21485/917039953.py:13: RuntimeWarning:\n",
      "\n",
      "invalid value encountered in log10\n",
      "\n",
      "/tmp/ipykernel_21485/917039953.py:13: RuntimeWarning:\n",
      "\n",
      "invalid value encountered in log10\n",
      "\n",
      "/tmp/ipykernel_21485/917039953.py:13: RuntimeWarning:\n",
      "\n",
      "invalid value encountered in log10\n",
      "\n",
      "/tmp/ipykernel_21485/917039953.py:13: RuntimeWarning:\n",
      "\n",
      "invalid value encountered in log10\n",
      "\n",
      "/tmp/ipykernel_21485/917039953.py:13: RuntimeWarning:\n",
      "\n",
      "invalid value encountered in log10\n",
      "\n",
      "/tmp/ipykernel_21485/917039953.py:13: RuntimeWarning:\n",
      "\n",
      "invalid value encountered in log10\n",
      "\n",
      "/tmp/ipykernel_21485/917039953.py:13: RuntimeWarning:\n",
      "\n",
      "invalid value encountered in log10\n",
      "\n",
      "/tmp/ipykernel_21485/917039953.py:13: RuntimeWarning:\n",
      "\n",
      "invalid value encountered in log10\n",
      "\n",
      "/tmp/ipykernel_21485/917039953.py:13: RuntimeWarning:\n",
      "\n",
      "invalid value encountered in log10\n",
      "\n",
      "/tmp/ipykernel_21485/917039953.py:13: RuntimeWarning:\n",
      "\n",
      "invalid value encountered in log10\n",
      "\n",
      "/tmp/ipykernel_21485/917039953.py:13: RuntimeWarning:\n",
      "\n",
      "invalid value encountered in log10\n",
      "\n"
     ]
    }
   ],
   "source": [
    "i=0\n",
    "for file in filenames:\n",
    "    i+=1\n",
    "    light2 = pd.read_csv(inputfilepath + file+\".txt\", engine=\"python\", names= [\"time_sec\",\"flux\",\"flux_err\",\"band\",\"source\"],\n",
    "         header=0, index_col=0)\n",
    "    fl = fit(light2)\n",
    "    l2 = rem_outliers(light2,fl)\n",
    "    plot(l2, fl, file)"
   ]
  },
  {
   "cell_type": "code",
   "execution_count": 61,
   "id": "d74790b8",
   "metadata": {},
   "outputs": [],
   "source": [
    "l2 = rem_outliers(light2,fl)"
   ]
  },
  {
   "cell_type": "code",
   "execution_count": 62,
   "id": "9cd6b5e1",
   "metadata": {},
   "outputs": [
    {
     "data": {
      "text/html": [
       "<div>\n",
       "<style scoped>\n",
       "    .dataframe tbody tr th:only-of-type {\n",
       "        vertical-align: middle;\n",
       "    }\n",
       "\n",
       "    .dataframe tbody tr th {\n",
       "        vertical-align: top;\n",
       "    }\n",
       "\n",
       "    .dataframe thead th {\n",
       "        text-align: right;\n",
       "    }\n",
       "</style>\n",
       "<table border=\"1\" class=\"dataframe\">\n",
       "  <thead>\n",
       "    <tr style=\"text-align: right;\">\n",
       "      <th></th>\n",
       "      <th>flux</th>\n",
       "      <th>flux_err</th>\n",
       "      <th>band</th>\n",
       "      <th>source</th>\n",
       "    </tr>\n",
       "    <tr>\n",
       "      <th>time_sec</th>\n",
       "      <th></th>\n",
       "      <th></th>\n",
       "      <th></th>\n",
       "      <th></th>\n",
       "    </tr>\n",
       "  </thead>\n",
       "  <tbody>\n",
       "  </tbody>\n",
       "</table>\n",
       "</div>"
      ],
      "text/plain": [
       "Empty DataFrame\n",
       "Columns: [flux, flux_err, band, source]\n",
       "Index: []"
      ]
     },
     "execution_count": 62,
     "metadata": {},
     "output_type": "execute_result"
    }
   ],
   "source": [
    "l2"
   ]
  },
  {
   "cell_type": "code",
   "execution_count": 68,
   "id": "057b77f3",
   "metadata": {},
   "outputs": [
    {
     "name": "stderr",
     "output_type": "stream",
     "text": [
      "/tmp/ipykernel_21485/917039953.py:13: RuntimeWarning:\n",
      "\n",
      "invalid value encountered in log10\n",
      "\n",
      "/tmp/ipykernel_21485/917039953.py:13: RuntimeWarning:\n",
      "\n",
      "invalid value encountered in log10\n",
      "\n",
      "/tmp/ipykernel_21485/917039953.py:13: RuntimeWarning:\n",
      "\n",
      "invalid value encountered in log10\n",
      "\n",
      "/tmp/ipykernel_21485/917039953.py:13: RuntimeWarning:\n",
      "\n",
      "invalid value encountered in log10\n",
      "\n",
      "/tmp/ipykernel_21485/917039953.py:13: RuntimeWarning:\n",
      "\n",
      "invalid value encountered in log10\n",
      "\n"
     ]
    }
   ],
   "source": [
    "i=0\n",
    "for file in b_filenames:\n",
    "     i+=1\n",
    "     light = pd.read_csv(inputfilepath + file+\".txt\", engine=\"python\", names= [\"time_sec\",\"flux\",\"flux_err\",\"band\",\"source\"],\n",
    "         header=0, index_col=0)\n",
    "     fl = fit(light)\n",
    "     l2 = rem_outliers(light,fl)\n",
    "     plot(l2, fl, file)"
   ]
  },
  {
   "cell_type": "markdown",
   "id": "70d96e0c",
   "metadata": {},
   "source": [
    "THE FOLLOWING CELL MERGES ALL THE OUTPUT PDF FILES INTO A SINGLE PDF FILE: $ALL$ _ $LCS$ _ $FOR$ _ $500$ _ $filtered$ _ $merged.pdf$"
   ]
  },
  {
   "cell_type": "code",
   "execution_count": 70,
   "id": "564b42bb",
   "metadata": {},
   "outputs": [],
   "source": [
    "pdfs = [output_pdf_path + no_outliers + file.replace( \"_flux\",\"_curve_fitted_flux_no_outliers.pdf\")  for file in filenames]\n",
    "merger = PdfFileMerger()\n",
    "\n",
    "for pdf in pdfs:\n",
    "    merger.append(pdf)\n",
    "    \n",
    "merger.write(output_pdf_path + no_outliers + \"ALL_LCS_FOR_500_filtered_no_outliers_merged_v.pdf\")\n",
    "#merger.write(output_pdf_path + \"merged_not_done.pdf\")\n",
    "merger.close()"
   ]
  },
  {
   "cell_type": "code",
   "execution_count": 71,
   "id": "7fd7bb31",
   "metadata": {},
   "outputs": [],
   "source": [
    "pdfs = [output_pdf_path + no_outliers + file.replace( \"_flux\",\"_curve_fitted_flux_no_outliers.pdf\")  for file in b_filenames]\n",
    "merger = PdfFileMerger()\n",
    "\n",
    "for pdf in pdfs:\n",
    "    merger.append(pdf)\n",
    "    \n",
    "merger.write(output_pdf_path + no_outliers + \"ALL_LCS_FOR_500_filtered_no_outliers_merged_b.pdf\")\n",
    "#merger.write(output_pdf_path + \"merged_not_done.pdf\")\n",
    "merger.close()"
   ]
  },
  {
   "cell_type": "code",
   "execution_count": null,
   "id": "ba3cce00",
   "metadata": {},
   "outputs": [],
   "source": []
  }
 ],
 "metadata": {
  "kernelspec": {
   "display_name": "Python 3.10.4 64-bit",
   "language": "python",
   "name": "python3"
  },
  "language_info": {
   "codemirror_mode": {
    "name": "ipython",
    "version": 3
   },
   "file_extension": ".py",
   "mimetype": "text/x-python",
   "name": "python",
   "nbconvert_exporter": "python",
   "pygments_lexer": "ipython3",
   "version": "3.10.4"
  },
  "vscode": {
   "interpreter": {
    "hash": "916dbcbb3f70747c44a77c7bcd40155683ae19c65e1c03b4aa3499c5328201f1"
   }
  }
 },
 "nbformat": 4,
 "nbformat_minor": 5
}
