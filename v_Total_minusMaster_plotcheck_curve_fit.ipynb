{
 "cells": [
  {
   "cell_type": "markdown",
   "id": "d237f6a2",
   "metadata": {},
   "source": [
    "VERSION 0.1 ON 30072022 - 23.52\n",
    "\n",
    "\n",
    "\n",
    "I HAVE BEEN ALLOTTED 80 GRB FILES (NAMES STORED IN THE VARIABLE $folders$)\n",
    "\n",
    "OUT OF THOSE 80 FILES, 22 ARE MASTERSAMPLE FILES SO THEY HAVE BEEN IGNORED AS PER INSTRUCTIONS\n",
    "\n",
    "THE REMAINING 52 FILES ARE WITHOUT DUPLICATE BANDS IN THE SAME TIME AND/OR LIMITING MAGNITUDES\n",
    "\n",
    "ANY POINTS SEEN OVERLAPPING ARE SIMPLY VERY CLOSE TO EACH OTHER"
   ]
  },
  {
   "cell_type": "code",
   "execution_count": 1,
   "id": "f76357a7",
   "metadata": {},
   "outputs": [],
   "source": [
    "import plotly.express as px\n",
    "import plotly.graph_objects as go\n",
    "import pandas as pd\n",
    "import numpy as np\n",
    "import kaleido\n",
    "from PyPDF2 import PdfFileMerger\n",
    "import scipy\n",
    "import matplotlib.pyplot as plt\n",
    "#from sklearn.linear_model import LinearRegression"
   ]
  },
  {
   "cell_type": "code",
   "execution_count": 42,
   "id": "27c52693",
   "metadata": {},
   "outputs": [],
   "source": [
    "#FILE PATHS\n",
    "#systempath = \"/media/darkwake/VIB2/\"\n",
    "systempath = ''\n",
    "inputfilepath = systempath + \"task3/v_converted_filtered_files/with_outliers/\"\n",
    "output_file_path = systempath + \"task3/v_converted_filtered_files/\"\n",
    "output_pdf_path = systempath + \"task3/v_out_pdfs/\"\n",
    "#THE 80 FILES ALOTTED TO ME\n",
    "folders = \"140423A ,140428A ,140430A ,140506A ,140508A ,140509A ,140512A ,140515A ,140518A ,140606B ,140614A ,140620A ,140623A ,140629A ,140703A ,140710A ,140801A ,140808A ,140903A ,140907A ,141004A ,141028A ,141109A ,141121A ,141220A ,141221A ,141225A ,150101B ,150120B ,150206A ,150301B ,150314A ,150323A ,150403A ,150413A ,150423A ,150514A ,150518A ,150727A ,150818A ,150821A ,150910A ,150915A ,151021A ,151027A ,151027B ,151029A ,151031A ,151111A ,151112A ,151215A ,160117B ,160121A ,160131A ,160203A ,160227A ,160228A ,160314A ,160410A ,160425A ,160509A ,160623A ,160625B ,160629A ,160804A ,160821B ,161014A ,161017A ,161023A ,161108A ,161117A ,161129A ,161219B ,170113A ,170202A ,170214A ,170405A ,170428A ,170519A\"\n",
    "\n",
    "#22 MASTERSAMPLE FILES WITHIN MY ALOTTED FILES\n",
    "masterfolders = \"140423A,140430A,140801A,140907A,141121A,141221A,150323A,150413A,150910A,151027A,151029A,160131A,160227A,160314A,160425A,160804A,161014A,161023A,161219B,170113A,170405A, 170531B\"\n",
    "folders = folders.split(\" ,\")\n",
    "masterfolders = masterfolders.split(\",\")\n",
    "\n",
    "\n",
    "#ADDITIONAL PRECURSOR FILES\n",
    "v_folders = ['121027A', '121201A', '121209A', '121211A', '121229A', '130408A', '130418A', '130427B', '130505A', '130511A', '130514A', '130518A', '130603B', '130610A', '130612A', '130701A', '130907A', '130925A', '131004A', '131011A', '131030A', '131103A', '131105A', '131108A', '131117A', '131231A', '140114A', '140213A', '140226A', '140301A', '140304A', '140311A', '140318A', '140419A']\n",
    "\n",
    "#Biagio's Additional files - are merged in a separate .pdf\n",
    "b_folders = ['970228A', '971214A', '980329A', '980425A', '980613A', '980703A', '990123A', '990712A', '991208A']\n",
    "#REMOVING THE MASTERSAMPLE FILES FROM THE LIST OF FILES TO BE SCANNED\n",
    "for i in masterfolders:\n",
    "    if i in folders:\n",
    "        folders.remove(i)\n",
    "v_folders.extend(folders)\n",
    "\n",
    "filenames = [i + \"_converted_filtered_flux\" for i in v_folders]\n",
    "b_filenames = [i + \"_converted_filtered_flux\" for i in b_folders]"
   ]
  },
  {
   "cell_type": "code",
   "execution_count": 43,
   "id": "85b55d5c",
   "metadata": {},
   "outputs": [],
   "source": [
    "#FUNCTION TO CONCATANATE N DATA FRAMES INTO A SINGLE DATAFRAME AND RETURN IT\n",
    "def concat(*args):\n",
    "    return pd.concat([x for x in args if not x.empty])"
   ]
  },
  {
   "cell_type": "code",
   "execution_count": 44,
   "id": "b9691e53",
   "metadata": {},
   "outputs": [],
   "source": [
    "#QUADRATIC EXPRESSION\n",
    "def poly(x, a, b, c):\n",
    "    return a * (x**2) + b * x + c"
   ]
  },
  {
   "cell_type": "markdown",
   "id": "ff920dc2",
   "metadata": {},
   "source": [
    "curvesl = LinearRegression()\n",
    "#curvesl.fit(np.log10(light2.index.values).reshape(-1, 1), np.log10(light2.flux.values))\n",
    "t2 = np.array([np.log10(light2.index.values),np.square(np.log10(light2.index.values))]).T\n",
    "curvesl.fit(t2, np.log10(light2.flux.values))\n",
    "m = curvesl.coef_\n",
    "c = curvesl.intercept_\n",
    "flux_pred = []\n",
    "for i in light2.index.values:\n",
    "    flux_pred.append(poly(np.log10(i), m[1], m[0], c))"
   ]
  },
  {
   "cell_type": "code",
   "execution_count": 45,
   "id": "0fcc5d1a",
   "metadata": {},
   "outputs": [
    {
     "data": {
      "text/plain": [
       "True"
      ]
     },
     "execution_count": 45,
     "metadata": {},
     "output_type": "execute_result"
    }
   ],
   "source": [
    "1 in range(-1, 3)"
   ]
  },
  {
   "cell_type": "code",
   "execution_count": 46,
   "id": "9c88ee4d",
   "metadata": {},
   "outputs": [
    {
     "data": {
      "text/plain": [
       "'140304A_converted_filtered_flux'"
      ]
     },
     "execution_count": 46,
     "metadata": {},
     "output_type": "execute_result"
    }
   ],
   "source": [
    "filenames[30]"
   ]
  },
  {
   "cell_type": "code",
   "execution_count": 47,
   "id": "3b8f7f00",
   "metadata": {},
   "outputs": [
    {
     "data": {
      "text/plain": [
       "'140114A_converted_filtered_flux'"
      ]
     },
     "execution_count": 47,
     "metadata": {},
     "output_type": "execute_result"
    }
   ],
   "source": [
    "filenames[26]"
   ]
  },
  {
   "cell_type": "code",
   "execution_count": 48,
   "id": "a6dc8384",
   "metadata": {},
   "outputs": [
    {
     "ename": "FileNotFoundError",
     "evalue": "[Errno 2] No such file or directory: 'task3/v_converted_filtered_files/with_outliers/140114A_converted_filtered_flux.txt'",
     "output_type": "error",
     "traceback": [
      "\u001b[0;31m---------------------------------------------------------------------------\u001b[0m",
      "\u001b[0;31mFileNotFoundError\u001b[0m                         Traceback (most recent call last)",
      "\u001b[1;32m/media/darkwake/VIB2/GRB/v_Total_minusMaster_plotcheck_curve_fit.ipynb Cell 10\u001b[0m in \u001b[0;36m<cell line: 1>\u001b[0;34m()\u001b[0m\n\u001b[0;32m----> <a href='vscode-notebook-cell:/media/darkwake/VIB2/GRB/v_Total_minusMaster_plotcheck_curve_fit.ipynb#ch0000029?line=0'>1</a>\u001b[0m light \u001b[39m=\u001b[39m pd\u001b[39m.\u001b[39;49mread_csv(inputfilepath \u001b[39m+\u001b[39;49m filenames[\u001b[39m26\u001b[39;49m]\u001b[39m+\u001b[39;49m\u001b[39m\"\u001b[39;49m\u001b[39m.txt\u001b[39;49m\u001b[39m\"\u001b[39;49m, engine\u001b[39m=\u001b[39;49m\u001b[39m\"\u001b[39;49m\u001b[39mpython\u001b[39;49m\u001b[39m\"\u001b[39;49m, names\u001b[39m=\u001b[39;49m [\u001b[39m\"\u001b[39;49m\u001b[39mtime_sec\u001b[39;49m\u001b[39m\"\u001b[39;49m,\u001b[39m\"\u001b[39;49m\u001b[39mflux\u001b[39;49m\u001b[39m\"\u001b[39;49m,\u001b[39m\"\u001b[39;49m\u001b[39mflux_err\u001b[39;49m\u001b[39m\"\u001b[39;49m,\u001b[39m\"\u001b[39;49m\u001b[39mband\u001b[39;49m\u001b[39m\"\u001b[39;49m,\u001b[39m\"\u001b[39;49m\u001b[39msource\u001b[39;49m\u001b[39m\"\u001b[39;49m],\n\u001b[1;32m      <a href='vscode-notebook-cell:/media/darkwake/VIB2/GRB/v_Total_minusMaster_plotcheck_curve_fit.ipynb#ch0000029?line=1'>2</a>\u001b[0m          header\u001b[39m=\u001b[39;49m\u001b[39m0\u001b[39;49m, index_col\u001b[39m=\u001b[39;49m\u001b[39m0\u001b[39;49m)\n",
      "File \u001b[0;32m~/.local/lib/python3.10/site-packages/pandas/util/_decorators.py:311\u001b[0m, in \u001b[0;36mdeprecate_nonkeyword_arguments.<locals>.decorate.<locals>.wrapper\u001b[0;34m(*args, **kwargs)\u001b[0m\n\u001b[1;32m    305\u001b[0m \u001b[39mif\u001b[39;00m \u001b[39mlen\u001b[39m(args) \u001b[39m>\u001b[39m num_allow_args:\n\u001b[1;32m    306\u001b[0m     warnings\u001b[39m.\u001b[39mwarn(\n\u001b[1;32m    307\u001b[0m         msg\u001b[39m.\u001b[39mformat(arguments\u001b[39m=\u001b[39marguments),\n\u001b[1;32m    308\u001b[0m         \u001b[39mFutureWarning\u001b[39;00m,\n\u001b[1;32m    309\u001b[0m         stacklevel\u001b[39m=\u001b[39mstacklevel,\n\u001b[1;32m    310\u001b[0m     )\n\u001b[0;32m--> 311\u001b[0m \u001b[39mreturn\u001b[39;00m func(\u001b[39m*\u001b[39;49margs, \u001b[39m*\u001b[39;49m\u001b[39m*\u001b[39;49mkwargs)\n",
      "File \u001b[0;32m~/.local/lib/python3.10/site-packages/pandas/io/parsers/readers.py:680\u001b[0m, in \u001b[0;36mread_csv\u001b[0;34m(filepath_or_buffer, sep, delimiter, header, names, index_col, usecols, squeeze, prefix, mangle_dupe_cols, dtype, engine, converters, true_values, false_values, skipinitialspace, skiprows, skipfooter, nrows, na_values, keep_default_na, na_filter, verbose, skip_blank_lines, parse_dates, infer_datetime_format, keep_date_col, date_parser, dayfirst, cache_dates, iterator, chunksize, compression, thousands, decimal, lineterminator, quotechar, quoting, doublequote, escapechar, comment, encoding, encoding_errors, dialect, error_bad_lines, warn_bad_lines, on_bad_lines, delim_whitespace, low_memory, memory_map, float_precision, storage_options)\u001b[0m\n\u001b[1;32m    665\u001b[0m kwds_defaults \u001b[39m=\u001b[39m _refine_defaults_read(\n\u001b[1;32m    666\u001b[0m     dialect,\n\u001b[1;32m    667\u001b[0m     delimiter,\n\u001b[0;32m   (...)\u001b[0m\n\u001b[1;32m    676\u001b[0m     defaults\u001b[39m=\u001b[39m{\u001b[39m\"\u001b[39m\u001b[39mdelimiter\u001b[39m\u001b[39m\"\u001b[39m: \u001b[39m\"\u001b[39m\u001b[39m,\u001b[39m\u001b[39m\"\u001b[39m},\n\u001b[1;32m    677\u001b[0m )\n\u001b[1;32m    678\u001b[0m kwds\u001b[39m.\u001b[39mupdate(kwds_defaults)\n\u001b[0;32m--> 680\u001b[0m \u001b[39mreturn\u001b[39;00m _read(filepath_or_buffer, kwds)\n",
      "File \u001b[0;32m~/.local/lib/python3.10/site-packages/pandas/io/parsers/readers.py:575\u001b[0m, in \u001b[0;36m_read\u001b[0;34m(filepath_or_buffer, kwds)\u001b[0m\n\u001b[1;32m    572\u001b[0m _validate_names(kwds\u001b[39m.\u001b[39mget(\u001b[39m\"\u001b[39m\u001b[39mnames\u001b[39m\u001b[39m\"\u001b[39m, \u001b[39mNone\u001b[39;00m))\n\u001b[1;32m    574\u001b[0m \u001b[39m# Create the parser.\u001b[39;00m\n\u001b[0;32m--> 575\u001b[0m parser \u001b[39m=\u001b[39m TextFileReader(filepath_or_buffer, \u001b[39m*\u001b[39;49m\u001b[39m*\u001b[39;49mkwds)\n\u001b[1;32m    577\u001b[0m \u001b[39mif\u001b[39;00m chunksize \u001b[39mor\u001b[39;00m iterator:\n\u001b[1;32m    578\u001b[0m     \u001b[39mreturn\u001b[39;00m parser\n",
      "File \u001b[0;32m~/.local/lib/python3.10/site-packages/pandas/io/parsers/readers.py:934\u001b[0m, in \u001b[0;36mTextFileReader.__init__\u001b[0;34m(self, f, engine, **kwds)\u001b[0m\n\u001b[1;32m    931\u001b[0m     \u001b[39mself\u001b[39m\u001b[39m.\u001b[39moptions[\u001b[39m\"\u001b[39m\u001b[39mhas_index_names\u001b[39m\u001b[39m\"\u001b[39m] \u001b[39m=\u001b[39m kwds[\u001b[39m\"\u001b[39m\u001b[39mhas_index_names\u001b[39m\u001b[39m\"\u001b[39m]\n\u001b[1;32m    933\u001b[0m \u001b[39mself\u001b[39m\u001b[39m.\u001b[39mhandles: IOHandles \u001b[39m|\u001b[39m \u001b[39mNone\u001b[39;00m \u001b[39m=\u001b[39m \u001b[39mNone\u001b[39;00m\n\u001b[0;32m--> 934\u001b[0m \u001b[39mself\u001b[39m\u001b[39m.\u001b[39m_engine \u001b[39m=\u001b[39m \u001b[39mself\u001b[39;49m\u001b[39m.\u001b[39;49m_make_engine(f, \u001b[39mself\u001b[39;49m\u001b[39m.\u001b[39;49mengine)\n",
      "File \u001b[0;32m~/.local/lib/python3.10/site-packages/pandas/io/parsers/readers.py:1218\u001b[0m, in \u001b[0;36mTextFileReader._make_engine\u001b[0;34m(self, f, engine)\u001b[0m\n\u001b[1;32m   1214\u001b[0m     mode \u001b[39m=\u001b[39m \u001b[39m\"\u001b[39m\u001b[39mrb\u001b[39m\u001b[39m\"\u001b[39m\n\u001b[1;32m   1215\u001b[0m \u001b[39m# error: No overload variant of \"get_handle\" matches argument types\u001b[39;00m\n\u001b[1;32m   1216\u001b[0m \u001b[39m# \"Union[str, PathLike[str], ReadCsvBuffer[bytes], ReadCsvBuffer[str]]\"\u001b[39;00m\n\u001b[1;32m   1217\u001b[0m \u001b[39m# , \"str\", \"bool\", \"Any\", \"Any\", \"Any\", \"Any\", \"Any\"\u001b[39;00m\n\u001b[0;32m-> 1218\u001b[0m \u001b[39mself\u001b[39m\u001b[39m.\u001b[39mhandles \u001b[39m=\u001b[39m get_handle(  \u001b[39m# type: ignore[call-overload]\u001b[39;49;00m\n\u001b[1;32m   1219\u001b[0m     f,\n\u001b[1;32m   1220\u001b[0m     mode,\n\u001b[1;32m   1221\u001b[0m     encoding\u001b[39m=\u001b[39;49m\u001b[39mself\u001b[39;49m\u001b[39m.\u001b[39;49moptions\u001b[39m.\u001b[39;49mget(\u001b[39m\"\u001b[39;49m\u001b[39mencoding\u001b[39;49m\u001b[39m\"\u001b[39;49m, \u001b[39mNone\u001b[39;49;00m),\n\u001b[1;32m   1222\u001b[0m     compression\u001b[39m=\u001b[39;49m\u001b[39mself\u001b[39;49m\u001b[39m.\u001b[39;49moptions\u001b[39m.\u001b[39;49mget(\u001b[39m\"\u001b[39;49m\u001b[39mcompression\u001b[39;49m\u001b[39m\"\u001b[39;49m, \u001b[39mNone\u001b[39;49;00m),\n\u001b[1;32m   1223\u001b[0m     memory_map\u001b[39m=\u001b[39;49m\u001b[39mself\u001b[39;49m\u001b[39m.\u001b[39;49moptions\u001b[39m.\u001b[39;49mget(\u001b[39m\"\u001b[39;49m\u001b[39mmemory_map\u001b[39;49m\u001b[39m\"\u001b[39;49m, \u001b[39mFalse\u001b[39;49;00m),\n\u001b[1;32m   1224\u001b[0m     is_text\u001b[39m=\u001b[39;49mis_text,\n\u001b[1;32m   1225\u001b[0m     errors\u001b[39m=\u001b[39;49m\u001b[39mself\u001b[39;49m\u001b[39m.\u001b[39;49moptions\u001b[39m.\u001b[39;49mget(\u001b[39m\"\u001b[39;49m\u001b[39mencoding_errors\u001b[39;49m\u001b[39m\"\u001b[39;49m, \u001b[39m\"\u001b[39;49m\u001b[39mstrict\u001b[39;49m\u001b[39m\"\u001b[39;49m),\n\u001b[1;32m   1226\u001b[0m     storage_options\u001b[39m=\u001b[39;49m\u001b[39mself\u001b[39;49m\u001b[39m.\u001b[39;49moptions\u001b[39m.\u001b[39;49mget(\u001b[39m\"\u001b[39;49m\u001b[39mstorage_options\u001b[39;49m\u001b[39m\"\u001b[39;49m, \u001b[39mNone\u001b[39;49;00m),\n\u001b[1;32m   1227\u001b[0m )\n\u001b[1;32m   1228\u001b[0m \u001b[39massert\u001b[39;00m \u001b[39mself\u001b[39m\u001b[39m.\u001b[39mhandles \u001b[39mis\u001b[39;00m \u001b[39mnot\u001b[39;00m \u001b[39mNone\u001b[39;00m\n\u001b[1;32m   1229\u001b[0m f \u001b[39m=\u001b[39m \u001b[39mself\u001b[39m\u001b[39m.\u001b[39mhandles\u001b[39m.\u001b[39mhandle\n",
      "File \u001b[0;32m~/.local/lib/python3.10/site-packages/pandas/io/common.py:786\u001b[0m, in \u001b[0;36mget_handle\u001b[0;34m(path_or_buf, mode, encoding, compression, memory_map, is_text, errors, storage_options)\u001b[0m\n\u001b[1;32m    781\u001b[0m \u001b[39melif\u001b[39;00m \u001b[39misinstance\u001b[39m(handle, \u001b[39mstr\u001b[39m):\n\u001b[1;32m    782\u001b[0m     \u001b[39m# Check whether the filename is to be opened in binary mode.\u001b[39;00m\n\u001b[1;32m    783\u001b[0m     \u001b[39m# Binary mode does not support 'encoding' and 'newline'.\u001b[39;00m\n\u001b[1;32m    784\u001b[0m     \u001b[39mif\u001b[39;00m ioargs\u001b[39m.\u001b[39mencoding \u001b[39mand\u001b[39;00m \u001b[39m\"\u001b[39m\u001b[39mb\u001b[39m\u001b[39m\"\u001b[39m \u001b[39mnot\u001b[39;00m \u001b[39min\u001b[39;00m ioargs\u001b[39m.\u001b[39mmode:\n\u001b[1;32m    785\u001b[0m         \u001b[39m# Encoding\u001b[39;00m\n\u001b[0;32m--> 786\u001b[0m         handle \u001b[39m=\u001b[39m \u001b[39mopen\u001b[39;49m(\n\u001b[1;32m    787\u001b[0m             handle,\n\u001b[1;32m    788\u001b[0m             ioargs\u001b[39m.\u001b[39;49mmode,\n\u001b[1;32m    789\u001b[0m             encoding\u001b[39m=\u001b[39;49mioargs\u001b[39m.\u001b[39;49mencoding,\n\u001b[1;32m    790\u001b[0m             errors\u001b[39m=\u001b[39;49merrors,\n\u001b[1;32m    791\u001b[0m             newline\u001b[39m=\u001b[39;49m\u001b[39m\"\u001b[39;49m\u001b[39m\"\u001b[39;49m,\n\u001b[1;32m    792\u001b[0m         )\n\u001b[1;32m    793\u001b[0m     \u001b[39melse\u001b[39;00m:\n\u001b[1;32m    794\u001b[0m         \u001b[39m# Binary mode\u001b[39;00m\n\u001b[1;32m    795\u001b[0m         handle \u001b[39m=\u001b[39m \u001b[39mopen\u001b[39m(handle, ioargs\u001b[39m.\u001b[39mmode)\n",
      "\u001b[0;31mFileNotFoundError\u001b[0m: [Errno 2] No such file or directory: 'task3/v_converted_filtered_files/with_outliers/140114A_converted_filtered_flux.txt'"
     ]
    }
   ],
   "source": [
    "light = pd.read_csv(inputfilepath + filenames[26]+\".txt\", engine=\"python\", names= [\"time_sec\",\"flux\",\"flux_err\",\"band\",\"source\"],\n",
    "         header=0, index_col=0)"
   ]
  },
  {
   "cell_type": "code",
   "execution_count": 9,
   "id": "f60f39d7",
   "metadata": {},
   "outputs": [
    {
     "data": {
      "text/plain": [
       "array([-14.86212306])"
      ]
     },
     "execution_count": 9,
     "metadata": {},
     "output_type": "execute_result"
    }
   ],
   "source": [
    "np.log10(light.flux_err.values)"
   ]
  },
  {
   "cell_type": "code",
   "execution_count": 10,
   "id": "8d876c6a",
   "metadata": {},
   "outputs": [
    {
     "data": {
      "text/plain": [
       "array([-14.86212306])"
      ]
     },
     "execution_count": 10,
     "metadata": {},
     "output_type": "execute_result"
    }
   ],
   "source": [
    "np.log10(light.flux_err.values)"
   ]
  },
  {
   "cell_type": "code",
   "execution_count": 11,
   "id": "84390e42",
   "metadata": {},
   "outputs": [],
   "source": [
    "def fit(light):\n",
    "    if len(light) in range(1, 6):\n",
    "        return 0\n",
    "    if len(light) == 0:\n",
    "        return 1\n",
    "        \n",
    "    light2 = light.sort_index()\n",
    "    curves=scipy.optimize.curve_fit(poly, np.log10(light2.index.values), np.log10(light2.flux.values) )[0]\n",
    "    flux_pred = []\n",
    "    for i in light2.index.values:\n",
    "        flux_pred.append(poly(np.log10(i), curves[0], curves[1], curves[2]))\n",
    "\n",
    "    return flux_pred"
   ]
  },
  {
   "cell_type": "code",
   "execution_count": 32,
   "id": "d99576c9",
   "metadata": {},
   "outputs": [],
   "source": [
    "with_outliers = \"with_outliers/\"\n",
    "def plot(light, flux_pred, filename):\n",
    "    filename2 = filename.replace(\"_flux\", \"_curve_fitted_flux_with_outliers\")\n",
    "    \n",
    "    if len(light) == 0:\n",
    "        fig = px.scatter(title=filename + ' NULL AFTER FILTERING')\n",
    "        fig.write_image(output_pdf_path + with_outliers+ filename2+\".pdf\")\n",
    "        return 1\n",
    "\n",
    "    if flux_pred == 0:\n",
    "        fig = px.scatter(\n",
    "                data_frame=light,\n",
    "                x=np.log10(light.index),\n",
    "                y=np.log10(light.flux.values),\n",
    "                error_y= light.flux_err.values / (light.flux.values * np.log(10)),\n",
    "                color=light['band'].values,\n",
    "                hover_data=['source'],\n",
    "                title=filename + \" MORE DATA NEEDED\"\n",
    "            )\n",
    "        fig.update_layout(\n",
    "                xaxis_title='log Time (s)',\n",
    "                yaxis_title='log Flux (erg cm-2 s-1)'\n",
    "            )\n",
    "        fig.write_image(output_pdf_path + with_outliers+ filename2+\".pdf\")\n",
    "        return 0\n",
    "\n",
    "    \n",
    "\n",
    "    light2 = light.sort_index()\n",
    "    fig = px.scatter(\n",
    "                data_frame=light2,\n",
    "                x=np.log10(light2.index),\n",
    "                y=np.log10(light2['flux'].values),\n",
    "                error_y= light2['flux_err'].values / (light2['flux'].values * np.log(10)),\n",
    "                color=light2['band'].values,\n",
    "                hover_data=['source'],\n",
    "                title=filename,width=1200, height=750\n",
    "            )\n",
    "    fig.add_trace(go.Scatter(x=np.log10(light2.index.values), y=flux_pred,mode=\"lines\", line = go.scatter.Line(color='gray'), showlegend=False))\n",
    "    fig.update_layout(\n",
    "                xaxis_title='log Time (s)',\n",
    "                yaxis_title='log Flux (erg cm-2 s-1)'\n",
    "            )\n",
    "    \n",
    "    fig.show()\n",
    "    #fig.write_image(output_pdf_path + with_outliers+ filename2+\".pdf\")"
   ]
  },
  {
   "cell_type": "markdown",
   "id": "f24732a1",
   "metadata": {},
   "source": [
    "flux_pred = fit(light)\n",
    "plot(light, fit(light), filenames[16])"
   ]
  },
  {
   "cell_type": "code",
   "execution_count": 33,
   "id": "de10bf1a",
   "metadata": {},
   "outputs": [
    {
     "data": {
      "text/html": [
       "<div>\n",
       "<style scoped>\n",
       "    .dataframe tbody tr th:only-of-type {\n",
       "        vertical-align: middle;\n",
       "    }\n",
       "\n",
       "    .dataframe tbody tr th {\n",
       "        vertical-align: top;\n",
       "    }\n",
       "\n",
       "    .dataframe thead th {\n",
       "        text-align: right;\n",
       "    }\n",
       "</style>\n",
       "<table border=\"1\" class=\"dataframe\">\n",
       "  <thead>\n",
       "    <tr style=\"text-align: right;\">\n",
       "      <th></th>\n",
       "      <th>flux</th>\n",
       "      <th>flux_err</th>\n",
       "      <th>band</th>\n",
       "      <th>source</th>\n",
       "    </tr>\n",
       "    <tr>\n",
       "      <th>time_sec</th>\n",
       "      <th></th>\n",
       "      <th></th>\n",
       "      <th></th>\n",
       "      <th></th>\n",
       "    </tr>\n",
       "  </thead>\n",
       "  <tbody>\n",
       "    <tr>\n",
       "      <th>844</th>\n",
       "      <td>2.618621e-13</td>\n",
       "      <td>5.323930e-15</td>\n",
       "      <td>v_swift</td>\n",
       "      <td>14030</td>\n",
       "    </tr>\n",
       "    <tr>\n",
       "      <th>856</th>\n",
       "      <td>3.907022e-13</td>\n",
       "      <td>7.424034e-14</td>\n",
       "      <td>b_swift</td>\n",
       "      <td>14030</td>\n",
       "    </tr>\n",
       "    <tr>\n",
       "      <th>403</th>\n",
       "      <td>1.091440e-15</td>\n",
       "      <td>7.850484e-17</td>\n",
       "      <td>u_swift</td>\n",
       "      <td>14030</td>\n",
       "    </tr>\n",
       "    <tr>\n",
       "      <th>6814</th>\n",
       "      <td>5.223958e-14</td>\n",
       "      <td>2.434889e-14</td>\n",
       "      <td>u_swift</td>\n",
       "      <td>14030</td>\n",
       "    </tr>\n",
       "    <tr>\n",
       "      <th>3770</th>\n",
       "      <td>2.063745e-14</td>\n",
       "      <td>2.155914e-15</td>\n",
       "      <td>uvw1_swift</td>\n",
       "      <td>14030</td>\n",
       "    </tr>\n",
       "    <tr>\n",
       "      <th>3568</th>\n",
       "      <td>2.091090e-14</td>\n",
       "      <td>2.631533e-15</td>\n",
       "      <td>uvm2_swift</td>\n",
       "      <td>14030</td>\n",
       "    </tr>\n",
       "    <tr>\n",
       "      <th>3565</th>\n",
       "      <td>2.851930e-14</td>\n",
       "      <td>3.841929e-15</td>\n",
       "      <td>uvw2_swift</td>\n",
       "      <td>14030</td>\n",
       "    </tr>\n",
       "    <tr>\n",
       "      <th>45558</th>\n",
       "      <td>1.064350e-14</td>\n",
       "      <td>9.807626e-16</td>\n",
       "      <td>r'</td>\n",
       "      <td>14031</td>\n",
       "    </tr>\n",
       "  </tbody>\n",
       "</table>\n",
       "</div>"
      ],
      "text/plain": [
       "                  flux      flux_err        band  source\n",
       "time_sec                                                \n",
       "844       2.618621e-13  5.323930e-15     v_swift   14030\n",
       "856       3.907022e-13  7.424034e-14     b_swift   14030\n",
       "403       1.091440e-15  7.850484e-17     u_swift   14030\n",
       "6814      5.223958e-14  2.434889e-14     u_swift   14030\n",
       "3770      2.063745e-14  2.155914e-15  uvw1_swift   14030\n",
       "3568      2.091090e-14  2.631533e-15  uvm2_swift   14030\n",
       "3565      2.851930e-14  3.841929e-15  uvw2_swift   14030\n",
       "45558     1.064350e-14  9.807626e-16          r'   14031"
      ]
     },
     "execution_count": 33,
     "metadata": {},
     "output_type": "execute_result"
    }
   ],
   "source": [
    "file = filenames[1]\n",
    "light = pd.read_csv(inputfilepath + file+\".txt\", engine=\"python\", names= [\"time_sec\",\"flux\",\"flux_err\",\"band\",\"source\"],\n",
    "         header=0, index_col=0)\n",
    "light"
   ]
  },
  {
   "cell_type": "code",
   "execution_count": 34,
   "id": "b22cd812",
   "metadata": {},
   "outputs": [
    {
     "data": {
      "application/vnd.plotly.v1+json": {
       "config": {
        "plotlyServerURL": "https://plot.ly"
       },
       "data": [
        {
         "customdata": [
          [
           14030
          ],
          [
           14030
          ]
         ],
         "error_y": {
          "array": [
           0.031237843924882356,
           0.20242480799811885
          ]
         },
         "hovertemplate": "color=u_swift<br>x=%{x}<br>y=%{y}<br>source=%{customdata[0]}<extra></extra>",
         "legendgroup": "u_swift",
         "marker": {
          "color": "#636efa",
          "symbol": "circle"
         },
         "mode": "markers",
         "name": "u_swift",
         "orientation": "v",
         "showlegend": true,
         "type": "scatter",
         "x": [
          2.6053050461411096,
          3.8334021292318585
         ],
         "xaxis": "x",
         "y": [
          -14.962000286998075,
          -13.282000286998075
         ],
         "yaxis": "y"
        },
        {
         "customdata": [
          [
           14030
          ]
         ],
         "error_y": {
          "array": [
           0.008829659470348281
          ]
         },
         "hovertemplate": "color=v_swift<br>x=%{x}<br>y=%{y}<br>source=%{customdata[0]}<extra></extra>",
         "legendgroup": "v_swift",
         "marker": {
          "color": "#EF553B",
          "symbol": "circle"
         },
         "mode": "markers",
         "name": "v_swift",
         "orientation": "v",
         "showlegend": true,
         "type": "scatter",
         "x": [
          2.926342446625655
         ],
         "xaxis": "x",
         "y": [
          -12.581927318485942
         ],
         "yaxis": "y"
        },
        {
         "customdata": [
          [
           14030
          ]
         ],
         "error_y": {
          "array": [
           0.08252364194243456
          ]
         },
         "hovertemplate": "color=b_swift<br>x=%{x}<br>y=%{y}<br>source=%{customdata[0]}<extra></extra>",
         "legendgroup": "b_swift",
         "marker": {
          "color": "#00cc96",
          "symbol": "circle"
         },
         "mode": "markers",
         "name": "b_swift",
         "orientation": "v",
         "showlegend": true,
         "type": "scatter",
         "x": [
          2.932473764677153
         ],
         "xaxis": "x",
         "y": [
          -12.408154126801765
         ],
         "yaxis": "y"
        },
        {
         "customdata": [
          [
           14030
          ]
         ],
         "error_y": {
          "array": [
           0.05850524705139662
          ]
         },
         "hovertemplate": "color=uvw2_swift<br>x=%{x}<br>y=%{y}<br>source=%{customdata[0]}<extra></extra>",
         "legendgroup": "uvw2_swift",
         "marker": {
          "color": "#ab63fa",
          "symbol": "circle"
         },
         "mode": "markers",
         "name": "uvw2_swift",
         "orientation": "v",
         "showlegend": true,
         "type": "scatter",
         "x": [
          3.5520595341878844
         ],
         "xaxis": "x",
         "y": [
          -13.544861201424949
         ],
         "yaxis": "y"
        },
        {
         "customdata": [
          [
           14030
          ]
         ],
         "error_y": {
          "array": [
           0.05465379331120542
          ]
         },
         "hovertemplate": "color=uvm2_swift<br>x=%{x}<br>y=%{y}<br>source=%{customdata[0]}<extra></extra>",
         "legendgroup": "uvm2_swift",
         "marker": {
          "color": "#FFA15A",
          "symbol": "circle"
         },
         "mode": "markers",
         "name": "uvm2_swift",
         "orientation": "v",
         "showlegend": true,
         "type": "scatter",
         "x": [
          3.5524248457040857
         ],
         "xaxis": "x",
         "y": [
          -13.679627219670996
         ],
         "yaxis": "y"
        },
        {
         "customdata": [
          [
           14030
          ]
         ],
         "error_y": {
          "array": [
           0.045369062162623555
          ]
         },
         "hovertemplate": "color=uvw1_swift<br>x=%{x}<br>y=%{y}<br>source=%{customdata[0]}<extra></extra>",
         "legendgroup": "uvw1_swift",
         "marker": {
          "color": "#19d3f3",
          "symbol": "circle"
         },
         "mode": "markers",
         "name": "uvw1_swift",
         "orientation": "v",
         "showlegend": true,
         "type": "scatter",
         "x": [
          3.576341350205793
         ],
         "xaxis": "x",
         "y": [
          -13.685344065599905
         ],
         "yaxis": "y"
        },
        {
         "customdata": [
          [
           14031
          ]
         ],
         "error_y": {
          "array": [
           0.04001877543457317
          ]
         },
         "hovertemplate": "color=r'<br>x=%{x}<br>y=%{y}<br>source=%{customdata[0]}<extra></extra>",
         "legendgroup": "r'",
         "marker": {
          "color": "#FF6692",
          "symbol": "circle"
         },
         "mode": "markers",
         "name": "r'",
         "orientation": "v",
         "showlegend": true,
         "type": "scatter",
         "x": [
          4.65856465026156
         ],
         "xaxis": "x",
         "y": [
          -13.972915573227384
         ],
         "yaxis": "y"
        },
        {
         "line": {
          "color": "gray"
         },
         "mode": "lines",
         "showlegend": false,
         "type": "scatter",
         "x": [
          2.6053050461411096,
          2.926342446625655,
          2.932473764677153,
          3.5520595341878844,
          3.5524248457040857,
          3.576341350205793,
          3.8334021292318585,
          4.65856465026156
         ],
         "y": [
          -13.843488275266614,
          -13.507502035392331,
          -13.50247002668447,
          -13.261607856126313,
          -13.261622187718707,
          -13.262961366341768,
          -13.327217390092382,
          -14.149960941584434
         ]
        }
       ],
       "layout": {
        "height": 750,
        "legend": {
         "title": {
          "text": "color"
         },
         "tracegroupgap": 0
        },
        "template": {
         "data": {
          "bar": [
           {
            "error_x": {
             "color": "#2a3f5f"
            },
            "error_y": {
             "color": "#2a3f5f"
            },
            "marker": {
             "line": {
              "color": "#E5ECF6",
              "width": 0.5
             },
             "pattern": {
              "fillmode": "overlay",
              "size": 10,
              "solidity": 0.2
             }
            },
            "type": "bar"
           }
          ],
          "barpolar": [
           {
            "marker": {
             "line": {
              "color": "#E5ECF6",
              "width": 0.5
             },
             "pattern": {
              "fillmode": "overlay",
              "size": 10,
              "solidity": 0.2
             }
            },
            "type": "barpolar"
           }
          ],
          "carpet": [
           {
            "aaxis": {
             "endlinecolor": "#2a3f5f",
             "gridcolor": "white",
             "linecolor": "white",
             "minorgridcolor": "white",
             "startlinecolor": "#2a3f5f"
            },
            "baxis": {
             "endlinecolor": "#2a3f5f",
             "gridcolor": "white",
             "linecolor": "white",
             "minorgridcolor": "white",
             "startlinecolor": "#2a3f5f"
            },
            "type": "carpet"
           }
          ],
          "choropleth": [
           {
            "colorbar": {
             "outlinewidth": 0,
             "ticks": ""
            },
            "type": "choropleth"
           }
          ],
          "contour": [
           {
            "colorbar": {
             "outlinewidth": 0,
             "ticks": ""
            },
            "colorscale": [
             [
              0,
              "#0d0887"
             ],
             [
              0.1111111111111111,
              "#46039f"
             ],
             [
              0.2222222222222222,
              "#7201a8"
             ],
             [
              0.3333333333333333,
              "#9c179e"
             ],
             [
              0.4444444444444444,
              "#bd3786"
             ],
             [
              0.5555555555555556,
              "#d8576b"
             ],
             [
              0.6666666666666666,
              "#ed7953"
             ],
             [
              0.7777777777777778,
              "#fb9f3a"
             ],
             [
              0.8888888888888888,
              "#fdca26"
             ],
             [
              1,
              "#f0f921"
             ]
            ],
            "type": "contour"
           }
          ],
          "contourcarpet": [
           {
            "colorbar": {
             "outlinewidth": 0,
             "ticks": ""
            },
            "type": "contourcarpet"
           }
          ],
          "heatmap": [
           {
            "colorbar": {
             "outlinewidth": 0,
             "ticks": ""
            },
            "colorscale": [
             [
              0,
              "#0d0887"
             ],
             [
              0.1111111111111111,
              "#46039f"
             ],
             [
              0.2222222222222222,
              "#7201a8"
             ],
             [
              0.3333333333333333,
              "#9c179e"
             ],
             [
              0.4444444444444444,
              "#bd3786"
             ],
             [
              0.5555555555555556,
              "#d8576b"
             ],
             [
              0.6666666666666666,
              "#ed7953"
             ],
             [
              0.7777777777777778,
              "#fb9f3a"
             ],
             [
              0.8888888888888888,
              "#fdca26"
             ],
             [
              1,
              "#f0f921"
             ]
            ],
            "type": "heatmap"
           }
          ],
          "heatmapgl": [
           {
            "colorbar": {
             "outlinewidth": 0,
             "ticks": ""
            },
            "colorscale": [
             [
              0,
              "#0d0887"
             ],
             [
              0.1111111111111111,
              "#46039f"
             ],
             [
              0.2222222222222222,
              "#7201a8"
             ],
             [
              0.3333333333333333,
              "#9c179e"
             ],
             [
              0.4444444444444444,
              "#bd3786"
             ],
             [
              0.5555555555555556,
              "#d8576b"
             ],
             [
              0.6666666666666666,
              "#ed7953"
             ],
             [
              0.7777777777777778,
              "#fb9f3a"
             ],
             [
              0.8888888888888888,
              "#fdca26"
             ],
             [
              1,
              "#f0f921"
             ]
            ],
            "type": "heatmapgl"
           }
          ],
          "histogram": [
           {
            "marker": {
             "pattern": {
              "fillmode": "overlay",
              "size": 10,
              "solidity": 0.2
             }
            },
            "type": "histogram"
           }
          ],
          "histogram2d": [
           {
            "colorbar": {
             "outlinewidth": 0,
             "ticks": ""
            },
            "colorscale": [
             [
              0,
              "#0d0887"
             ],
             [
              0.1111111111111111,
              "#46039f"
             ],
             [
              0.2222222222222222,
              "#7201a8"
             ],
             [
              0.3333333333333333,
              "#9c179e"
             ],
             [
              0.4444444444444444,
              "#bd3786"
             ],
             [
              0.5555555555555556,
              "#d8576b"
             ],
             [
              0.6666666666666666,
              "#ed7953"
             ],
             [
              0.7777777777777778,
              "#fb9f3a"
             ],
             [
              0.8888888888888888,
              "#fdca26"
             ],
             [
              1,
              "#f0f921"
             ]
            ],
            "type": "histogram2d"
           }
          ],
          "histogram2dcontour": [
           {
            "colorbar": {
             "outlinewidth": 0,
             "ticks": ""
            },
            "colorscale": [
             [
              0,
              "#0d0887"
             ],
             [
              0.1111111111111111,
              "#46039f"
             ],
             [
              0.2222222222222222,
              "#7201a8"
             ],
             [
              0.3333333333333333,
              "#9c179e"
             ],
             [
              0.4444444444444444,
              "#bd3786"
             ],
             [
              0.5555555555555556,
              "#d8576b"
             ],
             [
              0.6666666666666666,
              "#ed7953"
             ],
             [
              0.7777777777777778,
              "#fb9f3a"
             ],
             [
              0.8888888888888888,
              "#fdca26"
             ],
             [
              1,
              "#f0f921"
             ]
            ],
            "type": "histogram2dcontour"
           }
          ],
          "mesh3d": [
           {
            "colorbar": {
             "outlinewidth": 0,
             "ticks": ""
            },
            "type": "mesh3d"
           }
          ],
          "parcoords": [
           {
            "line": {
             "colorbar": {
              "outlinewidth": 0,
              "ticks": ""
             }
            },
            "type": "parcoords"
           }
          ],
          "pie": [
           {
            "automargin": true,
            "type": "pie"
           }
          ],
          "scatter": [
           {
            "fillpattern": {
             "fillmode": "overlay",
             "size": 10,
             "solidity": 0.2
            },
            "type": "scatter"
           }
          ],
          "scatter3d": [
           {
            "line": {
             "colorbar": {
              "outlinewidth": 0,
              "ticks": ""
             }
            },
            "marker": {
             "colorbar": {
              "outlinewidth": 0,
              "ticks": ""
             }
            },
            "type": "scatter3d"
           }
          ],
          "scattercarpet": [
           {
            "marker": {
             "colorbar": {
              "outlinewidth": 0,
              "ticks": ""
             }
            },
            "type": "scattercarpet"
           }
          ],
          "scattergeo": [
           {
            "marker": {
             "colorbar": {
              "outlinewidth": 0,
              "ticks": ""
             }
            },
            "type": "scattergeo"
           }
          ],
          "scattergl": [
           {
            "marker": {
             "colorbar": {
              "outlinewidth": 0,
              "ticks": ""
             }
            },
            "type": "scattergl"
           }
          ],
          "scattermapbox": [
           {
            "marker": {
             "colorbar": {
              "outlinewidth": 0,
              "ticks": ""
             }
            },
            "type": "scattermapbox"
           }
          ],
          "scatterpolar": [
           {
            "marker": {
             "colorbar": {
              "outlinewidth": 0,
              "ticks": ""
             }
            },
            "type": "scatterpolar"
           }
          ],
          "scatterpolargl": [
           {
            "marker": {
             "colorbar": {
              "outlinewidth": 0,
              "ticks": ""
             }
            },
            "type": "scatterpolargl"
           }
          ],
          "scatterternary": [
           {
            "marker": {
             "colorbar": {
              "outlinewidth": 0,
              "ticks": ""
             }
            },
            "type": "scatterternary"
           }
          ],
          "surface": [
           {
            "colorbar": {
             "outlinewidth": 0,
             "ticks": ""
            },
            "colorscale": [
             [
              0,
              "#0d0887"
             ],
             [
              0.1111111111111111,
              "#46039f"
             ],
             [
              0.2222222222222222,
              "#7201a8"
             ],
             [
              0.3333333333333333,
              "#9c179e"
             ],
             [
              0.4444444444444444,
              "#bd3786"
             ],
             [
              0.5555555555555556,
              "#d8576b"
             ],
             [
              0.6666666666666666,
              "#ed7953"
             ],
             [
              0.7777777777777778,
              "#fb9f3a"
             ],
             [
              0.8888888888888888,
              "#fdca26"
             ],
             [
              1,
              "#f0f921"
             ]
            ],
            "type": "surface"
           }
          ],
          "table": [
           {
            "cells": {
             "fill": {
              "color": "#EBF0F8"
             },
             "line": {
              "color": "white"
             }
            },
            "header": {
             "fill": {
              "color": "#C8D4E3"
             },
             "line": {
              "color": "white"
             }
            },
            "type": "table"
           }
          ]
         },
         "layout": {
          "annotationdefaults": {
           "arrowcolor": "#2a3f5f",
           "arrowhead": 0,
           "arrowwidth": 1
          },
          "autotypenumbers": "strict",
          "coloraxis": {
           "colorbar": {
            "outlinewidth": 0,
            "ticks": ""
           }
          },
          "colorscale": {
           "diverging": [
            [
             0,
             "#8e0152"
            ],
            [
             0.1,
             "#c51b7d"
            ],
            [
             0.2,
             "#de77ae"
            ],
            [
             0.3,
             "#f1b6da"
            ],
            [
             0.4,
             "#fde0ef"
            ],
            [
             0.5,
             "#f7f7f7"
            ],
            [
             0.6,
             "#e6f5d0"
            ],
            [
             0.7,
             "#b8e186"
            ],
            [
             0.8,
             "#7fbc41"
            ],
            [
             0.9,
             "#4d9221"
            ],
            [
             1,
             "#276419"
            ]
           ],
           "sequential": [
            [
             0,
             "#0d0887"
            ],
            [
             0.1111111111111111,
             "#46039f"
            ],
            [
             0.2222222222222222,
             "#7201a8"
            ],
            [
             0.3333333333333333,
             "#9c179e"
            ],
            [
             0.4444444444444444,
             "#bd3786"
            ],
            [
             0.5555555555555556,
             "#d8576b"
            ],
            [
             0.6666666666666666,
             "#ed7953"
            ],
            [
             0.7777777777777778,
             "#fb9f3a"
            ],
            [
             0.8888888888888888,
             "#fdca26"
            ],
            [
             1,
             "#f0f921"
            ]
           ],
           "sequentialminus": [
            [
             0,
             "#0d0887"
            ],
            [
             0.1111111111111111,
             "#46039f"
            ],
            [
             0.2222222222222222,
             "#7201a8"
            ],
            [
             0.3333333333333333,
             "#9c179e"
            ],
            [
             0.4444444444444444,
             "#bd3786"
            ],
            [
             0.5555555555555556,
             "#d8576b"
            ],
            [
             0.6666666666666666,
             "#ed7953"
            ],
            [
             0.7777777777777778,
             "#fb9f3a"
            ],
            [
             0.8888888888888888,
             "#fdca26"
            ],
            [
             1,
             "#f0f921"
            ]
           ]
          },
          "colorway": [
           "#636efa",
           "#EF553B",
           "#00cc96",
           "#ab63fa",
           "#FFA15A",
           "#19d3f3",
           "#FF6692",
           "#B6E880",
           "#FF97FF",
           "#FECB52"
          ],
          "font": {
           "color": "#2a3f5f"
          },
          "geo": {
           "bgcolor": "white",
           "lakecolor": "white",
           "landcolor": "#E5ECF6",
           "showlakes": true,
           "showland": true,
           "subunitcolor": "white"
          },
          "hoverlabel": {
           "align": "left"
          },
          "hovermode": "closest",
          "mapbox": {
           "style": "light"
          },
          "paper_bgcolor": "white",
          "plot_bgcolor": "#E5ECF6",
          "polar": {
           "angularaxis": {
            "gridcolor": "white",
            "linecolor": "white",
            "ticks": ""
           },
           "bgcolor": "#E5ECF6",
           "radialaxis": {
            "gridcolor": "white",
            "linecolor": "white",
            "ticks": ""
           }
          },
          "scene": {
           "xaxis": {
            "backgroundcolor": "#E5ECF6",
            "gridcolor": "white",
            "gridwidth": 2,
            "linecolor": "white",
            "showbackground": true,
            "ticks": "",
            "zerolinecolor": "white"
           },
           "yaxis": {
            "backgroundcolor": "#E5ECF6",
            "gridcolor": "white",
            "gridwidth": 2,
            "linecolor": "white",
            "showbackground": true,
            "ticks": "",
            "zerolinecolor": "white"
           },
           "zaxis": {
            "backgroundcolor": "#E5ECF6",
            "gridcolor": "white",
            "gridwidth": 2,
            "linecolor": "white",
            "showbackground": true,
            "ticks": "",
            "zerolinecolor": "white"
           }
          },
          "shapedefaults": {
           "line": {
            "color": "#2a3f5f"
           }
          },
          "ternary": {
           "aaxis": {
            "gridcolor": "white",
            "linecolor": "white",
            "ticks": ""
           },
           "baxis": {
            "gridcolor": "white",
            "linecolor": "white",
            "ticks": ""
           },
           "bgcolor": "#E5ECF6",
           "caxis": {
            "gridcolor": "white",
            "linecolor": "white",
            "ticks": ""
           }
          },
          "title": {
           "x": 0.05
          },
          "xaxis": {
           "automargin": true,
           "gridcolor": "white",
           "linecolor": "white",
           "ticks": "",
           "title": {
            "standoff": 15
           },
           "zerolinecolor": "white",
           "zerolinewidth": 2
          },
          "yaxis": {
           "automargin": true,
           "gridcolor": "white",
           "linecolor": "white",
           "ticks": "",
           "title": {
            "standoff": 15
           },
           "zerolinecolor": "white",
           "zerolinewidth": 2
          }
         }
        },
        "title": {
         "text": "121201A_converted_filtered_flux"
        },
        "width": 1200,
        "xaxis": {
         "anchor": "y",
         "domain": [
          0,
          1
         ],
         "title": {
          "text": "log Time (s)"
         }
        },
        "yaxis": {
         "anchor": "x",
         "domain": [
          0,
          1
         ],
         "title": {
          "text": "log Flux (erg cm-2 s-1)"
         }
        }
       }
      }
     },
     "metadata": {},
     "output_type": "display_data"
    }
   ],
   "source": [
    "plot(light, fit(light), file)"
   ]
  },
  {
   "cell_type": "code",
   "execution_count": null,
   "id": "3a3f139e",
   "metadata": {},
   "outputs": [],
   "source": [
    "light.to_csv(\"task3/v_converted_filtered_files/\"+file + \"no_outliers.txt\")"
   ]
  },
  {
   "cell_type": "code",
   "execution_count": 13,
   "id": "135519c5",
   "metadata": {},
   "outputs": [],
   "source": [
    "i=0\n",
    "for file in filenames:\n",
    "     i+=1\n",
    "     light = pd.read_csv(inputfilepath + file+\".txt\", engine=\"python\", names= [\"time_sec\",\"flux\",\"flux_err\",\"band\",\"source\"],\n",
    "         header=0, index_col=0)\n",
    "     plot(light, fit(light), file)"
   ]
  },
  {
   "cell_type": "code",
   "execution_count": 14,
   "id": "0fdecdea",
   "metadata": {},
   "outputs": [
    {
     "data": {
      "text/plain": [
       "92"
      ]
     },
     "execution_count": 14,
     "metadata": {},
     "output_type": "execute_result"
    }
   ],
   "source": [
    "i"
   ]
  },
  {
   "cell_type": "code",
   "execution_count": 15,
   "id": "057b77f3",
   "metadata": {},
   "outputs": [],
   "source": [
    "i=0\n",
    "for file in b_filenames:\n",
    "     i+=1\n",
    "     light = pd.read_csv(inputfilepath + file+\".txt\", engine=\"python\", names= [\"time_sec\",\"flux\",\"flux_err\",\"band\",\"source\"],\n",
    "         header=0, index_col=0)\n",
    "     plot(light, fit(light), file)"
   ]
  },
  {
   "cell_type": "code",
   "execution_count": null,
   "id": "cf123c15",
   "metadata": {},
   "outputs": [],
   "source": []
  },
  {
   "cell_type": "markdown",
   "id": "70d96e0c",
   "metadata": {},
   "source": [
    "THE FOLLOWING CELL MERGES ALL THE OUTPUT PDF FILES INTO A SINGLE PDF FILE: $ALL$ _ $LCS$ _ $FOR$ _ $500$ _ $filtered$ _ $merged.pdf$"
   ]
  },
  {
   "cell_type": "code",
   "execution_count": 17,
   "id": "564b42bb",
   "metadata": {},
   "outputs": [],
   "source": [
    "pdfs = [output_pdf_path + with_outliers + file.replace( \"_flux\",\"_curve_fitted_flux_with_outliers.pdf\")  for file in filenames]\n",
    "merger = PdfFileMerger()\n",
    "\n",
    "for pdf in pdfs:\n",
    "    merger.append(pdf)\n",
    "    \n",
    "merger.write(output_pdf_path + with_outliers + \"ALL_LCS_FOR_500_filtered_wt_outliers_merged_v.pdf\")\n",
    "#merger.write(output_pdf_path + \"merged_not_done.pdf\")\n",
    "merger.close()"
   ]
  },
  {
   "cell_type": "code",
   "execution_count": 18,
   "id": "7fd7bb31",
   "metadata": {},
   "outputs": [],
   "source": [
    "pdfs = [output_pdf_path + with_outliers + file.replace( \"_flux\",\"_curve_fitted_flux_with_outliers.pdf\")  for file in b_filenames]\n",
    "merger = PdfFileMerger()\n",
    "\n",
    "for pdf in pdfs:\n",
    "    merger.append(pdf)\n",
    "    \n",
    "merger.write(output_pdf_path + with_outliers + \"ALL_LCS_FOR_500_filtered_wt_outliers_merged_b.pdf\")\n",
    "#merger.write(output_pdf_path + \"merged_not_done.pdf\")\n",
    "merger.close()"
   ]
  }
 ],
 "metadata": {
  "kernelspec": {
   "display_name": "Python 3.10.4 64-bit",
   "language": "python",
   "name": "python3"
  },
  "language_info": {
   "codemirror_mode": {
    "name": "ipython",
    "version": 3
   },
   "file_extension": ".py",
   "mimetype": "text/x-python",
   "name": "python",
   "nbconvert_exporter": "python",
   "pygments_lexer": "ipython3",
   "version": "3.10.4"
  },
  "vscode": {
   "interpreter": {
    "hash": "916dbcbb3f70747c44a77c7bcd40155683ae19c65e1c03b4aa3499c5328201f1"
   }
  }
 },
 "nbformat": 4,
 "nbformat_minor": 5
}
