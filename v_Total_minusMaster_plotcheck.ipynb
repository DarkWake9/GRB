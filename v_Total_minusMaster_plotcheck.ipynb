{
 "cells": [
  {
   "cell_type": "markdown",
   "id": "d237f6a2",
   "metadata": {},
   "source": [
    "VERSION 1.0 ON 28072022 - 22.52\n",
    "\n",
    "VERSION 1.0.01 ON 29072022 - 00.14 - adjusted output .pdf image size\n",
    "\n",
    "I HAVE BEEN ALLOTTED 80 GRB FILES (NAMES STORED IN THE VARIABLE $folders$)\n",
    "\n",
    "OUT OF THOSE 80 FILES, 22 ARE MASTERSAMPLE FILES SO THEY HAVE BEEN IGNORED AS PER INSTRUCTIONS\n",
    "\n",
    "THE REMAINING 52 FILES ARE WITHOUT DUPLICATE BANDS IN THE SAME TIME AND/OR LIMITING MAGNITUDES\n",
    "\n",
    "ANY POINTS SEEN OVERLAPPING ARE SIMPLY VERY CLOSE TO EACH OTHER"
   ]
  },
  {
   "cell_type": "code",
   "execution_count": 1,
   "id": "f76357a7",
   "metadata": {},
   "outputs": [],
   "source": [
    "import plotly.express as px\n",
    "import pandas as pd\n",
    "import numpy as np\n",
    "import kaleido\n",
    "from PyPDF2 import PdfFileMerger"
   ]
  },
  {
   "cell_type": "code",
   "execution_count": 2,
   "id": "27c52693",
   "metadata": {},
   "outputs": [],
   "source": [
    "#FILE PATHS\n",
    "systempath = \"/media/darkwake/VIB2/\"\n",
    "inputfilepath = systempath + \"GRB/ALL_LCS_FOR_500/\"\n",
    "output_file_path = systempath + \"task2/v_converted_filtered_files/\"\n",
    "output_pdf_path = systempath + \"GRB/task2/v_out_pdfs/\"\n",
    "\n",
    "#THE 80 FILES ALOTTED TO ME\n",
    "folders = \"140423A ,140428A ,140430A ,140506A ,140508A ,140509A ,140512A ,140515A ,140518A ,140606B ,140614A ,140620A ,140623A ,140629A ,140703A ,140710A ,140801A ,140808A ,140903A ,140907A ,141004A ,141028A ,141109A ,141121A ,141220A ,141221A ,141225A ,150101B ,150120B ,150206A ,150301B ,150314A ,150323A ,150403A ,150413A ,150423A ,150514A ,150518A ,150727A ,150818A ,150821A ,150910A ,150915A ,151021A ,151027A ,151027B ,151029A ,151031A ,151111A ,151112A ,151215A ,160117B ,160121A ,160131A ,160203A ,160227A ,160228A ,160314A ,160410A ,160425A ,160509A ,160623A ,160625B ,160629A ,160804A ,160821B ,161014A ,161017A ,161023A ,161108A ,161117A ,161129A ,161219B ,170113A ,170202A ,170214A ,170405A ,170428A ,170519A\"\n",
    "\n",
    "#22 MASTERSAMPLE FILES WITHIN MY ALOTTED FILES\n",
    "masterfolders = \"140423A,140430A,140801A,140907A,141121A,141221A,150323A,150413A,150910A,151027A,151029A,160131A,160227A,160314A,160425A,160804A,161014A,161023A,161219B,170113A,170405A\"\n",
    "folders = folders.split(\" ,\")\n",
    "masterfolders = masterfolders.split(\",\")\n",
    "\n",
    "#REMOVING THE MASTERSAMPLE FILES FROM THE LIST OF FILES TO BE SCANNED\n",
    "for i in masterfolders:\n",
    "    folders.remove(i)\n",
    "filenames = [i + \"_converted_flux\" for i in folders]"
   ]
  },
  {
   "cell_type": "markdown",
   "id": "1dc392da",
   "metadata": {},
   "source": [
    "FUNCTION TO REMOVE POINTS WITH 0 ERROR(LIMITING VALUE ERROR) AND CORRUPTED DATA"
   ]
  },
  {
   "cell_type": "code",
   "execution_count": 3,
   "id": "e946e63e",
   "metadata": {},
   "outputs": [],
   "source": [
    "def zero_error(light):\n",
    "    for i in range(len(light)):\n",
    "        if light.flux_err.values[i] == 0.0 or np.log10(light.flux_err.values[i]) > 50  :\n",
    "            light.flux_err.values[i] = None\n",
    "        if type(light.index.values[i]) == str:\n",
    "            light.flux_err.values[i] = None\n",
    "    light.dropna(inplace=True)       "
   ]
  },
  {
   "cell_type": "markdown",
   "id": "3a006964",
   "metadata": {},
   "source": [
    "IF AN OBSERVATION HAS BEEN DONE IN MULTIPLE BANDS AT THE SAME TIME,\n",
    "\n",
    "THIS METHOD REMOVES ALL THE BANDS EXCEPT R / r / r' BANDS FROM THAT OBSERVATION"
   ]
  },
  {
   "cell_type": "code",
   "execution_count": 4,
   "id": "a1332ea7",
   "metadata": {},
   "outputs": [],
   "source": [
    "def vertical(light):\n",
    "    disc_time = list(set(light.index.values))\n",
    "    disc_time.sort()\n",
    "    val_counts = list(light.index.value_counts(ascending=True))\n",
    "    for i in range(len(disc_time)):\n",
    "        if val_counts[i] > 1:\n",
    "            for j in range(len(light)):\n",
    "                if light.index.values[j] == disc_time[i] and not(light.band.values[j] in (\"R\",\"r\", \"r'\", \"R'\")):\n",
    "                    light.band.values[j] = None\n",
    "\n",
    "    light.dropna(inplace=True)"
   ]
  },
  {
   "cell_type": "markdown",
   "id": "d51dfe99",
   "metadata": {},
   "source": [
    "THE FOLLOWING METHOD CLEANS A GIVEN INPUT FILE AND STORES THE CLEANED DATA FILE IN $task2/v$ _ $converted$ _ $filtered$ _ $files$ FOLDER"
   ]
  },
  {
   "cell_type": "code",
   "execution_count": 5,
   "id": "0ed8b88d",
   "metadata": {},
   "outputs": [],
   "source": [
    "def filter(f2):\n",
    "     filename = inputfilepath + file\n",
    "     filename2 = f2.replace( \"_flux\",\"_filtered_flux\")\n",
    "     try:\n",
    "          light = pd.read_csv(filename+\".txt\", sep=r\"\\t+|\\s+\", engine=\"python\", names= [\"time_sec\",\"flux\",\"flux_err\",\"band\",\"source\"],\n",
    "         header=0, index_col=0)\n",
    "          zero_error(light)\n",
    "          vertical(light)\n",
    "        \n",
    "          light.to_csv(\"task2/v_converted_filtered_files/\"+filename2 + \".txt\")\n",
    "          return light\n",
    "\n",
    "     except:\n",
    "          light = pd.read_csv(filename+\".txt\", sep=r\"\\t+|\\s+\", engine=\"python\", names= [\"time_sec\",\"flux\",\"flux_err\",\"band\",\"source\"],\n",
    "         header=0, index_col=0)\n",
    "          zero_error(light)\n",
    "          vertical(light)\n",
    "        \n",
    "          light.to_csv(\"task2/v_converted_filtered_files/\"+filename2 + \".txt\")\n",
    "          return light\n"
   ]
  },
  {
   "cell_type": "markdown",
   "id": "9029c315",
   "metadata": {},
   "source": [
    "FUNCTION TO PLOT A GIVEN DATABASE AND STORE THE OUTPUT PLOT IN $task2/v$ _ $out$ _ $pdfs$ FOLDER"
   ]
  },
  {
   "cell_type": "code",
   "execution_count": 6,
   "id": "97041a81",
   "metadata": {},
   "outputs": [],
   "source": [
    "def plot(light, f2):\n",
    "    #filename2 = file + \"_not_done\"\n",
    "    filename2 = f2.replace( \"_flux\",\"_filtered_flux\")\n",
    "    filename = f2\n",
    "    if len(light) != 0:\n",
    "        try:\n",
    "            fig = px.scatter(\n",
    "                        data_frame=light,\n",
    "                        x=np.log10(light.index.values),\n",
    "                        y=np.log10(light[1].values),\n",
    "                        error_y= light[2].values / (light[1].values * np.log(10)),\n",
    "                        color=light[3].values,\n",
    "                        hover_data=[4],\n",
    "                        title=filename2,width=800, height=400\n",
    "                    )\n",
    "\n",
    "            fig.update_layout(\n",
    "                        xaxis_title='log Time (s)',\n",
    "                        yaxis_title='log Flux (erg cm-2 s-1)'\n",
    "                    )\n",
    "            fig.write_image(output_pdf_path + filename2+\".pdf\")\n",
    "\n",
    "            \n",
    "        except:\n",
    "            fig = px.scatter(\n",
    "                data_frame=light,\n",
    "                x=np.log10(light.index),\n",
    "                y=np.log10(light['flux'].values),\n",
    "                error_y= light['flux_err'].values / (light['flux'].values * np.log(10)),\n",
    "                color=light['band'].values,\n",
    "                hover_data=['source'],\n",
    "                title=filename2, width=1600, height=800\n",
    "            )\n",
    "            fig.update_layout(\n",
    "                xaxis_title='log Time (s)',\n",
    "                yaxis_title='log Flux (erg cm-2 s-1)'\n",
    "            )\n",
    "        #fig.show()\n",
    "        fig.write_image(output_pdf_path + filename2+\".pdf\")\n",
    "    else:\n",
    "        fig = px.scatter()\n",
    "        fig.write_image(output_pdf_path + filename2+\".pdf\")"
   ]
  },
  {
   "cell_type": "code",
   "execution_count": 7,
   "id": "85b55d5c",
   "metadata": {},
   "outputs": [],
   "source": [
    "#FUNCTION TO CONCATANATE N DATA FRAMES INTO A SINGLE DATAFRAME AND RETURN IT\n",
    "def concat(*args):\n",
    "    return pd.concat([x for x in args if not x.empty])"
   ]
  },
  {
   "cell_type": "markdown",
   "id": "551189b8",
   "metadata": {},
   "source": [
    "THE FOLLOWING CELL ITERATES THROUGH THE 58(AFTER REMOVING 22 MASTERSAMPLE FILES FROM THE 80) FILES ALLOTTED TO ME\n",
    "\n",
    "IT ALSO STORES THE ENTIRE DATA IN THE DATABASE $all$ _ $light$"
   ]
  },
  {
   "cell_type": "code",
   "execution_count": 8,
   "id": "082b3a3f",
   "metadata": {},
   "outputs": [],
   "source": [
    "i=0\n",
    "all_light = pd.DataFrame()\n",
    "for file in filenames:\n",
    "    i+=1\n",
    "    plot(filter(file), file)\n",
    "    all_light = concat(all_light, filter(file))\n"
   ]
  },
  {
   "cell_type": "code",
   "execution_count": 9,
   "id": "4bdca4ce",
   "metadata": {},
   "outputs": [],
   "source": [
    "#PLOTTING THE ENTIRE DATA AND STORING THE CONCATANATED DATABASE AS $entire$ _ $data.txt$\n",
    "plot(all_light, \"entire_data\")\n",
    "all_light.to_csv(\"task2/v_converted_filtered_files/entire_data.txt\")"
   ]
  },
  {
   "cell_type": "markdown",
   "id": "70d96e0c",
   "metadata": {},
   "source": [
    "THE FOLLOWING CELL MERGES ALL THE OUTPUT PDF FILES INTO A SINGLE PDF FILE: $ALL$ _ $LCS$ _ $FOR$ _ $500$ _ $filtered$ _ $merged.pdf$"
   ]
  },
  {
   "cell_type": "code",
   "execution_count": 10,
   "id": "564b42bb",
   "metadata": {},
   "outputs": [],
   "source": [
    "pdfs = [output_pdf_path + file.replace( \"_flux\",\"_filtered_flux.pdf\")  for file in filenames]\n",
    "merger = PdfFileMerger()\n",
    "\n",
    "for pdf in pdfs:\n",
    "    merger.append(pdf)\n",
    "    \n",
    "merger.write(output_pdf_path + \"ALL_LCS_FOR_500_filtered_merged.pdf\")\n",
    "#merger.write(output_pdf_path + \"merged_not_done.pdf\")\n",
    "merger.close()"
   ]
  }
 ],
 "metadata": {
  "kernelspec": {
   "display_name": "Python 3.10.4 64-bit",
   "language": "python",
   "name": "python3"
  },
  "language_info": {
   "codemirror_mode": {
    "name": "ipython",
    "version": 3
   },
   "file_extension": ".py",
   "mimetype": "text/x-python",
   "name": "python",
   "nbconvert_exporter": "python",
   "pygments_lexer": "ipython3",
   "version": "3.10.4"
  },
  "vscode": {
   "interpreter": {
    "hash": "916dbcbb3f70747c44a77c7bcd40155683ae19c65e1c03b4aa3499c5328201f1"
   }
  }
 },
 "nbformat": 4,
 "nbformat_minor": 5
}
