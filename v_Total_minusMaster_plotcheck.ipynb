{
 "cells": [
  {
   "cell_type": "markdown",
   "id": "d237f6a2",
   "metadata": {},
   "source": [
    "VERSION 1.0 ON 28072022 - 22.52\n",
    "\n",
    "VERSION 1.0.01 ON 29072022 - 00.14 - adjusted output .pdf image size\n",
    "\n",
    "VERSION 1.0.2  ON 29072022 - 19.27 - plotted leftover graphs\n",
    "\n",
    "VERSION 1.0.21 ON 30072022 - 19.33 - corrected page order in the final output file\n",
    "\n",
    "VERSION 1.0.22 ON 31072022 - 16.50 - changed log10(fulx_err) tolerance limit to -11 and minor changes to file titles\n",
    "\n",
    "I HAVE BEEN ALLOTTED 80 GRB FILES (NAMES STORED IN THE VARIABLE $folders$)\n",
    "\n",
    "OUT OF THOSE 80 FILES, 22 ARE MASTERSAMPLE FILES SO THEY HAVE BEEN IGNORED AS PER INSTRUCTIONS\n",
    "\n",
    "THE REMAINING 52 FILES ARE WITHOUT DUPLICATE BANDS IN THE SAME TIME AND/OR LIMITING MAGNITUDES\n",
    "\n",
    "ANY POINTS SEEN OVERLAPPING ARE SIMPLY VERY CLOSE TO EACH OTHER"
   ]
  },
  {
   "cell_type": "code",
   "execution_count": 1,
   "id": "f76357a7",
   "metadata": {},
   "outputs": [],
   "source": [
    "import plotly.express as px\n",
    "import pandas as pd\n",
    "import numpy as np\n",
    "import kaleido\n",
    "from PyPDF2 import PdfFileMerger"
   ]
  },
  {
   "cell_type": "code",
   "execution_count": 2,
   "id": "27c52693",
   "metadata": {},
   "outputs": [],
   "source": [
    "#FILE PATHS\n",
    "systempath = \"/media/darkwake/VIB2/\"\n",
    "inputfilepath = systempath + \"GRB/ALL_LCS_FOR_500/\"\n",
    "output_file_path = systempath + \"task2/v_converted_filtered_files/\"\n",
    "output_pdf_path = systempath + \"GRB/task2/v_out_pdfs/\"\n",
    "\n",
    "#THE 80 FILES ALOTTED TO ME\n",
    "folders = \"140423A ,140428A ,140430A ,140506A ,140508A ,140509A ,140512A ,140515A ,140518A ,140606B ,140614A ,140620A ,140623A ,140629A ,140703A ,140710A ,140801A ,140808A ,140903A ,140907A ,141004A ,141028A ,141109A ,141121A ,141220A ,141221A ,141225A ,150101B ,150120B ,150206A ,150301B ,150314A ,150323A ,150403A ,150413A ,150423A ,150514A ,150518A ,150727A ,150818A ,150821A ,150910A ,150915A ,151021A ,151027A ,151027B ,151029A ,151031A ,151111A ,151112A ,151215A ,160117B ,160121A ,160131A ,160203A ,160227A ,160228A ,160314A ,160410A ,160425A ,160509A ,160623A ,160625B ,160629A ,160804A ,160821B ,161014A ,161017A ,161023A ,161108A ,161117A ,161129A ,161219B ,170113A ,170202A ,170214A ,170405A ,170428A ,170519A\"\n",
    "\n",
    "#22 MASTERSAMPLE FILES WITHIN MY ALOTTED FILES\n",
    "masterfolders = \"140423A,140430A,140801A,140907A,141121A,141221A,150323A,150413A,150910A,151027A,151029A,160131A,160227A,160314A,160425A,160804A,161014A,161023A,161219B,170113A,170405A, 170531B\"\n",
    "folders = folders.split(\" ,\")\n",
    "masterfolders = masterfolders.split(\",\")\n",
    "\n",
    "\n",
    "#ADDITIONAL PRECURSOR FILES\n",
    "v_folders = ['121027A', '121201A', '121209A', '121211A', '121229A', '130408A', '130418A', '130427B', '130505A', '130511A', '130514A', '130518A', '130603B', '130610A', '130612A', '130701A', '130907A', '130925A', '131004A', '131011A', '131030A', '131103A', '131105A', '131108A', '131117A', '131231A', '140114A', '140213A', '140226A', '140301A', '140304A', '140311A', '140318A', '140419A']\n",
    "\n",
    "#Biagio's Additional files - are merged in a separate .pdf\n",
    "b_folders = ['970228A', '971214A', '980329A', '980425A', '980613A', '980703A', '990123A', '990712A', '991208A']\n",
    "#REMOVING THE MASTERSAMPLE FILES FROM THE LIST OF FILES TO BE SCANNED\n",
    "for i in masterfolders:\n",
    "    if i in folders:\n",
    "        folders.remove(i)\n",
    "v_folders.extend(folders)\n",
    "filenames = [i + \"_converted_flux\" for i in v_folders]\n",
    "b_filenames = [i + \"_converted_flux\" for i in b_folders]"
   ]
  },
  {
   "cell_type": "markdown",
   "id": "1dc392da",
   "metadata": {},
   "source": [
    "FUNCTION TO REMOVE POINTS WITH 0 ERROR(LIMITING VALUE ERROR) AND CORRUPTED DATA AND (FROM VERSION 1.0.22) POINTS WITH TOO MUCH FLUX_ERROR"
   ]
  },
  {
   "cell_type": "code",
   "execution_count": 3,
   "id": "e946e63e",
   "metadata": {},
   "outputs": [],
   "source": [
    "def zero_error(light):\n",
    "    for i in range(len(light)):\n",
    "        if light.flux_err.values[i] == 0.0 or np.log10(light.flux_err.values[i]) > -11:#Version 1.0.22 changed log10(fulx_err) tolerance limit to -11 \n",
    "            light.flux_err.values[i] = None\n",
    "        if type(light.index.values[i]) == str:\n",
    "            light.flux_err.values[i] = None\n",
    "    light.dropna(inplace=True)       "
   ]
  },
  {
   "cell_type": "markdown",
   "id": "3a006964",
   "metadata": {},
   "source": [
    "IF AN OBSERVATION HAS BEEN DONE IN MULTIPLE BANDS AT THE SAME TIME,\n",
    "\n",
    "THIS METHOD REMOVES ALL THE BANDS EXCEPT R / r / r' BANDS FROM THAT OBSERVATION"
   ]
  },
  {
   "cell_type": "code",
   "execution_count": 4,
   "id": "a1332ea7",
   "metadata": {},
   "outputs": [],
   "source": [
    "def vertical(light):\n",
    "    disc = dict(light.index.value_counts())\n",
    "    disc_time = list(disc.keys())\n",
    "    val_counts = list(disc.values())\n",
    "    for i in range(len(disc_time)):\n",
    "        if val_counts[i] > 1:\n",
    "            for j in range(len(light)):\n",
    "                if light.index.values[j] == disc_time[i]:\n",
    "                    if not(light.band.values[j] in (\"R\",\"r\", \"r'\", \"R'\")):\n",
    "                        light.band.values[j] = None\n",
    "                        #light.index.values[j] = None\n",
    "\n",
    "    light.dropna(inplace=True)"
   ]
  },
  {
   "cell_type": "markdown",
   "id": "d51dfe99",
   "metadata": {},
   "source": [
    "THE FOLLOWING METHOD CLEANS A GIVEN INPUT FILE AND STORES THE CLEANED DATA FILE IN $task2/v$ _ $converted$ _ $filtered$ _ $files$ FOLDER"
   ]
  },
  {
   "cell_type": "code",
   "execution_count": 8,
   "id": "0ed8b88d",
   "metadata": {},
   "outputs": [],
   "source": [
    "def filter(f2):\n",
    "     filename = inputfilepath + f2\n",
    "     filename2 = f2.replace( \"_flux\",\"_filtered_flux\")\n",
    "     try:\n",
    "          light = pd.read_csv(filename+\".txt\", sep=r\"\\t+|\\s+\", engine=\"python\", names= [\"time_sec\",\"flux\",\"flux_err\",\"band\",\"source\"],\n",
    "         header=0, index_col=0)\n",
    "          zero_error(light)\n",
    "          vertical(light)\n",
    "        \n",
    "          light.to_csv(\"task2/v_converted_filtered_files/\"+filename2 + \".txt\")\n",
    "          return light\n",
    "\n",
    "     except:\n",
    "          light = pd.read_csv(filename+\".txt\", sep=r\"\\t+|\\s+\", engine=\"python\", names= [\"time_sec\",\"flux\",\"flux_err\",\"band\",\"source\"],\n",
    "         header=0, index_col=0)\n",
    "          zero_error(light)\n",
    "          vertical(light)\n",
    "        \n",
    "          light.to_csv(\"task2/v_converted_filtered_files/\"+filename2 + \".txt\")\n",
    "          return light\n"
   ]
  },
  {
   "cell_type": "markdown",
   "id": "9029c315",
   "metadata": {},
   "source": [
    "FUNCTION TO PLOT A GIVEN DATABASE AND STORE THE OUTPUT PLOT IN $task2/v$ _ $out$ _ $pdfs$ FOLDER"
   ]
  },
  {
   "cell_type": "code",
   "execution_count": 11,
   "id": "97041a81",
   "metadata": {},
   "outputs": [],
   "source": [
    "def plot(light, f2):\n",
    "    #filename2 = file + \"_not_done\"\n",
    "    filename2 = f2.replace( \"_flux\",\"_filtered_flux\")\n",
    "    filename = f2\n",
    "    if len(light) != 0:\n",
    "        try:\n",
    "            fig = px.scatter(\n",
    "                        data_frame=light,\n",
    "                        x=np.log10(light.index.values),\n",
    "                        y=np.log10(light[1].values),\n",
    "                        error_y= light[2].values / (light[1].values * np.log(10)),\n",
    "                        color=light[3].values,\n",
    "                        hover_data=[4],\n",
    "                        title=filename2\n",
    "                    )\n",
    "\n",
    "            fig.update_layout(\n",
    "                        xaxis_title='log Time (s)',\n",
    "                        yaxis_title='log Flux (erg cm-2 s-1)'\n",
    "                    )\n",
    "            fig.write_image(output_pdf_path + filename2+\".pdf\")\n",
    "\n",
    "            \n",
    "        except:\n",
    "            fig = px.scatter(\n",
    "                data_frame=light,\n",
    "                x=np.log10(light.index),\n",
    "                y=np.log10(light['flux'].values),\n",
    "                error_y= light['flux_err'].values / (light['flux'].values * np.log(10)),\n",
    "                color=light['band'].values,\n",
    "                hover_data=['source'],\n",
    "                title=filename2, width=1200, height=800\n",
    "            )\n",
    "            fig.updatetask3/v_converted_filtered_files"
   ]
  },
  {
   "cell_type": "code",
   "execution_count": 15,
   "id": "1f715e0d",
   "metadata": {},
   "outputs": [
    {
     "data": {
      "application/vnd.plotly.v1+json": {
       "config": {
        "plotlyServerURL": "https://plot.ly"
       },
       "data": [
        {
         "customdata": [
          [
           14048
          ]
         ],
         "error_y": {
          "array": [
           0.0008226957046710207
          ]
         },
         "hovertemplate": "color=r<br>x=%{x}<br>y=%{y}<br>source=%{customdata[0]}<extra></extra>",
         "legendgroup": "r",
         "marker": {
          "color": "#636efa",
          "symbol": "circle"
         },
         "mode": "markers",
         "name": "r",
         "orientation": "v",
         "showlegend": true,
         "type": "scatter",
         "x": [
          3.9876662649262746
         ],
         "xaxis": "x",
         "y": [
          -13.841629764135355
         ],
         "yaxis": "y"
        },
        {
         "customdata": [
          [
           14049
          ],
          [
           14050
          ]
         ],
         "error_y": {
          "array": [
           0.12000278216641995,
           0.0008171460586960745
          ]
         },
         "hovertemplate": "color=r'<br>x=%{x}<br>y=%{y}<br>source=%{customdata[0]}<extra></extra>",
         "legendgroup": "r'",
         "marker": {
          "color": "#EF553B",
          "symbol": "circle"
         },
         "mode": "markers",
         "name": "r'",
         "orientation": "v",
         "showlegend": true,
         "type": "scatter",
         "x": [
          3.979548374704095,
          4.126845440649185
         ],
         "xaxis": "x",
         "y": [
          -14.36170607176751,
          -13.481706071767508
         ],
         "yaxis": "y"
        },
        {
         "customdata": [
          [
           14056
          ]
         ],
         "error_y": {
          "array": [
           0.08036128599202036
          ]
         },
         "hovertemplate": "color=I<br>x=%{x}<br>y=%{y}<br>source=%{customdata[0]}<extra></extra>",
         "legendgroup": "I",
         "marker": {
          "color": "#00cc96",
          "symbol": "circle"
         },
         "mode": "markers",
         "name": "I",
         "orientation": "v",
         "showlegend": true,
         "type": "scatter",
         "x": [
          3.6898414091375047
         ],
         "xaxis": "x",
         "y": [
          -14.359875798204758
         ],
         "yaxis": "y"
        },
        {
         "customdata": [
          [
           14086
          ]
         ],
         "error_y": {
          "array": [
           0.0058864396468988524
          ]
         },
         "hovertemplate": "color=v_swift<br>x=%{x}<br>y=%{y}<br>source=%{customdata[0]}<extra></extra>",
         "legendgroup": "v_swift",
         "marker": {
          "color": "#ab63fa",
          "symbol": "circle"
         },
         "mode": "markers",
         "name": "v_swift",
         "orientation": "v",
         "showlegend": true,
         "type": "scatter",
         "x": [
          4.318125969073185
         ],
         "xaxis": "x",
         "y": [
          -12.864781265964972
         ],
         "yaxis": "y"
        },
        {
         "customdata": [
          [
           14086
          ]
         ],
         "error_y": {
          "array": [
           0.013501464602744933
          ]
         },
         "hovertemplate": "color=b_swift<br>x=%{x}<br>y=%{y}<br>source=%{customdata[0]}<extra></extra>",
         "legendgroup": "b_swift",
         "marker": {
          "color": "#FFA15A",
          "symbol": "circle"
         },
         "mode": "markers",
         "name": "b_swift",
         "orientation": "v",
         "showlegend": true,
         "type": "scatter",
         "x": [
          4.178502127629101
         ],
         "xaxis": "x",
         "y": [
          -13.051122730333015
         ],
         "yaxis": "y"
        },
        {
         "customdata": [
          [
           14086
          ]
         ],
         "error_y": {
          "array": [
           0.020825229283254903
          ]
         },
         "hovertemplate": "color=u_swift<br>x=%{x}<br>y=%{y}<br>source=%{customdata[0]}<extra></extra>",
         "legendgroup": "u_swift",
         "marker": {
          "color": "#19d3f3",
          "symbol": "circle"
         },
         "mode": "markers",
         "name": "u_swift",
         "orientation": "v",
         "showlegend": true,
         "type": "scatter",
         "x": [
          4.190401740018988
         ],
         "xaxis": "x",
         "y": [
          -13.60533471297718
         ],
         "yaxis": "y"
        },
        {
         "customdata": [
          [
           14086
          ]
         ],
         "error_y": {
          "array": [
           0.03024604144174904
          ]
         },
         "hovertemplate": "color=uvw1_swift<br>x=%{x}<br>y=%{y}<br>source=%{customdata[0]}<extra></extra>",
         "legendgroup": "uvw1_swift",
         "marker": {
          "color": "#FF6692",
          "symbol": "circle"
         },
         "mode": "markers",
         "name": "uvw1_swift",
         "orientation": "v",
         "showlegend": true,
         "type": "scatter",
         "x": [
          4.257714564633323
         ],
         "xaxis": "x",
         "y": [
          -13.645671708505496
         ],
         "yaxis": "y"
        },
        {
         "customdata": [
          [
           14086
          ]
         ],
         "error_y": {
          "array": [
           0.036435862207470276
          ]
         },
         "hovertemplate": "color=uvm2_swift<br>x=%{x}<br>y=%{y}<br>source=%{customdata[0]}<extra></extra>",
         "legendgroup": "uvm2_swift",
         "marker": {
          "color": "#B6E880",
          "symbol": "circle"
         },
         "mode": "markers",
         "name": "uvm2_swift",
         "orientation": "v",
         "showlegend": true,
         "type": "scatter",
         "x": [
          4.327665387050042
         ],
         "xaxis": "x",
         "y": [
          -14.034537472019986
         ],
         "yaxis": "y"
        },
        {
         "customdata": [
          [
           14086
          ]
         ],
         "error_y": {
          "array": [
           0.03900349803426443
          ]
         },
         "hovertemplate": "color=uvw2_swift<br>x=%{x}<br>y=%{y}<br>source=%{customdata[0]}<extra></extra>",
         "legendgroup": "uvw2_swift",
         "marker": {
          "color": "#FF97FF",
          "symbol": "circle"
         },
         "mode": "markers",
         "name": "uvw2_swift",
         "orientation": "v",
         "showlegend": true,
         "type": "scatter",
         "x": [
          4.30628560200552
         ],
         "xaxis": "x",
         "y": [
          -13.78529636457254
         ],
         "yaxis": "y"
        }
       ],
       "layout": {
        "height": 800,
        "legend": {
         "title": {
          "text": "color"
         },
         "tracegroupgap": 0
        },
        "template": {
         "data": {
          "bar": [
           {
            "error_x": {
             "color": "#2a3f5f"
            },
            "error_y": {
             "color": "#2a3f5f"
            },
            "marker": {
             "line": {
              "color": "#E5ECF6",
              "width": 0.5
             },
             "pattern": {
              "fillmode": "overlay",
              "size": 10,
              "solidity": 0.2
             }
            },
            "type": "bar"
           }
          ],
          "barpolar": [
           {
            "marker": {
             "line": {
              "color": "#E5ECF6",
              "width": 0.5
             },
             "pattern": {
              "fillmode": "overlay",
              "size": 10,
              "solidity": 0.2
             }
            },
            "type": "barpolar"
           }
          ],
          "carpet": [
           {
            "aaxis": {
             "endlinecolor": "#2a3f5f",
             "gridcolor": "white",
             "linecolor": "white",
             "minorgridcolor": "white",
             "startlinecolor": "#2a3f5f"
            },
            "baxis": {
             "endlinecolor": "#2a3f5f",
             "gridcolor": "white",
             "linecolor": "white",
             "minorgridcolor": "white",
             "startlinecolor": "#2a3f5f"
            },
            "type": "carpet"
           }
          ],
          "choropleth": [
           {
            "colorbar": {
             "outlinewidth": 0,
             "ticks": ""
            },
            "type": "choropleth"
           }
          ],
          "contour": [
           {
            "colorbar": {
             "outlinewidth": 0,
             "ticks": ""
            },
            "colorscale": [
             [
              0,
              "#0d0887"
             ],
             [
              0.1111111111111111,
              "#46039f"
             ],
             [
              0.2222222222222222,
              "#7201a8"
             ],
             [
              0.3333333333333333,
              "#9c179e"
             ],
             [
              0.4444444444444444,
              "#bd3786"
             ],
             [
              0.5555555555555556,
              "#d8576b"
             ],
             [
              0.6666666666666666,
              "#ed7953"
             ],
             [
              0.7777777777777778,
              "#fb9f3a"
             ],
             [
              0.8888888888888888,
              "#fdca26"
             ],
             [
              1,
              "#f0f921"
             ]
            ],
            "type": "contour"
           }
          ],
          "contourcarpet": [
           {
            "colorbar": {
             "outlinewidth": 0,
             "ticks": ""
            },
            "type": "contourcarpet"
           }
          ],
          "heatmap": [
           {
            "colorbar": {
             "outlinewidth": 0,
             "ticks": ""
            },
            "colorscale": [
             [
              0,
              "#0d0887"
             ],
             [
              0.1111111111111111,
              "#46039f"
             ],
             [
              0.2222222222222222,
              "#7201a8"
             ],
             [
              0.3333333333333333,
              "#9c179e"
             ],
             [
              0.4444444444444444,
              "#bd3786"
             ],
             [
              0.5555555555555556,
              "#d8576b"
             ],
             [
              0.6666666666666666,
              "#ed7953"
             ],
             [
              0.7777777777777778,
              "#fb9f3a"
             ],
             [
              0.8888888888888888,
              "#fdca26"
             ],
             [
              1,
              "#f0f921"
             ]
            ],
            "type": "heatmap"
           }
          ],
          "heatmapgl": [
           {
            "colorbar": {
             "outlinewidth": 0,
             "ticks": ""
            },
            "colorscale": [
             [
              0,
              "#0d0887"
             ],
             [
              0.1111111111111111,
              "#46039f"
             ],
             [
              0.2222222222222222,
              "#7201a8"
             ],
             [
              0.3333333333333333,
              "#9c179e"
             ],
             [
              0.4444444444444444,
              "#bd3786"
             ],
             [
              0.5555555555555556,
              "#d8576b"
             ],
             [
              0.6666666666666666,
              "#ed7953"
             ],
             [
              0.7777777777777778,
              "#fb9f3a"
             ],
             [
              0.8888888888888888,
              "#fdca26"
             ],
             [
              1,
              "#f0f921"
             ]
            ],
            "type": "heatmapgl"
           }
          ],
          "histogram": [
           {
            "marker": {
             "pattern": {
              "fillmode": "overlay",
              "size": 10,
              "solidity": 0.2
             }
            },
            "type": "histogram"
           }
          ],
          "histogram2d": [
           {
            "colorbar": {
             "outlinewidth": 0,
             "ticks": ""
            },
            "colorscale": [
             [
              0,
              "#0d0887"
             ],
             [
              0.1111111111111111,
              "#46039f"
             ],
             [
              0.2222222222222222,
              "#7201a8"
             ],
             [
              0.3333333333333333,
              "#9c179e"
             ],
             [
              0.4444444444444444,
              "#bd3786"
             ],
             [
              0.5555555555555556,
              "#d8576b"
             ],
             [
              0.6666666666666666,
              "#ed7953"
             ],
             [
              0.7777777777777778,
              "#fb9f3a"
             ],
             [
              0.8888888888888888,
              "#fdca26"
             ],
             [
              1,
              "#f0f921"
             ]
            ],
            "type": "histogram2d"
           }
          ],
          "histogram2dcontour": [
           {
            "colorbar": {
             "outlinewidth": 0,
             "ticks": ""
            },
            "colorscale": [
             [
              0,
              "#0d0887"
             ],
             [
              0.1111111111111111,
              "#46039f"
             ],
             [
              0.2222222222222222,
              "#7201a8"
             ],
             [
              0.3333333333333333,
              "#9c179e"
             ],
             [
              0.4444444444444444,
              "#bd3786"
             ],
             [
              0.5555555555555556,
              "#d8576b"
             ],
             [
              0.6666666666666666,
              "#ed7953"
             ],
             [
              0.7777777777777778,
              "#fb9f3a"
             ],
             [
              0.8888888888888888,
              "#fdca26"
             ],
             [
              1,
              "#f0f921"
             ]
            ],
            "type": "histogram2dcontour"
           }
          ],
          "mesh3d": [
           {
            "colorbar": {
             "outlinewidth": 0,
             "ticks": ""
            },
            "type": "mesh3d"
           }
          ],
          "parcoords": [
           {
            "line": {
             "colorbar": {
              "outlinewidth": 0,
              "ticks": ""
             }
            },
            "type": "parcoords"
           }
          ],
          "pie": [
           {
            "automargin": true,
            "type": "pie"
           }
          ],
          "scatter": [
           {
            "fillpattern": {
             "fillmode": "overlay",
             "size": 10,
             "solidity": 0.2
            },
            "type": "scatter"
           }
          ],
          "scatter3d": [
           {
            "line": {
             "colorbar": {
              "outlinewidth": 0,
              "ticks": ""
             }
            },
            "marker": {
             "colorbar": {
              "outlinewidth": 0,
              "ticks": ""
             }
            },
            "type": "scatter3d"
           }
          ],
          "scattercarpet": [
           {
            "marker": {
             "colorbar": {
              "outlinewidth": 0,
              "ticks": ""
             }
            },
            "type": "scattercarpet"
           }
          ],
          "scattergeo": [
           {
            "marker": {
             "colorbar": {
              "outlinewidth": 0,
              "ticks": ""
             }
            },
            "type": "scattergeo"
           }
          ],
          "scattergl": [
           {
            "marker": {
             "colorbar": {
              "outlinewidth": 0,
              "ticks": ""
             }
            },
            "type": "scattergl"
           }
          ],
          "scattermapbox": [
           {
            "marker": {
             "colorbar": {
              "outlinewidth": 0,
              "ticks": ""
             }
            },
            "type": "scattermapbox"
           }
          ],
          "scatterpolar": [
           {
            "marker": {
             "colorbar": {
              "outlinewidth": 0,
              "ticks": ""
             }
            },
            "type": "scatterpolar"
           }
          ],
          "scatterpolargl": [
           {
            "marker": {
             "colorbar": {
              "outlinewidth": 0,
              "ticks": ""
             }
            },
            "type": "scatterpolargl"
           }
          ],
          "scatterternary": [
           {
            "marker": {
             "colorbar": {
              "outlinewidth": 0,
              "ticks": ""
             }
            },
            "type": "scatterternary"
           }
          ],
          "surface": [
           {
            "colorbar": {
             "outlinewidth": 0,
             "ticks": ""
            },
            "colorscale": [
             [
              0,
              "#0d0887"
             ],
             [
              0.1111111111111111,
              "#46039f"
             ],
             [
              0.2222222222222222,
              "#7201a8"
             ],
             [
              0.3333333333333333,
              "#9c179e"
             ],
             [
              0.4444444444444444,
              "#bd3786"
             ],
             [
              0.5555555555555556,
              "#d8576b"
             ],
             [
              0.6666666666666666,
              "#ed7953"
             ],
             [
              0.7777777777777778,
              "#fb9f3a"
             ],
             [
              0.8888888888888888,
              "#fdca26"
             ],
             [
              1,
              "#f0f921"
             ]
            ],
            "type": "surface"
           }
          ],
          "table": [
           {
            "cells": {
             "fill": {
              "color": "#EBF0F8"
             },
             "line": {
              "color": "white"
             }
            },
            "header": {
             "fill": {
              "color": "#C8D4E3"
             },
             "line": {
              "color": "white"
             }
            },
            "type": "table"
           }
          ]
         },
         "layout": {
          "annotationdefaults": {
           "arrowcolor": "#2a3f5f",
           "arrowhead": 0,
           "arrowwidth": 1
          },
          "autotypenumbers": "strict",
          "coloraxis": {
           "colorbar": {
            "outlinewidth": 0,
            "ticks": ""
           }
          },
          "colorscale": {
           "diverging": [
            [
             0,
             "#8e0152"
            ],
            [
             0.1,
             "#c51b7d"
            ],
            [
             0.2,
             "#de77ae"
            ],
            [
             0.3,
             "#f1b6da"
            ],
            [
             0.4,
             "#fde0ef"
            ],
            [
             0.5,
             "#f7f7f7"
            ],
            [
             0.6,
             "#e6f5d0"
            ],
            [
             0.7,
             "#b8e186"
            ],
            [
             0.8,
             "#7fbc41"
            ],
            [
             0.9,
             "#4d9221"
            ],
            [
             1,
             "#276419"
            ]
           ],
           "sequential": [
            [
             0,
             "#0d0887"
            ],
            [
             0.1111111111111111,
             "#46039f"
            ],
            [
             0.2222222222222222,
             "#7201a8"
            ],
            [
             0.3333333333333333,
             "#9c179e"
            ],
            [
             0.4444444444444444,
             "#bd3786"
            ],
            [
             0.5555555555555556,
             "#d8576b"
            ],
            [
             0.6666666666666666,
             "#ed7953"
            ],
            [
             0.7777777777777778,
             "#fb9f3a"
            ],
            [
             0.8888888888888888,
             "#fdca26"
            ],
            [
             1,
             "#f0f921"
            ]
           ],
           "sequentialminus": [
            [
             0,
             "#0d0887"
            ],
            [
             0.1111111111111111,
             "#46039f"
            ],
            [
             0.2222222222222222,
             "#7201a8"
            ],
            [
             0.3333333333333333,
             "#9c179e"
            ],
            [
             0.4444444444444444,
             "#bd3786"
            ],
            [
             0.5555555555555556,
             "#d8576b"
            ],
            [
             0.6666666666666666,
             "#ed7953"
            ],
            [
             0.7777777777777778,
             "#fb9f3a"
            ],
            [
             0.8888888888888888,
             "#fdca26"
            ],
            [
             1,
             "#f0f921"
            ]
           ]
          },
          "colorway": [
           "#636efa",
           "#EF553B",
           "#00cc96",
           "#ab63fa",
           "#FFA15A",
           "#19d3f3",
           "#FF6692",
           "#B6E880",
           "#FF97FF",
           "#FECB52"
          ],
          "font": {
           "color": "#2a3f5f"
          },
          "geo": {
           "bgcolor": "white",
           "lakecolor": "white",
           "landcolor": "#E5ECF6",
           "showlakes": true,
           "showland": true,
           "subunitcolor": "white"
          },
          "hoverlabel": {
           "align": "left"
          },
          "hovermode": "closest",
          "mapbox": {
           "style": "light"
          },
          "paper_bgcolor": "white",
          "plot_bgcolor": "#E5ECF6",
          "polar": {
           "angularaxis": {
            "gridcolor": "white",
            "linecolor": "white",
            "ticks": ""
           },
           "bgcolor": "#E5ECF6",
           "radialaxis": {
            "gridcolor": "white",
            "linecolor": "white",
            "ticks": ""
           }
          },
          "scene": {
           "xaxis": {
            "backgroundcolor": "#E5ECF6",
            "gridcolor": "white",
            "gridwidth": 2,
            "linecolor": "white",
            "showbackground": true,
            "ticks": "",
            "zerolinecolor": "white"
           },
           "yaxis": {
            "backgroundcolor": "#E5ECF6",
            "gridcolor": "white",
            "gridwidth": 2,
            "linecolor": "white",
            "showbackground": true,
            "ticks": "",
            "zerolinecolor": "white"
           },
           "zaxis": {
            "backgroundcolor": "#E5ECF6",
            "gridcolor": "white",
            "gridwidth": 2,
            "linecolor": "white",
            "showbackground": true,
            "ticks": "",
            "zerolinecolor": "white"
           }
          },
          "shapedefaults": {
           "line": {
            "color": "#2a3f5f"
           }
          },
          "ternary": {
           "aaxis": {
            "gridcolor": "white",
            "linecolor": "white",
            "ticks": ""
           },
           "baxis": {
            "gridcolor": "white",
            "linecolor": "white",
            "ticks": ""
           },
           "bgcolor": "#E5ECF6",
           "caxis": {
            "gridcolor": "white",
            "linecolor": "white",
            "ticks": ""
           }
          },
          "title": {
           "x": 0.05
          },
          "xaxis": {
           "automargin": true,
           "gridcolor": "white",
           "linecolor": "white",
           "ticks": "",
           "title": {
            "standoff": 15
           },
           "zerolinecolor": "white",
           "zerolinewidth": 2
          },
          "yaxis": {
           "automargin": true,
           "gridcolor": "white",
           "linecolor": "white",
           "ticks": "",
           "title": {
            "standoff": 15
           },
           "zerolinecolor": "white",
           "zerolinewidth": 2
          }
         }
        },
        "title": {
         "text": "121209A_converted_filtered_flux"
        },
        "width": 1200,
        "xaxis": {
         "anchor": "y",
         "domain": [
          0,
          1
         ],
         "title": {
          "text": "log Time (s)"
         }
        },
        "yaxis": {
         "anchor": "x",
         "domain": [
          0,
          1
         ],
         "title": {
          "text": "log Flux (erg cm-2 s-1)"
         }
        }
       }
      }
     },
     "metadata": {},
     "output_type": "display_data"
    }
   ],
   "source": [
    "file = filenames[2]\n",
    "plot(filter(file), file)"
   ]
  },
  {
   "cell_type": "code",
   "execution_count": 17,
   "id": "3879a982",
   "metadata": {},
   "outputs": [
    {
     "data": {
      "text/html": [
       "<div>\n",
       "<style scoped>\n",
       "    .dataframe tbody tr th:only-of-type {\n",
       "        vertical-align: middle;\n",
       "    }\n",
       "\n",
       "    .dataframe tbody tr th {\n",
       "        vertical-align: top;\n",
       "    }\n",
       "\n",
       "    .dataframe thead th {\n",
       "        text-align: right;\n",
       "    }\n",
       "</style>\n",
       "<table border=\"1\" class=\"dataframe\">\n",
       "  <thead>\n",
       "    <tr style=\"text-align: right;\">\n",
       "      <th></th>\n",
       "      <th>flux</th>\n",
       "      <th>flux_err</th>\n",
       "      <th>band</th>\n",
       "      <th>source</th>\n",
       "    </tr>\n",
       "    <tr>\n",
       "      <th>time_sec</th>\n",
       "      <th></th>\n",
       "      <th></th>\n",
       "      <th></th>\n",
       "      <th></th>\n",
       "    </tr>\n",
       "  </thead>\n",
       "  <tbody>\n",
       "    <tr>\n",
       "      <th>9720.0</th>\n",
       "      <td>1.440026e-14</td>\n",
       "      <td>2.727879e-17</td>\n",
       "      <td>r</td>\n",
       "      <td>14048</td>\n",
       "    </tr>\n",
       "    <tr>\n",
       "      <th>9540.0</th>\n",
       "      <td>4.348044e-15</td>\n",
       "      <td>1.201437e-15</td>\n",
       "      <td>r'</td>\n",
       "      <td>14049</td>\n",
       "    </tr>\n",
       "    <tr>\n",
       "      <th>4896.0</th>\n",
       "      <td>4.366407e-15</td>\n",
       "      <td>8.079542e-16</td>\n",
       "      <td>I</td>\n",
       "      <td>14056</td>\n",
       "    </tr>\n",
       "    <tr>\n",
       "      <th>13392.0</th>\n",
       "      <td>3.298329e-14</td>\n",
       "      <td>6.205965e-17</td>\n",
       "      <td>r'</td>\n",
       "      <td>14050</td>\n",
       "    </tr>\n",
       "    <tr>\n",
       "      <th>20803.0</th>\n",
       "      <td>1.365271e-13</td>\n",
       "      <td>1.850492e-15</td>\n",
       "      <td>v_swift</td>\n",
       "      <td>14086</td>\n",
       "    </tr>\n",
       "    <tr>\n",
       "      <th>15083.5</th>\n",
       "      <td>8.889499e-14</td>\n",
       "      <td>2.763591e-15</td>\n",
       "      <td>b_swift</td>\n",
       "      <td>14086</td>\n",
       "    </tr>\n",
       "    <tr>\n",
       "      <th>15502.5</th>\n",
       "      <td>2.481220e-14</td>\n",
       "      <td>1.189791e-15</td>\n",
       "      <td>u_swift</td>\n",
       "      <td>14086</td>\n",
       "    </tr>\n",
       "    <tr>\n",
       "      <th>18101.5</th>\n",
       "      <td>2.261144e-14</td>\n",
       "      <td>1.574753e-15</td>\n",
       "      <td>uvw1_swift</td>\n",
       "      <td>14086</td>\n",
       "    </tr>\n",
       "    <tr>\n",
       "      <th>21265.0</th>\n",
       "      <td>9.235545e-15</td>\n",
       "      <td>7.748315e-16</td>\n",
       "      <td>uvm2_swift</td>\n",
       "      <td>14086</td>\n",
       "    </tr>\n",
       "    <tr>\n",
       "      <th>20243.5</th>\n",
       "      <td>1.639471e-14</td>\n",
       "      <td>1.472390e-15</td>\n",
       "      <td>uvw2_swift</td>\n",
       "      <td>14086</td>\n",
       "    </tr>\n",
       "  </tbody>\n",
       "</table>\n",
       "</div>"
      ],
      "text/plain": [
       "                  flux      flux_err        band  source\n",
       "time_sec                                                \n",
       "9720.0    1.440026e-14  2.727879e-17           r   14048\n",
       "9540.0    4.348044e-15  1.201437e-15          r'   14049\n",
       "4896.0    4.366407e-15  8.079542e-16           I   14056\n",
       "13392.0   3.298329e-14  6.205965e-17          r'   14050\n",
       "20803.0   1.365271e-13  1.850492e-15     v_swift   14086\n",
       "15083.5   8.889499e-14  2.763591e-15     b_swift   14086\n",
       "15502.5   2.481220e-14  1.189791e-15     u_swift   14086\n",
       "18101.5   2.261144e-14  1.574753e-15  uvw1_swift   14086\n",
       "21265.0   9.235545e-15  7.748315e-16  uvm2_swift   14086\n",
       "20243.5   1.639471e-14  1.472390e-15  uvw2_swift   14086"
      ]
     },
     "execution_count": 17,
     "metadata": {},
     "output_type": "execute_result"
    }
   ],
   "source": [
    "filter(file)"
   ]
  },
  {
   "cell_type": "code",
   "execution_count": null,
   "id": "090ed864",
   "metadata": {},
   "outputs": [],
   "source": []
  },
  {
   "cell_type": "markdown",
   "id": "85b55d5c",
   "metadata": {},
   "source": [
    "#FUNCTION TO CONCATANATE N DATA FRAMES INTO A SINGLE DATAFRAME AND RETURN IT\n",
    "def concat(*args):\n",
    "    return pd.concat([x for x in args if not x.empty])"
   ]
  },
  {
   "cell_type": "markdown",
   "id": "551189b8",
   "metadata": {},
   "source": [
    "VERSION 1.0: THE FOLLOWING CELL ITERATES THROUGH THE 58 (AFTER REMOVING 22 MASTERSAMPLE FILES FROM THE 80) FILES ALLOTTED TO ME\n",
    "\n",
    "EDIT: VERSION 1.0.2: THE FOLLOWING CELL ITERATES THROUGH THE 58 + 34 ADDITIONAL (LEFTOVER) FILES ALLOTTED TO ME\n",
    "\n",
    "IT ALSO STORES THE ENTIRE DATA IN THE DATABASE $all$ _ $light$"
   ]
  },
  {
   "cell_type": "code",
   "execution_count": 8,
   "id": "082b3a3f",
   "metadata": {},
   "outputs": [],
   "source": [
    "i=0\n",
    "all_light = pd.DataFrame()\n",
    "for file in filenames:\n",
    "    i+=1\n",
    "    plot(filter(file), file)\n",
    "    #all_light = concat(all_light, filter(file))\n"
   ]
  },
  {
   "cell_type": "code",
   "execution_count": 9,
   "id": "d76fb8fc",
   "metadata": {},
   "outputs": [],
   "source": [
    "#VERSION 1.0.2 ADDITION: THE FOLLOWING CELL ITERATES THROUGH THE 9 ADDITIONAL FILES AT THE END OF THE MAINSAMPLE (THEY COME AFTER BIAGIO'S ALLOTED FILES)\n",
    "i2=0\n",
    "all_light2 = pd.DataFrame()\n",
    "for file in b_filenames:\n",
    "    i2+=1\n",
    "    plot(filter(file), file)\n",
    "    #all_light2 = concat(all_light, filter(file))"
   ]
  },
  {
   "cell_type": "markdown",
   "id": "4bdca4ce",
   "metadata": {},
   "source": [
    "#PLOTTING THE ENTIRE DATA AND STORING THE CONCATANATED DATABASE AS $entire$ _ $data.txt$\n",
    "plot(all_light, \"entire_data\")\n",
    "all_light.to_csv(\"task2/v_converted_filtered_files/entire_data.txt\")"
   ]
  },
  {
   "cell_type": "markdown",
   "id": "70d96e0c",
   "metadata": {},
   "source": [
    "THE FOLLOWING CELL MERGES ALL THE OUTPUT PDF FILES INTO A SINGLE PDF FILE: $ALL$ _ $LCS$ _ $FOR$ _ $500$ _ $filtered$ _ $merged.pdf$"
   ]
  },
  {
   "cell_type": "code",
   "execution_count": 11,
   "id": "564b42bb",
   "metadata": {},
   "outputs": [],
   "source": [
    "pdfs = [output_pdf_path + file.replace( \"_flux\",\"_filtered_flux.pdf\")  for file in filenames]\n",
    "merger = PdfFileMerger()\n",
    "\n",
    "for pdf in pdfs:\n",
    "    merger.append(pdf)\n",
    "    \n",
    "merger.write(output_pdf_path + \"ALL_LCS_FOR_500_filtered_merged_v.pdf\")\n",
    "#merger.write(output_pdf_path + \"merged_not_done.pdf\")\n",
    "merger.close()"
   ]
  },
  {
   "cell_type": "code",
   "execution_count": 12,
   "id": "7fd7bb31",
   "metadata": {},
   "outputs": [],
   "source": [
    "pdfs = [output_pdf_path + file.replace( \"_flux\",\"_filtered_flux.pdf\")  for file in b_filenames]\n",
    "merger = PdfFileMerger()\n",
    "\n",
    "for pdf in pdfs:\n",
    "    merger.append(pdf)\n",
    "    \n",
    "merger.write(output_pdf_path + \"ALL_LCS_FOR_500_filtered_merged_b.pdf\")\n",
    "#merger.write(output_pdf_path + \"merged_not_done.pdf\")\n",
    "merger.close()"
   ]
  }
 ],
 "metadata": {
  "kernelspec": {
   "display_name": "Python 3.10.4 64-bit",
   "language": "python",
   "name": "python3"
  },
  "language_info": {
   "codemirror_mode": {
    "name": "ipython",
    "version": 3
   },
   "file_extension": ".py",
   "mimetype": "text/x-python",
   "name": "python",
   "nbconvert_exporter": "python",
   "pygments_lexer": "ipython3",
   "version": "3.10.4"
  },
  "vscode": {
   "interpreter": {
    "hash": "916dbcbb3f70747c44a77c7bcd40155683ae19c65e1c03b4aa3499c5328201f1"
   }
  }
 },
 "nbformat": 4,
 "nbformat_minor": 5
}
