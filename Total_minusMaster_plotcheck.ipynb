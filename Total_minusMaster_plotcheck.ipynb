{
 "cells": [
  {
   "cell_type": "code",
   "execution_count": 1,
   "id": "f76357a7",
   "metadata": {},
   "outputs": [],
   "source": [
    "import plotly.express as px\n",
    "import pandas as pd\n",
    "import numpy as np\n",
    "import kaleido\n",
    "from PyPDF2 import PdfFileMerger"
   ]
  },
  {
   "cell_type": "code",
   "execution_count": 2,
   "id": "9105e5e7",
   "metadata": {},
   "outputs": [],
   "source": [
    "#FILE PATHS\n",
    "#systempath = \"/media/darkwake/VIB2/GRB/\"\n",
    "systempath = ''\n",
    "inputfilepath = systempath + \"mainsample/\"\n",
    "o_inputfilepath = systempath + \"o_mainsample/\"\n",
    "zero_error_path = systempath + 'ze_mainsample/'\n",
    "output_file_path = systempath + \"v_mainsample/\"\n",
    "output_pdf_path = systempath + \"v_mainsample/\"\n",
    "\n",
    "f = open(\"mypart.txt\", 'r')\n",
    "fn = f.read()\n",
    "filenames = fn.split(\"\\n\")\n",
    "filenames.remove('')"
   ]
  },
  {
   "cell_type": "code",
   "execution_count": 3,
   "id": "4f7f395f",
   "metadata": {},
   "outputs": [],
   "source": [
    "filenames2 = filenames"
   ]
  },
  {
   "cell_type": "code",
   "execution_count": 4,
   "id": "1fc44de5",
   "metadata": {},
   "outputs": [],
   "source": [
    "o_inputfilepath = 'LC508-SORTED-02-08/'"
   ]
  },
  {
   "cell_type": "markdown",
   "id": "a0a6a4bb",
   "metadata": {},
   "source": [
    "filename = filenames[14]\n",
    "filename  =  inputfilepath + filename\n",
    "filename"
   ]
  },
  {
   "cell_type": "code",
   "execution_count": null,
   "id": "922e1540",
   "metadata": {
    "scrolled": true
   },
   "outputs": [],
   "source": [
    "\n",
    "#filename=\"000418A_converted_flux\"\n",
    "\n",
    "try:\n",
    "    light = pd.read_csv(filename+\".txt\", sep=r\"\\t+|\\s+\", engine=\"python\", header=None, index_col=0)\n",
    "    fig = px.scatter(\n",
    "                data_frame=light,\n",
    "                x=np.log10(light.index.values),\n",
    "                y=np.log10(light[1].values),\n",
    "                error_y= light[2].values / (light[1].values * np.log(10)),\n",
    "                color=light[3].values,\n",
    "                hover_data=[4],\n",
    "                title=filename,\n",
    "            )\n",
    "\n",
    "    fig.update_layout(\n",
    "                xaxis_title='log Time (s)',\n",
    "                yaxis_title='log Flux (erg cm-2 s-1)'\n",
    "            )\n",
    "    fig.show()\n",
    "    #fig.write_image(filename+\".pdf\") \n",
    "\n",
    "except:\n",
    "    #filename = data.loc[data.index == select_event, \"path_F\"].to_numpy()[0]\n",
    "               # matching the event name to the relavant file name\n",
    "        #light = io.read_data(filename, header=None)\n",
    "    light = pd.read_csv(filename+\".txt\", sep=r\"\\t+|\\s+\", engine=\"python\", header=0, index_col=0)\n",
    "    fig = px.scatter(\n",
    "        data_frame=light,\n",
    "        x=np.log10(light.index),\n",
    "        y=np.log10(light['flux'].values),\n",
    "        error_y= light['flux_err'].values / (light['flux'].values * np.log(10)),\n",
    "        color=light['band'].values,\n",
    "        hover_data=['source'],\n",
    "        title=filename,width=1200, height=800\n",
    "    )\n",
    "    fig.update_layout(\n",
    "        xaxis_title='log Time (s)',\n",
    "        yaxis_title='log Flux (erg cm-2 s-1)'\n",
    "    )\n",
    "    fig.show()\n",
    "    #fig.write_image(filename+\".pdf\") "
   ]
  },
  {
   "cell_type": "code",
   "execution_count": 5,
   "id": "5d1476a7",
   "metadata": {},
   "outputs": [],
   "source": [
    "def plot_o(filename, filename2):\n",
    "    try:\n",
    "        light = pd.read_csv(filename+\".txt\", sep=r\"\\t+|\\s+\", engine=\"python\", header=None, index_col=0)\n",
    "        fig = px.scatter(\n",
    "                data_frame=light,\n",
    "                x=np.log10(light.index.values),\n",
    "                y=np.log10(light[1].values),\n",
    "                error_y= light[2].values / (light[1].values * np.log(10)),\n",
    "                color=light[3].values,\n",
    "                hover_data=[4],\n",
    "                title=filename,\n",
    "            )\n",
    "\n",
    "        fig.update_layout(\n",
    "                xaxis_title='log Time (s)',\n",
    "                yaxis_title='log Flux (erg cm-2 s-1)'\n",
    "            )\n",
    "        #fig.show()\n",
    "        fig.write_image(\"o_\"+filename+\".pdf\") \n",
    "\n",
    "    except:\n",
    "    #filename = data.loc[data.index == select_event, \"path_F\"].to_numpy()[0]\n",
    "               # matching the event name to the relavant file name\n",
    "        #light = io.read_data(filename, header=None)\n",
    "        light = pd.read_csv(filename+\".txt\", sep=r\"\\t+|\\s+\", engine=\"python\", header=0, index_col=0)\n",
    "        fig = px.scatter(\n",
    "            data_frame=light,\n",
    "            x=np.log10(light.index),\n",
    "            y=np.log10(light['flux'].values),\n",
    "            error_y= light['flux_err'].values / (light['flux'].values * np.log(10)),\n",
    "            color=light['band'].values,\n",
    "            hover_data=['source'],\n",
    "            title=filename,width=1200, height=800\n",
    "        )\n",
    "        fig.update_layout(\n",
    "            xaxis_title='log Time (s)',\n",
    "            yaxis_title='log Flux (erg cm-2 s-1)'\n",
    "        )\n",
    "        #fig.show()\n",
    "        fig.write_image(\"o_\"+filename2+\".pdf\") "
   ]
  },
  {
   "cell_type": "code",
   "execution_count": null,
   "id": "064c36f7",
   "metadata": {},
   "outputs": [],
   "source": [
    "filename = []"
   ]
  },
  {
   "cell_type": "code",
   "execution_count": null,
   "id": "d396e6c3",
   "metadata": {},
   "outputs": [],
   "source": [
    "for filename in filenames:\n",
    "    filename  =  o_inputfilepath + filename.replace('_converted_flux', '') + '/' + filename\n",
    "    plot_o(filename)"
   ]
  },
  {
   "cell_type": "code",
   "execution_count": null,
   "id": "dea65b98",
   "metadata": {},
   "outputs": [],
   "source": [
    "filename"
   ]
  },
  {
   "cell_type": "code",
   "execution_count": null,
   "id": "d415b51b",
   "metadata": {},
   "outputs": [],
   "source": []
  },
  {
   "cell_type": "markdown",
   "id": "b94acfa9",
   "metadata": {},
   "source": [
    "light"
   ]
  },
  {
   "cell_type": "markdown",
   "id": "5d4040a1",
   "metadata": {},
   "source": [
    "print(light.index.value_counts(ascending=False))"
   ]
  },
  {
   "cell_type": "markdown",
   "id": "3bd25d75",
   "metadata": {},
   "source": [
    "#FOR 130511A ONLY\n",
    "l2 = light\n",
    "for i in range(len(l2.band.values)):\n",
    "    if not(l2.band.values[i] in ['v_swift', 'b_swift', 'r', 'B', 'R', 'I']):\n",
    "        l2.band.values[i] = None\n",
    "        l2.flux.values[i] = None\n",
    "        l2.flux_err.values[i] = None\n",
    "\n",
    "l2.dropna(inplace=True)\n",
    "l2.to_csv(filename.replace(\"mainsample/\", \"v_mainsample/\") + \".txt\")\n",
    "    "
   ]
  },
  {
   "cell_type": "code",
   "execution_count": null,
   "id": "9105e5e7",
   "metadata": {},
   "outputs": [],
   "source": [
    "#FILE PATHS\n",
    "#systempath = \"/media/darkwake/VIB2/GRB/\"\n",
    "systempath = ''\n",
    "inputfilepath = systempath + \"mainsample/\"\n",
    "zero_error_path = systempath + 'ze_mainsample/'\n",
    "output_file_path = systempath + \"v_mainsample/\"\n",
    "output_pdf_path = systempath + \"v_mainsample/\"\n",
    "\n",
    "f = open(\"mypart.txt\", 'r')\n",
    "fn = f.read()\n",
    "filenames = fn.split(\"\\n\")"
   ]
  },
  {
   "cell_type": "code",
   "execution_count": null,
   "id": "a0a6a4bb",
   "metadata": {},
   "outputs": [],
   "source": [
    "filename = filenames[14]\n",
    "filename  =  output_file_path + filename\n",
    "filename"
   ]
  },
  {
   "cell_type": "code",
   "execution_count": null,
   "id": "922e1540",
   "metadata": {
    "scrolled": true
   },
   "outputs": [],
   "source": [
    "\n",
    "#filename=\"000418A_converted_flux\"\n",
    "def plot(filename):\n",
    "    try:\n",
    "        light = pd.read_csv(filename+\".txt\", sep=r\"\\t+|\\s+\", engine=\"python\", names= [\"time_sec\",\"flux\",\"flux_err\",\"band\",\"source\"],\n",
    "        header=None, index_col=0)\n",
    "        fig = px.scatter(\n",
    "                data_frame=light,\n",
    "                x=np.log10(light.index.values),\n",
    "                y=np.log10(light[1].values),\n",
    "                error_y= light[2].values / (light[1].values * np.log(10)),\n",
    "                color=light[3].values,\n",
    "                hover_data=[4],\n",
    "                title=filename,width=1200, height=800\n",
    "            )\n",
    "\n",
    "        fig.update_layout(\n",
    "                xaxis_title='log Time (s)',\n",
    "                yaxis_title='log Flux (erg cm-2 s-1)'\n",
    "            )\n",
    "        #fig.show()\n",
    "        fig.write_image(filename+\"filtered.pdf\") \n",
    "\n",
    "    except:\n",
    "    #filename = data.loc[data.index == select_event, \"path_F\"].to_numpy()[0]\n",
    "               # matching the event name to the relavant file name\n",
    "        #light = io.read_data(filename, header=None)\n",
    "        light = pd.read_csv(filename+\".txt\", sep=r\"\\t+|\\s+\", engine=\"python\", names= [\"time_sec\",\"flux\",\"flux_err\",\"band\",\"source\"],\n",
    "        header=0, index_col=0)\n",
    "        fig = px.scatter(\n",
    "            data_frame=light,\n",
    "            x=np.log10(light.index),\n",
    "            y=np.log10(light['flux'].values),\n",
    "            error_y= light['flux_err'].values / (light['flux'].values * np.log(10)),\n",
    "            color=light['band'].values,\n",
    "            hover_data=['source'],\n",
    "            title=filename,width=1200, height=800\n",
    "        )\n",
    "        fig.update_layout(\n",
    "            xaxis_title='log Time (s)',\n",
    "            yaxis_title='log Flux (erg cm-2 s-1)'\n",
    "        )\n",
    "        #fig.show()\n",
    "        fig.write_image(filename+\"filtered.pdf\") "
   ]
  },
  {
   "cell_type": "code",
   "execution_count": null,
   "id": "fc5fd2b2",
   "metadata": {},
   "outputs": [],
   "source": [
    "def plot_v(light, filename):\n",
    "    #filename2 = file + \"_not_done\"\n",
    "    if len(light) != 0:\n",
    "        try:\n",
    "            fig = px.scatter(\n",
    "                        data_frame=light,\n",
    "                        x=np.log10(light.index.values),\n",
    "                        y=np.log10(light[1].values),\n",
    "                        error_y= light[2].values / (light[1].values * np.log(10)),\n",
    "                        color=light[3].values,\n",
    "                        hover_data=[4],\n",
    "                        title=filename,width=1200, height=800\n",
    "                    )\n",
    "\n",
    "            fig.update_layout(\n",
    "                        xaxis_title='log Time (s)',\n",
    "                        yaxis_title='log Flux (erg cm-2 s-1)'\n",
    "                    )\n",
    "            \n",
    "            fig.write_image(filename+\"filtered.pdf\") \n",
    "\n",
    "            \n",
    "        except:\n",
    "            fig = px.scatter(\n",
    "                data_frame=light,\n",
    "                x=np.log10(light.index),\n",
    "                y=np.log10(light['flux'].values),\n",
    "                error_y= light['flux_err'].values / (light['flux'].values * np.log(10)),\n",
    "                color=light['band'].values,\n",
    "                hover_data=['source'],\n",
    "                title=filename,width=1200, height=800\n",
    "            )\n",
    "            fig.write_image(filename+\"filtered.pdf\") "
   ]
  },
  {
   "cell_type": "code",
   "execution_count": null,
   "id": "12031d56",
   "metadata": {},
   "outputs": [],
   "source": [
    "filenames.pop(-1)"
   ]
  },
  {
   "cell_type": "code",
   "execution_count": null,
   "id": "f43c830a",
   "metadata": {},
   "outputs": [],
   "source": [
    "for filename in filenames:\n",
    "    filename  =  output_file_path + filename\n",
    "    try:\n",
    "        light = pd.read_csv(filename+\".txt\", engine=\"python\", names= [\"time_sec\",\"flux\",\"flux_err\",\"band\",\"source\"],\n",
    "        header=0, index_col=0)\n",
    "        \n",
    "        plot_v(light, filename)\n",
    "    except:\n",
    "        plot(filename)"
   ]
  },
  {
   "cell_type": "markdown",
   "id": "4a4f56a3",
   "metadata": {},
   "source": [
    "121027A_REMOVED EVERYTHING EXECPT K BAND\n",
    "\n",
    "121128A -REMOVED uvm, uvw, u_swift\n",
    "\n",
    "121201A - REMOVED EVERYTHING EXCEPT u_SWIFT, b_SWIFT, v_swift, r'\n",
    "\n",
    "121209A - \n",
    "\n"
   ]
  },
  {
   "cell_type": "markdown",
   "id": "70d96e0c",
   "metadata": {},
   "source": [
    "THE FOLLOWING CELL MERGES ALL THE OUTPUT PDF FILES INTO A SINGLE PDF FILE: $ALL$ _ $LCS$ _ $FOR$ _ $500$ _ $filtered$ _ $merged.pdf$"
   ]
  },
  {
   "cell_type": "code",
   "execution_count": null,
   "id": "564b42bb",
   "metadata": {},
   "outputs": [],
   "source": [
    "pdfs = [output_pdf_path + file.replace( \"_flux\",\"_filtered_flux.pdf\")  for file in filenames]\n",
    "merger = PdfFileMerger()\n",
    "\n",
    "for pdf in pdfs:\n",
    "    merger.append(pdf)\n",
    "    \n",
    "merger.write(output_pdf_path + \"ALL_LCS_FOR_500_filtered_merged_v.pdf\")\n",
    "#merger.write(output_pdf_path + \"merged_not_done.pdf\")\n",
    "merger.close()"
   ]
  }
 ],
 "metadata": {
  "kernelspec": {
   "display_name": "Python 3.10.4 64-bit",
   "language": "python",
   "name": "python3"
  },
  "language_info": {
   "codemirror_mode": {
    "name": "ipython",
    "version": 3
   },
   "file_extension": ".py",
   "mimetype": "text/x-python",
   "name": "python",
   "nbconvert_exporter": "python",
   "pygments_lexer": "ipython3",
   "version": "3.10.4"
  },
  "vscode": {
   "interpreter": {
    "hash": "916dbcbb3f70747c44a77c7bcd40155683ae19c65e1c03b4aa3499c5328201f1"
   }
  }
 },
 "nbformat": 4,
 "nbformat_minor": 5
}
