{
 "cells": [
  {
   "cell_type": "code",
   "execution_count": 12,
   "id": "f76357a7",
   "metadata": {},
   "outputs": [],
   "source": [
    "import plotly.express as px\n",
    "import pandas as pd\n",
    "import numpy as np\n",
    "import kaleido\n",
    "from PyPDF2 import PdfFileMerger"
   ]
  },
  {
   "cell_type": "code",
   "execution_count": 13,
   "id": "9105e5e7",
   "metadata": {},
   "outputs": [],
   "source": [
    "#FILE PATHS\n",
    "#systempath = \"/media/darkwake/VIB2/GRB/\"\n",
    "systempath = ''\n",
    "inputfilepath = systempath + \"mainsample/\"\n",
    "o_inputfilepath = systempath + \"o_mainsample/\"\n",
    "zero_error_path = systempath + 'ze_mainsample/'\n",
    "output_file_path = systempath + \"v_mainsample/\"\n",
    "output_pdf_path = systempath + \"v_mainsample/\"\n",
    "\n",
    "f = open(\"mypart.txt\", 'r')\n",
    "fn = f.read()\n",
    "filenames = fn.split(\"\\n\")\n",
    "filenames.remove('')"
   ]
  },
  {
   "cell_type": "code",
   "execution_count": 14,
   "id": "4f7f395f",
   "metadata": {},
   "outputs": [],
   "source": [
    "filenames2 = filenames"
   ]
  },
  {
   "cell_type": "code",
   "execution_count": 15,
   "id": "1fc44de5",
   "metadata": {},
   "outputs": [],
   "source": [
    "o_inputfilepath = 'LC508-SORTED-02-08/'"
   ]
  },
  {
   "cell_type": "code",
   "execution_count": 22,
   "id": "a0a6a4bb",
   "metadata": {},
   "outputs": [
    {
     "data": {
      "text/plain": [
       "'LC508-SORTED-02-08/121027A/121027A_converted_flux'"
      ]
     },
     "execution_count": 22,
     "metadata": {},
     "output_type": "execute_result"
    }
   ],
   "source": [
    "i = 0 \n",
    "filename  =  o_inputfilepath + filenames[i].replace('_converted_flux', '') + '/' + filenames[i]\n",
    "    \n",
    "filename"
   ]
  },
  {
   "cell_type": "code",
   "execution_count": 24,
   "id": "922e1540",
   "metadata": {
    "scrolled": true
   },
   "outputs": [
    {
     "data": {
      "application/vnd.plotly.v1+json": {
       "config": {
        "plotlyServerURL": "https://plot.ly"
       },
       "data": [
        {
         "customdata": [
          [
           "manual"
          ],
          [
           "manual"
          ]
         ],
         "error_y": {
          "array": [
           0.07643934240752485,
           0.06884019950359549
          ]
         },
         "hovertemplate": "color=K<br>x=%{x}<br>y=%{y}<br>source=%{customdata[0]}<extra></extra>",
         "legendgroup": "K",
         "marker": {
          "color": "#636efa",
          "symbol": "circle"
         },
         "mode": "markers",
         "name": "K",
         "orientation": "v",
         "showlegend": true,
         "type": "scatter",
         "x": [
          4.764355494100714,
          5.243164596067869
         ],
         "xaxis": "x",
         "y": [
          -14.657519263524694,
          -14.097519263524694
         ],
         "yaxis": "y"
        },
        {
         "customdata": [
          [
           "manual"
          ]
         ],
         "error_y": {
          "array": [
           0.08103428691991774
          ]
         },
         "hovertemplate": "color=g'<br>x=%{x}<br>y=%{y}<br>source=%{customdata[0]}<extra></extra>",
         "legendgroup": "g'",
         "marker": {
          "color": "#EF553B",
          "symbol": "circle"
         },
         "mode": "markers",
         "name": "g'",
         "orientation": "v",
         "showlegend": true,
         "type": "scatter",
         "x": [
          5.243164596067869
         ],
         "xaxis": "x",
         "y": [
          -13.4502269092805
         ],
         "yaxis": "y"
        },
        {
         "customdata": [
          [
           "manual"
          ]
         ],
         "error_y": {
          "array": [
           0.040014571625442134
          ]
         },
         "hovertemplate": "color=r'<br>x=%{x}<br>y=%{y}<br>source=%{customdata[0]}<extra></extra>",
         "legendgroup": "r'",
         "marker": {
          "color": "#00cc96",
          "symbol": "circle"
         },
         "mode": "markers",
         "name": "r'",
         "orientation": "v",
         "showlegend": true,
         "type": "scatter",
         "x": [
          5.243164596067869
         ],
         "xaxis": "x",
         "y": [
          -13.396642272477093
         ],
         "yaxis": "y"
        },
        {
         "customdata": [
          [
           "manual"
          ]
         ],
         "error_y": {
          "array": [
           0.04082852391137013
          ]
         },
         "hovertemplate": "color=i'<br>x=%{x}<br>y=%{y}<br>source=%{customdata[0]}<extra></extra>",
         "legendgroup": "i'",
         "marker": {
          "color": "#ab63fa",
          "symbol": "circle"
         },
         "mode": "markers",
         "name": "i'",
         "orientation": "v",
         "showlegend": true,
         "type": "scatter",
         "x": [
          5.243164596067869
         ],
         "xaxis": "x",
         "y": [
          -13.39132961243721
         ],
         "yaxis": "y"
        },
        {
         "customdata": [
          [
           "manual"
          ]
         ],
         "error_y": {
          "array": [
           0.04307361755703538
          ]
         },
         "hovertemplate": "color=z'<br>x=%{x}<br>y=%{y}<br>source=%{customdata[0]}<extra></extra>",
         "legendgroup": "z'",
         "marker": {
          "color": "#FFA15A",
          "symbol": "circle"
         },
         "mode": "markers",
         "name": "z'",
         "orientation": "v",
         "showlegend": true,
         "type": "scatter",
         "x": [
          5.243164596067869
         ],
         "xaxis": "x",
         "y": [
          -13.327849449320956
         ],
         "yaxis": "y"
        },
        {
         "customdata": [
          [
           "manual"
          ]
         ],
         "error_y": {
          "array": [
           0.049611358142715056
          ]
         },
         "hovertemplate": "color=J<br>x=%{x}<br>y=%{y}<br>source=%{customdata[0]}<extra></extra>",
         "legendgroup": "J",
         "marker": {
          "color": "#19d3f3",
          "symbol": "circle"
         },
         "mode": "markers",
         "name": "J",
         "orientation": "v",
         "showlegend": true,
         "type": "scatter",
         "x": [
          5.243164596067869
         ],
         "xaxis": "x",
         "y": [
          -13.65226577088622
         ],
         "yaxis": "y"
        },
        {
         "customdata": [
          [
           "manual"
          ]
         ],
         "error_y": {
          "array": [
           0.05840650656090612
          ]
         },
         "hovertemplate": "color=H<br>x=%{x}<br>y=%{y}<br>source=%{customdata[0]}<extra></extra>",
         "legendgroup": "H",
         "marker": {
          "color": "#FF6692",
          "symbol": "circle"
         },
         "mode": "markers",
         "name": "H",
         "orientation": "v",
         "showlegend": true,
         "type": "scatter",
         "x": [
          5.243164596067869
         ],
         "xaxis": "x",
         "y": [
          -13.727940031854661
         ],
         "yaxis": "y"
        }
       ],
       "layout": {
        "height": 800,
        "legend": {
         "title": {
          "text": "color"
         },
         "tracegroupgap": 0
        },
        "template": {
         "data": {
          "bar": [
           {
            "error_x": {
             "color": "#2a3f5f"
            },
            "error_y": {
             "color": "#2a3f5f"
            },
            "marker": {
             "line": {
              "color": "#E5ECF6",
              "width": 0.5
             },
             "pattern": {
              "fillmode": "overlay",
              "size": 10,
              "solidity": 0.2
             }
            },
            "type": "bar"
           }
          ],
          "barpolar": [
           {
            "marker": {
             "line": {
              "color": "#E5ECF6",
              "width": 0.5
             },
             "pattern": {
              "fillmode": "overlay",
              "size": 10,
              "solidity": 0.2
             }
            },
            "type": "barpolar"
           }
          ],
          "carpet": [
           {
            "aaxis": {
             "endlinecolor": "#2a3f5f",
             "gridcolor": "white",
             "linecolor": "white",
             "minorgridcolor": "white",
             "startlinecolor": "#2a3f5f"
            },
            "baxis": {
             "endlinecolor": "#2a3f5f",
             "gridcolor": "white",
             "linecolor": "white",
             "minorgridcolor": "white",
             "startlinecolor": "#2a3f5f"
            },
            "type": "carpet"
           }
          ],
          "choropleth": [
           {
            "colorbar": {
             "outlinewidth": 0,
             "ticks": ""
            },
            "type": "choropleth"
           }
          ],
          "contour": [
           {
            "colorbar": {
             "outlinewidth": 0,
             "ticks": ""
            },
            "colorscale": [
             [
              0,
              "#0d0887"
             ],
             [
              0.1111111111111111,
              "#46039f"
             ],
             [
              0.2222222222222222,
              "#7201a8"
             ],
             [
              0.3333333333333333,
              "#9c179e"
             ],
             [
              0.4444444444444444,
              "#bd3786"
             ],
             [
              0.5555555555555556,
              "#d8576b"
             ],
             [
              0.6666666666666666,
              "#ed7953"
             ],
             [
              0.7777777777777778,
              "#fb9f3a"
             ],
             [
              0.8888888888888888,
              "#fdca26"
             ],
             [
              1,
              "#f0f921"
             ]
            ],
            "type": "contour"
           }
          ],
          "contourcarpet": [
           {
            "colorbar": {
             "outlinewidth": 0,
             "ticks": ""
            },
            "type": "contourcarpet"
           }
          ],
          "heatmap": [
           {
            "colorbar": {
             "outlinewidth": 0,
             "ticks": ""
            },
            "colorscale": [
             [
              0,
              "#0d0887"
             ],
             [
              0.1111111111111111,
              "#46039f"
             ],
             [
              0.2222222222222222,
              "#7201a8"
             ],
             [
              0.3333333333333333,
              "#9c179e"
             ],
             [
              0.4444444444444444,
              "#bd3786"
             ],
             [
              0.5555555555555556,
              "#d8576b"
             ],
             [
              0.6666666666666666,
              "#ed7953"
             ],
             [
              0.7777777777777778,
              "#fb9f3a"
             ],
             [
              0.8888888888888888,
              "#fdca26"
             ],
             [
              1,
              "#f0f921"
             ]
            ],
            "type": "heatmap"
           }
          ],
          "heatmapgl": [
           {
            "colorbar": {
             "outlinewidth": 0,
             "ticks": ""
            },
            "colorscale": [
             [
              0,
              "#0d0887"
             ],
             [
              0.1111111111111111,
              "#46039f"
             ],
             [
              0.2222222222222222,
              "#7201a8"
             ],
             [
              0.3333333333333333,
              "#9c179e"
             ],
             [
              0.4444444444444444,
              "#bd3786"
             ],
             [
              0.5555555555555556,
              "#d8576b"
             ],
             [
              0.6666666666666666,
              "#ed7953"
             ],
             [
              0.7777777777777778,
              "#fb9f3a"
             ],
             [
              0.8888888888888888,
              "#fdca26"
             ],
             [
              1,
              "#f0f921"
             ]
            ],
            "type": "heatmapgl"
           }
          ],
          "histogram": [
           {
            "marker": {
             "pattern": {
              "fillmode": "overlay",
              "size": 10,
              "solidity": 0.2
             }
            },
            "type": "histogram"
           }
          ],
          "histogram2d": [
           {
            "colorbar": {
             "outlinewidth": 0,
             "ticks": ""
            },
            "colorscale": [
             [
              0,
              "#0d0887"
             ],
             [
              0.1111111111111111,
              "#46039f"
             ],
             [
              0.2222222222222222,
              "#7201a8"
             ],
             [
              0.3333333333333333,
              "#9c179e"
             ],
             [
              0.4444444444444444,
              "#bd3786"
             ],
             [
              0.5555555555555556,
              "#d8576b"
             ],
             [
              0.6666666666666666,
              "#ed7953"
             ],
             [
              0.7777777777777778,
              "#fb9f3a"
             ],
             [
              0.8888888888888888,
              "#fdca26"
             ],
             [
              1,
              "#f0f921"
             ]
            ],
            "type": "histogram2d"
           }
          ],
          "histogram2dcontour": [
           {
            "colorbar": {
             "outlinewidth": 0,
             "ticks": ""
            },
            "colorscale": [
             [
              0,
              "#0d0887"
             ],
             [
              0.1111111111111111,
              "#46039f"
             ],
             [
              0.2222222222222222,
              "#7201a8"
             ],
             [
              0.3333333333333333,
              "#9c179e"
             ],
             [
              0.4444444444444444,
              "#bd3786"
             ],
             [
              0.5555555555555556,
              "#d8576b"
             ],
             [
              0.6666666666666666,
              "#ed7953"
             ],
             [
              0.7777777777777778,
              "#fb9f3a"
             ],
             [
              0.8888888888888888,
              "#fdca26"
             ],
             [
              1,
              "#f0f921"
             ]
            ],
            "type": "histogram2dcontour"
           }
          ],
          "mesh3d": [
           {
            "colorbar": {
             "outlinewidth": 0,
             "ticks": ""
            },
            "type": "mesh3d"
           }
          ],
          "parcoords": [
           {
            "line": {
             "colorbar": {
              "outlinewidth": 0,
              "ticks": ""
             }
            },
            "type": "parcoords"
           }
          ],
          "pie": [
           {
            "automargin": true,
            "type": "pie"
           }
          ],
          "scatter": [
           {
            "fillpattern": {
             "fillmode": "overlay",
             "size": 10,
             "solidity": 0.2
            },
            "type": "scatter"
           }
          ],
          "scatter3d": [
           {
            "line": {
             "colorbar": {
              "outlinewidth": 0,
              "ticks": ""
             }
            },
            "marker": {
             "colorbar": {
              "outlinewidth": 0,
              "ticks": ""
             }
            },
            "type": "scatter3d"
           }
          ],
          "scattercarpet": [
           {
            "marker": {
             "colorbar": {
              "outlinewidth": 0,
              "ticks": ""
             }
            },
            "type": "scattercarpet"
           }
          ],
          "scattergeo": [
           {
            "marker": {
             "colorbar": {
              "outlinewidth": 0,
              "ticks": ""
             }
            },
            "type": "scattergeo"
           }
          ],
          "scattergl": [
           {
            "marker": {
             "colorbar": {
              "outlinewidth": 0,
              "ticks": ""
             }
            },
            "type": "scattergl"
           }
          ],
          "scattermapbox": [
           {
            "marker": {
             "colorbar": {
              "outlinewidth": 0,
              "ticks": ""
             }
            },
            "type": "scattermapbox"
           }
          ],
          "scatterpolar": [
           {
            "marker": {
             "colorbar": {
              "outlinewidth": 0,
              "ticks": ""
             }
            },
            "type": "scatterpolar"
           }
          ],
          "scatterpolargl": [
           {
            "marker": {
             "colorbar": {
              "outlinewidth": 0,
              "ticks": ""
             }
            },
            "type": "scatterpolargl"
           }
          ],
          "scatterternary": [
           {
            "marker": {
             "colorbar": {
              "outlinewidth": 0,
              "ticks": ""
             }
            },
            "type": "scatterternary"
           }
          ],
          "surface": [
           {
            "colorbar": {
             "outlinewidth": 0,
             "ticks": ""
            },
            "colorscale": [
             [
              0,
              "#0d0887"
             ],
             [
              0.1111111111111111,
              "#46039f"
             ],
             [
              0.2222222222222222,
              "#7201a8"
             ],
             [
              0.3333333333333333,
              "#9c179e"
             ],
             [
              0.4444444444444444,
              "#bd3786"
             ],
             [
              0.5555555555555556,
              "#d8576b"
             ],
             [
              0.6666666666666666,
              "#ed7953"
             ],
             [
              0.7777777777777778,
              "#fb9f3a"
             ],
             [
              0.8888888888888888,
              "#fdca26"
             ],
             [
              1,
              "#f0f921"
             ]
            ],
            "type": "surface"
           }
          ],
          "table": [
           {
            "cells": {
             "fill": {
              "color": "#EBF0F8"
             },
             "line": {
              "color": "white"
             }
            },
            "header": {
             "fill": {
              "color": "#C8D4E3"
             },
             "line": {
              "color": "white"
             }
            },
            "type": "table"
           }
          ]
         },
         "layout": {
          "annotationdefaults": {
           "arrowcolor": "#2a3f5f",
           "arrowhead": 0,
           "arrowwidth": 1
          },
          "autotypenumbers": "strict",
          "coloraxis": {
           "colorbar": {
            "outlinewidth": 0,
            "ticks": ""
           }
          },
          "colorscale": {
           "diverging": [
            [
             0,
             "#8e0152"
            ],
            [
             0.1,
             "#c51b7d"
            ],
            [
             0.2,
             "#de77ae"
            ],
            [
             0.3,
             "#f1b6da"
            ],
            [
             0.4,
             "#fde0ef"
            ],
            [
             0.5,
             "#f7f7f7"
            ],
            [
             0.6,
             "#e6f5d0"
            ],
            [
             0.7,
             "#b8e186"
            ],
            [
             0.8,
             "#7fbc41"
            ],
            [
             0.9,
             "#4d9221"
            ],
            [
             1,
             "#276419"
            ]
           ],
           "sequential": [
            [
             0,
             "#0d0887"
            ],
            [
             0.1111111111111111,
             "#46039f"
            ],
            [
             0.2222222222222222,
             "#7201a8"
            ],
            [
             0.3333333333333333,
             "#9c179e"
            ],
            [
             0.4444444444444444,
             "#bd3786"
            ],
            [
             0.5555555555555556,
             "#d8576b"
            ],
            [
             0.6666666666666666,
             "#ed7953"
            ],
            [
             0.7777777777777778,
             "#fb9f3a"
            ],
            [
             0.8888888888888888,
             "#fdca26"
            ],
            [
             1,
             "#f0f921"
            ]
           ],
           "sequentialminus": [
            [
             0,
             "#0d0887"
            ],
            [
             0.1111111111111111,
             "#46039f"
            ],
            [
             0.2222222222222222,
             "#7201a8"
            ],
            [
             0.3333333333333333,
             "#9c179e"
            ],
            [
             0.4444444444444444,
             "#bd3786"
            ],
            [
             0.5555555555555556,
             "#d8576b"
            ],
            [
             0.6666666666666666,
             "#ed7953"
            ],
            [
             0.7777777777777778,
             "#fb9f3a"
            ],
            [
             0.8888888888888888,
             "#fdca26"
            ],
            [
             1,
             "#f0f921"
            ]
           ]
          },
          "colorway": [
           "#636efa",
           "#EF553B",
           "#00cc96",
           "#ab63fa",
           "#FFA15A",
           "#19d3f3",
           "#FF6692",
           "#B6E880",
           "#FF97FF",
           "#FECB52"
          ],
          "font": {
           "color": "#2a3f5f"
          },
          "geo": {
           "bgcolor": "white",
           "lakecolor": "white",
           "landcolor": "#E5ECF6",
           "showlakes": true,
           "showland": true,
           "subunitcolor": "white"
          },
          "hoverlabel": {
           "align": "left"
          },
          "hovermode": "closest",
          "mapbox": {
           "style": "light"
          },
          "paper_bgcolor": "white",
          "plot_bgcolor": "#E5ECF6",
          "polar": {
           "angularaxis": {
            "gridcolor": "white",
            "linecolor": "white",
            "ticks": ""
           },
           "bgcolor": "#E5ECF6",
           "radialaxis": {
            "gridcolor": "white",
            "linecolor": "white",
            "ticks": ""
           }
          },
          "scene": {
           "xaxis": {
            "backgroundcolor": "#E5ECF6",
            "gridcolor": "white",
            "gridwidth": 2,
            "linecolor": "white",
            "showbackground": true,
            "ticks": "",
            "zerolinecolor": "white"
           },
           "yaxis": {
            "backgroundcolor": "#E5ECF6",
            "gridcolor": "white",
            "gridwidth": 2,
            "linecolor": "white",
            "showbackground": true,
            "ticks": "",
            "zerolinecolor": "white"
           },
           "zaxis": {
            "backgroundcolor": "#E5ECF6",
            "gridcolor": "white",
            "gridwidth": 2,
            "linecolor": "white",
            "showbackground": true,
            "ticks": "",
            "zerolinecolor": "white"
           }
          },
          "shapedefaults": {
           "line": {
            "color": "#2a3f5f"
           }
          },
          "ternary": {
           "aaxis": {
            "gridcolor": "white",
            "linecolor": "white",
            "ticks": ""
           },
           "baxis": {
            "gridcolor": "white",
            "linecolor": "white",
            "ticks": ""
           },
           "bgcolor": "#E5ECF6",
           "caxis": {
            "gridcolor": "white",
            "linecolor": "white",
            "ticks": ""
           }
          },
          "title": {
           "x": 0.05
          },
          "xaxis": {
           "automargin": true,
           "gridcolor": "white",
           "linecolor": "white",
           "ticks": "",
           "title": {
            "standoff": 15
           },
           "zerolinecolor": "white",
           "zerolinewidth": 2
          },
          "yaxis": {
           "automargin": true,
           "gridcolor": "white",
           "linecolor": "white",
           "ticks": "",
           "title": {
            "standoff": 15
           },
           "zerolinecolor": "white",
           "zerolinewidth": 2
          }
         }
        },
        "title": {
         "text": "LC508-SORTED-02-08/121027A/121027A_converted_flux"
        },
        "width": 1200,
        "xaxis": {
         "anchor": "y",
         "domain": [
          0,
          1
         ],
         "title": {
          "text": "log Time (s)"
         }
        },
        "yaxis": {
         "anchor": "x",
         "domain": [
          0,
          1
         ],
         "title": {
          "text": "log Flux (erg cm-2 s-1)"
         }
        }
       }
      }
     },
     "metadata": {},
     "output_type": "display_data"
    }
   ],
   "source": [
    "\n",
    "#filename=\"000418A_converted_flux\"\n",
    "\n",
    "try:\n",
    "    light = pd.read_csv(filename+\".txt\", sep=r\"\\t+|\\s+\", engine=\"python\", header=None, index_col=0)\n",
    "    fig = px.scatter(\n",
    "                data_frame=light,\n",
    "                x=np.log10(light.index.values),\n",
    "                y=np.log10(light[1].values),\n",
    "                error_y= light[2].values / (light[1].values * np.log(10)),\n",
    "                color=light[3].values,\n",
    "                hover_data=[4],\n",
    "                title=filename,\n",
    "            )\n",
    "\n",
    "    fig.update_layout(\n",
    "                xaxis_title='log Time (s)',\n",
    "                yaxis_title='log Flux (erg cm-2 s-1)'\n",
    "            )\n",
    "    fig.show()\n",
    "    #fig.write_image(filename+\".pdf\") \n",
    "\n",
    "except:\n",
    "    #filename = data.loc[data.index == select_event, \"path_F\"].to_numpy()[0]\n",
    "               # matching the event name to the relavant file name\n",
    "        #light = io.read_data(filename, header=None)\n",
    "    light = pd.read_csv(filename+\".txt\", sep=r\"\\t+|\\s+\", engine=\"python\", header=0, index_col=0)\n",
    "    fig = px.scatter(\n",
    "        data_frame=light,\n",
    "        x=np.log10(light.index),\n",
    "        y=np.log10(light['flux'].values),\n",
    "        error_y= light['flux_err'].values / (light['flux'].values * np.log(10)),\n",
    "        color=light['band'].values,\n",
    "        hover_data=['source'],\n",
    "        title=filename,width=1200, height=800\n",
    "    )\n",
    "    fig.update_layout(\n",
    "        xaxis_title='log Time (s)',\n",
    "        yaxis_title='log Flux (erg cm-2 s-1)'\n",
    "    )\n",
    "    fig.show()\n",
    "    #fig.write_image(filename+\".pdf\") "
   ]
  },
  {
   "cell_type": "code",
   "execution_count": 19,
   "id": "5d1476a7",
   "metadata": {},
   "outputs": [],
   "source": [
    "def plot_o(filename, filename2):\n",
    "    try:\n",
    "        light = pd.read_csv(filename+\".txt\", sep=r\"\\t+|\\s+\", engine=\"python\", header=None, index_col=0)\n",
    "        fig = px.scatter(\n",
    "                data_frame=light,\n",
    "                x=np.log10(light.index.values),\n",
    "                y=np.log10(light[1].values),\n",
    "                error_y= light[2].values / (light[1].values * np.log(10)),\n",
    "                color=light[3].values,\n",
    "                hover_data=[4],\n",
    "                title=filename,\n",
    "            )\n",
    "\n",
    "        fig.update_layout(\n",
    "                xaxis_title='log Time (s)',\n",
    "                yaxis_title='log Flux (erg cm-2 s-1)'\n",
    "            )\n",
    "        #fig.show()\n",
    "        fig.write_image(\"o_\"+filename+\".pdf\") \n",
    "\n",
    "    except:\n",
    "    #filename = data.loc[data.index == select_event, \"path_F\"].to_numpy()[0]\n",
    "               # matching the event name to the relavant file name\n",
    "        #light = io.read_data(filename, header=None)\n",
    "        light = pd.read_csv(filename+\".txt\", sep=r\"\\t+|\\s+\", engine=\"python\", header=0, index_col=0)\n",
    "        fig = px.scatter(\n",
    "            data_frame=light,\n",
    "            x=np.log10(light.index),\n",
    "            y=np.log10(light['flux'].values),\n",
    "            error_y= light['flux_err'].values / (light['flux'].values * np.log(10)),\n",
    "            color=light['band'].values,\n",
    "            hover_data=['source'],\n",
    "            title=filename,width=1200, height=800\n",
    "        )\n",
    "        fig.update_layout(\n",
    "            xaxis_title='log Time (s)',\n",
    "            yaxis_title='log Flux (erg cm-2 s-1)'\n",
    "        )\n",
    "        #fig.show()\n",
    "        fig.write_image(\"new_pdf/o/o_\"+filename2+\".pdf\") "
   ]
  },
  {
   "cell_type": "code",
   "execution_count": 17,
   "id": "064c36f7",
   "metadata": {},
   "outputs": [],
   "source": [
    "filename = []"
   ]
  },
  {
   "cell_type": "code",
   "execution_count": null,
   "id": "3f01f475",
   "metadata": {},
   "outputs": [],
   "source": []
  },
  {
   "cell_type": "code",
   "execution_count": 20,
   "id": "d396e6c3",
   "metadata": {},
   "outputs": [
    {
     "name": "stderr",
     "output_type": "stream",
     "text": [
      "/home/darkwake/.local/lib/python3.10/site-packages/pandas/core/indexes/base.py:920: RuntimeWarning:\n",
      "\n",
      "divide by zero encountered in log10\n",
      "\n"
     ]
    }
   ],
   "source": [
    "file =[]\n",
    "for filename in range(len(filenames)):\n",
    "    file  =  o_inputfilepath + filenames[filename].replace('_converted_flux', '') + '/' + filenames[filename]\n",
    "    plot_o(file, filenames2[filename])"
   ]
  },
  {
   "cell_type": "code",
   "execution_count": null,
   "id": "dea65b98",
   "metadata": {},
   "outputs": [],
   "source": [
    "filenames[filename]"
   ]
  },
  {
   "cell_type": "code",
   "execution_count": null,
   "id": "d415b51b",
   "metadata": {},
   "outputs": [],
   "source": []
  },
  {
   "cell_type": "markdown",
   "id": "b94acfa9",
   "metadata": {},
   "source": [
    "light"
   ]
  },
  {
   "cell_type": "markdown",
   "id": "5d4040a1",
   "metadata": {},
   "source": [
    "print(light.index.value_counts(ascending=False))"
   ]
  },
  {
   "cell_type": "markdown",
   "id": "3bd25d75",
   "metadata": {},
   "source": [
    "#FOR 130511A ONLY\n",
    "l2 = light\n",
    "for i in range(len(l2.band.values)):\n",
    "    if not(l2.band.values[i] in ['v_swift', 'b_swift', 'r', 'B', 'R', 'I']):\n",
    "        l2.band.values[i] = None\n",
    "        l2.flux.values[i] = None\n",
    "        l2.flux_err.values[i] = None\n",
    "\n",
    "l2.dropna(inplace=True)\n",
    "l2.to_csv(filename.replace(\"mainsample/\", \"v_mainsample/\") + \".txt\")\n",
    "    "
   ]
  },
  {
   "cell_type": "code",
   "execution_count": null,
   "id": "9105e5e7",
   "metadata": {},
   "outputs": [],
   "source": [
    "#FILE PATHS\n",
    "#systempath = \"/media/darkwake/VIB2/GRB/\"\n",
    "systempath = ''\n",
    "inputfilepath = systempath + \"mainsample/\"\n",
    "zero_error_path = systempath + 'ze_mainsample/'\n",
    "output_file_path = systempath + \"v_mainsample/\"\n",
    "output_pdf_path = systempath + \"v_mainsample/\"\n",
    "\n",
    "f = open(\"mypart.txt\", 'r')\n",
    "fn = f.read()\n",
    "filenames = fn.split(\"\\n\")"
   ]
  },
  {
   "cell_type": "code",
   "execution_count": null,
   "id": "a0a6a4bb",
   "metadata": {},
   "outputs": [],
   "source": [
    "filename = filenames[14]\n",
    "filename  =  output_file_path + filename\n",
    "filename"
   ]
  },
  {
   "cell_type": "code",
   "execution_count": null,
   "id": "922e1540",
   "metadata": {
    "scrolled": true
   },
   "outputs": [],
   "source": [
    "\n",
    "#filename=\"000418A_converted_flux\"\n",
    "def plot(filename):\n",
    "    try:\n",
    "        light = pd.read_csv(filename+\".txt\", sep=r\"\\t+|\\s+\", engine=\"python\", names= [\"time_sec\",\"flux\",\"flux_err\",\"band\",\"source\"],\n",
    "        header=None, index_col=0)\n",
    "        fig = px.scatter(\n",
    "                data_frame=light,\n",
    "                x=np.log10(light.index.values),\n",
    "                y=np.log10(light[1].values),\n",
    "                error_y= light[2].values / (light[1].values * np.log(10)),\n",
    "                color=light[3].values,\n",
    "                hover_data=[4],\n",
    "                title=filename,width=1200, height=800\n",
    "            )\n",
    "\n",
    "        fig.update_layout(\n",
    "                xaxis_title='log Time (s)',\n",
    "                yaxis_title='log Flux (erg cm-2 s-1)'\n",
    "            )\n",
    "        #fig.show()\n",
    "        fig.write_image(filename+\"filtered.pdf\") \n",
    "\n",
    "    except:\n",
    "    #filename = data.loc[data.index == select_event, \"path_F\"].to_numpy()[0]\n",
    "               # matching the event name to the relavant file name\n",
    "        #light = io.read_data(filename, header=None)\n",
    "        light = pd.read_csv(filename+\".txt\", sep=r\"\\t+|\\s+\", engine=\"python\", names= [\"time_sec\",\"flux\",\"flux_err\",\"band\",\"source\"],\n",
    "        header=0, index_col=0)\n",
    "        fig = px.scatter(\n",
    "            data_frame=light,\n",
    "            x=np.log10(light.index),\n",
    "            y=np.log10(light['flux'].values),\n",
    "            error_y= light['flux_err'].values / (light['flux'].values * np.log(10)),\n",
    "            color=light['band'].values,\n",
    "            hover_data=['source'],\n",
    "            title=filename,width=1200, height=800\n",
    "        )\n",
    "        fig.update_layout(\n",
    "            xaxis_title='log Time (s)',\n",
    "            yaxis_title='log Flux (erg cm-2 s-1)'\n",
    "        )\n",
    "        #fig.show()\n",
    "        fig.write_image(filename+\"filtered.pdf\") "
   ]
  },
  {
   "cell_type": "code",
   "execution_count": null,
   "id": "fc5fd2b2",
   "metadata": {},
   "outputs": [],
   "source": [
    "def plot_v(light, filename):\n",
    "    #filename2 = file + \"_not_done\"\n",
    "    if len(light) != 0:\n",
    "        try:\n",
    "            fig = px.scatter(\n",
    "                        data_frame=light,\n",
    "                        x=np.log10(light.index.values),\n",
    "                        y=np.log10(light[1].values),\n",
    "                        error_y= light[2].values / (light[1].values * np.log(10)),\n",
    "                        color=light[3].values,\n",
    "                        hover_data=[4],\n",
    "                        title=filename,width=1200, height=800\n",
    "                    )\n",
    "\n",
    "            fig.update_layout(\n",
    "                        xaxis_title='log Time (s)',\n",
    "                        yaxis_title='log Flux (erg cm-2 s-1)'\n",
    "                    )\n",
    "            \n",
    "            fig.write_image(filename+\"filtered.pdf\") \n",
    "\n",
    "            \n",
    "        except:\n",
    "            fig = px.scatter(\n",
    "                data_frame=light,\n",
    "                x=np.log10(light.index),\n",
    "                y=np.log10(light['flux'].values),\n",
    "                error_y= light['flux_err'].values / (light['flux'].values * np.log(10)),\n",
    "                color=light['band'].values,\n",
    "                hover_data=['source'],\n",
    "                title=filename,width=1200, height=800\n",
    "            )\n",
    "            fig.write_image(filename+\"filtered.pdf\") "
   ]
  },
  {
   "cell_type": "code",
   "execution_count": null,
   "id": "12031d56",
   "metadata": {},
   "outputs": [],
   "source": [
    "filenames.pop(-1)"
   ]
  },
  {
   "cell_type": "code",
   "execution_count": null,
   "id": "f43c830a",
   "metadata": {},
   "outputs": [],
   "source": [
    "for filename in filenames:\n",
    "    filename  =  output_file_path + filename\n",
    "    try:\n",
    "        light = pd.read_csv(filename+\".txt\", engine=\"python\", names= [\"time_sec\",\"flux\",\"flux_err\",\"band\",\"source\"],\n",
    "        header=0, index_col=0)\n",
    "        \n",
    "        plot_v(light, filename)\n",
    "    except:\n",
    "        plot(filename)"
   ]
  },
  {
   "cell_type": "markdown",
   "id": "4a4f56a3",
   "metadata": {},
   "source": [
    "121027A_REMOVED EVERYTHING EXECPT K BAND\n",
    "\n",
    "121128A -REMOVED uvm, uvw, u_swift\n",
    "\n",
    "121201A - REMOVED EVERYTHING EXCEPT u_SWIFT, b_SWIFT, v_swift, r'\n",
    "\n",
    "121209A - \n",
    "\n"
   ]
  },
  {
   "cell_type": "markdown",
   "id": "70d96e0c",
   "metadata": {},
   "source": [
    "THE FOLLOWING CELL MERGES ALL THE OUTPUT PDF FILES INTO A SINGLE PDF FILE: $ALL$ _ $LCS$ _ $FOR$ _ $500$ _ $filtered$ _ $merged.pdf$"
   ]
  },
  {
   "cell_type": "code",
   "execution_count": null,
   "id": "564b42bb",
   "metadata": {},
   "outputs": [],
   "source": [
    "pdfs = [output_pdf_path + file.replace( \"_flux\",\"_filtered_flux.pdf\")  for file in filenames]\n",
    "merger = PdfFileMerger()\n",
    "\n",
    "for pdf in pdfs:\n",
    "    merger.append(pdf)\n",
    "    \n",
    "merger.write(output_pdf_path + \"ALL_LCS_FOR_500_filtered_merged_v.pdf\")\n",
    "#merger.write(output_pdf_path + \"merged_not_done.pdf\")\n",
    "merger.close()"
   ]
  }
 ],
 "metadata": {
  "kernelspec": {
   "display_name": "Python 3.10.4 64-bit",
   "language": "python",
   "name": "python3"
  },
  "language_info": {
   "codemirror_mode": {
    "name": "ipython",
    "version": 3
   },
   "file_extension": ".py",
   "mimetype": "text/x-python",
   "name": "python",
   "nbconvert_exporter": "python",
   "pygments_lexer": "ipython3",
   "version": "3.10.4"
  },
  "vscode": {
   "interpreter": {
    "hash": "916dbcbb3f70747c44a77c7bcd40155683ae19c65e1c03b4aa3499c5328201f1"
   }
  }
 },
 "nbformat": 4,
 "nbformat_minor": 5
}
